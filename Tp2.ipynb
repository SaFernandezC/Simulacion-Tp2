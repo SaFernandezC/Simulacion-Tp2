{
  "nbformat": 4,
  "nbformat_minor": 0,
  "metadata": {
    "colab": {
      "provenance": [],
      "collapsed_sections": [
        "AAwJTTxYq0GW",
        "X8BCFBSuEnQU"
      ]
    },
    "kernelspec": {
      "name": "python3",
      "display_name": "Python 3"
    },
    "language_info": {
      "name": "python"
    },
    "widgets": {
      "application/vnd.jupyter.widget-state+json": {
        "163b43c497f14920baf470caa60a1654": {
          "model_module": "@jupyter-widgets/controls",
          "model_name": "VBoxModel",
          "model_module_version": "1.5.0",
          "state": {
            "_dom_classes": [
              "widget-interact"
            ],
            "_model_module": "@jupyter-widgets/controls",
            "_model_module_version": "1.5.0",
            "_model_name": "VBoxModel",
            "_view_count": null,
            "_view_module": "@jupyter-widgets/controls",
            "_view_module_version": "1.5.0",
            "_view_name": "VBoxView",
            "box_style": "",
            "children": [
              "IPY_MODEL_7f505e6a710f4ca99746629c337009e2",
              "IPY_MODEL_694971bd9e47407a9812b05fad5e126b",
              "IPY_MODEL_f1080b9e85c84521bc2337274b915cb5",
              "IPY_MODEL_4465f34dc9104597902d62b4de5af695",
              "IPY_MODEL_2833351c9b05448ab4a08bb4fd62d7ca",
              "IPY_MODEL_1dbd4273003742a1b8a23de06151fe0c",
              "IPY_MODEL_95af575b01e949c9b4355d50f81bef12"
            ],
            "layout": "IPY_MODEL_d7914328e8764023a16d8ae016810b2b"
          }
        },
        "7f505e6a710f4ca99746629c337009e2": {
          "model_module": "@jupyter-widgets/controls",
          "model_name": "FloatSliderModel",
          "model_module_version": "1.5.0",
          "state": {
            "_dom_classes": [],
            "_model_module": "@jupyter-widgets/controls",
            "_model_module_version": "1.5.0",
            "_model_name": "FloatSliderModel",
            "_view_count": null,
            "_view_module": "@jupyter-widgets/controls",
            "_view_module_version": "1.5.0",
            "_view_name": "FloatSliderView",
            "continuous_update": true,
            "description": "tasa de arribos",
            "description_tooltip": null,
            "disabled": false,
            "layout": "IPY_MODEL_531cd391f5ef474596208fa9d3db7ca8",
            "max": 10,
            "min": 0.5,
            "orientation": "horizontal",
            "readout": true,
            "readout_format": ".2f",
            "step": 0.5,
            "style": "IPY_MODEL_e133fbe8ad90414aad029088bd3981e3",
            "value": 2
          }
        },
        "694971bd9e47407a9812b05fad5e126b": {
          "model_module": "@jupyter-widgets/controls",
          "model_name": "FloatSliderModel",
          "model_module_version": "1.5.0",
          "state": {
            "_dom_classes": [],
            "_model_module": "@jupyter-widgets/controls",
            "_model_module_version": "1.5.0",
            "_model_name": "FloatSliderModel",
            "_view_count": null,
            "_view_module": "@jupyter-widgets/controls",
            "_view_module_version": "1.5.0",
            "_view_name": "FloatSliderView",
            "continuous_update": true,
            "description": "tasa de procesamiento",
            "description_tooltip": null,
            "disabled": false,
            "layout": "IPY_MODEL_3c3e0bb7ff0d41ea98590a8e90029a4b",
            "max": 10,
            "min": 0.5,
            "orientation": "horizontal",
            "readout": true,
            "readout_format": ".2f",
            "step": 0.5,
            "style": "IPY_MODEL_b62dfc1502d84998b27b04c80cf3adeb",
            "value": 3
          }
        },
        "f1080b9e85c84521bc2337274b915cb5": {
          "model_module": "@jupyter-widgets/controls",
          "model_name": "FloatSliderModel",
          "model_module_version": "1.5.0",
          "state": {
            "_dom_classes": [],
            "_model_module": "@jupyter-widgets/controls",
            "_model_module_version": "1.5.0",
            "_model_name": "FloatSliderModel",
            "_view_count": null,
            "_view_module": "@jupyter-widgets/controls",
            "_view_module_version": "1.5.0",
            "_view_name": "FloatSliderView",
            "continuous_update": true,
            "description": "tasa de descarga",
            "description_tooltip": null,
            "disabled": false,
            "layout": "IPY_MODEL_9e473f81e8074ae098f7ab9d70d018ae",
            "max": 10,
            "min": 0.5,
            "orientation": "horizontal",
            "readout": true,
            "readout_format": ".2f",
            "step": 0.5,
            "style": "IPY_MODEL_738f1936e72b43229a693cb085c11bd9",
            "value": 5
          }
        },
        "4465f34dc9104597902d62b4de5af695": {
          "model_module": "@jupyter-widgets/controls",
          "model_name": "IntSliderModel",
          "model_module_version": "1.5.0",
          "state": {
            "_dom_classes": [],
            "_model_module": "@jupyter-widgets/controls",
            "_model_module_version": "1.5.0",
            "_model_name": "IntSliderModel",
            "_view_count": null,
            "_view_module": "@jupyter-widgets/controls",
            "_view_module_version": "1.5.0",
            "_view_name": "IntSliderView",
            "continuous_update": true,
            "description": "capacidad de memoria",
            "description_tooltip": null,
            "disabled": false,
            "layout": "IPY_MODEL_fe62c3ba211b4e2eae82191bc5bb41b1",
            "max": 50,
            "min": 1,
            "orientation": "horizontal",
            "readout": true,
            "readout_format": "d",
            "step": 1,
            "style": "IPY_MODEL_886d2cd1df834fdcb469bfa73a430d29",
            "value": 4
          }
        },
        "2833351c9b05448ab4a08bb4fd62d7ca": {
          "model_module": "@jupyter-widgets/controls",
          "model_name": "IntSliderModel",
          "model_module_version": "1.5.0",
          "state": {
            "_dom_classes": [],
            "_model_module": "@jupyter-widgets/controls",
            "_model_module_version": "1.5.0",
            "_model_name": "IntSliderModel",
            "_view_count": null,
            "_view_module": "@jupyter-widgets/controls",
            "_view_module_version": "1.5.0",
            "_view_name": "IntSliderView",
            "continuous_update": true,
            "description": "cantidad de solicitudes",
            "description_tooltip": null,
            "disabled": false,
            "layout": "IPY_MODEL_ff43f0d2aaf94082a2e9de85632fedfe",
            "max": 100000,
            "min": 10000,
            "orientation": "horizontal",
            "readout": true,
            "readout_format": "d",
            "step": 10000,
            "style": "IPY_MODEL_2164a85910f64b98b8350803bfbe0c23",
            "value": 10000
          }
        },
        "1dbd4273003742a1b8a23de06151fe0c": {
          "model_module": "@jupyter-widgets/controls",
          "model_name": "ButtonModel",
          "model_module_version": "1.5.0",
          "state": {
            "_dom_classes": [],
            "_model_module": "@jupyter-widgets/controls",
            "_model_module_version": "1.5.0",
            "_model_name": "ButtonModel",
            "_view_count": null,
            "_view_module": "@jupyter-widgets/controls",
            "_view_module_version": "1.5.0",
            "_view_name": "ButtonView",
            "button_style": "",
            "description": "Run Interact",
            "disabled": false,
            "icon": "",
            "layout": "IPY_MODEL_bb756d8e468a4ce0be41f5cb1c880eea",
            "style": "IPY_MODEL_8e5e96856e314ad98ef33987c3147778",
            "tooltip": ""
          }
        },
        "95af575b01e949c9b4355d50f81bef12": {
          "model_module": "@jupyter-widgets/output",
          "model_name": "OutputModel",
          "model_module_version": "1.0.0",
          "state": {
            "_dom_classes": [],
            "_model_module": "@jupyter-widgets/output",
            "_model_module_version": "1.0.0",
            "_model_name": "OutputModel",
            "_view_count": null,
            "_view_module": "@jupyter-widgets/output",
            "_view_module_version": "1.0.0",
            "_view_name": "OutputView",
            "layout": "IPY_MODEL_70d5f75348004cde90153e8961dc2fe1",
            "msg_id": "",
            "outputs": [
              {
                "output_type": "display_data",
                "data": {
                  "text/plain": "<Figure size 720x1080 with 2 Axes>",
                  "image/svg+xml": "<?xml version=\"1.0\" encoding=\"utf-8\" standalone=\"no\"?>\n<!DOCTYPE svg PUBLIC \"-//W3C//DTD SVG 1.1//EN\"\n  \"http://www.w3.org/Graphics/SVG/1.1/DTD/svg11.dtd\">\n<!-- Created with matplotlib (https://matplotlib.org/) -->\n<svg height=\"881.157812pt\" version=\"1.1\" viewBox=\"0 0 615.007187 881.157812\" width=\"615.007187pt\" xmlns=\"http://www.w3.org/2000/svg\" xmlns:xlink=\"http://www.w3.org/1999/xlink\">\n <defs>\n  <style type=\"text/css\">\n*{stroke-linecap:butt;stroke-linejoin:round;}\n  </style>\n </defs>\n <g id=\"figure_1\">\n  <g id=\"patch_1\">\n   <path d=\"M 0 881.157812 \nL 615.007187 881.157812 \nL 615.007187 0 \nL 0 0 \nz\n\" style=\"fill:#ffffff;\"/>\n  </g>\n  <g id=\"axes_1\">\n   <g id=\"patch_2\">\n    <path d=\"M 49.807188 392.954489 \nL 607.807188 392.954489 \nL 607.807188 22.318125 \nL 49.807188 22.318125 \nz\n\" style=\"fill:#eaeaf2;\"/>\n   </g>\n   <g id=\"matplotlib.axis_1\">\n    <g id=\"xtick_1\">\n     <g id=\"line2d_1\">\n      <path clip-path=\"url(#p7186d351f4)\" d=\"M 49.807188 392.954489 \nL 49.807188 22.318125 \n\" style=\"fill:none;stroke:#ffffff;stroke-linecap:round;\"/>\n     </g>\n     <g id=\"text_1\">\n      <!-- 0 -->\n      <defs>\n       <path d=\"M 31.78125 66.40625 \nQ 24.171875 66.40625 20.328125 58.90625 \nQ 16.5 51.421875 16.5 36.375 \nQ 16.5 21.390625 20.328125 13.890625 \nQ 24.171875 6.390625 31.78125 6.390625 \nQ 39.453125 6.390625 43.28125 13.890625 \nQ 47.125 21.390625 47.125 36.375 \nQ 47.125 51.421875 43.28125 58.90625 \nQ 39.453125 66.40625 31.78125 66.40625 \nz\nM 31.78125 74.21875 \nQ 44.046875 74.21875 50.515625 64.515625 \nQ 56.984375 54.828125 56.984375 36.375 \nQ 56.984375 17.96875 50.515625 8.265625 \nQ 44.046875 -1.421875 31.78125 -1.421875 \nQ 19.53125 -1.421875 13.0625 8.265625 \nQ 6.59375 17.96875 6.59375 36.375 \nQ 6.59375 54.828125 13.0625 64.515625 \nQ 19.53125 74.21875 31.78125 74.21875 \nz\n\" id=\"DejaVuSans-48\"/>\n      </defs>\n      <g style=\"fill:#262626;\" transform=\"translate(46.307813 410.81277)scale(0.11 -0.11)\">\n       <use xlink:href=\"#DejaVuSans-48\"/>\n      </g>\n     </g>\n    </g>\n    <g id=\"xtick_2\">\n     <g id=\"line2d_2\">\n      <path clip-path=\"url(#p7186d351f4)\" d=\"M 117.800608 392.954489 \nL 117.800608 22.318125 \n\" style=\"fill:none;stroke:#ffffff;stroke-linecap:round;\"/>\n     </g>\n     <g id=\"text_2\">\n      <!-- 2 -->\n      <defs>\n       <path d=\"M 19.1875 8.296875 \nL 53.609375 8.296875 \nL 53.609375 0 \nL 7.328125 0 \nL 7.328125 8.296875 \nQ 12.9375 14.109375 22.625 23.890625 \nQ 32.328125 33.6875 34.8125 36.53125 \nQ 39.546875 41.84375 41.421875 45.53125 \nQ 43.3125 49.21875 43.3125 52.78125 \nQ 43.3125 58.59375 39.234375 62.25 \nQ 35.15625 65.921875 28.609375 65.921875 \nQ 23.96875 65.921875 18.8125 64.3125 \nQ 13.671875 62.703125 7.8125 59.421875 \nL 7.8125 69.390625 \nQ 13.765625 71.78125 18.9375 73 \nQ 24.125 74.21875 28.421875 74.21875 \nQ 39.75 74.21875 46.484375 68.546875 \nQ 53.21875 62.890625 53.21875 53.421875 \nQ 53.21875 48.921875 51.53125 44.890625 \nQ 49.859375 40.875 45.40625 35.40625 \nQ 44.1875 33.984375 37.640625 27.21875 \nQ 31.109375 20.453125 19.1875 8.296875 \nz\n\" id=\"DejaVuSans-50\"/>\n      </defs>\n      <g style=\"fill:#262626;\" transform=\"translate(114.301233 410.81277)scale(0.11 -0.11)\">\n       <use xlink:href=\"#DejaVuSans-50\"/>\n      </g>\n     </g>\n    </g>\n    <g id=\"xtick_3\">\n     <g id=\"line2d_3\">\n      <path clip-path=\"url(#p7186d351f4)\" d=\"M 185.794028 392.954489 \nL 185.794028 22.318125 \n\" style=\"fill:none;stroke:#ffffff;stroke-linecap:round;\"/>\n     </g>\n     <g id=\"text_3\">\n      <!-- 4 -->\n      <defs>\n       <path d=\"M 37.796875 64.3125 \nL 12.890625 25.390625 \nL 37.796875 25.390625 \nz\nM 35.203125 72.90625 \nL 47.609375 72.90625 \nL 47.609375 25.390625 \nL 58.015625 25.390625 \nL 58.015625 17.1875 \nL 47.609375 17.1875 \nL 47.609375 0 \nL 37.796875 0 \nL 37.796875 17.1875 \nL 4.890625 17.1875 \nL 4.890625 26.703125 \nz\n\" id=\"DejaVuSans-52\"/>\n      </defs>\n      <g style=\"fill:#262626;\" transform=\"translate(182.294653 410.81277)scale(0.11 -0.11)\">\n       <use xlink:href=\"#DejaVuSans-52\"/>\n      </g>\n     </g>\n    </g>\n    <g id=\"xtick_4\">\n     <g id=\"line2d_4\">\n      <path clip-path=\"url(#p7186d351f4)\" d=\"M 253.787448 392.954489 \nL 253.787448 22.318125 \n\" style=\"fill:none;stroke:#ffffff;stroke-linecap:round;\"/>\n     </g>\n     <g id=\"text_4\">\n      <!-- 6 -->\n      <defs>\n       <path d=\"M 33.015625 40.375 \nQ 26.375 40.375 22.484375 35.828125 \nQ 18.609375 31.296875 18.609375 23.390625 \nQ 18.609375 15.53125 22.484375 10.953125 \nQ 26.375 6.390625 33.015625 6.390625 \nQ 39.65625 6.390625 43.53125 10.953125 \nQ 47.40625 15.53125 47.40625 23.390625 \nQ 47.40625 31.296875 43.53125 35.828125 \nQ 39.65625 40.375 33.015625 40.375 \nz\nM 52.59375 71.296875 \nL 52.59375 62.3125 \nQ 48.875 64.0625 45.09375 64.984375 \nQ 41.3125 65.921875 37.59375 65.921875 \nQ 27.828125 65.921875 22.671875 59.328125 \nQ 17.53125 52.734375 16.796875 39.40625 \nQ 19.671875 43.65625 24.015625 45.921875 \nQ 28.375 48.1875 33.59375 48.1875 \nQ 44.578125 48.1875 50.953125 41.515625 \nQ 57.328125 34.859375 57.328125 23.390625 \nQ 57.328125 12.15625 50.6875 5.359375 \nQ 44.046875 -1.421875 33.015625 -1.421875 \nQ 20.359375 -1.421875 13.671875 8.265625 \nQ 6.984375 17.96875 6.984375 36.375 \nQ 6.984375 53.65625 15.1875 63.9375 \nQ 23.390625 74.21875 37.203125 74.21875 \nQ 40.921875 74.21875 44.703125 73.484375 \nQ 48.484375 72.75 52.59375 71.296875 \nz\n\" id=\"DejaVuSans-54\"/>\n      </defs>\n      <g style=\"fill:#262626;\" transform=\"translate(250.288073 410.81277)scale(0.11 -0.11)\">\n       <use xlink:href=\"#DejaVuSans-54\"/>\n      </g>\n     </g>\n    </g>\n    <g id=\"xtick_5\">\n     <g id=\"line2d_5\">\n      <path clip-path=\"url(#p7186d351f4)\" d=\"M 321.780868 392.954489 \nL 321.780868 22.318125 \n\" style=\"fill:none;stroke:#ffffff;stroke-linecap:round;\"/>\n     </g>\n     <g id=\"text_5\">\n      <!-- 8 -->\n      <defs>\n       <path d=\"M 31.78125 34.625 \nQ 24.75 34.625 20.71875 30.859375 \nQ 16.703125 27.09375 16.703125 20.515625 \nQ 16.703125 13.921875 20.71875 10.15625 \nQ 24.75 6.390625 31.78125 6.390625 \nQ 38.8125 6.390625 42.859375 10.171875 \nQ 46.921875 13.96875 46.921875 20.515625 \nQ 46.921875 27.09375 42.890625 30.859375 \nQ 38.875 34.625 31.78125 34.625 \nz\nM 21.921875 38.8125 \nQ 15.578125 40.375 12.03125 44.71875 \nQ 8.5 49.078125 8.5 55.328125 \nQ 8.5 64.0625 14.71875 69.140625 \nQ 20.953125 74.21875 31.78125 74.21875 \nQ 42.671875 74.21875 48.875 69.140625 \nQ 55.078125 64.0625 55.078125 55.328125 \nQ 55.078125 49.078125 51.53125 44.71875 \nQ 48 40.375 41.703125 38.8125 \nQ 48.828125 37.15625 52.796875 32.3125 \nQ 56.78125 27.484375 56.78125 20.515625 \nQ 56.78125 9.90625 50.3125 4.234375 \nQ 43.84375 -1.421875 31.78125 -1.421875 \nQ 19.734375 -1.421875 13.25 4.234375 \nQ 6.78125 9.90625 6.78125 20.515625 \nQ 6.78125 27.484375 10.78125 32.3125 \nQ 14.796875 37.15625 21.921875 38.8125 \nz\nM 18.3125 54.390625 \nQ 18.3125 48.734375 21.84375 45.5625 \nQ 25.390625 42.390625 31.78125 42.390625 \nQ 38.140625 42.390625 41.71875 45.5625 \nQ 45.3125 48.734375 45.3125 54.390625 \nQ 45.3125 60.0625 41.71875 63.234375 \nQ 38.140625 66.40625 31.78125 66.40625 \nQ 25.390625 66.40625 21.84375 63.234375 \nQ 18.3125 60.0625 18.3125 54.390625 \nz\n\" id=\"DejaVuSans-56\"/>\n      </defs>\n      <g style=\"fill:#262626;\" transform=\"translate(318.281493 410.81277)scale(0.11 -0.11)\">\n       <use xlink:href=\"#DejaVuSans-56\"/>\n      </g>\n     </g>\n    </g>\n    <g id=\"xtick_6\">\n     <g id=\"line2d_6\">\n      <path clip-path=\"url(#p7186d351f4)\" d=\"M 389.774288 392.954489 \nL 389.774288 22.318125 \n\" style=\"fill:none;stroke:#ffffff;stroke-linecap:round;\"/>\n     </g>\n     <g id=\"text_6\">\n      <!-- 10 -->\n      <defs>\n       <path d=\"M 12.40625 8.296875 \nL 28.515625 8.296875 \nL 28.515625 63.921875 \nL 10.984375 60.40625 \nL 10.984375 69.390625 \nL 28.421875 72.90625 \nL 38.28125 72.90625 \nL 38.28125 8.296875 \nL 54.390625 8.296875 \nL 54.390625 0 \nL 12.40625 0 \nz\n\" id=\"DejaVuSans-49\"/>\n      </defs>\n      <g style=\"fill:#262626;\" transform=\"translate(382.775538 410.81277)scale(0.11 -0.11)\">\n       <use xlink:href=\"#DejaVuSans-49\"/>\n       <use x=\"63.623047\" xlink:href=\"#DejaVuSans-48\"/>\n      </g>\n     </g>\n    </g>\n    <g id=\"xtick_7\">\n     <g id=\"line2d_7\">\n      <path clip-path=\"url(#p7186d351f4)\" d=\"M 457.767708 392.954489 \nL 457.767708 22.318125 \n\" style=\"fill:none;stroke:#ffffff;stroke-linecap:round;\"/>\n     </g>\n     <g id=\"text_7\">\n      <!-- 12 -->\n      <g style=\"fill:#262626;\" transform=\"translate(450.768958 410.81277)scale(0.11 -0.11)\">\n       <use xlink:href=\"#DejaVuSans-49\"/>\n       <use x=\"63.623047\" xlink:href=\"#DejaVuSans-50\"/>\n      </g>\n     </g>\n    </g>\n    <g id=\"xtick_8\">\n     <g id=\"line2d_8\">\n      <path clip-path=\"url(#p7186d351f4)\" d=\"M 525.761128 392.954489 \nL 525.761128 22.318125 \n\" style=\"fill:none;stroke:#ffffff;stroke-linecap:round;\"/>\n     </g>\n     <g id=\"text_8\">\n      <!-- 14 -->\n      <g style=\"fill:#262626;\" transform=\"translate(518.762378 410.81277)scale(0.11 -0.11)\">\n       <use xlink:href=\"#DejaVuSans-49\"/>\n       <use x=\"63.623047\" xlink:href=\"#DejaVuSans-52\"/>\n      </g>\n     </g>\n    </g>\n    <g id=\"xtick_9\">\n     <g id=\"line2d_9\">\n      <path clip-path=\"url(#p7186d351f4)\" d=\"M 593.754548 392.954489 \nL 593.754548 22.318125 \n\" style=\"fill:none;stroke:#ffffff;stroke-linecap:round;\"/>\n     </g>\n     <g id=\"text_9\">\n      <!-- 16 -->\n      <g style=\"fill:#262626;\" transform=\"translate(586.755798 410.81277)scale(0.11 -0.11)\">\n       <use xlink:href=\"#DejaVuSans-49\"/>\n       <use x=\"63.623047\" xlink:href=\"#DejaVuSans-54\"/>\n      </g>\n     </g>\n    </g>\n    <g id=\"text_10\">\n     <!-- Cantidad de imágenes -->\n     <defs>\n      <path d=\"M 64.40625 67.28125 \nL 64.40625 56.890625 \nQ 59.421875 61.53125 53.78125 63.8125 \nQ 48.140625 66.109375 41.796875 66.109375 \nQ 29.296875 66.109375 22.65625 58.46875 \nQ 16.015625 50.828125 16.015625 36.375 \nQ 16.015625 21.96875 22.65625 14.328125 \nQ 29.296875 6.6875 41.796875 6.6875 \nQ 48.140625 6.6875 53.78125 8.984375 \nQ 59.421875 11.28125 64.40625 15.921875 \nL 64.40625 5.609375 \nQ 59.234375 2.09375 53.4375 0.328125 \nQ 47.65625 -1.421875 41.21875 -1.421875 \nQ 24.65625 -1.421875 15.125 8.703125 \nQ 5.609375 18.84375 5.609375 36.375 \nQ 5.609375 53.953125 15.125 64.078125 \nQ 24.65625 74.21875 41.21875 74.21875 \nQ 47.75 74.21875 53.53125 72.484375 \nQ 59.328125 70.75 64.40625 67.28125 \nz\n\" id=\"DejaVuSans-67\"/>\n      <path d=\"M 34.28125 27.484375 \nQ 23.390625 27.484375 19.1875 25 \nQ 14.984375 22.515625 14.984375 16.5 \nQ 14.984375 11.71875 18.140625 8.90625 \nQ 21.296875 6.109375 26.703125 6.109375 \nQ 34.1875 6.109375 38.703125 11.40625 \nQ 43.21875 16.703125 43.21875 25.484375 \nL 43.21875 27.484375 \nz\nM 52.203125 31.203125 \nL 52.203125 0 \nL 43.21875 0 \nL 43.21875 8.296875 \nQ 40.140625 3.328125 35.546875 0.953125 \nQ 30.953125 -1.421875 24.3125 -1.421875 \nQ 15.921875 -1.421875 10.953125 3.296875 \nQ 6 8.015625 6 15.921875 \nQ 6 25.140625 12.171875 29.828125 \nQ 18.359375 34.515625 30.609375 34.515625 \nL 43.21875 34.515625 \nL 43.21875 35.40625 \nQ 43.21875 41.609375 39.140625 45 \nQ 35.0625 48.390625 27.6875 48.390625 \nQ 23 48.390625 18.546875 47.265625 \nQ 14.109375 46.140625 10.015625 43.890625 \nL 10.015625 52.203125 \nQ 14.9375 54.109375 19.578125 55.046875 \nQ 24.21875 56 28.609375 56 \nQ 40.484375 56 46.34375 49.84375 \nQ 52.203125 43.703125 52.203125 31.203125 \nz\n\" id=\"DejaVuSans-97\"/>\n      <path d=\"M 54.890625 33.015625 \nL 54.890625 0 \nL 45.90625 0 \nL 45.90625 32.71875 \nQ 45.90625 40.484375 42.875 44.328125 \nQ 39.84375 48.1875 33.796875 48.1875 \nQ 26.515625 48.1875 22.3125 43.546875 \nQ 18.109375 38.921875 18.109375 30.90625 \nL 18.109375 0 \nL 9.078125 0 \nL 9.078125 54.6875 \nL 18.109375 54.6875 \nL 18.109375 46.1875 \nQ 21.34375 51.125 25.703125 53.5625 \nQ 30.078125 56 35.796875 56 \nQ 45.21875 56 50.046875 50.171875 \nQ 54.890625 44.34375 54.890625 33.015625 \nz\n\" id=\"DejaVuSans-110\"/>\n      <path d=\"M 18.3125 70.21875 \nL 18.3125 54.6875 \nL 36.8125 54.6875 \nL 36.8125 47.703125 \nL 18.3125 47.703125 \nL 18.3125 18.015625 \nQ 18.3125 11.328125 20.140625 9.421875 \nQ 21.96875 7.515625 27.59375 7.515625 \nL 36.8125 7.515625 \nL 36.8125 0 \nL 27.59375 0 \nQ 17.1875 0 13.234375 3.875 \nQ 9.28125 7.765625 9.28125 18.015625 \nL 9.28125 47.703125 \nL 2.6875 47.703125 \nL 2.6875 54.6875 \nL 9.28125 54.6875 \nL 9.28125 70.21875 \nz\n\" id=\"DejaVuSans-116\"/>\n      <path d=\"M 9.421875 54.6875 \nL 18.40625 54.6875 \nL 18.40625 0 \nL 9.421875 0 \nz\nM 9.421875 75.984375 \nL 18.40625 75.984375 \nL 18.40625 64.59375 \nL 9.421875 64.59375 \nz\n\" id=\"DejaVuSans-105\"/>\n      <path d=\"M 45.40625 46.390625 \nL 45.40625 75.984375 \nL 54.390625 75.984375 \nL 54.390625 0 \nL 45.40625 0 \nL 45.40625 8.203125 \nQ 42.578125 3.328125 38.25 0.953125 \nQ 33.9375 -1.421875 27.875 -1.421875 \nQ 17.96875 -1.421875 11.734375 6.484375 \nQ 5.515625 14.40625 5.515625 27.296875 \nQ 5.515625 40.1875 11.734375 48.09375 \nQ 17.96875 56 27.875 56 \nQ 33.9375 56 38.25 53.625 \nQ 42.578125 51.265625 45.40625 46.390625 \nz\nM 14.796875 27.296875 \nQ 14.796875 17.390625 18.875 11.75 \nQ 22.953125 6.109375 30.078125 6.109375 \nQ 37.203125 6.109375 41.296875 11.75 \nQ 45.40625 17.390625 45.40625 27.296875 \nQ 45.40625 37.203125 41.296875 42.84375 \nQ 37.203125 48.484375 30.078125 48.484375 \nQ 22.953125 48.484375 18.875 42.84375 \nQ 14.796875 37.203125 14.796875 27.296875 \nz\n\" id=\"DejaVuSans-100\"/>\n      <path id=\"DejaVuSans-32\"/>\n      <path d=\"M 56.203125 29.59375 \nL 56.203125 25.203125 \nL 14.890625 25.203125 \nQ 15.484375 15.921875 20.484375 11.0625 \nQ 25.484375 6.203125 34.421875 6.203125 \nQ 39.59375 6.203125 44.453125 7.46875 \nQ 49.3125 8.734375 54.109375 11.28125 \nL 54.109375 2.78125 \nQ 49.265625 0.734375 44.1875 -0.34375 \nQ 39.109375 -1.421875 33.890625 -1.421875 \nQ 20.796875 -1.421875 13.15625 6.1875 \nQ 5.515625 13.8125 5.515625 26.8125 \nQ 5.515625 40.234375 12.765625 48.109375 \nQ 20.015625 56 32.328125 56 \nQ 43.359375 56 49.78125 48.890625 \nQ 56.203125 41.796875 56.203125 29.59375 \nz\nM 47.21875 32.234375 \nQ 47.125 39.59375 43.09375 43.984375 \nQ 39.0625 48.390625 32.421875 48.390625 \nQ 24.90625 48.390625 20.390625 44.140625 \nQ 15.875 39.890625 15.1875 32.171875 \nz\n\" id=\"DejaVuSans-101\"/>\n      <path d=\"M 52 44.1875 \nQ 55.375 50.25 60.0625 53.125 \nQ 64.75 56 71.09375 56 \nQ 79.640625 56 84.28125 50.015625 \nQ 88.921875 44.046875 88.921875 33.015625 \nL 88.921875 0 \nL 79.890625 0 \nL 79.890625 32.71875 \nQ 79.890625 40.578125 77.09375 44.375 \nQ 74.3125 48.1875 68.609375 48.1875 \nQ 61.625 48.1875 57.5625 43.546875 \nQ 53.515625 38.921875 53.515625 30.90625 \nL 53.515625 0 \nL 44.484375 0 \nL 44.484375 32.71875 \nQ 44.484375 40.625 41.703125 44.40625 \nQ 38.921875 48.1875 33.109375 48.1875 \nQ 26.21875 48.1875 22.15625 43.53125 \nQ 18.109375 38.875 18.109375 30.90625 \nL 18.109375 0 \nL 9.078125 0 \nL 9.078125 54.6875 \nL 18.109375 54.6875 \nL 18.109375 46.1875 \nQ 21.1875 51.21875 25.484375 53.609375 \nQ 29.78125 56 35.6875 56 \nQ 41.65625 56 45.828125 52.96875 \nQ 50 49.953125 52 44.1875 \nz\n\" id=\"DejaVuSans-109\"/>\n      <path d=\"M 34.28125 27.484375 \nQ 23.390625 27.484375 19.1875 25 \nQ 14.984375 22.515625 14.984375 16.5 \nQ 14.984375 11.71875 18.140625 8.90625 \nQ 21.296875 6.109375 26.703125 6.109375 \nQ 34.1875 6.109375 38.703125 11.40625 \nQ 43.21875 16.703125 43.21875 25.484375 \nL 43.21875 27.484375 \nz\nM 52.203125 31.203125 \nL 52.203125 0 \nL 43.21875 0 \nL 43.21875 8.296875 \nQ 40.140625 3.328125 35.546875 0.953125 \nQ 30.953125 -1.421875 24.3125 -1.421875 \nQ 15.921875 -1.421875 10.953125 3.296875 \nQ 6 8.015625 6 15.921875 \nQ 6 25.140625 12.171875 29.828125 \nQ 18.359375 34.515625 30.609375 34.515625 \nL 43.21875 34.515625 \nL 43.21875 35.40625 \nQ 43.21875 41.609375 39.140625 45 \nQ 35.0625 48.390625 27.6875 48.390625 \nQ 23 48.390625 18.546875 47.265625 \nQ 14.109375 46.140625 10.015625 43.890625 \nL 10.015625 52.203125 \nQ 14.9375 54.109375 19.578125 55.046875 \nQ 24.21875 56 28.609375 56 \nQ 40.484375 56 46.34375 49.84375 \nQ 52.203125 43.703125 52.203125 31.203125 \nz\nM 35.78125 79.984375 \nL 45.5 79.984375 \nL 29.59375 61.625 \nL 22.109375 61.625 \nz\n\" id=\"DejaVuSans-225\"/>\n      <path d=\"M 45.40625 27.984375 \nQ 45.40625 37.75 41.375 43.109375 \nQ 37.359375 48.484375 30.078125 48.484375 \nQ 22.859375 48.484375 18.828125 43.109375 \nQ 14.796875 37.75 14.796875 27.984375 \nQ 14.796875 18.265625 18.828125 12.890625 \nQ 22.859375 7.515625 30.078125 7.515625 \nQ 37.359375 7.515625 41.375 12.890625 \nQ 45.40625 18.265625 45.40625 27.984375 \nz\nM 54.390625 6.78125 \nQ 54.390625 -7.171875 48.1875 -13.984375 \nQ 42 -20.796875 29.203125 -20.796875 \nQ 24.46875 -20.796875 20.265625 -20.09375 \nQ 16.0625 -19.390625 12.109375 -17.921875 \nL 12.109375 -9.1875 \nQ 16.0625 -11.328125 19.921875 -12.34375 \nQ 23.78125 -13.375 27.78125 -13.375 \nQ 36.625 -13.375 41.015625 -8.765625 \nQ 45.40625 -4.15625 45.40625 5.171875 \nL 45.40625 9.625 \nQ 42.625 4.78125 38.28125 2.390625 \nQ 33.9375 0 27.875 0 \nQ 17.828125 0 11.671875 7.65625 \nQ 5.515625 15.328125 5.515625 27.984375 \nQ 5.515625 40.671875 11.671875 48.328125 \nQ 17.828125 56 27.875 56 \nQ 33.9375 56 38.28125 53.609375 \nQ 42.625 51.21875 45.40625 46.390625 \nL 45.40625 54.6875 \nL 54.390625 54.6875 \nz\n\" id=\"DejaVuSans-103\"/>\n      <path d=\"M 44.28125 53.078125 \nL 44.28125 44.578125 \nQ 40.484375 46.53125 36.375 47.5 \nQ 32.28125 48.484375 27.875 48.484375 \nQ 21.1875 48.484375 17.84375 46.4375 \nQ 14.5 44.390625 14.5 40.28125 \nQ 14.5 37.15625 16.890625 35.375 \nQ 19.28125 33.59375 26.515625 31.984375 \nL 29.59375 31.296875 \nQ 39.15625 29.25 43.1875 25.515625 \nQ 47.21875 21.78125 47.21875 15.09375 \nQ 47.21875 7.46875 41.1875 3.015625 \nQ 35.15625 -1.421875 24.609375 -1.421875 \nQ 20.21875 -1.421875 15.453125 -0.5625 \nQ 10.6875 0.296875 5.421875 2 \nL 5.421875 11.28125 \nQ 10.40625 8.6875 15.234375 7.390625 \nQ 20.0625 6.109375 24.8125 6.109375 \nQ 31.15625 6.109375 34.5625 8.28125 \nQ 37.984375 10.453125 37.984375 14.40625 \nQ 37.984375 18.0625 35.515625 20.015625 \nQ 33.0625 21.96875 24.703125 23.78125 \nL 21.578125 24.515625 \nQ 13.234375 26.265625 9.515625 29.90625 \nQ 5.8125 33.546875 5.8125 39.890625 \nQ 5.8125 47.609375 11.28125 51.796875 \nQ 16.75 56 26.8125 56 \nQ 31.78125 56 36.171875 55.265625 \nQ 40.578125 54.546875 44.28125 53.078125 \nz\n\" id=\"DejaVuSans-115\"/>\n     </defs>\n     <g style=\"fill:#262626;\" transform=\"translate(261.200312 426.698551)scale(0.12 -0.12)\">\n      <use xlink:href=\"#DejaVuSans-67\"/>\n      <use x=\"69.824219\" xlink:href=\"#DejaVuSans-97\"/>\n      <use x=\"131.103516\" xlink:href=\"#DejaVuSans-110\"/>\n      <use x=\"194.482422\" xlink:href=\"#DejaVuSans-116\"/>\n      <use x=\"233.691406\" xlink:href=\"#DejaVuSans-105\"/>\n      <use x=\"261.474609\" xlink:href=\"#DejaVuSans-100\"/>\n      <use x=\"324.951172\" xlink:href=\"#DejaVuSans-97\"/>\n      <use x=\"386.230469\" xlink:href=\"#DejaVuSans-100\"/>\n      <use x=\"449.707031\" xlink:href=\"#DejaVuSans-32\"/>\n      <use x=\"481.494141\" xlink:href=\"#DejaVuSans-100\"/>\n      <use x=\"544.970703\" xlink:href=\"#DejaVuSans-101\"/>\n      <use x=\"606.494141\" xlink:href=\"#DejaVuSans-32\"/>\n      <use x=\"638.28125\" xlink:href=\"#DejaVuSans-105\"/>\n      <use x=\"666.064453\" xlink:href=\"#DejaVuSans-109\"/>\n      <use x=\"763.476562\" xlink:href=\"#DejaVuSans-225\"/>\n      <use x=\"824.755859\" xlink:href=\"#DejaVuSans-103\"/>\n      <use x=\"888.232422\" xlink:href=\"#DejaVuSans-101\"/>\n      <use x=\"949.755859\" xlink:href=\"#DejaVuSans-110\"/>\n      <use x=\"1013.134766\" xlink:href=\"#DejaVuSans-101\"/>\n      <use x=\"1074.658203\" xlink:href=\"#DejaVuSans-115\"/>\n     </g>\n    </g>\n   </g>\n   <g id=\"matplotlib.axis_2\">\n    <g id=\"ytick_1\">\n     <g id=\"line2d_10\">\n      <path clip-path=\"url(#p7186d351f4)\" d=\"M 49.807188 392.954489 \nL 607.807188 392.954489 \n\" style=\"fill:none;stroke:#ffffff;stroke-linecap:round;\"/>\n     </g>\n     <g id=\"text_11\">\n      <!-- 0.0 -->\n      <defs>\n       <path d=\"M 10.6875 12.40625 \nL 21 12.40625 \nL 21 0 \nL 10.6875 0 \nz\n\" id=\"DejaVuSans-46\"/>\n      </defs>\n      <g style=\"fill:#262626;\" transform=\"translate(22.81375 397.133629)scale(0.11 -0.11)\">\n       <use xlink:href=\"#DejaVuSans-48\"/>\n       <use x=\"63.623047\" xlink:href=\"#DejaVuSans-46\"/>\n       <use x=\"95.410156\" xlink:href=\"#DejaVuSans-48\"/>\n      </g>\n     </g>\n    </g>\n    <g id=\"ytick_2\">\n     <g id=\"line2d_11\">\n      <path clip-path=\"url(#p7186d351f4)\" d=\"M 49.807188 350.716654 \nL 607.807188 350.716654 \n\" style=\"fill:none;stroke:#ffffff;stroke-linecap:round;\"/>\n     </g>\n     <g id=\"text_12\">\n      <!-- 0.2 -->\n      <g style=\"fill:#262626;\" transform=\"translate(22.81375 354.895794)scale(0.11 -0.11)\">\n       <use xlink:href=\"#DejaVuSans-48\"/>\n       <use x=\"63.623047\" xlink:href=\"#DejaVuSans-46\"/>\n       <use x=\"95.410156\" xlink:href=\"#DejaVuSans-50\"/>\n      </g>\n     </g>\n    </g>\n    <g id=\"ytick_3\">\n     <g id=\"line2d_12\">\n      <path clip-path=\"url(#p7186d351f4)\" d=\"M 49.807188 308.478819 \nL 607.807188 308.478819 \n\" style=\"fill:none;stroke:#ffffff;stroke-linecap:round;\"/>\n     </g>\n     <g id=\"text_13\">\n      <!-- 0.4 -->\n      <g style=\"fill:#262626;\" transform=\"translate(22.81375 312.657959)scale(0.11 -0.11)\">\n       <use xlink:href=\"#DejaVuSans-48\"/>\n       <use x=\"63.623047\" xlink:href=\"#DejaVuSans-46\"/>\n       <use x=\"95.410156\" xlink:href=\"#DejaVuSans-52\"/>\n      </g>\n     </g>\n    </g>\n    <g id=\"ytick_4\">\n     <g id=\"line2d_13\">\n      <path clip-path=\"url(#p7186d351f4)\" d=\"M 49.807188 266.240984 \nL 607.807188 266.240984 \n\" style=\"fill:none;stroke:#ffffff;stroke-linecap:round;\"/>\n     </g>\n     <g id=\"text_14\">\n      <!-- 0.6 -->\n      <g style=\"fill:#262626;\" transform=\"translate(22.81375 270.420124)scale(0.11 -0.11)\">\n       <use xlink:href=\"#DejaVuSans-48\"/>\n       <use x=\"63.623047\" xlink:href=\"#DejaVuSans-46\"/>\n       <use x=\"95.410156\" xlink:href=\"#DejaVuSans-54\"/>\n      </g>\n     </g>\n    </g>\n    <g id=\"ytick_5\">\n     <g id=\"line2d_14\">\n      <path clip-path=\"url(#p7186d351f4)\" d=\"M 49.807188 224.003149 \nL 607.807188 224.003149 \n\" style=\"fill:none;stroke:#ffffff;stroke-linecap:round;\"/>\n     </g>\n     <g id=\"text_15\">\n      <!-- 0.8 -->\n      <g style=\"fill:#262626;\" transform=\"translate(22.81375 228.182289)scale(0.11 -0.11)\">\n       <use xlink:href=\"#DejaVuSans-48\"/>\n       <use x=\"63.623047\" xlink:href=\"#DejaVuSans-46\"/>\n       <use x=\"95.410156\" xlink:href=\"#DejaVuSans-56\"/>\n      </g>\n     </g>\n    </g>\n    <g id=\"ytick_6\">\n     <g id=\"line2d_15\">\n      <path clip-path=\"url(#p7186d351f4)\" d=\"M 49.807188 181.765314 \nL 607.807188 181.765314 \n\" style=\"fill:none;stroke:#ffffff;stroke-linecap:round;\"/>\n     </g>\n     <g id=\"text_16\">\n      <!-- 1.0 -->\n      <g style=\"fill:#262626;\" transform=\"translate(22.81375 185.944454)scale(0.11 -0.11)\">\n       <use xlink:href=\"#DejaVuSans-49\"/>\n       <use x=\"63.623047\" xlink:href=\"#DejaVuSans-46\"/>\n       <use x=\"95.410156\" xlink:href=\"#DejaVuSans-48\"/>\n      </g>\n     </g>\n    </g>\n    <g id=\"ytick_7\">\n     <g id=\"line2d_16\">\n      <path clip-path=\"url(#p7186d351f4)\" d=\"M 49.807188 139.527478 \nL 607.807188 139.527478 \n\" style=\"fill:none;stroke:#ffffff;stroke-linecap:round;\"/>\n     </g>\n     <g id=\"text_17\">\n      <!-- 1.2 -->\n      <g style=\"fill:#262626;\" transform=\"translate(22.81375 143.706619)scale(0.11 -0.11)\">\n       <use xlink:href=\"#DejaVuSans-49\"/>\n       <use x=\"63.623047\" xlink:href=\"#DejaVuSans-46\"/>\n       <use x=\"95.410156\" xlink:href=\"#DejaVuSans-50\"/>\n      </g>\n     </g>\n    </g>\n    <g id=\"ytick_8\">\n     <g id=\"line2d_17\">\n      <path clip-path=\"url(#p7186d351f4)\" d=\"M 49.807188 97.289643 \nL 607.807188 97.289643 \n\" style=\"fill:none;stroke:#ffffff;stroke-linecap:round;\"/>\n     </g>\n     <g id=\"text_18\">\n      <!-- 1.4 -->\n      <g style=\"fill:#262626;\" transform=\"translate(22.81375 101.468784)scale(0.11 -0.11)\">\n       <use xlink:href=\"#DejaVuSans-49\"/>\n       <use x=\"63.623047\" xlink:href=\"#DejaVuSans-46\"/>\n       <use x=\"95.410156\" xlink:href=\"#DejaVuSans-52\"/>\n      </g>\n     </g>\n    </g>\n    <g id=\"ytick_9\">\n     <g id=\"line2d_18\">\n      <path clip-path=\"url(#p7186d351f4)\" d=\"M 49.807188 55.051808 \nL 607.807188 55.051808 \n\" style=\"fill:none;stroke:#ffffff;stroke-linecap:round;\"/>\n     </g>\n     <g id=\"text_19\">\n      <!-- 1.6 -->\n      <g style=\"fill:#262626;\" transform=\"translate(22.81375 59.230949)scale(0.11 -0.11)\">\n       <use xlink:href=\"#DejaVuSans-49\"/>\n       <use x=\"63.623047\" xlink:href=\"#DejaVuSans-46\"/>\n       <use x=\"95.410156\" xlink:href=\"#DejaVuSans-54\"/>\n      </g>\n     </g>\n    </g>\n    <g id=\"text_20\">\n     <!-- Densidad -->\n     <defs>\n      <path d=\"M 19.671875 64.796875 \nL 19.671875 8.109375 \nL 31.59375 8.109375 \nQ 46.6875 8.109375 53.6875 14.9375 \nQ 60.6875 21.78125 60.6875 36.53125 \nQ 60.6875 51.171875 53.6875 57.984375 \nQ 46.6875 64.796875 31.59375 64.796875 \nz\nM 9.8125 72.90625 \nL 30.078125 72.90625 \nQ 51.265625 72.90625 61.171875 64.09375 \nQ 71.09375 55.28125 71.09375 36.53125 \nQ 71.09375 17.671875 61.125 8.828125 \nQ 51.171875 0 30.078125 0 \nL 9.8125 0 \nz\n\" id=\"DejaVuSans-68\"/>\n     </defs>\n     <g style=\"fill:#262626;\" transform=\"translate(16.318125 235.838182)rotate(-90)scale(0.12 -0.12)\">\n      <use xlink:href=\"#DejaVuSans-68\"/>\n      <use x=\"77.001953\" xlink:href=\"#DejaVuSans-101\"/>\n      <use x=\"138.525391\" xlink:href=\"#DejaVuSans-110\"/>\n      <use x=\"201.904297\" xlink:href=\"#DejaVuSans-115\"/>\n      <use x=\"254.003906\" xlink:href=\"#DejaVuSans-105\"/>\n      <use x=\"281.787109\" xlink:href=\"#DejaVuSans-100\"/>\n      <use x=\"345.263672\" xlink:href=\"#DejaVuSans-97\"/>\n      <use x=\"406.542969\" xlink:href=\"#DejaVuSans-100\"/>\n     </g>\n    </g>\n   </g>\n   <g id=\"line2d_19\">\n    <path clip-path=\"url(#p7186d351f4)\" d=\"M 29.305535 388.980009 \nL 32.074148 380.609884 \nL 34.842761 360.416314 \nL 37.611374 320.171779 \nL 40.379987 254.794501 \nL 45.917212 88.692614 \nL 48.685825 39.967453 \nL 51.454438 45.426916 \nL 54.223051 102.591841 \nL 59.760277 269.035327 \nL 62.528889 329.540575 \nL 65.297502 365.02922 \nL 68.066115 381.455276 \nL 70.834728 386.485703 \nL 73.603341 385.517595 \nL 76.371954 381.630063 \nL 79.140566 376.979145 \nL 81.909179 373.58892 \nL 84.677792 372.999049 \nL 87.446405 375.49933 \nL 90.215018 379.99371 \nL 92.983631 384.771649 \nL 95.752243 388.506451 \nL 98.520856 390.685982 \nL 101.289469 391.357205 \nL 104.058082 390.657836 \nL 106.826695 388.625191 \nL 109.595308 385.416278 \nL 112.36392 381.680687 \nL 115.132533 378.622872 \nL 117.901146 377.490061 \nL 120.669759 378.792928 \nL 123.438372 381.947664 \nL 126.206985 385.687917 \nL 128.975597 388.855449 \nL 131.74421 390.892915 \nL 134.512823 391.776536 \nL 137.281436 391.660889 \nL 140.050049 390.638953 \nL 142.818662 388.798043 \nL 145.587274 386.460355 \nL 148.355887 384.314072 \nL 151.1245 383.194091 \nL 153.893113 383.5972 \nL 156.661726 385.340966 \nL 159.430339 387.694685 \nL 162.198952 389.858607 \nL 164.967564 391.36269 \nL 167.736177 392.116789 \nL 170.50479 392.208421 \nL 173.273403 391.710528 \nL 176.042016 390.665164 \nL 181.579241 387.755657 \nL 184.347854 386.806592 \nL 187.116467 386.784068 \nL 189.88508 387.698621 \nL 195.422306 390.617694 \nL 198.190918 391.715912 \nL 200.959531 392.33394 \nL 203.728144 392.515387 \nL 206.496757 392.321901 \nL 209.26537 391.785131 \nL 217.571208 389.375968 \nL 220.339821 389.194423 \nL 223.108434 389.601534 \nL 231.414272 392.05528 \nL 234.182885 392.504805 \nL 236.951498 392.678416 \nL 239.720111 392.613654 \nL 242.488724 392.330272 \nL 248.025949 391.279261 \nL 250.794562 390.783772 \nL 253.563175 390.566698 \nL 256.331788 390.725372 \nL 259.100401 391.188332 \nL 264.637626 392.272631 \nL 267.406239 392.610286 \nL 270.174852 392.769711 \nL 272.943465 392.776638 \nL 275.712078 392.650014 \nL 281.249303 392.078145 \nL 284.017916 391.766093 \nL 286.786529 391.58599 \nL 289.555142 391.617014 \nL 295.092368 392.173423 \nL 300.629593 392.713208 \nL 306.166819 392.874223 \nL 311.704045 392.753611 \nL 320.009883 392.387059 \nL 325.547109 392.450354 \nL 336.62156 392.890729 \nL 342.158786 392.890067 \nL 358.770463 392.573671 \nL 372.613527 392.918214 \nL 380.919366 392.79107 \nL 389.225204 392.578482 \nL 394.76243 392.665449 \nL 405.836881 392.921293 \nL 414.14272 392.845089 \nL 425.217171 392.66759 \nL 444.597461 392.925489 \nL 463.977751 392.843513 \nL 477.820815 392.936541 \nL 499.969718 392.893233 \nL 513.812782 392.926529 \nL 530.424459 392.854862 \nL 547.036136 392.94609 \nL 580.25949 392.954023 \nL 580.25949 392.954023 \n\" style=\"fill:none;stroke:#4c72b0;stroke-linecap:round;stroke-width:1.5;\"/>\n   </g>\n   <g id=\"patch_3\">\n    <path d=\"M 49.807188 392.954489 \nL 49.807188 22.318125 \n\" style=\"fill:none;stroke:#ffffff;stroke-linecap:square;stroke-linejoin:miter;stroke-width:1.25;\"/>\n   </g>\n   <g id=\"patch_4\">\n    <path d=\"M 607.807188 392.954489 \nL 607.807188 22.318125 \n\" style=\"fill:none;stroke:#ffffff;stroke-linecap:square;stroke-linejoin:miter;stroke-width:1.25;\"/>\n   </g>\n   <g id=\"patch_5\">\n    <path d=\"M 49.807188 392.954489 \nL 607.807188 392.954489 \n\" style=\"fill:none;stroke:#ffffff;stroke-linecap:square;stroke-linejoin:miter;stroke-width:1.25;\"/>\n   </g>\n   <g id=\"patch_6\">\n    <path d=\"M 49.807188 22.318125 \nL 607.807188 22.318125 \n\" style=\"fill:none;stroke:#ffffff;stroke-linecap:square;stroke-linejoin:miter;stroke-width:1.25;\"/>\n   </g>\n   <g id=\"text_21\">\n    <!-- Longitud de la cola de procesamiento -->\n    <defs>\n     <path d=\"M 9.8125 72.90625 \nL 19.671875 72.90625 \nL 19.671875 8.296875 \nL 55.171875 8.296875 \nL 55.171875 0 \nL 9.8125 0 \nz\n\" id=\"DejaVuSans-76\"/>\n     <path d=\"M 30.609375 48.390625 \nQ 23.390625 48.390625 19.1875 42.75 \nQ 14.984375 37.109375 14.984375 27.296875 \nQ 14.984375 17.484375 19.15625 11.84375 \nQ 23.34375 6.203125 30.609375 6.203125 \nQ 37.796875 6.203125 41.984375 11.859375 \nQ 46.1875 17.53125 46.1875 27.296875 \nQ 46.1875 37.015625 41.984375 42.703125 \nQ 37.796875 48.390625 30.609375 48.390625 \nz\nM 30.609375 56 \nQ 42.328125 56 49.015625 48.375 \nQ 55.71875 40.765625 55.71875 27.296875 \nQ 55.71875 13.875 49.015625 6.21875 \nQ 42.328125 -1.421875 30.609375 -1.421875 \nQ 18.84375 -1.421875 12.171875 6.21875 \nQ 5.515625 13.875 5.515625 27.296875 \nQ 5.515625 40.765625 12.171875 48.375 \nQ 18.84375 56 30.609375 56 \nz\n\" id=\"DejaVuSans-111\"/>\n     <path d=\"M 8.5 21.578125 \nL 8.5 54.6875 \nL 17.484375 54.6875 \nL 17.484375 21.921875 \nQ 17.484375 14.15625 20.5 10.265625 \nQ 23.53125 6.390625 29.59375 6.390625 \nQ 36.859375 6.390625 41.078125 11.03125 \nQ 45.3125 15.671875 45.3125 23.6875 \nL 45.3125 54.6875 \nL 54.296875 54.6875 \nL 54.296875 0 \nL 45.3125 0 \nL 45.3125 8.40625 \nQ 42.046875 3.421875 37.71875 1 \nQ 33.40625 -1.421875 27.6875 -1.421875 \nQ 18.265625 -1.421875 13.375 4.4375 \nQ 8.5 10.296875 8.5 21.578125 \nz\nM 31.109375 56 \nz\n\" id=\"DejaVuSans-117\"/>\n     <path d=\"M 9.421875 75.984375 \nL 18.40625 75.984375 \nL 18.40625 0 \nL 9.421875 0 \nz\n\" id=\"DejaVuSans-108\"/>\n     <path d=\"M 48.78125 52.59375 \nL 48.78125 44.1875 \nQ 44.96875 46.296875 41.140625 47.34375 \nQ 37.3125 48.390625 33.40625 48.390625 \nQ 24.65625 48.390625 19.8125 42.84375 \nQ 14.984375 37.3125 14.984375 27.296875 \nQ 14.984375 17.28125 19.8125 11.734375 \nQ 24.65625 6.203125 33.40625 6.203125 \nQ 37.3125 6.203125 41.140625 7.25 \nQ 44.96875 8.296875 48.78125 10.40625 \nL 48.78125 2.09375 \nQ 45.015625 0.34375 40.984375 -0.53125 \nQ 36.96875 -1.421875 32.421875 -1.421875 \nQ 20.0625 -1.421875 12.78125 6.34375 \nQ 5.515625 14.109375 5.515625 27.296875 \nQ 5.515625 40.671875 12.859375 48.328125 \nQ 20.21875 56 33.015625 56 \nQ 37.15625 56 41.109375 55.140625 \nQ 45.0625 54.296875 48.78125 52.59375 \nz\n\" id=\"DejaVuSans-99\"/>\n     <path d=\"M 18.109375 8.203125 \nL 18.109375 -20.796875 \nL 9.078125 -20.796875 \nL 9.078125 54.6875 \nL 18.109375 54.6875 \nL 18.109375 46.390625 \nQ 20.953125 51.265625 25.265625 53.625 \nQ 29.59375 56 35.59375 56 \nQ 45.5625 56 51.78125 48.09375 \nQ 58.015625 40.1875 58.015625 27.296875 \nQ 58.015625 14.40625 51.78125 6.484375 \nQ 45.5625 -1.421875 35.59375 -1.421875 \nQ 29.59375 -1.421875 25.265625 0.953125 \nQ 20.953125 3.328125 18.109375 8.203125 \nz\nM 48.6875 27.296875 \nQ 48.6875 37.203125 44.609375 42.84375 \nQ 40.53125 48.484375 33.40625 48.484375 \nQ 26.265625 48.484375 22.1875 42.84375 \nQ 18.109375 37.203125 18.109375 27.296875 \nQ 18.109375 17.390625 22.1875 11.75 \nQ 26.265625 6.109375 33.40625 6.109375 \nQ 40.53125 6.109375 44.609375 11.75 \nQ 48.6875 17.390625 48.6875 27.296875 \nz\n\" id=\"DejaVuSans-112\"/>\n     <path d=\"M 41.109375 46.296875 \nQ 39.59375 47.171875 37.8125 47.578125 \nQ 36.03125 48 33.890625 48 \nQ 26.265625 48 22.1875 43.046875 \nQ 18.109375 38.09375 18.109375 28.8125 \nL 18.109375 0 \nL 9.078125 0 \nL 9.078125 54.6875 \nL 18.109375 54.6875 \nL 18.109375 46.1875 \nQ 20.953125 51.171875 25.484375 53.578125 \nQ 30.03125 56 36.53125 56 \nQ 37.453125 56 38.578125 55.875 \nQ 39.703125 55.765625 41.0625 55.515625 \nz\n\" id=\"DejaVuSans-114\"/>\n    </defs>\n    <g style=\"fill:#262626;\" transform=\"translate(215.827188 16.318125)scale(0.12 -0.12)\">\n     <use xlink:href=\"#DejaVuSans-76\"/>\n     <use x=\"53.962891\" xlink:href=\"#DejaVuSans-111\"/>\n     <use x=\"115.144531\" xlink:href=\"#DejaVuSans-110\"/>\n     <use x=\"178.523438\" xlink:href=\"#DejaVuSans-103\"/>\n     <use x=\"242\" xlink:href=\"#DejaVuSans-105\"/>\n     <use x=\"269.783203\" xlink:href=\"#DejaVuSans-116\"/>\n     <use x=\"308.992188\" xlink:href=\"#DejaVuSans-117\"/>\n     <use x=\"372.371094\" xlink:href=\"#DejaVuSans-100\"/>\n     <use x=\"435.847656\" xlink:href=\"#DejaVuSans-32\"/>\n     <use x=\"467.634766\" xlink:href=\"#DejaVuSans-100\"/>\n     <use x=\"531.111328\" xlink:href=\"#DejaVuSans-101\"/>\n     <use x=\"592.634766\" xlink:href=\"#DejaVuSans-32\"/>\n     <use x=\"624.421875\" xlink:href=\"#DejaVuSans-108\"/>\n     <use x=\"652.205078\" xlink:href=\"#DejaVuSans-97\"/>\n     <use x=\"713.484375\" xlink:href=\"#DejaVuSans-32\"/>\n     <use x=\"745.271484\" xlink:href=\"#DejaVuSans-99\"/>\n     <use x=\"800.251953\" xlink:href=\"#DejaVuSans-111\"/>\n     <use x=\"861.433594\" xlink:href=\"#DejaVuSans-108\"/>\n     <use x=\"889.216797\" xlink:href=\"#DejaVuSans-97\"/>\n     <use x=\"950.496094\" xlink:href=\"#DejaVuSans-32\"/>\n     <use x=\"982.283203\" xlink:href=\"#DejaVuSans-100\"/>\n     <use x=\"1045.759766\" xlink:href=\"#DejaVuSans-101\"/>\n     <use x=\"1107.283203\" xlink:href=\"#DejaVuSans-32\"/>\n     <use x=\"1139.070312\" xlink:href=\"#DejaVuSans-112\"/>\n     <use x=\"1202.546875\" xlink:href=\"#DejaVuSans-114\"/>\n     <use x=\"1241.410156\" xlink:href=\"#DejaVuSans-111\"/>\n     <use x=\"1302.591797\" xlink:href=\"#DejaVuSans-99\"/>\n     <use x=\"1357.572266\" xlink:href=\"#DejaVuSans-101\"/>\n     <use x=\"1419.095703\" xlink:href=\"#DejaVuSans-115\"/>\n     <use x=\"1471.195312\" xlink:href=\"#DejaVuSans-97\"/>\n     <use x=\"1532.474609\" xlink:href=\"#DejaVuSans-109\"/>\n     <use x=\"1629.886719\" xlink:href=\"#DejaVuSans-105\"/>\n     <use x=\"1657.669922\" xlink:href=\"#DejaVuSans-101\"/>\n     <use x=\"1719.193359\" xlink:href=\"#DejaVuSans-110\"/>\n     <use x=\"1782.572266\" xlink:href=\"#DejaVuSans-116\"/>\n     <use x=\"1821.78125\" xlink:href=\"#DejaVuSans-111\"/>\n    </g>\n   </g>\n  </g>\n  <g id=\"axes_2\">\n   <g id=\"patch_7\">\n    <path d=\"M 49.807188 837.718125 \nL 607.807188 837.718125 \nL 607.807188 467.081761 \nL 49.807188 467.081761 \nz\n\" style=\"fill:#eaeaf2;\"/>\n   </g>\n   <g id=\"matplotlib.axis_3\">\n    <g id=\"xtick_10\">\n     <g id=\"line2d_20\">\n      <path clip-path=\"url(#p5882123728)\" d=\"M 49.807188 837.718125 \nL 49.807188 467.081761 \n\" style=\"fill:none;stroke:#ffffff;stroke-linecap:round;\"/>\n     </g>\n     <g id=\"text_22\">\n      <!-- 0 -->\n      <g style=\"fill:#262626;\" transform=\"translate(46.307813 855.576406)scale(0.11 -0.11)\">\n       <use xlink:href=\"#DejaVuSans-48\"/>\n      </g>\n     </g>\n    </g>\n    <g id=\"xtick_11\">\n     <g id=\"line2d_21\">\n      <path clip-path=\"url(#p5882123728)\" d=\"M 172.750198 837.718125 \nL 172.750198 467.081761 \n\" style=\"fill:none;stroke:#ffffff;stroke-linecap:round;\"/>\n     </g>\n     <g id=\"text_23\">\n      <!-- 1 -->\n      <g style=\"fill:#262626;\" transform=\"translate(169.250823 855.576406)scale(0.11 -0.11)\">\n       <use xlink:href=\"#DejaVuSans-49\"/>\n      </g>\n     </g>\n    </g>\n    <g id=\"xtick_12\">\n     <g id=\"line2d_22\">\n      <path clip-path=\"url(#p5882123728)\" d=\"M 295.693209 837.718125 \nL 295.693209 467.081761 \n\" style=\"fill:none;stroke:#ffffff;stroke-linecap:round;\"/>\n     </g>\n     <g id=\"text_24\">\n      <!-- 2 -->\n      <g style=\"fill:#262626;\" transform=\"translate(292.193834 855.576406)scale(0.11 -0.11)\">\n       <use xlink:href=\"#DejaVuSans-50\"/>\n      </g>\n     </g>\n    </g>\n    <g id=\"xtick_13\">\n     <g id=\"line2d_23\">\n      <path clip-path=\"url(#p5882123728)\" d=\"M 418.63622 837.718125 \nL 418.63622 467.081761 \n\" style=\"fill:none;stroke:#ffffff;stroke-linecap:round;\"/>\n     </g>\n     <g id=\"text_25\">\n      <!-- 3 -->\n      <defs>\n       <path d=\"M 40.578125 39.3125 \nQ 47.65625 37.796875 51.625 33 \nQ 55.609375 28.21875 55.609375 21.1875 \nQ 55.609375 10.40625 48.1875 4.484375 \nQ 40.765625 -1.421875 27.09375 -1.421875 \nQ 22.515625 -1.421875 17.65625 -0.515625 \nQ 12.796875 0.390625 7.625 2.203125 \nL 7.625 11.71875 \nQ 11.71875 9.328125 16.59375 8.109375 \nQ 21.484375 6.890625 26.8125 6.890625 \nQ 36.078125 6.890625 40.9375 10.546875 \nQ 45.796875 14.203125 45.796875 21.1875 \nQ 45.796875 27.640625 41.28125 31.265625 \nQ 36.765625 34.90625 28.71875 34.90625 \nL 20.21875 34.90625 \nL 20.21875 43.015625 \nL 29.109375 43.015625 \nQ 36.375 43.015625 40.234375 45.921875 \nQ 44.09375 48.828125 44.09375 54.296875 \nQ 44.09375 59.90625 40.109375 62.90625 \nQ 36.140625 65.921875 28.71875 65.921875 \nQ 24.65625 65.921875 20.015625 65.03125 \nQ 15.375 64.15625 9.8125 62.3125 \nL 9.8125 71.09375 \nQ 15.4375 72.65625 20.34375 73.4375 \nQ 25.25 74.21875 29.59375 74.21875 \nQ 40.828125 74.21875 47.359375 69.109375 \nQ 53.90625 64.015625 53.90625 55.328125 \nQ 53.90625 49.265625 50.4375 45.09375 \nQ 46.96875 40.921875 40.578125 39.3125 \nz\n\" id=\"DejaVuSans-51\"/>\n      </defs>\n      <g style=\"fill:#262626;\" transform=\"translate(415.136845 855.576406)scale(0.11 -0.11)\">\n       <use xlink:href=\"#DejaVuSans-51\"/>\n      </g>\n     </g>\n    </g>\n    <g id=\"xtick_14\">\n     <g id=\"line2d_24\">\n      <path clip-path=\"url(#p5882123728)\" d=\"M 541.579231 837.718125 \nL 541.579231 467.081761 \n\" style=\"fill:none;stroke:#ffffff;stroke-linecap:round;\"/>\n     </g>\n     <g id=\"text_26\">\n      <!-- 4 -->\n      <g style=\"fill:#262626;\" transform=\"translate(538.079856 855.576406)scale(0.11 -0.11)\">\n       <use xlink:href=\"#DejaVuSans-52\"/>\n      </g>\n     </g>\n    </g>\n    <g id=\"text_27\">\n     <!-- Cantidad de imágenes -->\n     <g style=\"fill:#262626;\" transform=\"translate(261.200312 871.462187)scale(0.12 -0.12)\">\n      <use xlink:href=\"#DejaVuSans-67\"/>\n      <use x=\"69.824219\" xlink:href=\"#DejaVuSans-97\"/>\n      <use x=\"131.103516\" xlink:href=\"#DejaVuSans-110\"/>\n      <use x=\"194.482422\" xlink:href=\"#DejaVuSans-116\"/>\n      <use x=\"233.691406\" xlink:href=\"#DejaVuSans-105\"/>\n      <use x=\"261.474609\" xlink:href=\"#DejaVuSans-100\"/>\n      <use x=\"324.951172\" xlink:href=\"#DejaVuSans-97\"/>\n      <use x=\"386.230469\" xlink:href=\"#DejaVuSans-100\"/>\n      <use x=\"449.707031\" xlink:href=\"#DejaVuSans-32\"/>\n      <use x=\"481.494141\" xlink:href=\"#DejaVuSans-100\"/>\n      <use x=\"544.970703\" xlink:href=\"#DejaVuSans-101\"/>\n      <use x=\"606.494141\" xlink:href=\"#DejaVuSans-32\"/>\n      <use x=\"638.28125\" xlink:href=\"#DejaVuSans-105\"/>\n      <use x=\"666.064453\" xlink:href=\"#DejaVuSans-109\"/>\n      <use x=\"763.476562\" xlink:href=\"#DejaVuSans-225\"/>\n      <use x=\"824.755859\" xlink:href=\"#DejaVuSans-103\"/>\n      <use x=\"888.232422\" xlink:href=\"#DejaVuSans-101\"/>\n      <use x=\"949.755859\" xlink:href=\"#DejaVuSans-110\"/>\n      <use x=\"1013.134766\" xlink:href=\"#DejaVuSans-101\"/>\n      <use x=\"1074.658203\" xlink:href=\"#DejaVuSans-115\"/>\n     </g>\n    </g>\n   </g>\n   <g id=\"matplotlib.axis_4\">\n    <g id=\"ytick_10\">\n     <g id=\"line2d_25\">\n      <path clip-path=\"url(#p5882123728)\" d=\"M 49.807188 837.718125 \nL 607.807188 837.718125 \n\" style=\"fill:none;stroke:#ffffff;stroke-linecap:round;\"/>\n     </g>\n     <g id=\"text_28\">\n      <!-- 0.0 -->\n      <g style=\"fill:#262626;\" transform=\"translate(22.81375 841.897266)scale(0.11 -0.11)\">\n       <use xlink:href=\"#DejaVuSans-48\"/>\n       <use x=\"63.623047\" xlink:href=\"#DejaVuSans-46\"/>\n       <use x=\"95.410156\" xlink:href=\"#DejaVuSans-48\"/>\n      </g>\n     </g>\n    </g>\n    <g id=\"ytick_11\">\n     <g id=\"line2d_26\">\n      <path clip-path=\"url(#p5882123728)\" d=\"M 49.807188 783.912689 \nL 607.807188 783.912689 \n\" style=\"fill:none;stroke:#ffffff;stroke-linecap:round;\"/>\n     </g>\n     <g id=\"text_29\">\n      <!-- 0.5 -->\n      <defs>\n       <path d=\"M 10.796875 72.90625 \nL 49.515625 72.90625 \nL 49.515625 64.59375 \nL 19.828125 64.59375 \nL 19.828125 46.734375 \nQ 21.96875 47.46875 24.109375 47.828125 \nQ 26.265625 48.1875 28.421875 48.1875 \nQ 40.625 48.1875 47.75 41.5 \nQ 54.890625 34.8125 54.890625 23.390625 \nQ 54.890625 11.625 47.5625 5.09375 \nQ 40.234375 -1.421875 26.90625 -1.421875 \nQ 22.3125 -1.421875 17.546875 -0.640625 \nQ 12.796875 0.140625 7.71875 1.703125 \nL 7.71875 11.625 \nQ 12.109375 9.234375 16.796875 8.0625 \nQ 21.484375 6.890625 26.703125 6.890625 \nQ 35.15625 6.890625 40.078125 11.328125 \nQ 45.015625 15.765625 45.015625 23.390625 \nQ 45.015625 31 40.078125 35.4375 \nQ 35.15625 39.890625 26.703125 39.890625 \nQ 22.75 39.890625 18.8125 39.015625 \nQ 14.890625 38.140625 10.796875 36.28125 \nz\n\" id=\"DejaVuSans-53\"/>\n      </defs>\n      <g style=\"fill:#262626;\" transform=\"translate(22.81375 788.091829)scale(0.11 -0.11)\">\n       <use xlink:href=\"#DejaVuSans-48\"/>\n       <use x=\"63.623047\" xlink:href=\"#DejaVuSans-46\"/>\n       <use x=\"95.410156\" xlink:href=\"#DejaVuSans-53\"/>\n      </g>\n     </g>\n    </g>\n    <g id=\"ytick_12\">\n     <g id=\"line2d_27\">\n      <path clip-path=\"url(#p5882123728)\" d=\"M 49.807188 730.107253 \nL 607.807188 730.107253 \n\" style=\"fill:none;stroke:#ffffff;stroke-linecap:round;\"/>\n     </g>\n     <g id=\"text_30\">\n      <!-- 1.0 -->\n      <g style=\"fill:#262626;\" transform=\"translate(22.81375 734.286393)scale(0.11 -0.11)\">\n       <use xlink:href=\"#DejaVuSans-49\"/>\n       <use x=\"63.623047\" xlink:href=\"#DejaVuSans-46\"/>\n       <use x=\"95.410156\" xlink:href=\"#DejaVuSans-48\"/>\n      </g>\n     </g>\n    </g>\n    <g id=\"ytick_13\">\n     <g id=\"line2d_28\">\n      <path clip-path=\"url(#p5882123728)\" d=\"M 49.807188 676.301816 \nL 607.807188 676.301816 \n\" style=\"fill:none;stroke:#ffffff;stroke-linecap:round;\"/>\n     </g>\n     <g id=\"text_31\">\n      <!-- 1.5 -->\n      <g style=\"fill:#262626;\" transform=\"translate(22.81375 680.480957)scale(0.11 -0.11)\">\n       <use xlink:href=\"#DejaVuSans-49\"/>\n       <use x=\"63.623047\" xlink:href=\"#DejaVuSans-46\"/>\n       <use x=\"95.410156\" xlink:href=\"#DejaVuSans-53\"/>\n      </g>\n     </g>\n    </g>\n    <g id=\"ytick_14\">\n     <g id=\"line2d_29\">\n      <path clip-path=\"url(#p5882123728)\" d=\"M 49.807188 622.49638 \nL 607.807188 622.49638 \n\" style=\"fill:none;stroke:#ffffff;stroke-linecap:round;\"/>\n     </g>\n     <g id=\"text_32\">\n      <!-- 2.0 -->\n      <g style=\"fill:#262626;\" transform=\"translate(22.81375 626.675521)scale(0.11 -0.11)\">\n       <use xlink:href=\"#DejaVuSans-50\"/>\n       <use x=\"63.623047\" xlink:href=\"#DejaVuSans-46\"/>\n       <use x=\"95.410156\" xlink:href=\"#DejaVuSans-48\"/>\n      </g>\n     </g>\n    </g>\n    <g id=\"ytick_15\">\n     <g id=\"line2d_30\">\n      <path clip-path=\"url(#p5882123728)\" d=\"M 49.807188 568.690944 \nL 607.807188 568.690944 \n\" style=\"fill:none;stroke:#ffffff;stroke-linecap:round;\"/>\n     </g>\n     <g id=\"text_33\">\n      <!-- 2.5 -->\n      <g style=\"fill:#262626;\" transform=\"translate(22.81375 572.870085)scale(0.11 -0.11)\">\n       <use xlink:href=\"#DejaVuSans-50\"/>\n       <use x=\"63.623047\" xlink:href=\"#DejaVuSans-46\"/>\n       <use x=\"95.410156\" xlink:href=\"#DejaVuSans-53\"/>\n      </g>\n     </g>\n    </g>\n    <g id=\"ytick_16\">\n     <g id=\"line2d_31\">\n      <path clip-path=\"url(#p5882123728)\" d=\"M 49.807188 514.885508 \nL 607.807188 514.885508 \n\" style=\"fill:none;stroke:#ffffff;stroke-linecap:round;\"/>\n     </g>\n     <g id=\"text_34\">\n      <!-- 3.0 -->\n      <g style=\"fill:#262626;\" transform=\"translate(22.81375 519.064648)scale(0.11 -0.11)\">\n       <use xlink:href=\"#DejaVuSans-51\"/>\n       <use x=\"63.623047\" xlink:href=\"#DejaVuSans-46\"/>\n       <use x=\"95.410156\" xlink:href=\"#DejaVuSans-48\"/>\n      </g>\n     </g>\n    </g>\n    <g id=\"text_35\">\n     <!-- Densidad -->\n     <g style=\"fill:#262626;\" transform=\"translate(16.318125 680.601818)rotate(-90)scale(0.12 -0.12)\">\n      <use xlink:href=\"#DejaVuSans-68\"/>\n      <use x=\"77.001953\" xlink:href=\"#DejaVuSans-101\"/>\n      <use x=\"138.525391\" xlink:href=\"#DejaVuSans-110\"/>\n      <use x=\"201.904297\" xlink:href=\"#DejaVuSans-115\"/>\n      <use x=\"254.003906\" xlink:href=\"#DejaVuSans-105\"/>\n      <use x=\"281.787109\" xlink:href=\"#DejaVuSans-100\"/>\n      <use x=\"345.263672\" xlink:href=\"#DejaVuSans-97\"/>\n      <use x=\"406.542969\" xlink:href=\"#DejaVuSans-100\"/>\n     </g>\n    </g>\n   </g>\n   <g id=\"line2d_32\">\n    <path clip-path=\"url(#p5882123728)\" d=\"M 11.953229 833.789248 \nL 14.804887 830.17366 \nL 17.656546 823.952164 \nL 20.508204 813.850857 \nL 23.359862 798.397814 \nL 26.21152 776.165118 \nL 29.063178 746.159413 \nL 31.914836 708.30803 \nL 34.766494 663.916146 \nL 40.46981 568.761602 \nL 43.321468 527.817191 \nL 46.173126 498.419759 \nL 49.024785 484.731109 \nL 51.876443 488.775701 \nL 54.728101 509.949864 \nL 57.579759 545.169474 \nL 60.431417 589.606345 \nL 66.134733 684.609311 \nL 68.986391 726.313373 \nL 71.838049 760.694258 \nL 74.689707 787.116437 \nL 77.541365 806.130079 \nL 80.393024 818.981187 \nL 83.244682 827.157429 \nL 86.09634 832.062188 \nL 88.947998 834.839834 \nL 91.799656 836.326306 \nL 94.651314 837.078612 \nL 97.502972 837.438913 \nL 103.206288 837.672453 \nL 117.464579 837.715203 \nL 128.871211 837.623207 \nL 134.574527 837.305445 \nL 137.426185 836.921093 \nL 140.277843 836.255421 \nL 143.129502 835.16745 \nL 145.98116 833.491713 \nL 148.832818 831.063759 \nL 151.684476 827.762706 \nL 154.536134 823.565711 \nL 157.387792 818.601133 \nL 163.091108 807.791904 \nL 165.942766 803.036841 \nL 168.794424 799.527521 \nL 171.646082 797.75716 \nL 174.497741 797.98676 \nL 177.349399 800.18203 \nL 180.201057 804.021782 \nL 183.052715 808.974964 \nL 188.756031 819.775239 \nL 191.607689 824.58711 \nL 194.459347 828.58704 \nL 197.311005 831.684691 \nL 200.162663 833.929996 \nL 203.014321 835.458153 \nL 205.86598 836.436976 \nL 208.717638 837.028022 \nL 211.569296 837.364904 \nL 217.272612 837.638735 \nL 228.679244 837.715941 \nL 254.344167 837.645851 \nL 260.047483 837.431119 \nL 262.899141 837.188371 \nL 265.750799 836.788997 \nL 268.602458 836.169684 \nL 271.454116 835.266059 \nL 274.305774 834.028456 \nL 277.157432 832.442658 \nL 280.00909 830.550878 \nL 285.712406 826.368287 \nL 288.564064 824.488869 \nL 291.415722 823.066045 \nL 294.26738 822.298238 \nL 297.119038 822.298238 \nL 299.970697 823.066045 \nL 302.822355 824.488869 \nL 305.674013 826.368287 \nL 311.377329 830.550878 \nL 314.228987 832.442658 \nL 317.080645 834.028456 \nL 319.932303 835.266059 \nL 322.783961 836.169684 \nL 325.635619 836.788997 \nL 328.487277 837.188371 \nL 334.190594 837.570375 \nL 342.745568 837.703288 \nL 374.113807 837.704962 \nL 382.668781 837.603707 \nL 388.372097 837.343427 \nL 391.223755 837.090062 \nL 394.075414 836.717796 \nL 396.927072 836.204212 \nL 399.77873 835.541033 \nL 405.482046 833.855497 \nL 411.185362 832.131349 \nL 414.03702 831.494727 \nL 416.888678 831.130756 \nL 419.740336 831.092689 \nL 422.591994 831.38621 \nL 425.443653 831.968048 \nL 431.146969 833.649898 \nL 436.850285 835.371687 \nL 439.701943 836.067539 \nL 442.553601 836.614846 \nL 445.405259 837.017396 \nL 451.108575 837.475612 \nL 456.811892 837.649704 \nL 471.070182 837.716941 \nL 508.141737 837.648178 \nL 516.696711 837.382975 \nL 522.400028 836.980258 \nL 539.509976 835.406975 \nL 542.361634 835.380186 \nL 548.06495 835.665558 \nL 568.026557 837.457695 \nL 576.581531 837.668156 \nL 579.433189 837.692103 \nL 579.433189 837.692103 \n\" style=\"fill:none;stroke:#4c72b0;stroke-linecap:round;stroke-width:1.5;\"/>\n   </g>\n   <g id=\"patch_8\">\n    <path d=\"M 49.807188 837.718125 \nL 49.807188 467.081761 \n\" style=\"fill:none;stroke:#ffffff;stroke-linecap:square;stroke-linejoin:miter;stroke-width:1.25;\"/>\n   </g>\n   <g id=\"patch_9\">\n    <path d=\"M 607.807188 837.718125 \nL 607.807188 467.081761 \n\" style=\"fill:none;stroke:#ffffff;stroke-linecap:square;stroke-linejoin:miter;stroke-width:1.25;\"/>\n   </g>\n   <g id=\"patch_10\">\n    <path d=\"M 49.807188 837.718125 \nL 607.807188 837.718125 \n\" style=\"fill:none;stroke:#ffffff;stroke-linecap:square;stroke-linejoin:miter;stroke-width:1.25;\"/>\n   </g>\n   <g id=\"patch_11\">\n    <path d=\"M 49.807188 467.081761 \nL 607.807188 467.081761 \n\" style=\"fill:none;stroke:#ffffff;stroke-linecap:square;stroke-linejoin:miter;stroke-width:1.25;\"/>\n   </g>\n   <g id=\"text_36\">\n    <!-- Longitud de la cola de descarga -->\n    <g style=\"fill:#262626;\" transform=\"translate(233.011562 461.081761)scale(0.12 -0.12)\">\n     <use xlink:href=\"#DejaVuSans-76\"/>\n     <use x=\"53.962891\" xlink:href=\"#DejaVuSans-111\"/>\n     <use x=\"115.144531\" xlink:href=\"#DejaVuSans-110\"/>\n     <use x=\"178.523438\" xlink:href=\"#DejaVuSans-103\"/>\n     <use x=\"242\" xlink:href=\"#DejaVuSans-105\"/>\n     <use x=\"269.783203\" xlink:href=\"#DejaVuSans-116\"/>\n     <use x=\"308.992188\" xlink:href=\"#DejaVuSans-117\"/>\n     <use x=\"372.371094\" xlink:href=\"#DejaVuSans-100\"/>\n     <use x=\"435.847656\" xlink:href=\"#DejaVuSans-32\"/>\n     <use x=\"467.634766\" xlink:href=\"#DejaVuSans-100\"/>\n     <use x=\"531.111328\" xlink:href=\"#DejaVuSans-101\"/>\n     <use x=\"592.634766\" xlink:href=\"#DejaVuSans-32\"/>\n     <use x=\"624.421875\" xlink:href=\"#DejaVuSans-108\"/>\n     <use x=\"652.205078\" xlink:href=\"#DejaVuSans-97\"/>\n     <use x=\"713.484375\" xlink:href=\"#DejaVuSans-32\"/>\n     <use x=\"745.271484\" xlink:href=\"#DejaVuSans-99\"/>\n     <use x=\"800.251953\" xlink:href=\"#DejaVuSans-111\"/>\n     <use x=\"861.433594\" xlink:href=\"#DejaVuSans-108\"/>\n     <use x=\"889.216797\" xlink:href=\"#DejaVuSans-97\"/>\n     <use x=\"950.496094\" xlink:href=\"#DejaVuSans-32\"/>\n     <use x=\"982.283203\" xlink:href=\"#DejaVuSans-100\"/>\n     <use x=\"1045.759766\" xlink:href=\"#DejaVuSans-101\"/>\n     <use x=\"1107.283203\" xlink:href=\"#DejaVuSans-32\"/>\n     <use x=\"1139.070312\" xlink:href=\"#DejaVuSans-100\"/>\n     <use x=\"1202.546875\" xlink:href=\"#DejaVuSans-101\"/>\n     <use x=\"1264.070312\" xlink:href=\"#DejaVuSans-115\"/>\n     <use x=\"1316.169922\" xlink:href=\"#DejaVuSans-99\"/>\n     <use x=\"1371.150391\" xlink:href=\"#DejaVuSans-97\"/>\n     <use x=\"1432.429688\" xlink:href=\"#DejaVuSans-114\"/>\n     <use x=\"1471.792969\" xlink:href=\"#DejaVuSans-103\"/>\n     <use x=\"1535.269531\" xlink:href=\"#DejaVuSans-97\"/>\n    </g>\n   </g>\n  </g>\n </g>\n <defs>\n  <clipPath id=\"p7186d351f4\">\n   <rect height=\"370.636364\" width=\"558\" x=\"49.807188\" y=\"22.318125\"/>\n  </clipPath>\n  <clipPath id=\"p5882123728\">\n   <rect height=\"370.636364\" width=\"558\" x=\"49.807188\" y=\"467.081761\"/>\n  </clipPath>\n </defs>\n</svg>\n"
                },
                "metadata": {}
              }
            ]
          }
        },
        "d7914328e8764023a16d8ae016810b2b": {
          "model_module": "@jupyter-widgets/base",
          "model_name": "LayoutModel",
          "model_module_version": "1.2.0",
          "state": {
            "_model_module": "@jupyter-widgets/base",
            "_model_module_version": "1.2.0",
            "_model_name": "LayoutModel",
            "_view_count": null,
            "_view_module": "@jupyter-widgets/base",
            "_view_module_version": "1.2.0",
            "_view_name": "LayoutView",
            "align_content": null,
            "align_items": null,
            "align_self": null,
            "border": null,
            "bottom": null,
            "display": null,
            "flex": null,
            "flex_flow": null,
            "grid_area": null,
            "grid_auto_columns": null,
            "grid_auto_flow": null,
            "grid_auto_rows": null,
            "grid_column": null,
            "grid_gap": null,
            "grid_row": null,
            "grid_template_areas": null,
            "grid_template_columns": null,
            "grid_template_rows": null,
            "height": null,
            "justify_content": null,
            "justify_items": null,
            "left": null,
            "margin": null,
            "max_height": null,
            "max_width": null,
            "min_height": null,
            "min_width": null,
            "object_fit": null,
            "object_position": null,
            "order": null,
            "overflow": null,
            "overflow_x": null,
            "overflow_y": null,
            "padding": null,
            "right": null,
            "top": null,
            "visibility": null,
            "width": null
          }
        },
        "531cd391f5ef474596208fa9d3db7ca8": {
          "model_module": "@jupyter-widgets/base",
          "model_name": "LayoutModel",
          "model_module_version": "1.2.0",
          "state": {
            "_model_module": "@jupyter-widgets/base",
            "_model_module_version": "1.2.0",
            "_model_name": "LayoutModel",
            "_view_count": null,
            "_view_module": "@jupyter-widgets/base",
            "_view_module_version": "1.2.0",
            "_view_name": "LayoutView",
            "align_content": null,
            "align_items": null,
            "align_self": null,
            "border": null,
            "bottom": null,
            "display": null,
            "flex": null,
            "flex_flow": null,
            "grid_area": null,
            "grid_auto_columns": null,
            "grid_auto_flow": null,
            "grid_auto_rows": null,
            "grid_column": null,
            "grid_gap": null,
            "grid_row": null,
            "grid_template_areas": null,
            "grid_template_columns": null,
            "grid_template_rows": null,
            "height": null,
            "justify_content": null,
            "justify_items": null,
            "left": null,
            "margin": null,
            "max_height": null,
            "max_width": null,
            "min_height": null,
            "min_width": null,
            "object_fit": null,
            "object_position": null,
            "order": null,
            "overflow": null,
            "overflow_x": null,
            "overflow_y": null,
            "padding": null,
            "right": null,
            "top": null,
            "visibility": null,
            "width": null
          }
        },
        "e133fbe8ad90414aad029088bd3981e3": {
          "model_module": "@jupyter-widgets/controls",
          "model_name": "SliderStyleModel",
          "model_module_version": "1.5.0",
          "state": {
            "_model_module": "@jupyter-widgets/controls",
            "_model_module_version": "1.5.0",
            "_model_name": "SliderStyleModel",
            "_view_count": null,
            "_view_module": "@jupyter-widgets/base",
            "_view_module_version": "1.2.0",
            "_view_name": "StyleView",
            "description_width": "",
            "handle_color": null
          }
        },
        "3c3e0bb7ff0d41ea98590a8e90029a4b": {
          "model_module": "@jupyter-widgets/base",
          "model_name": "LayoutModel",
          "model_module_version": "1.2.0",
          "state": {
            "_model_module": "@jupyter-widgets/base",
            "_model_module_version": "1.2.0",
            "_model_name": "LayoutModel",
            "_view_count": null,
            "_view_module": "@jupyter-widgets/base",
            "_view_module_version": "1.2.0",
            "_view_name": "LayoutView",
            "align_content": null,
            "align_items": null,
            "align_self": null,
            "border": null,
            "bottom": null,
            "display": null,
            "flex": null,
            "flex_flow": null,
            "grid_area": null,
            "grid_auto_columns": null,
            "grid_auto_flow": null,
            "grid_auto_rows": null,
            "grid_column": null,
            "grid_gap": null,
            "grid_row": null,
            "grid_template_areas": null,
            "grid_template_columns": null,
            "grid_template_rows": null,
            "height": null,
            "justify_content": null,
            "justify_items": null,
            "left": null,
            "margin": null,
            "max_height": null,
            "max_width": null,
            "min_height": null,
            "min_width": null,
            "object_fit": null,
            "object_position": null,
            "order": null,
            "overflow": null,
            "overflow_x": null,
            "overflow_y": null,
            "padding": null,
            "right": null,
            "top": null,
            "visibility": null,
            "width": null
          }
        },
        "b62dfc1502d84998b27b04c80cf3adeb": {
          "model_module": "@jupyter-widgets/controls",
          "model_name": "SliderStyleModel",
          "model_module_version": "1.5.0",
          "state": {
            "_model_module": "@jupyter-widgets/controls",
            "_model_module_version": "1.5.0",
            "_model_name": "SliderStyleModel",
            "_view_count": null,
            "_view_module": "@jupyter-widgets/base",
            "_view_module_version": "1.2.0",
            "_view_name": "StyleView",
            "description_width": "",
            "handle_color": null
          }
        },
        "9e473f81e8074ae098f7ab9d70d018ae": {
          "model_module": "@jupyter-widgets/base",
          "model_name": "LayoutModel",
          "model_module_version": "1.2.0",
          "state": {
            "_model_module": "@jupyter-widgets/base",
            "_model_module_version": "1.2.0",
            "_model_name": "LayoutModel",
            "_view_count": null,
            "_view_module": "@jupyter-widgets/base",
            "_view_module_version": "1.2.0",
            "_view_name": "LayoutView",
            "align_content": null,
            "align_items": null,
            "align_self": null,
            "border": null,
            "bottom": null,
            "display": null,
            "flex": null,
            "flex_flow": null,
            "grid_area": null,
            "grid_auto_columns": null,
            "grid_auto_flow": null,
            "grid_auto_rows": null,
            "grid_column": null,
            "grid_gap": null,
            "grid_row": null,
            "grid_template_areas": null,
            "grid_template_columns": null,
            "grid_template_rows": null,
            "height": null,
            "justify_content": null,
            "justify_items": null,
            "left": null,
            "margin": null,
            "max_height": null,
            "max_width": null,
            "min_height": null,
            "min_width": null,
            "object_fit": null,
            "object_position": null,
            "order": null,
            "overflow": null,
            "overflow_x": null,
            "overflow_y": null,
            "padding": null,
            "right": null,
            "top": null,
            "visibility": null,
            "width": null
          }
        },
        "738f1936e72b43229a693cb085c11bd9": {
          "model_module": "@jupyter-widgets/controls",
          "model_name": "SliderStyleModel",
          "model_module_version": "1.5.0",
          "state": {
            "_model_module": "@jupyter-widgets/controls",
            "_model_module_version": "1.5.0",
            "_model_name": "SliderStyleModel",
            "_view_count": null,
            "_view_module": "@jupyter-widgets/base",
            "_view_module_version": "1.2.0",
            "_view_name": "StyleView",
            "description_width": "",
            "handle_color": null
          }
        },
        "fe62c3ba211b4e2eae82191bc5bb41b1": {
          "model_module": "@jupyter-widgets/base",
          "model_name": "LayoutModel",
          "model_module_version": "1.2.0",
          "state": {
            "_model_module": "@jupyter-widgets/base",
            "_model_module_version": "1.2.0",
            "_model_name": "LayoutModel",
            "_view_count": null,
            "_view_module": "@jupyter-widgets/base",
            "_view_module_version": "1.2.0",
            "_view_name": "LayoutView",
            "align_content": null,
            "align_items": null,
            "align_self": null,
            "border": null,
            "bottom": null,
            "display": null,
            "flex": null,
            "flex_flow": null,
            "grid_area": null,
            "grid_auto_columns": null,
            "grid_auto_flow": null,
            "grid_auto_rows": null,
            "grid_column": null,
            "grid_gap": null,
            "grid_row": null,
            "grid_template_areas": null,
            "grid_template_columns": null,
            "grid_template_rows": null,
            "height": null,
            "justify_content": null,
            "justify_items": null,
            "left": null,
            "margin": null,
            "max_height": null,
            "max_width": null,
            "min_height": null,
            "min_width": null,
            "object_fit": null,
            "object_position": null,
            "order": null,
            "overflow": null,
            "overflow_x": null,
            "overflow_y": null,
            "padding": null,
            "right": null,
            "top": null,
            "visibility": null,
            "width": null
          }
        },
        "886d2cd1df834fdcb469bfa73a430d29": {
          "model_module": "@jupyter-widgets/controls",
          "model_name": "SliderStyleModel",
          "model_module_version": "1.5.0",
          "state": {
            "_model_module": "@jupyter-widgets/controls",
            "_model_module_version": "1.5.0",
            "_model_name": "SliderStyleModel",
            "_view_count": null,
            "_view_module": "@jupyter-widgets/base",
            "_view_module_version": "1.2.0",
            "_view_name": "StyleView",
            "description_width": "",
            "handle_color": null
          }
        },
        "ff43f0d2aaf94082a2e9de85632fedfe": {
          "model_module": "@jupyter-widgets/base",
          "model_name": "LayoutModel",
          "model_module_version": "1.2.0",
          "state": {
            "_model_module": "@jupyter-widgets/base",
            "_model_module_version": "1.2.0",
            "_model_name": "LayoutModel",
            "_view_count": null,
            "_view_module": "@jupyter-widgets/base",
            "_view_module_version": "1.2.0",
            "_view_name": "LayoutView",
            "align_content": null,
            "align_items": null,
            "align_self": null,
            "border": null,
            "bottom": null,
            "display": null,
            "flex": null,
            "flex_flow": null,
            "grid_area": null,
            "grid_auto_columns": null,
            "grid_auto_flow": null,
            "grid_auto_rows": null,
            "grid_column": null,
            "grid_gap": null,
            "grid_row": null,
            "grid_template_areas": null,
            "grid_template_columns": null,
            "grid_template_rows": null,
            "height": null,
            "justify_content": null,
            "justify_items": null,
            "left": null,
            "margin": null,
            "max_height": null,
            "max_width": null,
            "min_height": null,
            "min_width": null,
            "object_fit": null,
            "object_position": null,
            "order": null,
            "overflow": null,
            "overflow_x": null,
            "overflow_y": null,
            "padding": null,
            "right": null,
            "top": null,
            "visibility": null,
            "width": null
          }
        },
        "2164a85910f64b98b8350803bfbe0c23": {
          "model_module": "@jupyter-widgets/controls",
          "model_name": "SliderStyleModel",
          "model_module_version": "1.5.0",
          "state": {
            "_model_module": "@jupyter-widgets/controls",
            "_model_module_version": "1.5.0",
            "_model_name": "SliderStyleModel",
            "_view_count": null,
            "_view_module": "@jupyter-widgets/base",
            "_view_module_version": "1.2.0",
            "_view_name": "StyleView",
            "description_width": "",
            "handle_color": null
          }
        },
        "bb756d8e468a4ce0be41f5cb1c880eea": {
          "model_module": "@jupyter-widgets/base",
          "model_name": "LayoutModel",
          "model_module_version": "1.2.0",
          "state": {
            "_model_module": "@jupyter-widgets/base",
            "_model_module_version": "1.2.0",
            "_model_name": "LayoutModel",
            "_view_count": null,
            "_view_module": "@jupyter-widgets/base",
            "_view_module_version": "1.2.0",
            "_view_name": "LayoutView",
            "align_content": null,
            "align_items": null,
            "align_self": null,
            "border": null,
            "bottom": null,
            "display": null,
            "flex": null,
            "flex_flow": null,
            "grid_area": null,
            "grid_auto_columns": null,
            "grid_auto_flow": null,
            "grid_auto_rows": null,
            "grid_column": null,
            "grid_gap": null,
            "grid_row": null,
            "grid_template_areas": null,
            "grid_template_columns": null,
            "grid_template_rows": null,
            "height": null,
            "justify_content": null,
            "justify_items": null,
            "left": null,
            "margin": null,
            "max_height": null,
            "max_width": null,
            "min_height": null,
            "min_width": null,
            "object_fit": null,
            "object_position": null,
            "order": null,
            "overflow": null,
            "overflow_x": null,
            "overflow_y": null,
            "padding": null,
            "right": null,
            "top": null,
            "visibility": null,
            "width": null
          }
        },
        "8e5e96856e314ad98ef33987c3147778": {
          "model_module": "@jupyter-widgets/controls",
          "model_name": "ButtonStyleModel",
          "model_module_version": "1.5.0",
          "state": {
            "_model_module": "@jupyter-widgets/controls",
            "_model_module_version": "1.5.0",
            "_model_name": "ButtonStyleModel",
            "_view_count": null,
            "_view_module": "@jupyter-widgets/base",
            "_view_module_version": "1.2.0",
            "_view_name": "StyleView",
            "button_color": null,
            "font_weight": ""
          }
        },
        "70d5f75348004cde90153e8961dc2fe1": {
          "model_module": "@jupyter-widgets/base",
          "model_name": "LayoutModel",
          "model_module_version": "1.2.0",
          "state": {
            "_model_module": "@jupyter-widgets/base",
            "_model_module_version": "1.2.0",
            "_model_name": "LayoutModel",
            "_view_count": null,
            "_view_module": "@jupyter-widgets/base",
            "_view_module_version": "1.2.0",
            "_view_name": "LayoutView",
            "align_content": null,
            "align_items": null,
            "align_self": null,
            "border": null,
            "bottom": null,
            "display": null,
            "flex": null,
            "flex_flow": null,
            "grid_area": null,
            "grid_auto_columns": null,
            "grid_auto_flow": null,
            "grid_auto_rows": null,
            "grid_column": null,
            "grid_gap": null,
            "grid_row": null,
            "grid_template_areas": null,
            "grid_template_columns": null,
            "grid_template_rows": null,
            "height": null,
            "justify_content": null,
            "justify_items": null,
            "left": null,
            "margin": null,
            "max_height": null,
            "max_width": null,
            "min_height": null,
            "min_width": null,
            "object_fit": null,
            "object_position": null,
            "order": null,
            "overflow": null,
            "overflow_x": null,
            "overflow_y": null,
            "padding": null,
            "right": null,
            "top": null,
            "visibility": null,
            "width": null
          }
        }
      }
    }
  },
  "cells": [
    {
      "cell_type": "markdown",
      "source": [
        "# Tp2 simulacion"
      ],
      "metadata": {
        "id": "q0_L5nIdB4dN"
      }
    },
    {
      "cell_type": "markdown",
      "source": [
        "# Ejercicio 1\n",
        "\n",
        "### A partir del universo de página webs provistas junto al enunciado, se pide:\n",
        "\n",
        "### ● Calcular el pagerank para cada sitio. (Mostrar la matriz generada)"
      ],
      "metadata": {
        "id": "rqfxbzysB8aX"
      }
    },
    {
      "cell_type": "code",
      "source": [
        "%matplotlib inline\n",
        "%config InlineBackend.figure_format = 'svg'"
      ],
      "metadata": {
        "id": "AE9acs5Gi5Dj"
      },
      "execution_count": null,
      "outputs": []
    },
    {
      "cell_type": "code",
      "source": [
        "!pip install beautifulsoup4 simpy"
      ],
      "metadata": {
        "colab": {
          "base_uri": "https://localhost:8080/"
        },
        "id": "veEEE8mgf-Dp",
        "outputId": "9f88d2f8-248d-4c66-b11b-5fb82190637c"
      },
      "execution_count": null,
      "outputs": [
        {
          "output_type": "stream",
          "name": "stdout",
          "text": [
            "Looking in indexes: https://pypi.org/simple, https://us-python.pkg.dev/colab-wheels/public/simple/\n",
            "Requirement already satisfied: beautifulsoup4 in /usr/local/lib/python3.7/dist-packages (4.6.3)\n",
            "Collecting simpy\n",
            "  Downloading simpy-4.0.1-py2.py3-none-any.whl (29 kB)\n",
            "Installing collected packages: simpy\n",
            "Successfully installed simpy-4.0.1\n"
          ]
        }
      ]
    },
    {
      "cell_type": "code",
      "source": [
        "import numpy as np\n",
        "import sympy\n",
        "\n",
        "import networkx as nx\n",
        "from networkx.drawing.nx_pydot import write_dot\n",
        "from subprocess import check_call\n",
        "\n",
        "import graphviz as gv\n",
        "\n",
        "import matplotlib.pyplot as plt\n",
        "import matplotlib.image as mpimg\n",
        "import seaborn as sns\n",
        "\n",
        "from bs4 import BeautifulSoup"
      ],
      "metadata": {
        "id": "xFgsh6GSK3cr"
      },
      "execution_count": null,
      "outputs": []
    },
    {
      "cell_type": "code",
      "source": [
        "from google.colab import drive\n",
        "drive.mount('/content/drive')"
      ],
      "metadata": {
        "colab": {
          "base_uri": "https://localhost:8080/"
        },
        "id": "0bKXUesvds_a",
        "outputId": "1c7c48ae-03cf-455a-a7b5-369eff542ff6"
      },
      "execution_count": null,
      "outputs": [
        {
          "output_type": "stream",
          "name": "stdout",
          "text": [
            "Drive already mounted at /content/drive; to attempt to forcibly remount, call drive.mount(\"/content/drive\", force_remount=True).\n"
          ]
        }
      ]
    },
    {
      "cell_type": "code",
      "source": [
        "archivos = (\n",
        "        'angelinajolie.html', \n",
        "        'bradpitt.html',\n",
        "        'jenniferaniston.html', \n",
        "        'jonvoight.html',\n",
        "        'martinscorcese.html', \n",
        "        'robertdeniro.html',\n",
        "    ) #esta ordenada\n",
        "\n",
        "sitios = [\"http://\" + x for x in archivos] #tambien ordenada por extension"
      ],
      "metadata": {
        "id": "4OO3j-eze3JX"
      },
      "execution_count": null,
      "outputs": []
    },
    {
      "cell_type": "code",
      "source": [
        "html = {}\n",
        "for name in archivos:\n",
        "    with open(\"/content/drive/MyDrive/Tp2/paginas/\" + name) as f:\n",
        "        bs = BeautifulSoup(f.read())\n",
        "        html[f\"http://{name}\"] = bs"
      ],
      "metadata": {
        "id": "0c96nTK1fAhU"
      },
      "execution_count": null,
      "outputs": []
    },
    {
      "cell_type": "code",
      "source": [
        "matriz_probabilidades = []\n",
        "for sitio in sitios: #se recorren en orden alfabetico\n",
        "    frecuencias = {s : 0 for s in sitios}\n",
        "    refs = html[sitio].find_all('a', href=True)\n",
        "\n",
        "    # calculamos la frecuencia de cada href en la pagina\n",
        "    for r in refs:\n",
        "        # asumimos que no hay otros href en las paginas \n",
        "        # que no sean las listadas en `sitios`\n",
        "        frecuencias[r['href']] += 1\n",
        "    \n",
        "    if not refs:\n",
        "        # 1/len(sitios) o 1/(len(sitios) - 1) solo para los otros sitios?\n",
        "        probabilidades = [1/len(sitios) for url in sitios]\n",
        "    else:\n",
        "        probabilidades = [0]*len(sitios)\n",
        "        for r in refs:\n",
        "            href = r['href']\n",
        "            probabilidades[sitios.index(href)] = frecuencias[href]/len(refs)\n",
        "\n",
        "    matriz_probabilidades.append(probabilidades)"
      ],
      "metadata": {
        "id": "1vDU3-UBBE6V"
      },
      "execution_count": null,
      "outputs": []
    },
    {
      "cell_type": "code",
      "source": [
        "for f in matriz_probabilidades:\n",
        "    print(f)"
      ],
      "metadata": {
        "colab": {
          "base_uri": "https://localhost:8080/"
        },
        "id": "g3gzhveZDiYu",
        "outputId": "e26287a1-b946-45ab-f6b3-d1c835f366a0"
      },
      "execution_count": null,
      "outputs": [
        {
          "output_type": "stream",
          "name": "stdout",
          "text": [
            "[0, 0.5, 0, 0.5, 0, 0]\n",
            "[0.5, 0, 0.25, 0, 0.25, 0]\n",
            "[0.16666666666666666, 0.16666666666666666, 0.16666666666666666, 0.16666666666666666, 0.16666666666666666, 0.16666666666666666]\n",
            "[0.6666666666666666, 0.3333333333333333, 0, 0, 0, 0]\n",
            "[0.16666666666666666, 0.16666666666666666, 0.16666666666666666, 0.16666666666666666, 0.16666666666666666, 0.16666666666666666]\n",
            "[0, 0, 0, 0, 1.0, 0]\n"
          ]
        }
      ]
    },
    {
      "cell_type": "code",
      "source": [
        "# Armo la matriz de transiciones \n",
        "#Estado 0: Angelina jolie\n",
        "#Estado 1: Brad Pitt\n",
        "#Estado 2: Jennifer Aniston\n",
        "#Estado 3: Jon Voight\n",
        "#Estado 4: Martin Scorcese\n",
        "#Estado 5: Robert De Niro\n",
        "\n",
        "# P_matrix = [ [0  , 1/2, 0  , 1/2, 0  , 0  ],\n",
        "#              [1/2, 0  , 1/4, 0  , 1/4, 0  ],\n",
        "#              [1/6, 1/6, 1/6, 1/6, 1/6, 1/6],\n",
        "#              [2/3, 1/3, 0  , 0  , 0  , 0  ],\n",
        "#              [1/6, 1/6, 1/6, 1/6, 1/6, 1/6],\n",
        "#              [0  , 0  , 0  , 0  , 1  , 0  ],\n",
        "#     ]\n",
        "\n",
        "P_matrix = matriz_probabilidades\n",
        "\n",
        "P = np.array(P_matrix)"
      ],
      "metadata": {
        "id": "YGOAJWT8B7ij"
      },
      "execution_count": null,
      "outputs": []
    },
    {
      "cell_type": "code",
      "source": [
        "_mp = sympy.Matrix(P).applyfunc(lambda x: sympy.Symbol(f'{x:.2f}'))\n",
        "_mp"
      ],
      "metadata": {
        "colab": {
          "base_uri": "https://localhost:8080/",
          "height": 139
        },
        "id": "LON-V2ekhFvn",
        "outputId": "28e0769c-fbd9-47fd-fe1d-d3e34a3288ae"
      },
      "execution_count": null,
      "outputs": [
        {
          "output_type": "execute_result",
          "data": {
            "text/plain": [
              "Matrix([\n",
              "[0.000, 0.500, 0.000, 0.500, 0.000, 0.000],\n",
              "[0.500, 0.000, 0.250, 0.000, 0.250, 0.000],\n",
              "[0.167, 0.167, 0.167, 0.167, 0.167, 0.167],\n",
              "[0.667, 0.333, 0.000, 0.000, 0.000, 0.000],\n",
              "[0.167, 0.167, 0.167, 0.167, 0.167, 0.167],\n",
              "[0.000, 0.000, 0.000, 0.000, 1.000, 0.000]])"
            ],
            "text/latex": "$\\displaystyle \\left[\\begin{matrix}0.000 & 0.500 & 0.000 & 0.500 & 0.000 & 0.000\\\\0.500 & 0.000 & 0.250 & 0.000 & 0.250 & 0.000\\\\0.167 & 0.167 & 0.167 & 0.167 & 0.167 & 0.167\\\\0.667 & 0.333 & 0.000 & 0.000 & 0.000 & 0.000\\\\0.167 & 0.167 & 0.167 & 0.167 & 0.167 & 0.167\\\\0.000 & 0.000 & 0.000 & 0.000 & 1.000 & 0.000\\end{matrix}\\right]$"
          },
          "metadata": {},
          "execution_count": 164
        }
      ]
    },
    {
      "cell_type": "markdown",
      "source": [
        "Dibujamos la matriz"
      ],
      "metadata": {
        "id": "1RqOhPbYYyT7"
      }
    },
    {
      "cell_type": "code",
      "source": [
        "g_ej1 = nx.MultiDiGraph()\n",
        "\n",
        "for i in range(0,len(P_matrix)):    \n",
        "    for j in range(0,len(P_matrix)):\n",
        "        prob = P_matrix[i][j]\n",
        "        if prob > 0:\n",
        "            g_ej1.add_edge(i, j, weight=prob, label=\"{:.02f}\".format(prob))"
      ],
      "metadata": {
        "id": "B6sYjjucY1QB"
      },
      "execution_count": null,
      "outputs": []
    },
    {
      "cell_type": "code",
      "source": [
        "%config InlineBackend.figure_format = 'png'"
      ],
      "metadata": {
        "id": "9vFA9PDGug0A"
      },
      "execution_count": null,
      "outputs": []
    },
    {
      "cell_type": "code",
      "source": [
        "ax = plt.subplot(111)\n",
        "\n",
        "pos=nx.circular_layout(g_ej1)\n",
        "nx.draw_networkx(g_ej1, pos, with_labels=True)\n",
        "labels = nx.get_edge_attributes(g_ej1,'weight')\n",
        "\n",
        "#por algun motivo la tupla del nodo tiene 3 componentes ¯\\_(ツ)_/¯\n",
        "labels = {key[:2] : round(v,2) for key, v in labels.items()}\n",
        "\n",
        "#nx.draw_networkx_edge_labels(g_ej1, pos, edge_labels=labels)\n",
        "nx.draw_networkx(g_ej1, pos)"
      ],
      "metadata": {
        "colab": {
          "base_uri": "https://localhost:8080/",
          "height": 248
        },
        "id": "ZyI3zySGWIM_",
        "outputId": "cf94a89b-4c0e-40a8-deea-601c4fb291ef"
      },
      "execution_count": null,
      "outputs": [
        {
          "output_type": "display_data",
          "data": {
            "text/plain": [
              "<Figure size 432x288 with 1 Axes>"
            ],
            "image/png": "[encoded data removed]"
          },
          "metadata": {}
        }
      ]
    },
    {
      "cell_type": "code",
      "source": [
        "write_dot(g_ej1, 'ej1.dot')\n",
        "\n",
        "#nfile = 'ej1.png' \n",
        "#check_call(['dot', '-Tpng', 'ej1.dot', '-o', nfile])\n",
        "\n",
        "\n",
        "#img = mpimg.imread(nfile)\n",
        "#plt.axis('off')\n",
        "#plt.imshow(img)\n",
        "#plt.show()\n",
        "\n",
        "gv.Source.from_file('ej1.dot', format='png')"
      ],
      "metadata": {
        "colab": {
          "base_uri": "https://localhost:8080/",
          "height": 543
        },
        "id": "yrdZx6sQWDW-",
        "outputId": "0354369c-f376-443d-db1b-6cb46c0cbc7c"
      },
      "execution_count": null,
      "outputs": [
        {
          "output_type": "execute_result",
          "data": {
            "text/plain": [
              "<graphviz.files.Source at 0x7f7c5323c8d0>"
            ],
            "image/svg+xml": "<?xml version=\"1.0\" encoding=\"UTF-8\" standalone=\"no\"?>\n<!DOCTYPE svg PUBLIC \"-//W3C//DTD SVG 1.1//EN\"\n \"http://www.w3.org/Graphics/SVG/1.1/DTD/svg11.dtd\">\n<!-- Generated by graphviz version 2.40.1 (20161225.0304)\n -->\n<!-- Title: %3 Pages: 1 -->\n<svg width=\"442pt\" height=\"392pt\"\n viewBox=\"0.00 0.00 442.43 392.00\" xmlns=\"http://www.w3.org/2000/svg\" xmlns:xlink=\"http://www.w3.org/1999/xlink\">\n<g id=\"graph0\" class=\"graph\" transform=\"scale(1 1) rotate(0) translate(4 388)\">\n<title>%3</title>\n<polygon fill=\"#ffffff\" stroke=\"transparent\" points=\"-4,4 -4,-388 438.4324,-388 438.4324,4 -4,4\"/>\n<!-- 0 -->\n<g id=\"node1\" class=\"node\">\n<title>0</title>\n<ellipse fill=\"none\" stroke=\"#000000\" cx=\"57.4324\" cy=\"-366\" rx=\"27\" ry=\"18\"/>\n<text text-anchor=\"middle\" x=\"57.4324\" y=\"-362.3\" font-family=\"Times,serif\" font-size=\"14.00\" fill=\"#000000\">0</text>\n</g>\n<!-- 1 -->\n<g id=\"node2\" class=\"node\">\n<title>1</title>\n<ellipse fill=\"none\" stroke=\"#000000\" cx=\"133.4324\" cy=\"-279\" rx=\"27\" ry=\"18\"/>\n<text text-anchor=\"middle\" x=\"133.4324\" y=\"-275.3\" font-family=\"Times,serif\" font-size=\"14.00\" fill=\"#000000\">1</text>\n</g>\n<!-- 0&#45;&gt;1 -->\n<g id=\"edge1\" class=\"edge\">\n<title>0&#45;&gt;1</title>\n<path fill=\"none\" stroke=\"#000000\" d=\"M71.372,-350.0429C83.0145,-336.7152 99.776,-317.5278 112.9454,-302.4522\"/>\n<polygon fill=\"#000000\" stroke=\"#000000\" points=\"115.8939,-304.397 119.8369,-294.5633 110.6221,-299.7918 115.8939,-304.397\"/>\n<text text-anchor=\"middle\" x=\"112.9324\" y=\"-318.8\" font-family=\"Times,serif\" font-size=\"14.00\" fill=\"#000000\">0.50</text>\n</g>\n<!-- 3 -->\n<g id=\"node3\" class=\"node\">\n<title>3</title>\n<ellipse fill=\"none\" stroke=\"#000000\" cx=\"276.4324\" cy=\"-18\" rx=\"27\" ry=\"18\"/>\n<text text-anchor=\"middle\" x=\"276.4324\" y=\"-14.3\" font-family=\"Times,serif\" font-size=\"14.00\" fill=\"#000000\">3</text>\n</g>\n<!-- 0&#45;&gt;3 -->\n<g id=\"edge2\" class=\"edge\">\n<title>0&#45;&gt;3</title>\n<path fill=\"none\" stroke=\"#000000\" d=\"M48.3595,-348.833C25.3916,-302.8004 -29.7113,-174.206 21.4324,-87 43.5204,-49.3376 173.8098,-29.5296 239.1324,-21.8512\"/>\n<polygon fill=\"#000000\" stroke=\"#000000\" points=\"239.8685,-25.2901 249.4081,-20.6806 239.0762,-18.335 239.8685,-25.2901\"/>\n<text text-anchor=\"middle\" x=\"16.9324\" y=\"-188.3\" font-family=\"Times,serif\" font-size=\"14.00\" fill=\"#000000\">0.50</text>\n</g>\n<!-- 1&#45;&gt;0 -->\n<g id=\"edge3\" class=\"edge\">\n<title>1&#45;&gt;0</title>\n<path fill=\"none\" stroke=\"#000000\" d=\"M136.5997,-296.9195C137.4802,-307.3901 136.8062,-320.3915 130.4324,-330 121.7375,-343.1078 106.8022,-351.6229 92.6974,-357.0612\"/>\n<polygon fill=\"#000000\" stroke=\"#000000\" points=\"91.4645,-353.784 83.152,-360.3531 93.7468,-360.4015 91.4645,-353.784\"/>\n<text text-anchor=\"middle\" x=\"148.9324\" y=\"-318.8\" font-family=\"Times,serif\" font-size=\"14.00\" fill=\"#000000\">0.50</text>\n</g>\n<!-- 2 -->\n<g id=\"node4\" class=\"node\">\n<title>2</title>\n<ellipse fill=\"none\" stroke=\"#000000\" cx=\"128.4324\" cy=\"-105\" rx=\"27\" ry=\"18\"/>\n<text text-anchor=\"middle\" x=\"128.4324\" y=\"-101.3\" font-family=\"Times,serif\" font-size=\"14.00\" fill=\"#000000\">2</text>\n</g>\n<!-- 1&#45;&gt;2 -->\n<g id=\"edge4\" class=\"edge\">\n<title>1&#45;&gt;2</title>\n<path fill=\"none\" stroke=\"#000000\" d=\"M140.3457,-261.4615C145.3779,-247.7099 151.7601,-227.9587 154.4324,-210 156.7874,-194.1743 158.1085,-189.572 154.4324,-174 152.3775,-165.295 148.8553,-164.2634 145.4324,-156 142.3034,-148.4457 139.325,-140.089 136.7606,-132.3637\"/>\n<polygon fill=\"#000000\" stroke=\"#000000\" points=\"140.0439,-131.1407 133.6502,-122.6926 133.3801,-133.284 140.0439,-131.1407\"/>\n<text text-anchor=\"middle\" x=\"169.9324\" y=\"-188.3\" font-family=\"Times,serif\" font-size=\"14.00\" fill=\"#000000\">0.25</text>\n</g>\n<!-- 4 -->\n<g id=\"node5\" class=\"node\">\n<title>4</title>\n<ellipse fill=\"none\" stroke=\"#000000\" cx=\"362.4324\" cy=\"-192\" rx=\"27\" ry=\"18\"/>\n<text text-anchor=\"middle\" x=\"362.4324\" y=\"-188.3\" font-family=\"Times,serif\" font-size=\"14.00\" fill=\"#000000\">4</text>\n</g>\n<!-- 1&#45;&gt;4 -->\n<g id=\"edge5\" class=\"edge\">\n<title>1&#45;&gt;4</title>\n<path fill=\"none\" stroke=\"#000000\" d=\"M158.5235,-271.8581C180.4939,-265.2995 213.0886,-254.8254 240.4324,-243 253.3903,-237.3961 255.4826,-233.6223 268.4324,-228 291.2516,-218.0928 298.2439,-219.0085 321.4324,-210 324.4759,-208.8177 327.6242,-207.5388 330.7612,-206.2269\"/>\n<polygon fill=\"#000000\" stroke=\"#000000\" points=\"332.2106,-209.4136 340.0215,-202.2555 329.4515,-202.9803 332.2106,-209.4136\"/>\n<text text-anchor=\"middle\" x=\"281.9324\" y=\"-231.8\" font-family=\"Times,serif\" font-size=\"14.00\" fill=\"#000000\">0.25</text>\n</g>\n<!-- 3&#45;&gt;0 -->\n<g id=\"edge6\" class=\"edge\">\n<title>3&#45;&gt;0</title>\n<path fill=\"none\" stroke=\"#000000\" d=\"M249.965,-21.757C209.743,-27.8065 135.4684,-40.4113 112.4324,-54 95.6152,-63.9204 91.1607,-69.0693 83.4324,-87 46.6709,-172.2926 50.2805,-285.5428 54.4916,-337.6113\"/>\n<polygon fill=\"#000000\" stroke=\"#000000\" points=\"51.0216,-338.1068 55.3851,-347.7614 57.9947,-337.493 51.0216,-338.1068\"/>\n<text text-anchor=\"middle\" x=\"71.9324\" y=\"-188.3\" font-family=\"Times,serif\" font-size=\"14.00\" fill=\"#000000\">0.67</text>\n</g>\n<!-- 3&#45;&gt;1 -->\n<g id=\"edge7\" class=\"edge\">\n<title>3&#45;&gt;1</title>\n<path fill=\"none\" stroke=\"#000000\" d=\"M250.8206,-23.82C204.7702,-34.8597 111.0392,-60.1504 92.4324,-87 83.3189,-100.1508 89.3274,-107.3042 92.4324,-123 97.1896,-147.047 106.4366,-150.5064 113.4324,-174 121.0438,-199.5606 126.4125,-229.5147 129.6578,-250.8733\"/>\n<polygon fill=\"#000000\" stroke=\"#000000\" points=\"126.2136,-251.5106 131.1214,-260.9002 133.1402,-250.4995 126.2136,-251.5106\"/>\n<text text-anchor=\"middle\" x=\"118.9324\" y=\"-144.8\" font-family=\"Times,serif\" font-size=\"14.00\" fill=\"#000000\">0.33</text>\n</g>\n<!-- 2&#45;&gt;0 -->\n<g id=\"edge8\" class=\"edge\">\n<title>2&#45;&gt;0</title>\n<path fill=\"none\" stroke=\"#000000\" d=\"M142.3492,-120.7131C159.4152,-140.0636 186.245,-170.7841 187.4324,-174 211.6652,-239.6277 212.1676,-277.0612 166.4324,-330 156.6855,-341.2822 121.0969,-351.674 93.2038,-358.3622\"/>\n<polygon fill=\"#000000\" stroke=\"#000000\" points=\"92.2866,-354.9819 83.3376,-360.6534 93.8702,-361.8005 92.2866,-354.9819\"/>\n<text text-anchor=\"middle\" x=\"216.9324\" y=\"-231.8\" font-family=\"Times,serif\" font-size=\"14.00\" fill=\"#000000\">0.17</text>\n</g>\n<!-- 2&#45;&gt;1 -->\n<g id=\"edge9\" class=\"edge\">\n<title>2&#45;&gt;1</title>\n<path fill=\"none\" stroke=\"#000000\" d=\"M147.6939,-117.7103C156.095,-123.9684 165.5708,-132.0827 172.4324,-141 197.6519,-173.775 198.8081,-187.1792 205.4324,-228 206.5003,-234.5806 208.9373,-237.329 205.4324,-243 197.3917,-256.0102 183.0678,-264.4758 169.3021,-269.9048\"/>\n<polygon fill=\"#000000\" stroke=\"#000000\" points=\"167.7583,-266.7369 159.4751,-273.3429 170.0699,-273.3442 167.7583,-266.7369\"/>\n<text text-anchor=\"middle\" x=\"215.9324\" y=\"-188.3\" font-family=\"Times,serif\" font-size=\"14.00\" fill=\"#000000\">0.17</text>\n</g>\n<!-- 2&#45;&gt;3 -->\n<g id=\"edge11\" class=\"edge\">\n<title>2&#45;&gt;3</title>\n<path fill=\"none\" stroke=\"#000000\" d=\"M148.5582,-92.9941C165.9673,-82.6258 191.826,-67.2659 214.4324,-54 225.1431,-47.7148 236.9227,-40.8605 247.311,-34.8354\"/>\n<polygon fill=\"#000000\" stroke=\"#000000\" points=\"249.1223,-37.831 256.0202,-29.7892 245.613,-31.7742 249.1223,-37.831\"/>\n<text text-anchor=\"middle\" x=\"227.9324\" y=\"-57.8\" font-family=\"Times,serif\" font-size=\"14.00\" fill=\"#000000\">0.17</text>\n</g>\n<!-- 2&#45;&gt;2 -->\n<g id=\"edge10\" class=\"edge\">\n<title>2&#45;&gt;2</title>\n<path fill=\"none\" stroke=\"#000000\" d=\"M152.9649,-112.752C163.9403,-113.4902 173.4324,-110.9063 173.4324,-105 173.4324,-101.0317 169.1475,-98.5632 163.0068,-97.5944\"/>\n<polygon fill=\"#000000\" stroke=\"#000000\" points=\"163.0796,-94.0949 152.9649,-97.248 162.8383,-101.0908 163.0796,-94.0949\"/>\n<text text-anchor=\"middle\" x=\"186.9324\" y=\"-101.3\" font-family=\"Times,serif\" font-size=\"14.00\" fill=\"#000000\">0.17</text>\n</g>\n<!-- 2&#45;&gt;4 -->\n<g id=\"edge12\" class=\"edge\">\n<title>2&#45;&gt;4</title>\n<path fill=\"none\" stroke=\"#000000\" d=\"M154.4946,-110.5356C179.3432,-116.3374 217.4596,-126.6194 248.4324,-141 259.5016,-146.1394 260.5064,-150.5631 271.4324,-156 292.5776,-166.5219 299.4956,-165.2477 321.4324,-174 324.465,-175.2099 327.6061,-176.5073 330.7384,-177.8309\"/>\n<polygon fill=\"#000000\" stroke=\"#000000\" points=\"329.4234,-181.0754 339.9921,-181.8192 332.194,-174.647 329.4234,-181.0754\"/>\n<text text-anchor=\"middle\" x=\"284.9324\" y=\"-144.8\" font-family=\"Times,serif\" font-size=\"14.00\" fill=\"#000000\">0.17</text>\n</g>\n<!-- 5 -->\n<g id=\"node6\" class=\"node\">\n<title>5</title>\n<ellipse fill=\"none\" stroke=\"#000000\" cx=\"362.4324\" cy=\"-18\" rx=\"27\" ry=\"18\"/>\n<text text-anchor=\"middle\" x=\"362.4324\" y=\"-14.3\" font-family=\"Times,serif\" font-size=\"14.00\" fill=\"#000000\">5</text>\n</g>\n<!-- 2&#45;&gt;5 -->\n<g id=\"edge13\" class=\"edge\">\n<title>2&#45;&gt;5</title>\n<path fill=\"none\" stroke=\"#000000\" d=\"M153.812,-98.0841C177.6977,-91.3659 214.3436,-80.5171 245.4324,-69 275.0173,-58.0401 307.8857,-43.4953 331.2334,-32.7437\"/>\n<polygon fill=\"#000000\" stroke=\"#000000\" points=\"332.7088,-35.9175 340.3081,-28.535 329.7636,-29.5672 332.7088,-35.9175\"/>\n<text text-anchor=\"middle\" x=\"293.9324\" y=\"-57.8\" font-family=\"Times,serif\" font-size=\"14.00\" fill=\"#000000\">0.17</text>\n</g>\n<!-- 4&#45;&gt;0 -->\n<g id=\"edge14\" class=\"edge\">\n<title>4&#45;&gt;0</title>\n<path fill=\"none\" stroke=\"#000000\" d=\"M359.7317,-210.3391C357.4982,-220.7021 353.4982,-233.4521 346.4324,-243 305.733,-297.9968 282.1902,-302.7502 219.4324,-330 178.6548,-347.7059 128.1802,-357.1463 94.5123,-361.8526\"/>\n<polygon fill=\"#000000\" stroke=\"#000000\" points=\"93.6587,-358.4351 84.2053,-363.2188 94.5786,-365.3744 93.6587,-358.4351\"/>\n<text text-anchor=\"middle\" x=\"344.9324\" y=\"-275.3\" font-family=\"Times,serif\" font-size=\"14.00\" fill=\"#000000\">0.17</text>\n</g>\n<!-- 4&#45;&gt;1 -->\n<g id=\"edge15\" class=\"edge\">\n<title>4&#45;&gt;1</title>\n<path fill=\"none\" stroke=\"#000000\" d=\"M345.4046,-206.3097C329.2663,-219.6178 305.9735,-238.1062 295.4324,-243 255.1103,-261.7199 204.5421,-270.952 170.728,-275.3327\"/>\n<polygon fill=\"#000000\" stroke=\"#000000\" points=\"169.8773,-271.9102 160.3723,-276.5905 170.7213,-278.8592 169.8773,-271.9102\"/>\n<text text-anchor=\"middle\" x=\"329.9324\" y=\"-231.8\" font-family=\"Times,serif\" font-size=\"14.00\" fill=\"#000000\">0.17</text>\n</g>\n<!-- 4&#45;&gt;3 -->\n<g id=\"edge17\" class=\"edge\">\n<title>4&#45;&gt;3</title>\n<path fill=\"none\" stroke=\"#000000\" d=\"M344.7793,-178.0203C320.7719,-158.9338 280.5458,-126.6559 278.4324,-123 264.9624,-99.6982 266.3622,-68.3556 269.9616,-45.9939\"/>\n<polygon fill=\"#000000\" stroke=\"#000000\" points=\"273.4121,-46.5823 271.787,-36.1129 266.5285,-45.3107 273.4121,-46.5823\"/>\n<text text-anchor=\"middle\" x=\"291.9324\" y=\"-101.3\" font-family=\"Times,serif\" font-size=\"14.00\" fill=\"#000000\">0.17</text>\n</g>\n<!-- 4&#45;&gt;2 -->\n<g id=\"edge16\" class=\"edge\">\n<title>4&#45;&gt;2</title>\n<path fill=\"none\" stroke=\"#000000\" d=\"M340.6734,-181.2799C334.5614,-178.5919 327.8339,-175.928 321.4324,-174 276.5159,-160.4723 260.2681,-175.1207 217.4324,-156 207.6079,-151.6146 207.4807,-146.8208 198.4324,-141 186.2516,-133.1641 172.1588,-125.6461 159.8248,-119.5257\"/>\n<polygon fill=\"#000000\" stroke=\"#000000\" points=\"161.3203,-116.3611 150.7966,-115.1358 158.2593,-122.6564 161.3203,-116.3611\"/>\n<text text-anchor=\"middle\" x=\"230.9324\" y=\"-144.8\" font-family=\"Times,serif\" font-size=\"14.00\" fill=\"#000000\">0.17</text>\n</g>\n<!-- 4&#45;&gt;4 -->\n<g id=\"edge18\" class=\"edge\">\n<title>4&#45;&gt;4</title>\n<path fill=\"none\" stroke=\"#000000\" d=\"M386.9649,-199.752C397.9403,-200.4902 407.4324,-197.9063 407.4324,-192 407.4324,-188.0317 403.1475,-185.5632 397.0068,-184.5944\"/>\n<polygon fill=\"#000000\" stroke=\"#000000\" points=\"397.0796,-181.0949 386.9649,-184.248 396.8383,-188.0908 397.0796,-181.0949\"/>\n<text text-anchor=\"middle\" x=\"420.9324\" y=\"-188.3\" font-family=\"Times,serif\" font-size=\"14.00\" fill=\"#000000\">0.17</text>\n</g>\n<!-- 4&#45;&gt;5 -->\n<g id=\"edge19\" class=\"edge\">\n<title>4&#45;&gt;5</title>\n<path fill=\"none\" stroke=\"#000000\" d=\"M350.2007,-175.8852C336.3153,-157.4246 315.3299,-128.949 313.4324,-123 308.5705,-107.7566 308.5705,-102.2434 313.4324,-87 318.8894,-69.8911 330.3053,-53.3904 340.7462,-40.8173\"/>\n<polygon fill=\"#000000\" stroke=\"#000000\" points=\"343.4842,-43.0022 347.394,-33.1551 338.1969,-38.4147 343.4842,-43.0022\"/>\n<text text-anchor=\"middle\" x=\"326.9324\" y=\"-101.3\" font-family=\"Times,serif\" font-size=\"14.00\" fill=\"#000000\">0.17</text>\n</g>\n<!-- 5&#45;&gt;4 -->\n<g id=\"edge20\" class=\"edge\">\n<title>5&#45;&gt;4</title>\n<path fill=\"none\" stroke=\"#000000\" d=\"M362.4324,-36.0471C362.4324,-66.2455 362.4324,-127.2509 362.4324,-163.3619\"/>\n<polygon fill=\"#000000\" stroke=\"#000000\" points=\"358.9325,-163.7078 362.4324,-173.7078 365.9325,-163.7079 358.9325,-163.7078\"/>\n<text text-anchor=\"middle\" x=\"375.9324\" y=\"-101.3\" font-family=\"Times,serif\" font-size=\"14.00\" fill=\"#000000\">1.00</text>\n</g>\n</g>\n</svg>\n"
          },
          "metadata": {},
          "execution_count": 163
        }
      ]
    },
    {
      "cell_type": "markdown",
      "source": [
        "Resuelvo el sistema estacionario para hallar el vector de probabilidad de estados asintoticos PI."
      ],
      "metadata": {
        "id": "VJrNZLqMK77c"
      }
    },
    {
      "cell_type": "markdown",
      "source": [
        "Siendo $P$ la matriz de transiciones de la cadena de Markov y $\\pi = [\\pi_1, \\pi_2, \\dots \\pi_6]$ el vector de las probabilidades asintóticas, partimos de la condicion $\\mathbf{\\pi} P = P$ teniendo en cuenta que las componentes $\\pi_{i}$ de $\\pi$ cumplen $\\sum_{i=1}^{6} \\pi_i = 1$\n",
        "$$\\begin{align}\n",
        "\\pi P = \\pi \\\\\n",
        "\\pi P - \\pi = 0 \\\\\n",
        "\\pi (P - I) = 0\n",
        "\\end{align}$$\n",
        "Incluyendo la condicion $\\sum_{i=1}^{6} \\pi_i = 1$ en la ecuacion equivale a agregar una columna de 1s a la matriz $P - I$ e igualar la ecuacion al vector de 0s con un 1 an la última posición. Llamamos a la nueva matriz \"$Q$\":\n",
        "$$\\begin{align}\n",
        "\\pi (P - I) = 0 \\\\\n",
        "\\pi Q = [0\\ 0\\ 0\\ 0\\ 0\\ 0\\ 1] = b \\\\\n",
        "Q^T \\pi^T = b^T \\\\\n",
        "Q Q^T \\pi^T = Q b^T\n",
        "\\end{align}$$\n",
        "donde en los ultimos 2 pasos pasamos el sistema a la forma que espera el solver de numpy, teniendo en cuenta que el vector $Q b^T$ es simplemente un vector de 1s $\\begin{bmatrix} 1 \\\\ 1 \\\\ \\vdots \\\\ 1 \\end{bmatrix}$ de longitud 6"
      ],
      "metadata": {
        "id": "IOYUyg-32oJe"
      }
    },
    {
      "cell_type": "code",
      "source": [
        "A = (P - np.eye(6))\n",
        "ones = np.ones(A.shape[0])\n",
        "A = np.c_[A,ones] # concatena la matriz A con el vector columna de 1s\n",
        "\n",
        "aat = A @ A.T\n",
        "b = ones\n",
        "PI = np.linalg.solve(aat,b)\n",
        "PI"
      ],
      "metadata": {
        "colab": {
          "base_uri": "https://localhost:8080/"
        },
        "id": "K_bnZ-EMvZAe",
        "outputId": "1364d031-940f-4833-a5ec-3fbbaa1f7de6"
      },
      "execution_count": null,
      "outputs": [
        {
          "output_type": "execute_result",
          "data": {
            "text/plain": [
              "array([0.28571429, 0.24489796, 0.10204082, 0.18367347, 0.14285714,\n",
              "       0.04081633])"
            ]
          },
          "metadata": {},
          "execution_count": 149
        }
      ]
    },
    {
      "cell_type": "code",
      "source": [
        "# Verifico que el vector de probas de estados asintoticos sume 1 \n",
        "print(sum(PI))"
      ],
      "metadata": {
        "colab": {
          "base_uri": "https://localhost:8080/"
        },
        "id": "cOQCbo7WPQiL",
        "outputId": "0abc3e64-76f0-46f3-ea2f-139962cbecb1"
      },
      "execution_count": null,
      "outputs": [
        {
          "output_type": "stream",
          "name": "stdout",
          "text": [
            "1.0\n"
          ]
        }
      ]
    },
    {
      "cell_type": "markdown",
      "source": [
        "Si elevo P a un numero grande (100 por ejemplo) deberia llegar a lo mismo\n",
        "(Ver el tema de los decimales)"
      ],
      "metadata": {
        "id": "nXqmKfZxM6T3"
      }
    },
    {
      "cell_type": "code",
      "source": [
        "result = np.linalg.matrix_power(P, 100)\n",
        "#print(result)\n",
        "x = sympy.Matrix(result).applyfunc(lambda x: sympy.Symbol(f'{x:.3f}'))\n",
        "x"
      ],
      "metadata": {
        "colab": {
          "base_uri": "https://localhost:8080/",
          "height": 139
        },
        "id": "B0Q34V_ILwlX",
        "outputId": "fd83be71-7df7-4f84-922a-4e1a0d5cbcae"
      },
      "execution_count": null,
      "outputs": [
        {
          "output_type": "execute_result",
          "data": {
            "text/plain": [
              "Matrix([\n",
              "[0.286, 0.245, 0.102, 0.184, 0.143, 0.041],\n",
              "[0.286, 0.245, 0.102, 0.184, 0.143, 0.041],\n",
              "[0.286, 0.245, 0.102, 0.184, 0.143, 0.041],\n",
              "[0.286, 0.245, 0.102, 0.184, 0.143, 0.041],\n",
              "[0.286, 0.245, 0.102, 0.184, 0.143, 0.041],\n",
              "[0.286, 0.245, 0.102, 0.184, 0.143, 0.041]])"
            ],
            "text/latex": "$\\displaystyle \\left[\\begin{matrix}0.286 & 0.245 & 0.102 & 0.184 & 0.143 & 0.041\\\\0.286 & 0.245 & 0.102 & 0.184 & 0.143 & 0.041\\\\0.286 & 0.245 & 0.102 & 0.184 & 0.143 & 0.041\\\\0.286 & 0.245 & 0.102 & 0.184 & 0.143 & 0.041\\\\0.286 & 0.245 & 0.102 & 0.184 & 0.143 & 0.041\\\\0.286 & 0.245 & 0.102 & 0.184 & 0.143 & 0.041\\end{matrix}\\right]$"
          },
          "metadata": {},
          "execution_count": 174
        }
      ]
    },
    {
      "cell_type": "markdown",
      "source": [
        "### ● Simular 20 búsquedas de palabras elegidas al azar dentro de las existentes en los textos de las páginas, y mostrar las mismas en función de la importancia asignada a cada sitio."
      ],
      "metadata": {
        "id": "Mjs-gtr4OhIZ"
      }
    },
    {
      "cell_type": "markdown",
      "source": [
        "Elegimos 20 palabras de entre todos los textos: pronombres, cadenas léxicas del mundo del espectáculo o simplemente palabras comunes en textos biográficos  \n",
        "En órden alfabético:  \n",
        "* Academy\n",
        "* Acting\n",
        "* Action\n",
        "* Actor\n",
        "* Actress\n",
        "* Award\n",
        "* Born\n",
        "* Bull\n",
        "* Cinema\n",
        "* Comedy\n",
        "* Director\n",
        "* Film\n",
        "* He\n",
        "* Hollywood\n",
        "* Performance\n",
        "* Picture\n",
        "* Role\n",
        "* Screen\n",
        "* She\n",
        "* Television"
      ],
      "metadata": {
        "id": "C9t7uYV2P3mY"
      }
    },
    {
      "cell_type": "code",
      "source": [
        "palabras = [\n",
        "    'Academy',\n",
        "    'Acting',\n",
        "    'Action',\n",
        "    'Actor',\n",
        "    'Actress',\n",
        "    'Award',\n",
        "    'Born',\n",
        "    'Bull',\n",
        "    'Cinema',\n",
        "    'Comedy',\n",
        "    'Director',\n",
        "    'Film',\n",
        "    'He',\n",
        "    'Hollywood',\n",
        "    'Performance',\n",
        "    'Picture',\n",
        "    'Role',\n",
        "    'Screen',\n",
        "    'She',\n",
        "    'Television'\n",
        "    ]"
      ],
      "metadata": {
        "id": "0onHCMMHNDHz"
      },
      "execution_count": null,
      "outputs": []
    },
    {
      "cell_type": "code",
      "source": [
        "import re"
      ],
      "metadata": {
        "id": "buEZpgnKSIk4"
      },
      "execution_count": null,
      "outputs": []
    },
    {
      "cell_type": "code",
      "source": [
        "patrones_busqueda = {word: re.compile(f\"(?<!\\w){word}(?!\\w)\", re.I) for word in palabras}"
      ],
      "metadata": {
        "id": "mlc9bk4QSN6v"
      },
      "execution_count": null,
      "outputs": []
    },
    {
      "cell_type": "markdown",
      "source": [
        "Buscamos la cantidad de incidencias de cada palabra en cada página:"
      ],
      "metadata": {
        "id": "wvG7o9ykQqvo"
      }
    },
    {
      "cell_type": "code",
      "source": [
        "from collections import defaultdict\n",
        "busquedas_por_palabra = defaultdict(list)\n",
        "\n",
        "for palabra in palabras:\n",
        "    for s in sitios:\n",
        "        matches = patrones_busqueda[palabra].findall(html[s].text)\n",
        "        busquedas_por_palabra[palabra].append((s, len(matches)))"
      ],
      "metadata": {
        "id": "6xFjXgF1Rfvk"
      },
      "execution_count": null,
      "outputs": []
    },
    {
      "cell_type": "code",
      "source": [
        "busq = busquedas_por_palabra\n",
        "for palabra in busquedas_por_palabra:\n",
        "    print(f\"busquedas para la palabra: `{palabra}`\".center(100, '~'))\n",
        "    busq[palabra] = sorted(busq[palabra],\n",
        "                           key=lambda x:PI[sitios.index(x[0])],\n",
        "                           reverse=True)\n",
        "    for sitio, coincidencias in busq[palabra]:\n",
        "        if coincidencias == 0:\n",
        "            continue\n",
        "        s1 = f\"sitio: {sitio} \"\n",
        "        s2 = f\"| cantidad de coincidencias: {coincidencias} |        \"\n",
        "        s3 = f\"ranking sitio (pr): {round(PI[sitios.index(sitio)],3)}\"\n",
        "        print(f\"{s1 : <40}{s2 : ^10}{s3 : <50}\")\n",
        "    print(\"\")"
      ],
      "metadata": {
        "colab": {
          "base_uri": "https://localhost:8080/"
        },
        "id": "1VsYZSzeY4r1",
        "outputId": "a22354a1-2bb7-4eac-cc83-98fd6ae8cf4e"
      },
      "execution_count": null,
      "outputs": [
        {
          "output_type": "stream",
          "name": "stdout",
          "text": [
            "~~~~~~~~~~~~~~~~~~~~~~~~~~~~~~~~busquedas para la palabra: `Academy`~~~~~~~~~~~~~~~~~~~~~~~~~~~~~~~~\n",
            "sitio: http://angelinajolie.html        | cantidad de coincidencias: 2 |        ranking sitio (pr): 0.286                         \n",
            "sitio: http://bradpitt.html             | cantidad de coincidencias: 4 |        ranking sitio (pr): 0.245                         \n",
            "sitio: http://jonvoight.html            | cantidad de coincidencias: 2 |        ranking sitio (pr): 0.184                         \n",
            "sitio: http://martinscorcese.html       | cantidad de coincidencias: 1 |        ranking sitio (pr): 0.143                         \n",
            "sitio: http://robertdeniro.html         | cantidad de coincidencias: 2 |        ranking sitio (pr): 0.041                         \n",
            "\n",
            "~~~~~~~~~~~~~~~~~~~~~~~~~~~~~~~~busquedas para la palabra: `Acting`~~~~~~~~~~~~~~~~~~~~~~~~~~~~~~~~~\n",
            "sitio: http://angelinajolie.html        | cantidad de coincidencias: 1 |        ranking sitio (pr): 0.286                         \n",
            "sitio: http://bradpitt.html             | cantidad de coincidencias: 1 |        ranking sitio (pr): 0.245                         \n",
            "sitio: http://robertdeniro.html         | cantidad de coincidencias: 1 |        ranking sitio (pr): 0.041                         \n",
            "\n",
            "~~~~~~~~~~~~~~~~~~~~~~~~~~~~~~~~busquedas para la palabra: `Action`~~~~~~~~~~~~~~~~~~~~~~~~~~~~~~~~~\n",
            "sitio: http://angelinajolie.html        | cantidad de coincidencias: 1 |        ranking sitio (pr): 0.286                         \n",
            "\n",
            "~~~~~~~~~~~~~~~~~~~~~~~~~~~~~~~~~busquedas para la palabra: `Actor`~~~~~~~~~~~~~~~~~~~~~~~~~~~~~~~~~\n",
            "sitio: http://angelinajolie.html        | cantidad de coincidencias: 1 |        ranking sitio (pr): 0.286                         \n",
            "sitio: http://bradpitt.html             | cantidad de coincidencias: 2 |        ranking sitio (pr): 0.245                         \n",
            "sitio: http://jonvoight.html            | cantidad de coincidencias: 4 |        ranking sitio (pr): 0.184                         \n",
            "sitio: http://martinscorcese.html       | cantidad de coincidencias: 2 |        ranking sitio (pr): 0.143                         \n",
            "sitio: http://robertdeniro.html         | cantidad de coincidencias: 3 |        ranking sitio (pr): 0.041                         \n",
            "\n",
            "~~~~~~~~~~~~~~~~~~~~~~~~~~~~~~~~busquedas para la palabra: `Actress`~~~~~~~~~~~~~~~~~~~~~~~~~~~~~~~~\n",
            "sitio: http://angelinajolie.html        | cantidad de coincidencias: 2 |        ranking sitio (pr): 0.286                         \n",
            "sitio: http://bradpitt.html             | cantidad de coincidencias: 3 |        ranking sitio (pr): 0.245                         \n",
            "sitio: http://jonvoight.html            | cantidad de coincidencias: 1 |        ranking sitio (pr): 0.184                         \n",
            "sitio: http://jenniferaniston.html      | cantidad de coincidencias: 1 |        ranking sitio (pr): 0.102                         \n",
            "\n",
            "~~~~~~~~~~~~~~~~~~~~~~~~~~~~~~~~~busquedas para la palabra: `Award`~~~~~~~~~~~~~~~~~~~~~~~~~~~~~~~~~\n",
            "sitio: http://angelinajolie.html        | cantidad de coincidencias: 2 |        ranking sitio (pr): 0.286                         \n",
            "sitio: http://bradpitt.html             | cantidad de coincidencias: 6 |        ranking sitio (pr): 0.245                         \n",
            "sitio: http://jonvoight.html            | cantidad de coincidencias: 2 |        ranking sitio (pr): 0.184                         \n",
            "sitio: http://martinscorcese.html       | cantidad de coincidencias: 2 |        ranking sitio (pr): 0.143                         \n",
            "sitio: http://jenniferaniston.html      | cantidad de coincidencias: 3 |        ranking sitio (pr): 0.102                         \n",
            "sitio: http://robertdeniro.html         | cantidad de coincidencias: 2 |        ranking sitio (pr): 0.041                         \n",
            "\n",
            "~~~~~~~~~~~~~~~~~~~~~~~~~~~~~~~~~busquedas para la palabra: `Born`~~~~~~~~~~~~~~~~~~~~~~~~~~~~~~~~~~\n",
            "sitio: http://angelinajolie.html        | cantidad de coincidencias: 1 |        ranking sitio (pr): 0.286                         \n",
            "sitio: http://bradpitt.html             | cantidad de coincidencias: 1 |        ranking sitio (pr): 0.245                         \n",
            "sitio: http://jonvoight.html            | cantidad de coincidencias: 1 |        ranking sitio (pr): 0.184                         \n",
            "sitio: http://martinscorcese.html       | cantidad de coincidencias: 1 |        ranking sitio (pr): 0.143                         \n",
            "sitio: http://jenniferaniston.html      | cantidad de coincidencias: 1 |        ranking sitio (pr): 0.102                         \n",
            "sitio: http://robertdeniro.html         | cantidad de coincidencias: 1 |        ranking sitio (pr): 0.041                         \n",
            "\n",
            "~~~~~~~~~~~~~~~~~~~~~~~~~~~~~~~~~busquedas para la palabra: `Bull`~~~~~~~~~~~~~~~~~~~~~~~~~~~~~~~~~~\n",
            "sitio: http://martinscorcese.html       | cantidad de coincidencias: 1 |        ranking sitio (pr): 0.143                         \n",
            "sitio: http://robertdeniro.html         | cantidad de coincidencias: 2 |        ranking sitio (pr): 0.041                         \n",
            "\n",
            "~~~~~~~~~~~~~~~~~~~~~~~~~~~~~~~~busquedas para la palabra: `Cinema`~~~~~~~~~~~~~~~~~~~~~~~~~~~~~~~~~\n",
            "sitio: http://martinscorcese.html       | cantidad de coincidencias: 2 |        ranking sitio (pr): 0.143                         \n",
            "\n",
            "~~~~~~~~~~~~~~~~~~~~~~~~~~~~~~~~busquedas para la palabra: `Comedy`~~~~~~~~~~~~~~~~~~~~~~~~~~~~~~~~~\n",
            "sitio: http://angelinajolie.html        | cantidad de coincidencias: 1 |        ranking sitio (pr): 0.286                         \n",
            "sitio: http://jenniferaniston.html      | cantidad de coincidencias: 1 |        ranking sitio (pr): 0.102                         \n",
            "\n",
            "~~~~~~~~~~~~~~~~~~~~~~~~~~~~~~~busquedas para la palabra: `Director`~~~~~~~~~~~~~~~~~~~~~~~~~~~~~~~~\n",
            "sitio: http://martinscorcese.html       | cantidad de coincidencias: 2 |        ranking sitio (pr): 0.143                         \n",
            "sitio: http://robertdeniro.html         | cantidad de coincidencias: 2 |        ranking sitio (pr): 0.041                         \n",
            "\n",
            "~~~~~~~~~~~~~~~~~~~~~~~~~~~~~~~~~busquedas para la palabra: `Film`~~~~~~~~~~~~~~~~~~~~~~~~~~~~~~~~~~\n",
            "sitio: http://angelinajolie.html        | cantidad de coincidencias: 3 |        ranking sitio (pr): 0.286                         \n",
            "sitio: http://bradpitt.html             | cantidad de coincidencias: 3 |        ranking sitio (pr): 0.245                         \n",
            "sitio: http://jonvoight.html            | cantidad de coincidencias: 1 |        ranking sitio (pr): 0.184                         \n",
            "sitio: http://martinscorcese.html       | cantidad de coincidencias: 6 |        ranking sitio (pr): 0.143                         \n",
            "sitio: http://jenniferaniston.html      | cantidad de coincidencias: 1 |        ranking sitio (pr): 0.102                         \n",
            "sitio: http://robertdeniro.html         | cantidad de coincidencias: 1 |        ranking sitio (pr): 0.041                         \n",
            "\n",
            "~~~~~~~~~~~~~~~~~~~~~~~~~~~~~~~~~~busquedas para la palabra: `He`~~~~~~~~~~~~~~~~~~~~~~~~~~~~~~~~~~~\n",
            "sitio: http://bradpitt.html             | cantidad de coincidencias: 9 |        ranking sitio (pr): 0.245                         \n",
            "sitio: http://jonvoight.html            | cantidad de coincidencias: 6 |        ranking sitio (pr): 0.184                         \n",
            "sitio: http://martinscorcese.html       | cantidad de coincidencias: 3 |        ranking sitio (pr): 0.143                         \n",
            "sitio: http://robertdeniro.html         | cantidad de coincidencias: 1 |        ranking sitio (pr): 0.041                         \n",
            "\n",
            "~~~~~~~~~~~~~~~~~~~~~~~~~~~~~~~busquedas para la palabra: `Hollywood`~~~~~~~~~~~~~~~~~~~~~~~~~~~~~~~\n",
            "sitio: http://angelinajolie.html        | cantidad de coincidencias: 1 |        ranking sitio (pr): 0.286                         \n",
            "sitio: http://jenniferaniston.html      | cantidad de coincidencias: 1 |        ranking sitio (pr): 0.102                         \n",
            "\n",
            "~~~~~~~~~~~~~~~~~~~~~~~~~~~~~~busquedas para la palabra: `Performance`~~~~~~~~~~~~~~~~~~~~~~~~~~~~~~\n",
            "sitio: http://angelinajolie.html        | cantidad de coincidencias: 1 |        ranking sitio (pr): 0.286                         \n",
            "sitio: http://bradpitt.html             | cantidad de coincidencias: 1 |        ranking sitio (pr): 0.245                         \n",
            "sitio: http://jonvoight.html            | cantidad de coincidencias: 1 |        ranking sitio (pr): 0.184                         \n",
            "\n",
            "~~~~~~~~~~~~~~~~~~~~~~~~~~~~~~~~busquedas para la palabra: `Picture`~~~~~~~~~~~~~~~~~~~~~~~~~~~~~~~~\n",
            "sitio: http://bradpitt.html             | cantidad de coincidencias: 1 |        ranking sitio (pr): 0.245                         \n",
            "sitio: http://jonvoight.html            | cantidad de coincidencias: 1 |        ranking sitio (pr): 0.184                         \n",
            "sitio: http://martinscorcese.html       | cantidad de coincidencias: 1 |        ranking sitio (pr): 0.143                         \n",
            "\n",
            "~~~~~~~~~~~~~~~~~~~~~~~~~~~~~~~~~busquedas para la palabra: `Role`~~~~~~~~~~~~~~~~~~~~~~~~~~~~~~~~~~\n",
            "sitio: http://angelinajolie.html        | cantidad de coincidencias: 1 |        ranking sitio (pr): 0.286                         \n",
            "sitio: http://bradpitt.html             | cantidad de coincidencias: 2 |        ranking sitio (pr): 0.245                         \n",
            "sitio: http://jenniferaniston.html      | cantidad de coincidencias: 2 |        ranking sitio (pr): 0.102                         \n",
            "\n",
            "~~~~~~~~~~~~~~~~~~~~~~~~~~~~~~~~busquedas para la palabra: `Screen`~~~~~~~~~~~~~~~~~~~~~~~~~~~~~~~~~\n",
            "sitio: http://angelinajolie.html        | cantidad de coincidencias: 3 |        ranking sitio (pr): 0.286                         \n",
            "sitio: http://bradpitt.html             | cantidad de coincidencias: 1 |        ranking sitio (pr): 0.245                         \n",
            "sitio: http://jenniferaniston.html      | cantidad de coincidencias: 1 |        ranking sitio (pr): 0.102                         \n",
            "\n",
            "~~~~~~~~~~~~~~~~~~~~~~~~~~~~~~~~~~busquedas para la palabra: `She`~~~~~~~~~~~~~~~~~~~~~~~~~~~~~~~~~~\n",
            "sitio: http://angelinajolie.html        | cantidad de coincidencias: 5 |        ranking sitio (pr): 0.286                         \n",
            "sitio: http://jenniferaniston.html      | cantidad de coincidencias: 4 |        ranking sitio (pr): 0.102                         \n",
            "\n",
            "~~~~~~~~~~~~~~~~~~~~~~~~~~~~~~busquedas para la palabra: `Television`~~~~~~~~~~~~~~~~~~~~~~~~~~~~~~~\n",
            "sitio: http://bradpitt.html             | cantidad de coincidencias: 1 |        ranking sitio (pr): 0.245                         \n",
            "sitio: http://jonvoight.html            | cantidad de coincidencias: 1 |        ranking sitio (pr): 0.184                         \n",
            "\n"
          ]
        }
      ]
    },
    {
      "cell_type": "markdown",
      "source": [
        "# Ejercicio 2\n",
        "\n",
        "En base a lo presentado en el trabajo “Queuing theory application in imaging service analysis for small Earth observation satellites”, simular los resultados obtenidos sobre la longitud de imágenes en cola esperando ser\n",
        "procesadas en la sección 3.1. Pure image capture service system \n",
        "El ejercicio se puede resolver utilizando simpy o programación tradicional (a elección del grupo)"
      ],
      "metadata": {
        "id": "yOHb9KQpgqhJ"
      }
    },
    {
      "cell_type": "code",
      "source": [
        "import simpy as sp"
      ],
      "metadata": {
        "id": "E8lB8mj1_aA2"
      },
      "execution_count": null,
      "outputs": []
    },
    {
      "cell_type": "code",
      "source": [
        "class Satelite:\n",
        "    def __init__(self, env: sp.Environment, tasa_de_procesamiento: float, tasa_de_descarga: float, capacidad_memoria: int) -> None:\n",
        "      self.tasa_de_procesamiento = tasa_de_procesamiento\n",
        "      self.tasa_de_descarga = tasa_de_descarga\n",
        "\n",
        "      self.env = env\n",
        "\n",
        "      self.cola = sp.Resource(env, capacity=capacidad_memoria)\n",
        "      self.canal_de_descarga = sp.Resource(env)\n",
        "      self.canal_de_procesamiento = sp.Resource(env)\n",
        "\n",
        "      self.longitudes_de_cola = []\n",
        "      self.tiempo_entre_arribos = []\n",
        "      self.longitudes_de_cola_de_descarga = []\n",
        "\n",
        "\n",
        "    def descargar_imagen(self, contador):\n",
        "      tiempo = np.random.exponential(1/self.tasa_de_descarga)\n",
        "      yield self.env.timeout(tiempo)\n",
        "      \n",
        "      #print(f\"La imagen {contador} ya fue descargada en tiempo {self.env.now}\")\n",
        "      #print(f\"La cola tiene {len(self.cola.queue) + len(self.canal_de_procesamiento.queue)} imágenes\")\n",
        "      #print(f\"Hay {self.canal_de_procesamiento.count} imágenes siendo procesadas\")\n",
        "      #print(f\"La cola de descargas tiene {len(self.canal_de_descarga.queue)} imágenes\")\n",
        "      #print(f\"Hay {self.canal_de_descarga.count} imágenes siendo descargadas\\n\")\n",
        "\n",
        "\n",
        "    def procesar_imagen(self, contador):\n",
        "      tiempo = np.random.exponential(1/self.tasa_de_procesamiento)\n",
        "      yield self.env.timeout(tiempo)\n",
        "\n",
        "      #print(f\"La imagen {contador} ya fue procesada en tiempo {self.env.now}\")\n",
        "      #print(f\"La cola tiene {len(self.cola.queue) + len(self.canal_de_procesamiento.queue)} imágenes\")\n",
        "      #print(f\"Hay {self.canal_de_procesamiento.count} imágenes siendo procesadas\")\n",
        "      #print(f\"La cola de descargas tiene {len(self.canal_de_descarga.queue)} imágenes\")\n",
        "      #print(f\"Hay {self.canal_de_descarga.count} imágenes siendo descargadas\\n\")\n",
        "\n",
        "\n",
        "    def atender_solicitud(self, contador):\n",
        "      #print(f\"La imagen {contador} llega al sistema tiempo {self.env.now}\\n\")\n",
        "\n",
        "      request_cola = self.cola.request()\n",
        "      yield request_cola # solo podemos procesar la solicitud (tomar la imagen)\n",
        "                         # si hay al menos un lugar disponible en la memoria del\n",
        "                         # satelite (la cola de imagenes self.cola)\n",
        "\n",
        "      with self.canal_de_procesamiento.request() as request:\n",
        "        yield request\n",
        "\n",
        "        #print(f\"La imagen {contador} pasa a ser procesada en tiempo {self.env.now}\")\n",
        "        #print(f\"La cola tiene {len(self.cola.queue) + len(self.canal_de_procesamiento.queue)} imágenes\")\n",
        "        #print(f\"Hay {self.canal_de_procesamiento.count} imágenes siendo procesadas\")\n",
        "        #print(f\"La cola de descargas tiene {len(self.canal_de_descarga.queue)} imágenes\")\n",
        "        #print(f\"Hay {self.canal_de_descarga.count} imágenes siendo descargadas\\n\")\n",
        "        yield self.env.process(self.procesar_imagen(contador))\n",
        "\n",
        "      with self.canal_de_descarga.request() as request:\n",
        "        yield request\n",
        "        self.cola.release(request_cola) # solo cuando comenzamos a descargar la imagen\n",
        "                                        # la quitamos de la memoria\n",
        "\n",
        "        #print(f\"La imagen {contador} pasa a ser descargada en tiempo {self.env.now}\")\n",
        "        #print(f\"La cola tiene {len(self.cola.queue) + len(self.canal_de_procesamiento.queue)} imágenes\")\n",
        "        #print(f\"Hay {self.canal_de_procesamiento.count} imágenes siendo procesadas\")\n",
        "        #print(f\"La cola de descargas tiene {len(self.canal_de_descarga.queue)} imágenes\")\n",
        "        #print(f\"Hay {self.canal_de_descarga.count} imágenes siendo descargadas\\n\")\n",
        "        yield self.env.process(self.descargar_imagen(contador))\n",
        "\n",
        "      yield self.env.timeout(0)\n",
        "      "
      ],
      "metadata": {
        "id": "AwDBM1UsBM2Y"
      },
      "execution_count": null,
      "outputs": []
    },
    {
      "cell_type": "code",
      "source": [
        "def simular(env: sp.Environment, satelite: Satelite, cantidad: int, tasa_arribos: float):\n",
        "    #if cantidad < 0 or type(cantidad) != int:\n",
        "    #    raise ValueError(f\"'cantidad' no puede ser menor a 0 ni no entero\")\n",
        "\n",
        "    for i in range(cantidad):\n",
        "        tiempo = np.random.exponential(1/tasa_arribos)\n",
        "        yield env.timeout(tiempo)\n",
        "        env.process(satelite.atender_solicitud(i))\n",
        "\n",
        "        satelite.longitudes_de_cola.append(len(satelite.cola.queue))\n",
        "        satelite.tiempo_entre_arribos.append(tiempo)\n",
        "        satelite.longitudes_de_cola_de_descarga.append(len(satelite.canal_de_descarga.queue))"
      ],
      "metadata": {
        "id": "w3MdMtrg_kOW"
      },
      "execution_count": null,
      "outputs": []
    },
    {
      "cell_type": "code",
      "source": [
        "import matplotlib.pyplot as plt\n",
        "import seaborn as sns\n",
        "sns.set()"
      ],
      "metadata": {
        "id": "XjU-x6okXkOd"
      },
      "execution_count": null,
      "outputs": []
    },
    {
      "cell_type": "code",
      "source": [
        "def generar_simulacion(tasa_de_arribos, tasa_de_procesamiento, tasa_de_descarga, capacidad_memoria, cantidad_de_solicitudes):\n",
        "    env = sp.Environment()\n",
        "    satelite = Satelite(env, tasa_de_procesamiento=tasa_de_procesamiento, tasa_de_descarga=tasa_de_descarga, capacidad_memoria=capacidad_memoria)\n",
        "\n",
        "    env.process(simular(env, satelite, cantidad_de_solicitudes, tasa_de_arribos))\n",
        "\n",
        "    env.run()\n",
        "\n",
        "    fig, (ax1, ax2) = plt.subplots(\n",
        "        nrows=2,\n",
        "        ncols=1,\n",
        "    )\n",
        "    fig.set_figheight(15)\n",
        "    fig.set_figwidth(10)\n",
        "\n",
        "    ax1.set_title('Longitud de la cola de procesamiento')\n",
        "    sns.kdeplot(satelite.longitudes_de_cola, ax=ax1)\n",
        "    ax1.set_xlabel('Cantidad de imágenes')\n",
        "    ax1.set_ylabel('Densidad')\n",
        "    ax1.set_xlim(0, None)\n",
        "\n",
        "\n",
        "    ax2.set_title('Longitud de la cola de descarga')\n",
        "    sns.kdeplot(satelite.longitudes_de_cola_de_descarga, ax=ax2)\n",
        "    ax2.set_xlabel('Cantidad de imágenes')\n",
        "    ax2.set_ylabel('Densidad')\n",
        "    ax2.set_xlim(0, None)\n",
        "\n",
        "    plt.show()"
      ],
      "metadata": {
        "id": "8tnVwh1a_m0-"
      },
      "execution_count": null,
      "outputs": []
    },
    {
      "cell_type": "code",
      "source": [
        "from IPython.display import display\n",
        "from ipywidgets import FloatSlider, IntSlider, interactive"
      ],
      "metadata": {
        "id": "7BflqIvBe0KP"
      },
      "execution_count": null,
      "outputs": []
    },
    {
      "cell_type": "code",
      "source": [
        "tasa_de_arribos_slider = FloatSlider(value=5, min=0.5, max=10, step=0.5, description=\"tasa de arribos\")\n",
        "tasa_de_procesamiento_slider = FloatSlider(value=5, min=0.5, max=10, step=0.5, description=\"tasa de procesamiento\")\n",
        "tasa_de_descarga_slider = FloatSlider(value=5, min=0.5, max=10, step=0.5, description=\"tasa de descarga\")\n",
        "capacidad_de_memoria_slider = IntSlider(value=20, min=1, max=50, step=1, description=\"capacidad de memoria\")\n",
        "cantidad_de_solicitudes_slider = IntSlider(value=10000, min=10000, max=100000, step=10000, description=\"cantidad de solicitudes\")"
      ],
      "metadata": {
        "id": "fhLwwnOLe4yq"
      },
      "execution_count": null,
      "outputs": []
    },
    {
      "cell_type": "code",
      "source": [
        "inter = interactive(generar_simulacion, {'manual': True}, tasa_de_arribos=tasa_de_arribos_slider, tasa_de_procesamiento=tasa_de_procesamiento_slider, tasa_de_descarga=tasa_de_descarga_slider, capacidad_memoria=capacidad_de_memoria_slider, cantidad_de_solicitudes=cantidad_de_solicitudes_slider)\n",
        "display(inter)"
      ],
      "metadata": {
        "colab": {
          "base_uri": "https://localhost:8080/",
          "height": 1000,
          "referenced_widgets": [
            "163b43c497f14920baf470caa60a1654",
            "7f505e6a710f4ca99746629c337009e2",
            "694971bd9e47407a9812b05fad5e126b",
            "f1080b9e85c84521bc2337274b915cb5",
            "4465f34dc9104597902d62b4de5af695",
            "2833351c9b05448ab4a08bb4fd62d7ca",
            "1dbd4273003742a1b8a23de06151fe0c",
            "95af575b01e949c9b4355d50f81bef12",
            "d7914328e8764023a16d8ae016810b2b",
            "531cd391f5ef474596208fa9d3db7ca8",
            "e133fbe8ad90414aad029088bd3981e3",
            "3c3e0bb7ff0d41ea98590a8e90029a4b",
            "b62dfc1502d84998b27b04c80cf3adeb",
            "9e473f81e8074ae098f7ab9d70d018ae",
            "738f1936e72b43229a693cb085c11bd9",
            "fe62c3ba211b4e2eae82191bc5bb41b1",
            "886d2cd1df834fdcb469bfa73a430d29",
            "ff43f0d2aaf94082a2e9de85632fedfe",
            "2164a85910f64b98b8350803bfbe0c23",
            "bb756d8e468a4ce0be41f5cb1c880eea",
            "8e5e96856e314ad98ef33987c3147778",
            "70d5f75348004cde90153e8961dc2fe1"
          ]
        },
        "id": "xVC3PuUlfFLm",
        "outputId": "4b667ff3-55a3-45b8-f937-da8e6c455511"
      },
      "execution_count": null,
      "outputs": [
        {
          "output_type": "display_data",
          "data": {
            "text/plain": [
              "interactive(children=(FloatSlider(value=3.0, description='tasa de arribos', max=10.0, min=0.5, step=0.5), Floa…"
            ],
            "application/vnd.jupyter.widget-view+json": {
              "version_major": 2,
              "version_minor": 0,
              "model_id": "163b43c497f14920baf470caa60a1654"
            }
          },
          "metadata": {}
        }
      ]
    },
    {
      "cell_type": "markdown",
      "source": [
        "# Ejercicio 3\n",
        "\n",
        "Se está diseñando un web service, el cual cada vez que es invocado consulta a una base de datos.\n",
        "\n",
        "Se estima que el tiempo que transcurre entre cada llamada al servicio se puede modelar según una distribución\n",
        "exponencial con media lambda = 4 segundos\n",
        "\n",
        "Se debe decidir la arquitectura de base de datos a utilizar entre las dos siguientes:\n",
        "\n",
        "**1) Utilizar 2 bases de datos distribuidas.**\n",
        "\n",
        "  Con probabilidad p = 0.7las solicitudes son atendidas por la base 1 y con probabilidad q = 1-p son atendidos por la base de datos 2.\n",
        "El tiempo que demora cada base de datos en atender una solicitud sigue una distribución exponencial con medias 0.7 segundos y 1 segundo, y respectivamente.\n",
        "\n",
        "**2) Utilizar 1 base de datos central.**\n",
        "\n",
        "En este caso la demora en resolver una solicitud sigue una distribución exponencial con media 0.8 segundos\n",
        "\n",
        "\n",
        "Simular para cada opción 100.000 solicitudes procesadas, determinando:\n",
        "\n",
        "● El tiempo medio de espera entre que la solicitud llega y puede ser procesada (suponer que ninguna conexión cae por timeout).\n",
        "\n",
        "● La fracción de las solicitudes que no esperaron para ser procesadas.\n",
        "\n",
        "● Probar con distintos escenarios, modificando los parámetros del ejercicio."
      ],
      "metadata": {
        "id": "jEPafFtjXVrk"
      }
    },
    {
      "cell_type": "code",
      "source": [
        "SOLICITUDES = 100000\n",
        "TASA_ARRIBOS = 4\n",
        "TASA_ALT_DOS_PROC = 1/0.8 #Media\n",
        "\n",
        "PROB_B_UNO = 0.7\n",
        "PROB_B_DOS = 1 - PROB_B_UNO\n",
        "\n",
        "TASA_ALT_UNO_PROC_UNO = 0.7 #Media\n",
        "TASA_ALT_UNO_PROC_DOS = 1 #Media"
      ],
      "metadata": {
        "id": "ByJAzpScxsb0"
      },
      "execution_count": null,
      "outputs": []
    },
    {
      "cell_type": "code",
      "source": [
        "def tiempo_salida(llegadas, procesamiento):\n",
        "  if len(llegadas) == 0:\n",
        "    return []\n",
        "  salidas = [procesamiento[0]+llegadas[0]]\n",
        "  largo = len(llegadas)\n",
        "\n",
        "  for i in range(1, largo):\n",
        "    inicio = llegadas[i]\n",
        "    if salidas[i-1] > inicio:\n",
        "      inicio = salidas[i-1]\n",
        "    salidas.append(inicio+procesamiento[i])\n",
        "\n",
        "  return salidas"
      ],
      "metadata": {
        "id": "Y6kwGDmEpkLu"
      },
      "execution_count": null,
      "outputs": []
    },
    {
      "cell_type": "code",
      "source": [
        "def tiempo_espera(llegadas, salidas):\n",
        "  if len(llegadas) == 0:\n",
        "    return []\n",
        "  esperas = [0]\n",
        "  largo = len(llegadas)\n",
        "\n",
        "  for i in range(1, largo):\n",
        "    inicio = salidas[i-1] - llegadas[i]\n",
        "    if inicio < 0:\n",
        "      inicio = 0\n",
        "    esperas.append(inicio)\n",
        "\n",
        "  return esperas"
      ],
      "metadata": {
        "id": "Ufj1f_3RxGOA"
      },
      "execution_count": null,
      "outputs": []
    },
    {
      "cell_type": "code",
      "source": [
        "def simular_2(cantidad, tasa_arribo, print_data = True, tasa_proc = TASA_ALT_DOS_PROC):\n",
        "  llegadas = np.random.exponential(tasa_arribo, cantidad)\n",
        "  llegadas = np.cumsum(llegadas)\n",
        "  procesamientos = np.random.exponential(tasa_proc, cantidad)\n",
        "  salidas = np.array(tiempo_salida(llegadas, procesamientos))\n",
        "  esperas = np.array(tiempo_espera(llegadas, salidas))\n",
        "  n_zeros = esperas[np.where(esperas==0)].size\n",
        "  if print_data:\n",
        "    print(f\"Tiempos De Llegadas - {np.around(llegadas,2)}\")\n",
        "    print(f\"Tiempos De Procesamientos - {np.around(procesamientos,2)}\")\n",
        "    print(f\"Tiempos De Salidas - {np.around(salidas,2)}\")\n",
        "    print(f\"Tiempos De Esperas - {np.around(esperas,2)}\")\n",
        "    print(f\"Tiempo Medio De Espera - {np.mean(esperas)}\")\n",
        "    print(f\"Fraccion De Eventos Sin Espera - {n_zeros/len(esperas)}\")\n",
        "  return np.mean(esperas),n_zeros/len(esperas), esperas"
      ],
      "metadata": {
        "id": "fGo1AGiUw4wK"
      },
      "execution_count": null,
      "outputs": []
    },
    {
      "cell_type": "code",
      "source": [
        "def simular_1(cantidad, tasa_arribo, print_data = True, tasa_1 = TASA_ALT_UNO_PROC_UNO, tasa_2 = TASA_ALT_UNO_PROC_DOS, proba_uno = PROB_B_UNO):\n",
        "  llegadas = np.random.exponential(tasa_arribo, cantidad)\n",
        "  prob_bases = np.random.uniform(0,1,cantidad)\n",
        "  llegadas_1 = []\n",
        "  llegadas_2 = []\n",
        "  for i, prob in enumerate(prob_bases):\n",
        "    if prob < proba_uno:\n",
        "      llegadas_1.append(llegadas[i])\n",
        "    else:\n",
        "      llegadas_2.append(llegadas[i])\n",
        "  llegadas_1 = np.cumsum(llegadas_1)\n",
        "  llegadas_2 = np.cumsum(llegadas_2)\n",
        "\n",
        "  procesamientos_1 = np.random.exponential(tasa_1, len(llegadas_1))\n",
        "  procesamientos_2 = np.random.exponential(tasa_2, len(llegadas_2))\n",
        "  \n",
        "  salidas_1 = np.array(tiempo_salida(llegadas_1, procesamientos_1))\n",
        "  salidas_2 = np.array(tiempo_salida(llegadas_2, procesamientos_2))\n",
        "\n",
        "  esperas_1 = np.array(tiempo_espera(llegadas_1, salidas_1))\n",
        "  esperas_2 = np.array(tiempo_espera(llegadas_2, salidas_2))\n",
        "  \n",
        "  esperas = []\n",
        "  n_1 = 0\n",
        "  n_2 = 0\n",
        "  for i, prob in enumerate(prob_bases):\n",
        "    if prob < proba_uno:\n",
        "      esperas.append(esperas_1[n_1])\n",
        "      n_1 += 1\n",
        "    else:\n",
        "      esperas.append(esperas_2[n_2])\n",
        "      n_2 += 1\n",
        "  esperas = np.array(esperas)\n",
        "  n_zeros = esperas[np.where(esperas==0)].size\n",
        "\n",
        "  if print_data:\n",
        "    print(\"BASE 1\")\n",
        "    print(f\"Tiempos De Llegadas - {np.around(llegadas_1,2)}\")\n",
        "    print(f\"Tiempos De Procesamientos - {np.around(procesamientos_1,2)}\")\n",
        "    print(f\"Tiempos De Salidas - {np.around(salidas_1,2)}\")\n",
        "    print(f\"Tiempos De Esperas - {np.around(esperas_1,2)}\")\n",
        "    print(\"==\"*10)\n",
        "    print(\"BASE 2\")\n",
        "    print(f\"Tiempos De Llegadas - {np.around(llegadas_2,2)}\")\n",
        "    print(f\"Tiempos De Procesamientos - {np.around(procesamientos_2,2)}\")\n",
        "    print(f\"Tiempos De Salidas - {np.around(salidas_2,2)}\")\n",
        "    print(f\"Tiempos De Esperas - {np.around(esperas_2,2)}\")\n",
        "    print(\"Medias\")\n",
        "    print(np.around(esperas,2))\n",
        "    print(f\"Tiempo Medio De Espera - {np.mean(esperas)}\")\n",
        "    print(f\"Fraccion De Eventos Sin Espera - {n_zeros/len(esperas)}\")\n",
        "  \n",
        "  return np.mean(esperas),n_zeros/len(esperas), esperas"
      ],
      "metadata": {
        "id": "ZWr2vDGH1eeY"
      },
      "execution_count": null,
      "outputs": []
    },
    {
      "cell_type": "markdown",
      "source": [
        "100 test de 100000 solicitudes"
      ],
      "metadata": {
        "id": "UwLP28lGS6Fu"
      }
    },
    {
      "cell_type": "code",
      "source": [
        "amount_tests = 100\n",
        "\n",
        "means_1 = []\n",
        "fracs_1 = []\n",
        "\n",
        "means_2 = []\n",
        "fracs_2 = []\n",
        "\n",
        "for i in range(amount_tests):\n",
        "  mean_1, frac_1, _x = simular_1(SOLICITUDES, TASA_ARRIBOS, False)\n",
        "  means_1.append(mean_1)\n",
        "  fracs_1.append(frac_1)\n",
        "  mean_2, frac_2, _x = simular_2(SOLICITUDES, TASA_ARRIBOS, False)\n",
        "  means_2.append(mean_2)\n",
        "  fracs_2.append(frac_2)\n",
        "\n",
        "means_1 = np.array(means_1)\n",
        "fracs_1 = np.array(fracs_1)\n",
        "\n",
        "means_2 = np.array(means_2)\n",
        "fracs_2 = np.array(fracs_2)\n",
        "\n",
        "print(f\"Se realizaron {amount_tests} simulaciones de {SOLICITUDES} solicitudes\")\n",
        "print(\"Sistema 1\")\n",
        "print(f\"Media Tiempo Medio De Esperas - {np.mean(mean_1)}\")\n",
        "print(f\"Media Fraccion De Eventos Sin Espera - {np.mean(frac_1)}\")\n",
        "print(\"Sistema 2\")\n",
        "print(f\"Media Tiempo Medio De Esperas - {np.mean(mean_2)}\")\n",
        "print(f\"Media Fraccion De Eventos Sin Espera - {np.mean(frac_2)}\")"
      ],
      "metadata": {
        "colab": {
          "base_uri": "https://localhost:8080/"
        },
        "id": "e68fMRn3yeU5",
        "outputId": "972567ea-dc41-4cf7-b913-0876133b6242"
      },
      "execution_count": null,
      "outputs": [
        {
          "output_type": "stream",
          "name": "stdout",
          "text": [
            "Se realizaron 100 simulaciones de 100000 solicitudes\n",
            "Sistema 1\n",
            "Media Tiempo Medio De Esperas - 0.20281081852656396\n",
            "Media Fraccion De Eventos Sin Espera - 0.80231\n",
            "Sistema 2\n",
            "Media Tiempo Medio De Esperas - 0.5690144788494762\n",
            "Media Fraccion De Eventos Sin Espera - 0.6865\n"
          ]
        }
      ]
    },
    {
      "cell_type": "markdown",
      "source": [
        "Vemos que en el sistema 1 hay una mejor fracción de eventos sin espera y también un mejor tiempo medio de espera. En ambos casos con una gran diferencia ya que el tiempo es casi la mitad y la fraccion es el doble.\n",
        "\n",
        "Por eso se puede concluir que el sistema 1 es mas eficiente.\n",
        "\n",
        "Entendemos que esto pasa porque al separarse en 2 al generarse una demora en el sistema 1 demora a todos los procesos siguientes, mientras que en el sistema 1 a pesar de ser mas lentos los procesamientos una demora en uno solo demora a una fraccion de la totalidad de las solicitudes."
      ],
      "metadata": {
        "id": "okjxLIX7_yGh"
      }
    },
    {
      "cell_type": "code",
      "source": [
        "_mean_1, _frac_1, esperas_1 = simular_1(SOLICITUDES, TASA_ARRIBOS, False)\n",
        "_mean_2, _frac_2, esperas_2 = simular_2(SOLICITUDES, TASA_ARRIBOS, False)\n",
        "\n",
        "espera_acum_1 = np.cumsum(esperas_1)\n",
        "espera_acum_2 = np.cumsum(esperas_2)\n",
        "\n",
        "plt.plot(range(SOLICITUDES), espera_acum_1, color = \"g\", label = \"Sistema 1\")\n",
        "plt.plot(range(SOLICITUDES), espera_acum_2, color = \"r\", label = \"Sistema 2\")\n",
        "plt.legend()\n",
        "plt.title(\"Espera Acumulada Por Sistema\")\n",
        "plt.xlabel(\"Cantidad De Solicitudes Totales\")\n",
        "plt.ylabel(\"Tiempo En Segundos\")"
      ],
      "metadata": {
        "colab": {
          "base_uri": "https://localhost:8080/",
          "height": 408
        },
        "id": "bCik0CEr8uXA",
        "outputId": "575ea2d1-fcae-4401-d415-dc7d14d16e06"
      },
      "execution_count": null,
      "outputs": [
        {
          "output_type": "execute_result",
          "data": {
            "text/plain": [
              "Text(0, 0.5, 'Tiempo En Segundos')"
            ]
          },
          "metadata": {},
          "execution_count": 36
        },
        {
          "output_type": "display_data",
          "data": {
            "text/plain": [
              "<Figure size 432x288 with 1 Axes>"
            ],
            "image/svg+xml": "<?xml version=\"1.0\" encoding=\"utf-8\" standalone=\"no\"?>\n<!DOCTYPE svg PUBLIC \"-//W3C//DTD SVG 1.1//EN\"\n  \"http://www.w3.org/Graphics/SVG/1.1/DTD/svg11.dtd\">\n<!-- Created with matplotlib (https://matplotlib.org/) -->\n<svg height=\"277.314375pt\" version=\"1.1\" viewBox=\"0 0 405.562987 277.314375\" width=\"405.562987pt\" xmlns=\"http://www.w3.org/2000/svg\" xmlns:xlink=\"http://www.w3.org/1999/xlink\">\n <defs>\n  <style type=\"text/css\">\n*{stroke-linecap:butt;stroke-linejoin:round;}\n  </style>\n </defs>\n <g id=\"figure_1\">\n  <g id=\"patch_1\">\n   <path d=\"M 0 277.314375 \nL 405.562987 277.314375 \nL 405.562987 0 \nL 0 0 \nz\n\" style=\"fill:none;\"/>\n  </g>\n  <g id=\"axes_1\">\n   <g id=\"patch_2\">\n    <path d=\"M 59.690625 239.758125 \nL 394.490625 239.758125 \nL 394.490625 22.318125 \nL 59.690625 22.318125 \nz\n\" style=\"fill:#ffffff;\"/>\n   </g>\n   <g id=\"matplotlib.axis_1\">\n    <g id=\"xtick_1\">\n     <g id=\"line2d_1\">\n      <defs>\n       <path d=\"M 0 0 \nL 0 3.5 \n\" id=\"m1f7d30916d\" style=\"stroke:#000000;stroke-width:0.8;\"/>\n      </defs>\n      <g>\n       <use style=\"stroke:#000000;stroke-width:0.8;\" x=\"74.908807\" xlink:href=\"#m1f7d30916d\" y=\"239.758125\"/>\n      </g>\n     </g>\n     <g id=\"text_1\">\n      <!-- 0 -->\n      <defs>\n       <path d=\"M 31.78125 66.40625 \nQ 24.171875 66.40625 20.328125 58.90625 \nQ 16.5 51.421875 16.5 36.375 \nQ 16.5 21.390625 20.328125 13.890625 \nQ 24.171875 6.390625 31.78125 6.390625 \nQ 39.453125 6.390625 43.28125 13.890625 \nQ 47.125 21.390625 47.125 36.375 \nQ 47.125 51.421875 43.28125 58.90625 \nQ 39.453125 66.40625 31.78125 66.40625 \nz\nM 31.78125 74.21875 \nQ 44.046875 74.21875 50.515625 64.515625 \nQ 56.984375 54.828125 56.984375 36.375 \nQ 56.984375 17.96875 50.515625 8.265625 \nQ 44.046875 -1.421875 31.78125 -1.421875 \nQ 19.53125 -1.421875 13.0625 8.265625 \nQ 6.59375 17.96875 6.59375 36.375 \nQ 6.59375 54.828125 13.0625 64.515625 \nQ 19.53125 74.21875 31.78125 74.21875 \nz\n\" id=\"DejaVuSans-48\"/>\n      </defs>\n      <g transform=\"translate(71.727557 254.356562)scale(0.1 -0.1)\">\n       <use xlink:href=\"#DejaVuSans-48\"/>\n      </g>\n     </g>\n    </g>\n    <g id=\"xtick_2\">\n     <g id=\"line2d_2\">\n      <g>\n       <use style=\"stroke:#000000;stroke-width:0.8;\" x=\"135.782143\" xlink:href=\"#m1f7d30916d\" y=\"239.758125\"/>\n      </g>\n     </g>\n     <g id=\"text_2\">\n      <!-- 20000 -->\n      <defs>\n       <path d=\"M 19.1875 8.296875 \nL 53.609375 8.296875 \nL 53.609375 0 \nL 7.328125 0 \nL 7.328125 8.296875 \nQ 12.9375 14.109375 22.625 23.890625 \nQ 32.328125 33.6875 34.8125 36.53125 \nQ 39.546875 41.84375 41.421875 45.53125 \nQ 43.3125 49.21875 43.3125 52.78125 \nQ 43.3125 58.59375 39.234375 62.25 \nQ 35.15625 65.921875 28.609375 65.921875 \nQ 23.96875 65.921875 18.8125 64.3125 \nQ 13.671875 62.703125 7.8125 59.421875 \nL 7.8125 69.390625 \nQ 13.765625 71.78125 18.9375 73 \nQ 24.125 74.21875 28.421875 74.21875 \nQ 39.75 74.21875 46.484375 68.546875 \nQ 53.21875 62.890625 53.21875 53.421875 \nQ 53.21875 48.921875 51.53125 44.890625 \nQ 49.859375 40.875 45.40625 35.40625 \nQ 44.1875 33.984375 37.640625 27.21875 \nQ 31.109375 20.453125 19.1875 8.296875 \nz\n\" id=\"DejaVuSans-50\"/>\n      </defs>\n      <g transform=\"translate(119.875893 254.356562)scale(0.1 -0.1)\">\n       <use xlink:href=\"#DejaVuSans-50\"/>\n       <use x=\"63.623047\" xlink:href=\"#DejaVuSans-48\"/>\n       <use x=\"127.246094\" xlink:href=\"#DejaVuSans-48\"/>\n       <use x=\"190.869141\" xlink:href=\"#DejaVuSans-48\"/>\n       <use x=\"254.492188\" xlink:href=\"#DejaVuSans-48\"/>\n      </g>\n     </g>\n    </g>\n    <g id=\"xtick_3\">\n     <g id=\"line2d_3\">\n      <g>\n       <use style=\"stroke:#000000;stroke-width:0.8;\" x=\"196.655479\" xlink:href=\"#m1f7d30916d\" y=\"239.758125\"/>\n      </g>\n     </g>\n     <g id=\"text_3\">\n      <!-- 40000 -->\n      <defs>\n       <path d=\"M 37.796875 64.3125 \nL 12.890625 25.390625 \nL 37.796875 25.390625 \nz\nM 35.203125 72.90625 \nL 47.609375 72.90625 \nL 47.609375 25.390625 \nL 58.015625 25.390625 \nL 58.015625 17.1875 \nL 47.609375 17.1875 \nL 47.609375 0 \nL 37.796875 0 \nL 37.796875 17.1875 \nL 4.890625 17.1875 \nL 4.890625 26.703125 \nz\n\" id=\"DejaVuSans-52\"/>\n      </defs>\n      <g transform=\"translate(180.749229 254.356562)scale(0.1 -0.1)\">\n       <use xlink:href=\"#DejaVuSans-52\"/>\n       <use x=\"63.623047\" xlink:href=\"#DejaVuSans-48\"/>\n       <use x=\"127.246094\" xlink:href=\"#DejaVuSans-48\"/>\n       <use x=\"190.869141\" xlink:href=\"#DejaVuSans-48\"/>\n       <use x=\"254.492188\" xlink:href=\"#DejaVuSans-48\"/>\n      </g>\n     </g>\n    </g>\n    <g id=\"xtick_4\">\n     <g id=\"line2d_4\">\n      <g>\n       <use style=\"stroke:#000000;stroke-width:0.8;\" x=\"257.528815\" xlink:href=\"#m1f7d30916d\" y=\"239.758125\"/>\n      </g>\n     </g>\n     <g id=\"text_4\">\n      <!-- 60000 -->\n      <defs>\n       <path d=\"M 33.015625 40.375 \nQ 26.375 40.375 22.484375 35.828125 \nQ 18.609375 31.296875 18.609375 23.390625 \nQ 18.609375 15.53125 22.484375 10.953125 \nQ 26.375 6.390625 33.015625 6.390625 \nQ 39.65625 6.390625 43.53125 10.953125 \nQ 47.40625 15.53125 47.40625 23.390625 \nQ 47.40625 31.296875 43.53125 35.828125 \nQ 39.65625 40.375 33.015625 40.375 \nz\nM 52.59375 71.296875 \nL 52.59375 62.3125 \nQ 48.875 64.0625 45.09375 64.984375 \nQ 41.3125 65.921875 37.59375 65.921875 \nQ 27.828125 65.921875 22.671875 59.328125 \nQ 17.53125 52.734375 16.796875 39.40625 \nQ 19.671875 43.65625 24.015625 45.921875 \nQ 28.375 48.1875 33.59375 48.1875 \nQ 44.578125 48.1875 50.953125 41.515625 \nQ 57.328125 34.859375 57.328125 23.390625 \nQ 57.328125 12.15625 50.6875 5.359375 \nQ 44.046875 -1.421875 33.015625 -1.421875 \nQ 20.359375 -1.421875 13.671875 8.265625 \nQ 6.984375 17.96875 6.984375 36.375 \nQ 6.984375 53.65625 15.1875 63.9375 \nQ 23.390625 74.21875 37.203125 74.21875 \nQ 40.921875 74.21875 44.703125 73.484375 \nQ 48.484375 72.75 52.59375 71.296875 \nz\n\" id=\"DejaVuSans-54\"/>\n      </defs>\n      <g transform=\"translate(241.622565 254.356562)scale(0.1 -0.1)\">\n       <use xlink:href=\"#DejaVuSans-54\"/>\n       <use x=\"63.623047\" xlink:href=\"#DejaVuSans-48\"/>\n       <use x=\"127.246094\" xlink:href=\"#DejaVuSans-48\"/>\n       <use x=\"190.869141\" xlink:href=\"#DejaVuSans-48\"/>\n       <use x=\"254.492188\" xlink:href=\"#DejaVuSans-48\"/>\n      </g>\n     </g>\n    </g>\n    <g id=\"xtick_5\">\n     <g id=\"line2d_5\">\n      <g>\n       <use style=\"stroke:#000000;stroke-width:0.8;\" x=\"318.402151\" xlink:href=\"#m1f7d30916d\" y=\"239.758125\"/>\n      </g>\n     </g>\n     <g id=\"text_5\">\n      <!-- 80000 -->\n      <defs>\n       <path d=\"M 31.78125 34.625 \nQ 24.75 34.625 20.71875 30.859375 \nQ 16.703125 27.09375 16.703125 20.515625 \nQ 16.703125 13.921875 20.71875 10.15625 \nQ 24.75 6.390625 31.78125 6.390625 \nQ 38.8125 6.390625 42.859375 10.171875 \nQ 46.921875 13.96875 46.921875 20.515625 \nQ 46.921875 27.09375 42.890625 30.859375 \nQ 38.875 34.625 31.78125 34.625 \nz\nM 21.921875 38.8125 \nQ 15.578125 40.375 12.03125 44.71875 \nQ 8.5 49.078125 8.5 55.328125 \nQ 8.5 64.0625 14.71875 69.140625 \nQ 20.953125 74.21875 31.78125 74.21875 \nQ 42.671875 74.21875 48.875 69.140625 \nQ 55.078125 64.0625 55.078125 55.328125 \nQ 55.078125 49.078125 51.53125 44.71875 \nQ 48 40.375 41.703125 38.8125 \nQ 48.828125 37.15625 52.796875 32.3125 \nQ 56.78125 27.484375 56.78125 20.515625 \nQ 56.78125 9.90625 50.3125 4.234375 \nQ 43.84375 -1.421875 31.78125 -1.421875 \nQ 19.734375 -1.421875 13.25 4.234375 \nQ 6.78125 9.90625 6.78125 20.515625 \nQ 6.78125 27.484375 10.78125 32.3125 \nQ 14.796875 37.15625 21.921875 38.8125 \nz\nM 18.3125 54.390625 \nQ 18.3125 48.734375 21.84375 45.5625 \nQ 25.390625 42.390625 31.78125 42.390625 \nQ 38.140625 42.390625 41.71875 45.5625 \nQ 45.3125 48.734375 45.3125 54.390625 \nQ 45.3125 60.0625 41.71875 63.234375 \nQ 38.140625 66.40625 31.78125 66.40625 \nQ 25.390625 66.40625 21.84375 63.234375 \nQ 18.3125 60.0625 18.3125 54.390625 \nz\n\" id=\"DejaVuSans-56\"/>\n      </defs>\n      <g transform=\"translate(302.495901 254.356562)scale(0.1 -0.1)\">\n       <use xlink:href=\"#DejaVuSans-56\"/>\n       <use x=\"63.623047\" xlink:href=\"#DejaVuSans-48\"/>\n       <use x=\"127.246094\" xlink:href=\"#DejaVuSans-48\"/>\n       <use x=\"190.869141\" xlink:href=\"#DejaVuSans-48\"/>\n       <use x=\"254.492188\" xlink:href=\"#DejaVuSans-48\"/>\n      </g>\n     </g>\n    </g>\n    <g id=\"xtick_6\">\n     <g id=\"line2d_6\">\n      <g>\n       <use style=\"stroke:#000000;stroke-width:0.8;\" x=\"379.275487\" xlink:href=\"#m1f7d30916d\" y=\"239.758125\"/>\n      </g>\n     </g>\n     <g id=\"text_6\">\n      <!-- 100000 -->\n      <defs>\n       <path d=\"M 12.40625 8.296875 \nL 28.515625 8.296875 \nL 28.515625 63.921875 \nL 10.984375 60.40625 \nL 10.984375 69.390625 \nL 28.421875 72.90625 \nL 38.28125 72.90625 \nL 38.28125 8.296875 \nL 54.390625 8.296875 \nL 54.390625 0 \nL 12.40625 0 \nz\n\" id=\"DejaVuSans-49\"/>\n      </defs>\n      <g transform=\"translate(360.187987 254.356562)scale(0.1 -0.1)\">\n       <use xlink:href=\"#DejaVuSans-49\"/>\n       <use x=\"63.623047\" xlink:href=\"#DejaVuSans-48\"/>\n       <use x=\"127.246094\" xlink:href=\"#DejaVuSans-48\"/>\n       <use x=\"190.869141\" xlink:href=\"#DejaVuSans-48\"/>\n       <use x=\"254.492188\" xlink:href=\"#DejaVuSans-48\"/>\n       <use x=\"318.115234\" xlink:href=\"#DejaVuSans-48\"/>\n      </g>\n     </g>\n    </g>\n    <g id=\"text_7\">\n     <!-- Cantidad De Solicitudes Totales -->\n     <defs>\n      <path d=\"M 64.40625 67.28125 \nL 64.40625 56.890625 \nQ 59.421875 61.53125 53.78125 63.8125 \nQ 48.140625 66.109375 41.796875 66.109375 \nQ 29.296875 66.109375 22.65625 58.46875 \nQ 16.015625 50.828125 16.015625 36.375 \nQ 16.015625 21.96875 22.65625 14.328125 \nQ 29.296875 6.6875 41.796875 6.6875 \nQ 48.140625 6.6875 53.78125 8.984375 \nQ 59.421875 11.28125 64.40625 15.921875 \nL 64.40625 5.609375 \nQ 59.234375 2.09375 53.4375 0.328125 \nQ 47.65625 -1.421875 41.21875 -1.421875 \nQ 24.65625 -1.421875 15.125 8.703125 \nQ 5.609375 18.84375 5.609375 36.375 \nQ 5.609375 53.953125 15.125 64.078125 \nQ 24.65625 74.21875 41.21875 74.21875 \nQ 47.75 74.21875 53.53125 72.484375 \nQ 59.328125 70.75 64.40625 67.28125 \nz\n\" id=\"DejaVuSans-67\"/>\n      <path d=\"M 34.28125 27.484375 \nQ 23.390625 27.484375 19.1875 25 \nQ 14.984375 22.515625 14.984375 16.5 \nQ 14.984375 11.71875 18.140625 8.90625 \nQ 21.296875 6.109375 26.703125 6.109375 \nQ 34.1875 6.109375 38.703125 11.40625 \nQ 43.21875 16.703125 43.21875 25.484375 \nL 43.21875 27.484375 \nz\nM 52.203125 31.203125 \nL 52.203125 0 \nL 43.21875 0 \nL 43.21875 8.296875 \nQ 40.140625 3.328125 35.546875 0.953125 \nQ 30.953125 -1.421875 24.3125 -1.421875 \nQ 15.921875 -1.421875 10.953125 3.296875 \nQ 6 8.015625 6 15.921875 \nQ 6 25.140625 12.171875 29.828125 \nQ 18.359375 34.515625 30.609375 34.515625 \nL 43.21875 34.515625 \nL 43.21875 35.40625 \nQ 43.21875 41.609375 39.140625 45 \nQ 35.0625 48.390625 27.6875 48.390625 \nQ 23 48.390625 18.546875 47.265625 \nQ 14.109375 46.140625 10.015625 43.890625 \nL 10.015625 52.203125 \nQ 14.9375 54.109375 19.578125 55.046875 \nQ 24.21875 56 28.609375 56 \nQ 40.484375 56 46.34375 49.84375 \nQ 52.203125 43.703125 52.203125 31.203125 \nz\n\" id=\"DejaVuSans-97\"/>\n      <path d=\"M 54.890625 33.015625 \nL 54.890625 0 \nL 45.90625 0 \nL 45.90625 32.71875 \nQ 45.90625 40.484375 42.875 44.328125 \nQ 39.84375 48.1875 33.796875 48.1875 \nQ 26.515625 48.1875 22.3125 43.546875 \nQ 18.109375 38.921875 18.109375 30.90625 \nL 18.109375 0 \nL 9.078125 0 \nL 9.078125 54.6875 \nL 18.109375 54.6875 \nL 18.109375 46.1875 \nQ 21.34375 51.125 25.703125 53.5625 \nQ 30.078125 56 35.796875 56 \nQ 45.21875 56 50.046875 50.171875 \nQ 54.890625 44.34375 54.890625 33.015625 \nz\n\" id=\"DejaVuSans-110\"/>\n      <path d=\"M 18.3125 70.21875 \nL 18.3125 54.6875 \nL 36.8125 54.6875 \nL 36.8125 47.703125 \nL 18.3125 47.703125 \nL 18.3125 18.015625 \nQ 18.3125 11.328125 20.140625 9.421875 \nQ 21.96875 7.515625 27.59375 7.515625 \nL 36.8125 7.515625 \nL 36.8125 0 \nL 27.59375 0 \nQ 17.1875 0 13.234375 3.875 \nQ 9.28125 7.765625 9.28125 18.015625 \nL 9.28125 47.703125 \nL 2.6875 47.703125 \nL 2.6875 54.6875 \nL 9.28125 54.6875 \nL 9.28125 70.21875 \nz\n\" id=\"DejaVuSans-116\"/>\n      <path d=\"M 9.421875 54.6875 \nL 18.40625 54.6875 \nL 18.40625 0 \nL 9.421875 0 \nz\nM 9.421875 75.984375 \nL 18.40625 75.984375 \nL 18.40625 64.59375 \nL 9.421875 64.59375 \nz\n\" id=\"DejaVuSans-105\"/>\n      <path d=\"M 45.40625 46.390625 \nL 45.40625 75.984375 \nL 54.390625 75.984375 \nL 54.390625 0 \nL 45.40625 0 \nL 45.40625 8.203125 \nQ 42.578125 3.328125 38.25 0.953125 \nQ 33.9375 -1.421875 27.875 -1.421875 \nQ 17.96875 -1.421875 11.734375 6.484375 \nQ 5.515625 14.40625 5.515625 27.296875 \nQ 5.515625 40.1875 11.734375 48.09375 \nQ 17.96875 56 27.875 56 \nQ 33.9375 56 38.25 53.625 \nQ 42.578125 51.265625 45.40625 46.390625 \nz\nM 14.796875 27.296875 \nQ 14.796875 17.390625 18.875 11.75 \nQ 22.953125 6.109375 30.078125 6.109375 \nQ 37.203125 6.109375 41.296875 11.75 \nQ 45.40625 17.390625 45.40625 27.296875 \nQ 45.40625 37.203125 41.296875 42.84375 \nQ 37.203125 48.484375 30.078125 48.484375 \nQ 22.953125 48.484375 18.875 42.84375 \nQ 14.796875 37.203125 14.796875 27.296875 \nz\n\" id=\"DejaVuSans-100\"/>\n      <path id=\"DejaVuSans-32\"/>\n      <path d=\"M 19.671875 64.796875 \nL 19.671875 8.109375 \nL 31.59375 8.109375 \nQ 46.6875 8.109375 53.6875 14.9375 \nQ 60.6875 21.78125 60.6875 36.53125 \nQ 60.6875 51.171875 53.6875 57.984375 \nQ 46.6875 64.796875 31.59375 64.796875 \nz\nM 9.8125 72.90625 \nL 30.078125 72.90625 \nQ 51.265625 72.90625 61.171875 64.09375 \nQ 71.09375 55.28125 71.09375 36.53125 \nQ 71.09375 17.671875 61.125 8.828125 \nQ 51.171875 0 30.078125 0 \nL 9.8125 0 \nz\n\" id=\"DejaVuSans-68\"/>\n      <path d=\"M 56.203125 29.59375 \nL 56.203125 25.203125 \nL 14.890625 25.203125 \nQ 15.484375 15.921875 20.484375 11.0625 \nQ 25.484375 6.203125 34.421875 6.203125 \nQ 39.59375 6.203125 44.453125 7.46875 \nQ 49.3125 8.734375 54.109375 11.28125 \nL 54.109375 2.78125 \nQ 49.265625 0.734375 44.1875 -0.34375 \nQ 39.109375 -1.421875 33.890625 -1.421875 \nQ 20.796875 -1.421875 13.15625 6.1875 \nQ 5.515625 13.8125 5.515625 26.8125 \nQ 5.515625 40.234375 12.765625 48.109375 \nQ 20.015625 56 32.328125 56 \nQ 43.359375 56 49.78125 48.890625 \nQ 56.203125 41.796875 56.203125 29.59375 \nz\nM 47.21875 32.234375 \nQ 47.125 39.59375 43.09375 43.984375 \nQ 39.0625 48.390625 32.421875 48.390625 \nQ 24.90625 48.390625 20.390625 44.140625 \nQ 15.875 39.890625 15.1875 32.171875 \nz\n\" id=\"DejaVuSans-101\"/>\n      <path d=\"M 53.515625 70.515625 \nL 53.515625 60.890625 \nQ 47.90625 63.578125 42.921875 64.890625 \nQ 37.9375 66.21875 33.296875 66.21875 \nQ 25.25 66.21875 20.875 63.09375 \nQ 16.5 59.96875 16.5 54.203125 \nQ 16.5 49.359375 19.40625 46.890625 \nQ 22.3125 44.4375 30.421875 42.921875 \nL 36.375 41.703125 \nQ 47.40625 39.59375 52.65625 34.296875 \nQ 57.90625 29 57.90625 20.125 \nQ 57.90625 9.515625 50.796875 4.046875 \nQ 43.703125 -1.421875 29.984375 -1.421875 \nQ 24.8125 -1.421875 18.96875 -0.25 \nQ 13.140625 0.921875 6.890625 3.21875 \nL 6.890625 13.375 \nQ 12.890625 10.015625 18.65625 8.296875 \nQ 24.421875 6.59375 29.984375 6.59375 \nQ 38.421875 6.59375 43.015625 9.90625 \nQ 47.609375 13.234375 47.609375 19.390625 \nQ 47.609375 24.75 44.3125 27.78125 \nQ 41.015625 30.8125 33.5 32.328125 \nL 27.484375 33.5 \nQ 16.453125 35.6875 11.515625 40.375 \nQ 6.59375 45.0625 6.59375 53.421875 \nQ 6.59375 63.09375 13.40625 68.65625 \nQ 20.21875 74.21875 32.171875 74.21875 \nQ 37.3125 74.21875 42.625 73.28125 \nQ 47.953125 72.359375 53.515625 70.515625 \nz\n\" id=\"DejaVuSans-83\"/>\n      <path d=\"M 30.609375 48.390625 \nQ 23.390625 48.390625 19.1875 42.75 \nQ 14.984375 37.109375 14.984375 27.296875 \nQ 14.984375 17.484375 19.15625 11.84375 \nQ 23.34375 6.203125 30.609375 6.203125 \nQ 37.796875 6.203125 41.984375 11.859375 \nQ 46.1875 17.53125 46.1875 27.296875 \nQ 46.1875 37.015625 41.984375 42.703125 \nQ 37.796875 48.390625 30.609375 48.390625 \nz\nM 30.609375 56 \nQ 42.328125 56 49.015625 48.375 \nQ 55.71875 40.765625 55.71875 27.296875 \nQ 55.71875 13.875 49.015625 6.21875 \nQ 42.328125 -1.421875 30.609375 -1.421875 \nQ 18.84375 -1.421875 12.171875 6.21875 \nQ 5.515625 13.875 5.515625 27.296875 \nQ 5.515625 40.765625 12.171875 48.375 \nQ 18.84375 56 30.609375 56 \nz\n\" id=\"DejaVuSans-111\"/>\n      <path d=\"M 9.421875 75.984375 \nL 18.40625 75.984375 \nL 18.40625 0 \nL 9.421875 0 \nz\n\" id=\"DejaVuSans-108\"/>\n      <path d=\"M 48.78125 52.59375 \nL 48.78125 44.1875 \nQ 44.96875 46.296875 41.140625 47.34375 \nQ 37.3125 48.390625 33.40625 48.390625 \nQ 24.65625 48.390625 19.8125 42.84375 \nQ 14.984375 37.3125 14.984375 27.296875 \nQ 14.984375 17.28125 19.8125 11.734375 \nQ 24.65625 6.203125 33.40625 6.203125 \nQ 37.3125 6.203125 41.140625 7.25 \nQ 44.96875 8.296875 48.78125 10.40625 \nL 48.78125 2.09375 \nQ 45.015625 0.34375 40.984375 -0.53125 \nQ 36.96875 -1.421875 32.421875 -1.421875 \nQ 20.0625 -1.421875 12.78125 6.34375 \nQ 5.515625 14.109375 5.515625 27.296875 \nQ 5.515625 40.671875 12.859375 48.328125 \nQ 20.21875 56 33.015625 56 \nQ 37.15625 56 41.109375 55.140625 \nQ 45.0625 54.296875 48.78125 52.59375 \nz\n\" id=\"DejaVuSans-99\"/>\n      <path d=\"M 8.5 21.578125 \nL 8.5 54.6875 \nL 17.484375 54.6875 \nL 17.484375 21.921875 \nQ 17.484375 14.15625 20.5 10.265625 \nQ 23.53125 6.390625 29.59375 6.390625 \nQ 36.859375 6.390625 41.078125 11.03125 \nQ 45.3125 15.671875 45.3125 23.6875 \nL 45.3125 54.6875 \nL 54.296875 54.6875 \nL 54.296875 0 \nL 45.3125 0 \nL 45.3125 8.40625 \nQ 42.046875 3.421875 37.71875 1 \nQ 33.40625 -1.421875 27.6875 -1.421875 \nQ 18.265625 -1.421875 13.375 4.4375 \nQ 8.5 10.296875 8.5 21.578125 \nz\nM 31.109375 56 \nz\n\" id=\"DejaVuSans-117\"/>\n      <path d=\"M 44.28125 53.078125 \nL 44.28125 44.578125 \nQ 40.484375 46.53125 36.375 47.5 \nQ 32.28125 48.484375 27.875 48.484375 \nQ 21.1875 48.484375 17.84375 46.4375 \nQ 14.5 44.390625 14.5 40.28125 \nQ 14.5 37.15625 16.890625 35.375 \nQ 19.28125 33.59375 26.515625 31.984375 \nL 29.59375 31.296875 \nQ 39.15625 29.25 43.1875 25.515625 \nQ 47.21875 21.78125 47.21875 15.09375 \nQ 47.21875 7.46875 41.1875 3.015625 \nQ 35.15625 -1.421875 24.609375 -1.421875 \nQ 20.21875 -1.421875 15.453125 -0.5625 \nQ 10.6875 0.296875 5.421875 2 \nL 5.421875 11.28125 \nQ 10.40625 8.6875 15.234375 7.390625 \nQ 20.0625 6.109375 24.8125 6.109375 \nQ 31.15625 6.109375 34.5625 8.28125 \nQ 37.984375 10.453125 37.984375 14.40625 \nQ 37.984375 18.0625 35.515625 20.015625 \nQ 33.0625 21.96875 24.703125 23.78125 \nL 21.578125 24.515625 \nQ 13.234375 26.265625 9.515625 29.90625 \nQ 5.8125 33.546875 5.8125 39.890625 \nQ 5.8125 47.609375 11.28125 51.796875 \nQ 16.75 56 26.8125 56 \nQ 31.78125 56 36.171875 55.265625 \nQ 40.578125 54.546875 44.28125 53.078125 \nz\n\" id=\"DejaVuSans-115\"/>\n      <path d=\"M -0.296875 72.90625 \nL 61.375 72.90625 \nL 61.375 64.59375 \nL 35.5 64.59375 \nL 35.5 0 \nL 25.59375 0 \nL 25.59375 64.59375 \nL -0.296875 64.59375 \nz\n\" id=\"DejaVuSans-84\"/>\n     </defs>\n     <g transform=\"translate(148.41875 268.034687)scale(0.1 -0.1)\">\n      <use xlink:href=\"#DejaVuSans-67\"/>\n      <use x=\"69.824219\" xlink:href=\"#DejaVuSans-97\"/>\n      <use x=\"131.103516\" xlink:href=\"#DejaVuSans-110\"/>\n      <use x=\"194.482422\" xlink:href=\"#DejaVuSans-116\"/>\n      <use x=\"233.691406\" xlink:href=\"#DejaVuSans-105\"/>\n      <use x=\"261.474609\" xlink:href=\"#DejaVuSans-100\"/>\n      <use x=\"324.951172\" xlink:href=\"#DejaVuSans-97\"/>\n      <use x=\"386.230469\" xlink:href=\"#DejaVuSans-100\"/>\n      <use x=\"449.707031\" xlink:href=\"#DejaVuSans-32\"/>\n      <use x=\"481.494141\" xlink:href=\"#DejaVuSans-68\"/>\n      <use x=\"558.496094\" xlink:href=\"#DejaVuSans-101\"/>\n      <use x=\"620.019531\" xlink:href=\"#DejaVuSans-32\"/>\n      <use x=\"651.806641\" xlink:href=\"#DejaVuSans-83\"/>\n      <use x=\"715.283203\" xlink:href=\"#DejaVuSans-111\"/>\n      <use x=\"776.464844\" xlink:href=\"#DejaVuSans-108\"/>\n      <use x=\"804.248047\" xlink:href=\"#DejaVuSans-105\"/>\n      <use x=\"832.03125\" xlink:href=\"#DejaVuSans-99\"/>\n      <use x=\"887.011719\" xlink:href=\"#DejaVuSans-105\"/>\n      <use x=\"914.794922\" xlink:href=\"#DejaVuSans-116\"/>\n      <use x=\"954.003906\" xlink:href=\"#DejaVuSans-117\"/>\n      <use x=\"1017.382812\" xlink:href=\"#DejaVuSans-100\"/>\n      <use x=\"1080.859375\" xlink:href=\"#DejaVuSans-101\"/>\n      <use x=\"1142.382812\" xlink:href=\"#DejaVuSans-115\"/>\n      <use x=\"1194.482422\" xlink:href=\"#DejaVuSans-32\"/>\n      <use x=\"1226.269531\" xlink:href=\"#DejaVuSans-84\"/>\n      <use x=\"1270.353516\" xlink:href=\"#DejaVuSans-111\"/>\n      <use x=\"1331.535156\" xlink:href=\"#DejaVuSans-116\"/>\n      <use x=\"1370.744141\" xlink:href=\"#DejaVuSans-97\"/>\n      <use x=\"1432.023438\" xlink:href=\"#DejaVuSans-108\"/>\n      <use x=\"1459.806641\" xlink:href=\"#DejaVuSans-101\"/>\n      <use x=\"1521.330078\" xlink:href=\"#DejaVuSans-115\"/>\n     </g>\n    </g>\n   </g>\n   <g id=\"matplotlib.axis_2\">\n    <g id=\"ytick_1\">\n     <g id=\"line2d_7\">\n      <defs>\n       <path d=\"M 0 0 \nL -3.5 0 \n\" id=\"mbf985147fb\" style=\"stroke:#000000;stroke-width:0.8;\"/>\n      </defs>\n      <g>\n       <use style=\"stroke:#000000;stroke-width:0.8;\" x=\"59.690625\" xlink:href=\"#mbf985147fb\" y=\"229.874489\"/>\n      </g>\n     </g>\n     <g id=\"text_8\">\n      <!-- 0 -->\n      <g transform=\"translate(46.328125 233.673707)scale(0.1 -0.1)\">\n       <use xlink:href=\"#DejaVuSans-48\"/>\n      </g>\n     </g>\n    </g>\n    <g id=\"ytick_2\">\n     <g id=\"line2d_8\">\n      <g>\n       <use style=\"stroke:#000000;stroke-width:0.8;\" x=\"59.690625\" xlink:href=\"#mbf985147fb\" y=\"194.606232\"/>\n      </g>\n     </g>\n     <g id=\"text_9\">\n      <!-- 10000 -->\n      <g transform=\"translate(20.878125 198.40545)scale(0.1 -0.1)\">\n       <use xlink:href=\"#DejaVuSans-49\"/>\n       <use x=\"63.623047\" xlink:href=\"#DejaVuSans-48\"/>\n       <use x=\"127.246094\" xlink:href=\"#DejaVuSans-48\"/>\n       <use x=\"190.869141\" xlink:href=\"#DejaVuSans-48\"/>\n       <use x=\"254.492188\" xlink:href=\"#DejaVuSans-48\"/>\n      </g>\n     </g>\n    </g>\n    <g id=\"ytick_3\">\n     <g id=\"line2d_9\">\n      <g>\n       <use style=\"stroke:#000000;stroke-width:0.8;\" x=\"59.690625\" xlink:href=\"#mbf985147fb\" y=\"159.337975\"/>\n      </g>\n     </g>\n     <g id=\"text_10\">\n      <!-- 20000 -->\n      <g transform=\"translate(20.878125 163.137193)scale(0.1 -0.1)\">\n       <use xlink:href=\"#DejaVuSans-50\"/>\n       <use x=\"63.623047\" xlink:href=\"#DejaVuSans-48\"/>\n       <use x=\"127.246094\" xlink:href=\"#DejaVuSans-48\"/>\n       <use x=\"190.869141\" xlink:href=\"#DejaVuSans-48\"/>\n       <use x=\"254.492188\" xlink:href=\"#DejaVuSans-48\"/>\n      </g>\n     </g>\n    </g>\n    <g id=\"ytick_4\">\n     <g id=\"line2d_10\">\n      <g>\n       <use style=\"stroke:#000000;stroke-width:0.8;\" x=\"59.690625\" xlink:href=\"#mbf985147fb\" y=\"124.069718\"/>\n      </g>\n     </g>\n     <g id=\"text_11\">\n      <!-- 30000 -->\n      <defs>\n       <path d=\"M 40.578125 39.3125 \nQ 47.65625 37.796875 51.625 33 \nQ 55.609375 28.21875 55.609375 21.1875 \nQ 55.609375 10.40625 48.1875 4.484375 \nQ 40.765625 -1.421875 27.09375 -1.421875 \nQ 22.515625 -1.421875 17.65625 -0.515625 \nQ 12.796875 0.390625 7.625 2.203125 \nL 7.625 11.71875 \nQ 11.71875 9.328125 16.59375 8.109375 \nQ 21.484375 6.890625 26.8125 6.890625 \nQ 36.078125 6.890625 40.9375 10.546875 \nQ 45.796875 14.203125 45.796875 21.1875 \nQ 45.796875 27.640625 41.28125 31.265625 \nQ 36.765625 34.90625 28.71875 34.90625 \nL 20.21875 34.90625 \nL 20.21875 43.015625 \nL 29.109375 43.015625 \nQ 36.375 43.015625 40.234375 45.921875 \nQ 44.09375 48.828125 44.09375 54.296875 \nQ 44.09375 59.90625 40.109375 62.90625 \nQ 36.140625 65.921875 28.71875 65.921875 \nQ 24.65625 65.921875 20.015625 65.03125 \nQ 15.375 64.15625 9.8125 62.3125 \nL 9.8125 71.09375 \nQ 15.4375 72.65625 20.34375 73.4375 \nQ 25.25 74.21875 29.59375 74.21875 \nQ 40.828125 74.21875 47.359375 69.109375 \nQ 53.90625 64.015625 53.90625 55.328125 \nQ 53.90625 49.265625 50.4375 45.09375 \nQ 46.96875 40.921875 40.578125 39.3125 \nz\n\" id=\"DejaVuSans-51\"/>\n      </defs>\n      <g transform=\"translate(20.878125 127.868936)scale(0.1 -0.1)\">\n       <use xlink:href=\"#DejaVuSans-51\"/>\n       <use x=\"63.623047\" xlink:href=\"#DejaVuSans-48\"/>\n       <use x=\"127.246094\" xlink:href=\"#DejaVuSans-48\"/>\n       <use x=\"190.869141\" xlink:href=\"#DejaVuSans-48\"/>\n       <use x=\"254.492188\" xlink:href=\"#DejaVuSans-48\"/>\n      </g>\n     </g>\n    </g>\n    <g id=\"ytick_5\">\n     <g id=\"line2d_11\">\n      <g>\n       <use style=\"stroke:#000000;stroke-width:0.8;\" x=\"59.690625\" xlink:href=\"#mbf985147fb\" y=\"88.80146\"/>\n      </g>\n     </g>\n     <g id=\"text_12\">\n      <!-- 40000 -->\n      <g transform=\"translate(20.878125 92.600679)scale(0.1 -0.1)\">\n       <use xlink:href=\"#DejaVuSans-52\"/>\n       <use x=\"63.623047\" xlink:href=\"#DejaVuSans-48\"/>\n       <use x=\"127.246094\" xlink:href=\"#DejaVuSans-48\"/>\n       <use x=\"190.869141\" xlink:href=\"#DejaVuSans-48\"/>\n       <use x=\"254.492188\" xlink:href=\"#DejaVuSans-48\"/>\n      </g>\n     </g>\n    </g>\n    <g id=\"ytick_6\">\n     <g id=\"line2d_12\">\n      <g>\n       <use style=\"stroke:#000000;stroke-width:0.8;\" x=\"59.690625\" xlink:href=\"#mbf985147fb\" y=\"53.533203\"/>\n      </g>\n     </g>\n     <g id=\"text_13\">\n      <!-- 50000 -->\n      <defs>\n       <path d=\"M 10.796875 72.90625 \nL 49.515625 72.90625 \nL 49.515625 64.59375 \nL 19.828125 64.59375 \nL 19.828125 46.734375 \nQ 21.96875 47.46875 24.109375 47.828125 \nQ 26.265625 48.1875 28.421875 48.1875 \nQ 40.625 48.1875 47.75 41.5 \nQ 54.890625 34.8125 54.890625 23.390625 \nQ 54.890625 11.625 47.5625 5.09375 \nQ 40.234375 -1.421875 26.90625 -1.421875 \nQ 22.3125 -1.421875 17.546875 -0.640625 \nQ 12.796875 0.140625 7.71875 1.703125 \nL 7.71875 11.625 \nQ 12.109375 9.234375 16.796875 8.0625 \nQ 21.484375 6.890625 26.703125 6.890625 \nQ 35.15625 6.890625 40.078125 11.328125 \nQ 45.015625 15.765625 45.015625 23.390625 \nQ 45.015625 31 40.078125 35.4375 \nQ 35.15625 39.890625 26.703125 39.890625 \nQ 22.75 39.890625 18.8125 39.015625 \nQ 14.890625 38.140625 10.796875 36.28125 \nz\n\" id=\"DejaVuSans-53\"/>\n      </defs>\n      <g transform=\"translate(20.878125 57.332422)scale(0.1 -0.1)\">\n       <use xlink:href=\"#DejaVuSans-53\"/>\n       <use x=\"63.623047\" xlink:href=\"#DejaVuSans-48\"/>\n       <use x=\"127.246094\" xlink:href=\"#DejaVuSans-48\"/>\n       <use x=\"190.869141\" xlink:href=\"#DejaVuSans-48\"/>\n       <use x=\"254.492188\" xlink:href=\"#DejaVuSans-48\"/>\n      </g>\n     </g>\n    </g>\n    <g id=\"text_14\">\n     <!-- Tiempo En Segundos -->\n     <defs>\n      <path d=\"M 52 44.1875 \nQ 55.375 50.25 60.0625 53.125 \nQ 64.75 56 71.09375 56 \nQ 79.640625 56 84.28125 50.015625 \nQ 88.921875 44.046875 88.921875 33.015625 \nL 88.921875 0 \nL 79.890625 0 \nL 79.890625 32.71875 \nQ 79.890625 40.578125 77.09375 44.375 \nQ 74.3125 48.1875 68.609375 48.1875 \nQ 61.625 48.1875 57.5625 43.546875 \nQ 53.515625 38.921875 53.515625 30.90625 \nL 53.515625 0 \nL 44.484375 0 \nL 44.484375 32.71875 \nQ 44.484375 40.625 41.703125 44.40625 \nQ 38.921875 48.1875 33.109375 48.1875 \nQ 26.21875 48.1875 22.15625 43.53125 \nQ 18.109375 38.875 18.109375 30.90625 \nL 18.109375 0 \nL 9.078125 0 \nL 9.078125 54.6875 \nL 18.109375 54.6875 \nL 18.109375 46.1875 \nQ 21.1875 51.21875 25.484375 53.609375 \nQ 29.78125 56 35.6875 56 \nQ 41.65625 56 45.828125 52.96875 \nQ 50 49.953125 52 44.1875 \nz\n\" id=\"DejaVuSans-109\"/>\n      <path d=\"M 18.109375 8.203125 \nL 18.109375 -20.796875 \nL 9.078125 -20.796875 \nL 9.078125 54.6875 \nL 18.109375 54.6875 \nL 18.109375 46.390625 \nQ 20.953125 51.265625 25.265625 53.625 \nQ 29.59375 56 35.59375 56 \nQ 45.5625 56 51.78125 48.09375 \nQ 58.015625 40.1875 58.015625 27.296875 \nQ 58.015625 14.40625 51.78125 6.484375 \nQ 45.5625 -1.421875 35.59375 -1.421875 \nQ 29.59375 -1.421875 25.265625 0.953125 \nQ 20.953125 3.328125 18.109375 8.203125 \nz\nM 48.6875 27.296875 \nQ 48.6875 37.203125 44.609375 42.84375 \nQ 40.53125 48.484375 33.40625 48.484375 \nQ 26.265625 48.484375 22.1875 42.84375 \nQ 18.109375 37.203125 18.109375 27.296875 \nQ 18.109375 17.390625 22.1875 11.75 \nQ 26.265625 6.109375 33.40625 6.109375 \nQ 40.53125 6.109375 44.609375 11.75 \nQ 48.6875 17.390625 48.6875 27.296875 \nz\n\" id=\"DejaVuSans-112\"/>\n      <path d=\"M 9.8125 72.90625 \nL 55.90625 72.90625 \nL 55.90625 64.59375 \nL 19.671875 64.59375 \nL 19.671875 43.015625 \nL 54.390625 43.015625 \nL 54.390625 34.71875 \nL 19.671875 34.71875 \nL 19.671875 8.296875 \nL 56.78125 8.296875 \nL 56.78125 0 \nL 9.8125 0 \nz\n\" id=\"DejaVuSans-69\"/>\n      <path d=\"M 45.40625 27.984375 \nQ 45.40625 37.75 41.375 43.109375 \nQ 37.359375 48.484375 30.078125 48.484375 \nQ 22.859375 48.484375 18.828125 43.109375 \nQ 14.796875 37.75 14.796875 27.984375 \nQ 14.796875 18.265625 18.828125 12.890625 \nQ 22.859375 7.515625 30.078125 7.515625 \nQ 37.359375 7.515625 41.375 12.890625 \nQ 45.40625 18.265625 45.40625 27.984375 \nz\nM 54.390625 6.78125 \nQ 54.390625 -7.171875 48.1875 -13.984375 \nQ 42 -20.796875 29.203125 -20.796875 \nQ 24.46875 -20.796875 20.265625 -20.09375 \nQ 16.0625 -19.390625 12.109375 -17.921875 \nL 12.109375 -9.1875 \nQ 16.0625 -11.328125 19.921875 -12.34375 \nQ 23.78125 -13.375 27.78125 -13.375 \nQ 36.625 -13.375 41.015625 -8.765625 \nQ 45.40625 -4.15625 45.40625 5.171875 \nL 45.40625 9.625 \nQ 42.625 4.78125 38.28125 2.390625 \nQ 33.9375 0 27.875 0 \nQ 17.828125 0 11.671875 7.65625 \nQ 5.515625 15.328125 5.515625 27.984375 \nQ 5.515625 40.671875 11.671875 48.328125 \nQ 17.828125 56 27.875 56 \nQ 33.9375 56 38.28125 53.609375 \nQ 42.625 51.21875 45.40625 46.390625 \nL 45.40625 54.6875 \nL 54.390625 54.6875 \nz\n\" id=\"DejaVuSans-103\"/>\n     </defs>\n     <g transform=\"translate(14.798438 183.612344)rotate(-90)scale(0.1 -0.1)\">\n      <use xlink:href=\"#DejaVuSans-84\"/>\n      <use x=\"57.958984\" xlink:href=\"#DejaVuSans-105\"/>\n      <use x=\"85.742188\" xlink:href=\"#DejaVuSans-101\"/>\n      <use x=\"147.265625\" xlink:href=\"#DejaVuSans-109\"/>\n      <use x=\"244.677734\" xlink:href=\"#DejaVuSans-112\"/>\n      <use x=\"308.154297\" xlink:href=\"#DejaVuSans-111\"/>\n      <use x=\"369.335938\" xlink:href=\"#DejaVuSans-32\"/>\n      <use x=\"401.123047\" xlink:href=\"#DejaVuSans-69\"/>\n      <use x=\"464.306641\" xlink:href=\"#DejaVuSans-110\"/>\n      <use x=\"527.685547\" xlink:href=\"#DejaVuSans-32\"/>\n      <use x=\"559.472656\" xlink:href=\"#DejaVuSans-83\"/>\n      <use x=\"622.949219\" xlink:href=\"#DejaVuSans-101\"/>\n      <use x=\"684.472656\" xlink:href=\"#DejaVuSans-103\"/>\n      <use x=\"747.949219\" xlink:href=\"#DejaVuSans-117\"/>\n      <use x=\"811.328125\" xlink:href=\"#DejaVuSans-110\"/>\n      <use x=\"874.707031\" xlink:href=\"#DejaVuSans-100\"/>\n      <use x=\"938.183594\" xlink:href=\"#DejaVuSans-111\"/>\n      <use x=\"999.365234\" xlink:href=\"#DejaVuSans-115\"/>\n     </g>\n    </g>\n   </g>\n   <g id=\"line2d_13\">\n    <path clip-path=\"url(#pc34ef3550a)\" d=\"M 74.908807 229.874489 \nL 75.447536 229.763575 \nL 76.217584 229.561581 \nL 76.336287 229.529838 \nL 76.668046 229.421422 \nL 76.823273 229.394522 \nL 77.200688 229.284753 \nL 77.346784 229.139742 \nL 78.092482 229.029814 \nL 78.357281 228.959801 \nL 78.926447 228.850702 \nL 79.081674 228.825663 \nL 79.65084 228.719884 \nL 79.772586 228.712843 \nL 81.163542 228.366338 \nL 81.285289 228.293776 \nL 81.854454 228.186522 \nL 81.994463 228.152639 \nL 82.718856 228.041845 \nL 83.613694 227.742339 \nL 84.030676 227.631914 \nL 84.15851 227.591021 \nL 84.654628 227.48312 \nL 84.818986 227.416602 \nL 85.16292 227.307256 \nL 85.31206 227.270431 \nL 85.808178 227.103508 \nL 86.46561 226.998631 \nL 86.608662 226.953525 \nL 86.940422 226.84562 \nL 87.116954 226.769319 \nL 87.850478 226.65986 \nL 87.972225 226.613828 \nL 88.182238 226.547706 \nL 88.787927 226.446638 \nL 88.909674 226.420791 \nL 89.609717 226.3106 \nL 89.740595 226.278447 \nL 90.020612 226.169925 \nL 90.148446 226.147081 \nL 90.988499 226.037773 \nL 91.295909 225.894962 \nL 91.907686 225.787455 \nL 92.047695 225.754385 \nL 92.279013 225.64542 \nL 92.574249 225.559806 \nL 92.936445 225.452437 \nL 93.058192 225.43634 \nL 93.688231 225.325753 \nL 93.977379 225.279159 \nL 94.433929 225.173392 \nL 94.552632 225.154936 \nL 95.073099 225.044662 \nL 95.426165 224.923466 \nL 95.867496 224.815078 \nL 96.022723 224.704761 \nL 96.549278 224.595122 \nL 96.981478 224.479671 \nL 97.644998 224.369421 \nL 98.789417 224.109933 \nL 99.045085 224.005618 \nL 99.166831 223.979611 \nL 99.605119 223.872995 \nL 99.745128 223.817029 \nL 100.247333 223.706987 \nL 100.429953 223.687232 \nL 101.093472 223.577549 \nL 101.306529 223.527092 \nL 101.967005 223.418248 \nL 102.155712 223.36805 \nL 102.804013 223.267763 \nL 102.928803 223.218229 \nL 103.409703 223.11259 \nL 103.549711 223.060692 \nL 104.164532 222.951738 \nL 104.401938 222.86227 \nL 104.84327 222.751538 \nL 104.995453 222.68585 \nL 105.899422 222.580702 \nL 106.033344 222.548327 \nL 106.334667 222.438636 \nL 106.502068 222.420575 \nL 106.916007 222.313798 \nL 107.03471 222.293717 \nL 107.45778 222.186939 \nL 107.576483 222.155127 \nL 107.807801 221.939445 \nL 108.294788 221.828474 \nL 108.611329 221.698274 \nL 109.332678 221.58979 \nL 109.463556 221.547071 \nL 110.17273 221.42783 \nL 110.297521 221.364161 \nL 110.62928 221.338721 \nL 110.988433 221.232575 \nL 111.134529 221.196681 \nL 111.618472 221.08774 \nL 111.743262 221.069196 \nL 112.193725 220.960659 \nL 112.351996 220.944204 \nL 115.429143 220.228637 \nL 115.553933 220.175753 \nL 115.958741 220.064687 \nL 116.107881 220.051542 \nL 116.631391 219.952715 \nL 116.768356 219.848245 \nL 117.191426 219.73845 \nL 117.322304 219.713723 \nL 117.882338 219.603364 \nL 118.451504 219.511235 \nL 119.048063 219.402096 \nL 119.188071 219.380139 \nL 119.696364 219.271238 \nL 119.84246 219.258152 \nL 120.518154 219.151352 \nL 120.645988 219.134978 \nL 121.370381 219.026384 \nL 121.531695 218.958749 \nL 122.149559 218.859087 \nL 122.30783 218.654859 \nL 123.166144 218.54558 \nL 123.409637 218.471655 \nL 123.927061 218.361199 \nL 124.264908 218.238831 \nL 124.471877 218.154286 \nL 124.602755 217.97134 \nL 125.616296 217.860487 \nL 125.798916 217.806839 \nL 126.368081 217.699105 \nL 126.529396 217.639714 \nL 126.833762 217.530072 \nL 126.96464 217.487812 \nL 127.658596 217.327266 \nL 127.78643 217.28631 \nL 128.480386 217.177458 \nL 128.641701 217.127453 \nL 129.070858 217.019177 \nL 129.216954 216.965779 \nL 129.923084 216.870159 \nL 130.041787 216.831034 \nL 130.34311 216.72015 \nL 130.531818 216.675501 \nL 130.884883 216.56895 \nL 131.015761 216.542706 \nL 131.466223 216.431891 \nL 131.755372 216.412825 \nL 132.029302 216.308638 \nL 132.151048 216.252849 \nL 132.793262 216.142021 \nL 133.17372 216.108977 \nL 133.81289 215.999062 \nL 133.940724 215.967787 \nL 134.56772 215.859195 \nL 134.701641 215.826215 \nL 135.453427 215.721998 \nL 135.581261 215.634687 \nL 136.159558 215.52457 \nL 136.281304 215.492479 \nL 136.938736 215.382958 \nL 137.1244 215.349885 \nL 138.101417 215.084109 \nL 138.600578 214.973435 \nL 139.121045 214.907222 \nL 139.815001 214.799413 \nL 140.025014 214.680681 \nL 140.606355 214.570804 \nL 140.767669 214.51973 \nL 141.005075 214.410359 \nL 141.129865 214.356912 \nL 141.537717 214.249876 \nL 141.671638 214.206736 \nL 142.091664 214.09597 \nL 142.27124 214.058781 \nL 142.739965 213.949207 \nL 142.855624 213.926645 \nL 143.470445 213.815762 \nL 143.628716 213.707196 \nL 143.899602 213.601952 \nL 144.045698 213.506563 \nL 144.277017 213.398372 \nL 144.438331 213.340864 \nL 144.922274 213.234317 \nL 145.06837 213.186587 \nL 145.503615 213.07613 \nL 145.704497 212.995013 \nL 146.288881 212.888826 \nL 146.450195 212.829206 \nL 146.696732 212.722501 \nL 146.848915 212.670806 \nL 147.430256 212.562051 \nL 147.667662 212.474294 \nL 148.160736 212.375053 \nL 148.285526 212.31067 \nL 148.821211 212.202666 \nL 148.96122 212.164867 \nL 149.63387 211.948614 \nL 149.773879 211.831023 \nL 150.123901 211.728439 \nL 150.260866 211.672455 \nL 150.973084 211.571476 \nL 151.097874 211.528771 \nL 151.913577 211.419518 \nL 152.105328 211.322585 \nL 152.583184 211.212108 \nL 153.015384 211.151109 \nL 153.569332 211.048623 \nL 153.712384 210.951442 \nL 154.050231 210.841582 \nL 154.254157 210.830261 \nL 155.870344 210.414916 \nL 156.281239 210.308068 \nL 156.442553 210.246091 \nL 157.057374 210.136101 \nL 157.215644 210.106639 \nL 157.663063 210.001054 \nL 157.796985 209.979519 \nL 158.48181 209.870789 \nL 158.618775 209.798871 \nL 158.844006 209.77573 \nL 159.334037 209.673692 \nL 159.458827 209.594481 \nL 160.180176 209.488757 \nL 160.30801 209.479519 \nL 160.977617 209.370134 \nL 161.151106 209.338813 \nL 161.333726 209.230961 \nL 161.476778 209.122001 \nL 161.80245 209.026015 \nL 161.924197 208.97292 \nL 162.399009 208.868863 \nL 162.545105 208.802389 \nL 163.068616 208.694229 \nL 163.239061 208.660705 \nL 164.182598 208.549975 \nL 164.32565 208.520422 \nL 164.590449 208.49722 \nL 165.092654 208.387552 \nL 165.223532 208.362743 \nL 165.4792 208.254584 \nL 165.673994 208.174569 \nL 166.072715 208.074238 \nL 166.191418 208.04347 \nL 168.285461 207.478942 \nL 168.513736 207.368028 \nL 170.735612 206.950976 \nL 171.249992 206.842857 \nL 171.377826 206.791588 \nL 171.992647 206.681857 \nL 172.251358 206.620097 \nL 173.009231 206.509289 \nL 173.377515 206.427299 \nL 173.97103 206.316754 \nL 174.114083 206.293293 \nL 174.345401 206.183337 \nL 174.692379 206.099272 \nL 175.194584 205.993555 \nL 175.331549 205.961448 \nL 176.077248 205.853503 \nL 176.31161 205.764646 \nL 176.451619 205.655238 \nL 176.579453 205.632835 \nL 177.592994 205.230981 \nL 177.708653 205.193556 \nL 178.064762 205.088143 \nL 178.189552 205.039174 \nL 178.728281 204.933409 \nL 178.856115 204.882968 \nL 179.808783 204.774326 \nL 179.924442 204.750685 \nL 180.396211 204.637816 \nL 180.533176 204.6173 \nL 180.737101 204.509187 \nL 180.87711 204.460366 \nL 181.431057 204.350819 \nL 181.571066 204.323562 \nL 182.073271 204.216963 \nL 182.228498 204.146465 \nL 183.038114 204.037514 \nL 183.165948 204.030194 \nL 183.351611 204.007739 \nL 183.875122 203.897415 \nL 184.629951 203.54621 \nL 184.757785 203.424907 \nL 185.366519 203.24221 \nL 185.804807 203.133851 \nL 185.960034 203.095424 \nL 186.450064 202.997952 \nL 186.571811 202.94592 \nL 187.551871 202.835853 \nL 187.694924 202.826173 \nL 188.044945 202.716146 \nL 188.166692 202.665734 \nL 188.300613 202.63874 \nL 188.48019 202.529806 \nL 188.601936 202.500069 \nL 189.049355 202.388982 \nL 189.256325 202.322738 \nL 189.983761 202.220371 \nL 190.102464 202.181448 \nL 190.839032 202.075189 \nL 190.991215 201.976221 \nL 192.759585 201.604563 \nL 192.89655 201.485097 \nL 193.715297 201.290679 \nL 194.14141 201.198827 \nL 194.263157 201.115117 \nL 194.677095 201.004808 \nL 194.899283 200.942281 \nL 195.620632 200.831319 \nL 195.806296 200.789762 \nL 196.411985 200.686402 \nL 196.545907 200.640913 \nL 196.883754 200.531233 \nL 197.160728 200.433415 \nL 197.562492 200.325997 \nL 197.687282 200.259701 \nL 198.174269 200.154797 \nL 198.314277 200.103217 \nL 198.697779 200.002654 \nL 198.825613 199.83287 \nL 199.081281 199.731239 \nL 199.209115 199.688566 \nL 199.3126 199.584155 \nL 199.434347 199.530562 \nL 199.91829 199.424462 \nL 200.036993 199.396428 \nL 200.362665 199.296445 \nL 200.481368 199.241567 \nL 200.679206 199.221332 \nL 200.962267 199.114765 \nL 201.084014 199.067003 \nL 201.461429 198.959451 \nL 201.586219 198.933829 \nL 202.097555 198.826649 \nL 202.228433 198.793009 \nL 202.675852 198.683607 \nL 203.108052 198.542602 \nL 203.722873 198.432124 \nL 203.847663 198.400052 \nL 204.069851 198.29772 \nL 204.194641 198.254537 \nL 204.605537 198.146492 \nL 204.754676 198.108091 \nL 205.457763 197.999073 \nL 205.600816 197.989385 \nL 205.810829 197.886363 \nL 205.947794 197.800579 \nL 206.349558 197.691414 \nL 206.510872 197.635504 \nL 207.213959 197.530191 \nL 208.184889 197.420438 \nL 208.772316 197.278606 \nL 209.481491 197.168818 \nL 209.715853 197.073166 \nL 210.534599 196.963197 \nL 210.671564 196.919278 \nL 211.526835 196.817427 \nL 211.651625 196.777958 \nL 212.099044 196.66739 \nL 212.239053 196.625318 \nL 212.844743 196.515681 \nL 213.036494 196.486188 \nL 213.270856 196.375236 \nL 214.177869 196.1639 \nL 214.543109 196.056043 \nL 214.689205 196.025113 \nL 215.300982 195.915527 \nL 215.425772 195.882605 \nL 216.001025 195.772289 \nL 216.198863 195.741356 \nL 216.953693 195.631018 \nL 217.41633 195.53643 \nL 217.948972 195.426157 \nL 219.005124 195.203417 \nL 219.206006 195.099021 \nL 219.33384 195.067373 \nL 219.510373 195.007445 \nL 220.344338 194.897486 \nL 220.831324 194.724025 \nL 221.290918 194.614805 \nL 221.497887 194.558296 \nL 221.927044 194.452115 \nL 222.048791 194.418431 \nL 222.867537 194.312265 \nL 223.01059 194.12292 \nL 223.576712 194.021405 \nL 223.698458 193.996259 \nL 224.13979 193.885303 \nL 224.803309 193.749504 \nL 225.405955 193.642034 \nL 225.615968 193.475494 \nL 226.185134 193.365073 \nL 226.33123 193.337437 \nL 226.602116 193.291174 \nL 227.122584 193.027195 \nL 227.262592 192.983579 \nL 227.892631 192.876892 \nL 228.056989 192.830117 \nL 228.562238 192.72259 \nL 228.708334 192.684463 \nL 229.055312 192.573872 \nL 229.256194 192.552388 \nL 229.852753 192.448134 \nL 229.98363 192.418432 \nL 232.098979 192.035615 \nL 232.546398 191.924825 \nL 232.732061 191.865908 \nL 233.164262 191.761255 \nL 233.316445 191.67817 \nL 233.983008 191.567662 \nL 234.375641 191.517967 \nL 234.902196 191.407575 \nL 237.382784 190.761493 \nL 238.116308 190.652214 \nL 238.274579 190.618193 \nL 238.478504 190.510323 \nL 238.612426 190.44803 \nL 239.187679 190.341547 \nL 239.312469 190.324451 \nL 239.936421 190.214203 \nL 240.277311 190.131019 \nL 240.828215 190.02121 \nL 240.949962 189.9276 \nL 243.862751 189.379832 \nL 243.999716 189.335362 \nL 244.797157 189.238861 \nL 244.91586 189.177784 \nL 245.332842 189.068759 \nL 245.481982 189.037383 \nL 245.935488 188.933555 \nL 246.057235 188.907843 \nL 246.44378 188.808778 \nL 246.562483 188.769595 \nL 246.894243 188.66671 \nL 247.028164 188.605799 \nL 247.743426 188.496587 \nL 248.117797 188.364029 \nL 248.553041 188.252987 \nL 248.683919 188.156243 \nL 249.161775 187.986938 \nL 249.75529 187.87752 \nL 249.992696 187.821546 \nL 250.294019 187.715639 \nL 250.430984 187.697756 \nL 251.121896 187.587036 \nL 252.433717 187.301666 \nL 252.558507 187.274562 \nL 253.005926 187.1677 \nL 253.136804 187.16246 \nL 253.517262 187.052083 \nL 253.657271 187.02696 \nL 254.059035 186.921843 \nL 254.196 186.837481 \nL 254.329921 186.823949 \nL 254.713423 186.714884 \nL 254.850388 186.680547 \nL 255.596086 186.57196 \nL 255.72392 186.546573 \nL 256.070898 186.435928 \nL 256.484837 186.350458 \nL 256.880514 186.227602 \nL 257.00226 186.144325 \nL 257.446636 186.034749 \nL 257.604907 186.01258 \nL 257.985365 185.902584 \nL 258.171029 185.873971 \nL 258.758456 185.731545 \nL 258.88629 185.684135 \nL 259.330666 185.515837 \nL 259.924181 185.40617 \nL 260.061146 185.376714 \nL 260.882936 185.267557 \nL 261.016857 185.247038 \nL 261.631678 185.136877 \nL 262.243455 184.967613 \nL 262.623913 184.857813 \nL 262.760878 184.822945 \nL 263.116987 184.712299 \nL 263.244821 184.701133 \nL 264.051393 184.591252 \nL 264.300973 184.504061 \nL 264.699694 184.393483 \nL 264.973624 184.33419 \nL 265.624969 184.227108 \nL 265.749759 184.201542 \nL 266.221527 184.104049 \nL 266.343274 184.044746 \nL 266.94592 183.944071 \nL 267.067667 183.898358 \nL 267.554653 183.788118 \nL 267.715968 183.758822 \nL 268.294264 183.650593 \nL 268.412967 183.611205 \nL 269.140404 183.514707 \nL 269.727831 183.403862 \nL 270.933123 183.034962 \nL 271.5449 182.926306 \nL 272.156677 182.517244 \nL 274.512476 182.017439 \nL 274.926414 181.911223 \nL 275.069467 181.878091 \nL 275.571672 181.779609 \nL 275.690375 181.742244 \nL 276.073877 181.633317 \nL 276.378243 181.524986 \nL 276.974802 181.414753 \nL 277.111767 181.379875 \nL 277.750937 181.271162 \nL 277.90312 181.247901 \nL 278.524028 181.14006 \nL 278.645775 181.093551 \nL 279.488871 180.968639 \nL 279.631923 180.946372 \nL 280.338054 180.838943 \nL 280.487194 180.811793 \nL 281.068534 180.70266 \nL 281.202455 180.667638 \nL 281.990765 180.557698 \nL 282.121643 180.511437 \nL 282.806468 180.400463 \nL 283.019524 180.381361 \nL 283.664782 180.271345 \nL 284.340476 180.108336 \nL 285.092261 179.999049 \nL 285.369235 179.913768 \nL 285.841003 179.802753 \nL 286.130152 179.753517 \nL 286.522785 179.643394 \nL 286.827151 179.614088 \nL 287.168042 179.505536 \nL 287.320225 179.478071 \nL 287.767644 179.36995 \nL 287.907653 179.337442 \nL 288.21202 179.226617 \nL 288.333767 179.15027 \nL 289.003373 179.053689 \nL 289.122076 179.022773 \nL 289.572539 178.914779 \nL 289.694286 178.877853 \nL 290.281713 178.766803 \nL 295.784663 177.481375 \nL 295.909453 177.3074 \nL 296.092073 177.265021 \nL 296.484706 177.154927 \nL 296.807335 177.066498 \nL 297.206055 176.957832 \nL 297.36737 176.895815 \nL 298.070457 176.794147 \nL 298.192203 176.767251 \nL 298.386998 176.661628 \nL 298.523963 176.573605 \nL 298.670059 176.554955 \nL 299.129653 176.444221 \nL 299.44315 176.382743 \nL 299.759692 176.272856 \nL 300.487128 176.047503 \nL 300.818888 175.938027 \nL 301.074556 175.823018 \nL 301.917651 175.711112 \nL 302.042442 175.638015 \nL 302.419856 175.527484 \nL 305.993121 174.70214 \nL 306.397929 174.591487 \nL 306.607942 174.517201 \nL 307.317116 174.406241 \nL 310.165988 173.781243 \nL 310.287735 173.742288 \nL 310.747329 173.632145 \nL 310.945167 173.594906 \nL 311.106482 173.486088 \nL 311.225185 173.462263 \nL 311.748695 173.3514 \nL 311.897835 173.254701 \nL 312.223507 173.146263 \nL 312.378734 173.11878 \nL 312.960075 173.007948 \nL 314.667572 172.616731 \nL 314.825842 172.560707 \nL 315.668938 172.450159 \nL 315.787641 172.418071 \nL 316.131575 172.311576 \nL 316.259409 172.270715 \nL 317.05685 172.161138 \nL 317.20599 172.128119 \nL 317.677758 172.01826 \nL 317.829941 171.967362 \nL 318.106915 171.857146 \nL 318.362583 171.72955 \nL 319.132631 171.620028 \nL 319.318295 171.540389 \nL 320.060949 171.435897 \nL 320.18574 171.303585 \nL 320.31053 171.277577 \nL 320.946656 171.169356 \nL 321.068403 171.100551 \nL 321.43973 170.992603 \nL 321.683224 170.894767 \nL 322.291957 170.784533 \nL 322.459359 170.732122 \nL 322.879385 170.622875 \nL 323.065048 170.560218 \nL 323.302454 170.449556 \nL 323.445507 170.370342 \nL 324.218598 170.260282 \nL 324.382956 170.166171 \nL 324.894292 170.057734 \nL 325.028213 170.002414 \nL 325.396497 169.897983 \nL 325.521287 169.885702 \nL 326.035667 169.776025 \nL 326.422213 169.67747 \nL 326.799628 169.569173 \nL 326.927462 169.562053 \nL 327.660985 169.453112 \nL 327.791863 169.429067 \nL 328.753662 169.180521 \nL 329.085421 169.072734 \nL 329.277172 169.000446 \nL 329.98939 168.889338 \nL 330.159836 168.854828 \nL 330.972495 168.747588 \nL 331.118591 168.721661 \nL 331.468612 168.611956 \nL 331.706018 168.547051 \nL 332.381712 168.437133 \nL 332.72869 168.344857 \nL 333.133498 168.233915 \nL 333.273507 168.215435 \nL 333.903546 168.104912 \nL 334.256611 168.023213 \nL 334.564022 167.912501 \nL 334.743598 167.87671 \nL 335.230585 167.771264 \nL 335.36755 167.734586 \nL 335.821056 167.624966 \nL 336.088899 167.484774 \nL 336.457182 167.376812 \nL 336.64589 167.313017 \nL 337.099396 167.210097 \nL 337.230274 167.154718 \nL 337.77509 167.045133 \nL 337.921186 167.011452 \nL 338.974295 166.82254 \nL 339.099085 166.696776 \nL 339.217788 166.643985 \nL 339.957399 166.533378 \nL 340.535696 166.316713 \nL 340.715272 166.275574 \nL 340.903979 166.174714 \nL 341.025726 166.124841 \nL 341.357486 166.029109 \nL 341.479233 165.98346 \nL 341.646634 165.923105 \nL 342.039267 165.817555 \nL 342.188407 165.745346 \nL 342.590171 165.640737 \nL 342.736267 165.575349 \nL 343.18673 165.464991 \nL 343.561101 165.310697 \nL 344.206358 165.200721 \nL 344.34941 165.167619 \nL 344.967275 165.060853 \nL 345.098152 165.04423 \nL 345.676449 164.9416 \nL 345.798196 164.918052 \nL 346.273008 164.809739 \nL 346.428235 164.766168 \nL 346.945658 164.649782 \nL 347.776579 164.54381 \nL 347.931806 164.487868 \nL 348.644024 164.381847 \nL 348.808382 164.305866 \nL 349.319718 164.19696 \nL 349.505382 164.157846 \nL 349.907146 164.055057 \nL 350.022805 164.03639 \nL 350.244993 163.91092 \nL 350.701543 163.817275 \nL 350.826333 163.720024 \nL 351.011997 163.689189 \nL 351.155049 163.583054 \nL 351.288971 163.548561 \nL 351.873355 163.441221 \nL 352.025538 163.415764 \nL 352.83211 163.308936 \nL 352.950813 163.274238 \nL 353.656943 163.172974 \nL 353.784777 163.119028 \nL 354.445253 163.024392 \nL 354.560912 162.980693 \nL 355.130078 162.869609 \nL 355.556191 162.649307 \nL 355.985348 162.545009 \nL 356.110139 162.510973 \nL 356.274497 162.45619 \nL 356.840619 162.35571 \nL 356.965409 162.289963 \nL 357.24847 162.183428 \nL 357.370217 162.076965 \nL 357.921121 161.967782 \nL 358.039824 161.948576 \nL 358.374627 161.848423 \nL 358.49333 161.818094 \nL 358.955967 161.707173 \nL 359.327295 161.635404 \nL 359.552526 161.529611 \nL 359.692535 161.416198 \nL 360.435189 161.311861 \nL 360.566067 161.248247 \nL 361.043923 161.137357 \nL 361.272198 161.08883 \nL 361.743966 160.985999 \nL 361.8718 160.942778 \nL 362.532276 160.834318 \nL 362.657066 160.792302 \nL 363.174489 160.681478 \nL 363.335804 160.583114 \nL 363.865402 160.479134 \nL 363.99628 160.417899 \nL 364.775458 160.273258 \nL 365.36593 160.170158 \nL 365.493764 160.133921 \nL 365.904659 160.026372 \nL 366.078148 159.941012 \nL 366.708187 159.842839 \nL 366.82689 159.789593 \nL 367.265178 159.679094 \nL 367.505627 159.660516 \nL 368.102186 159.551761 \nL 368.266544 159.481032 \nL 368.659177 159.371654 \nL 368.86919 159.333703 \nL 369.197906 159.223128 \nL 369.328784 159.170984 \nL 369.84012 159.060888 \nL 370.184054 158.99657 \nL 370.874966 158.885577 \nL 371.09411 158.831621 \nL 373.099887 158.500068 \nL 373.230765 158.437126 \nL 373.565568 158.337251 \nL 373.687315 158.270135 \nL 374.417795 158.159064 \nL 374.822602 158.092522 \nL 375.425248 157.982058 \nL 375.540908 157.941211 \nL 378.520657 157.311649 \nL 378.654579 157.26772 \nL 378.989382 157.159266 \nL 379.126347 157.134409 \nL 379.272443 157.119487 \nL 379.272443 157.119487 \n\" style=\"fill:none;stroke:#008000;stroke-linecap:square;stroke-width:1.5;\"/>\n   </g>\n   <g id=\"line2d_14\">\n    <path clip-path=\"url(#pc34ef3550a)\" d=\"M 74.908807 229.874489 \nL 75.091427 229.767352 \nL 75.240566 229.668612 \nL 75.389706 229.561659 \nL 75.544933 229.407927 \nL 75.687986 229.297525 \nL 75.824951 229.252393 \nL 76.238889 229.146138 \nL 76.366723 229.097039 \nL 76.677177 228.992447 \nL 76.814142 228.90671 \nL 76.960238 228.817172 \nL 77.100247 228.584125 \nL 77.145902 228.486679 \nL 77.270692 228.413106 \nL 77.416788 228.304805 \nL 77.538535 228.23615 \nL 77.748548 228.131967 \nL 77.8916 228.041132 \nL 77.988998 227.939393 \nL 78.107701 227.922973 \nL 78.232491 227.815318 \nL 78.378587 227.676693 \nL 78.637299 227.571896 \nL 78.765133 227.529468 \nL 78.98732 227.418515 \nL 79.979556 226.888731 \nL 80.10739 226.736095 \nL 80.186525 226.625523 \nL 82.393183 225.448982 \nL 82.642764 225.108932 \nL 82.895389 224.991341 \nL 84.904209 223.999196 \nL 85.035086 223.799296 \nL 85.257274 223.693875 \nL 85.382064 223.59896 \nL 85.662082 223.491935 \nL 85.829483 223.375503 \nL 86.048627 223.264641 \nL 86.307339 223.058851 \nL 86.453435 222.921371 \nL 86.763889 222.825166 \nL 86.885636 222.776454 \nL 87.247832 222.666906 \nL 87.917439 222.275077 \nL 88.145714 222.164004 \nL 89.040552 221.691426 \nL 89.302307 221.594201 \nL 89.472752 221.300387 \nL 89.582324 221.192083 \nL 89.996263 220.849406 \nL 90.303673 220.738632 \nL 91.353739 220.025478 \nL 91.624625 219.918283 \nL 91.770721 219.827826 \nL 91.965516 219.725116 \nL 92.114655 219.60479 \nL 92.294232 219.501701 \nL 92.43424 219.373644 \nL 92.747738 219.26785 \nL 92.899921 218.868159 \nL 93.100803 218.760368 \nL 93.289511 218.615885 \nL 93.62127 218.505004 \nL 93.974336 218.312841 \nL 94.056515 218.207304 \nL 94.190436 218.125889 \nL 94.363925 218.018661 \nL 94.50089 217.958233 \nL 94.872217 217.766708 \nL 95.112667 217.661194 \nL 95.304418 217.536104 \nL 95.462689 217.43062 \nL 95.602697 217.390435 \nL 96.001418 217.14535 \nL 96.123164 217.022177 \nL 96.330134 216.920375 \nL 96.457968 216.857716 \nL 96.625369 216.747869 \nL 96.777553 216.633665 \nL 97.401504 216.165768 \nL 97.535426 216.089544 \nL 97.63891 215.979415 \nL 97.769788 215.885115 \nL 97.973714 215.778383 \nL 98.101548 215.699655 \nL 98.229382 215.590476 \nL 101.71438 213.360358 \nL 102.003529 213.252582 \nL 102.140494 213.22598 \nL 102.365725 213.131527 \nL 102.496603 213.01487 \nL 102.62748 212.913515 \nL 102.752271 212.86609 \nL 102.971415 212.75595 \nL 103.434052 212.544891 \nL 103.741462 212.443126 \nL 103.890602 212.323227 \nL 104.292366 212.213701 \nL 104.484117 212.121589 \nL 104.614995 212.014688 \nL 104.788484 211.838568 \nL 104.965016 211.734737 \nL 105.111112 211.612198 \nL 105.327213 211.50306 \nL 105.485483 211.360166 \nL 105.72289 211.253767 \nL 105.859855 211.207857 \nL 105.987689 211.105039 \nL 106.12161 211.037413 \nL 106.331623 210.928245 \nL 106.529461 210.815111 \nL 106.748605 210.713874 \nL 106.870352 210.635741 \nL 107.09254 210.54752 \nL 107.208199 210.499703 \nL 107.384732 210.340579 \nL 107.509522 210.236031 \nL 107.664749 210.137438 \nL 107.935635 210.039665 \nL 108.09695 209.790909 \nL 108.413491 209.692613 \nL 108.550456 209.572065 \nL 108.742207 209.465779 \nL 108.888303 209.333453 \nL 108.967438 209.23823 \nL 109.092229 209.160672 \nL 109.171364 209.057632 \nL 109.290067 208.986497 \nL 109.545735 208.63181 \nL 109.71618 208.52085 \nL 109.850102 208.388918 \nL 109.980979 208.278919 \nL 110.477097 208.145117 \nL 110.522752 208.036423 \nL 110.696241 207.906052 \nL 111.006695 207.797551 \nL 111.137573 207.64658 \nL 111.2928 207.541441 \nL 111.438896 207.327689 \nL 111.685433 207.233746 \nL 111.804136 207.176299 \nL 112.008061 207.073417 \nL 112.196769 206.772493 \nL 112.425044 206.661456 \nL 112.555921 206.567648 \nL 112.723323 206.400696 \nL 112.863332 206.290589 \nL 113.021602 206.005874 \nL 113.313795 205.895348 \nL 113.465978 205.759663 \nL 113.557288 205.652555 \nL 113.733821 205.423288 \nL 113.84948 205.312285 \nL 114.254288 204.994741 \nL 114.442995 204.885275 \nL 114.972593 204.667087 \nL 115.118689 204.558814 \nL 115.383488 204.390639 \nL 115.605676 204.279845 \nL 115.80047 204.208705 \nL 115.873518 204.098819 \nL 116.09875 203.9326 \nL 116.317894 203.821807 \nL 117.090985 203.342114 \nL 117.428832 203.231246 \nL 118.643255 202.729953 \nL 118.771089 202.616192 \nL 118.984146 202.512773 \nL 119.130242 202.387815 \nL 119.373735 202.144796 \nL 119.516787 201.984971 \nL 119.793761 201.827492 \nL 120.067691 201.730838 \nL 120.189438 201.683472 \nL 120.289879 201.579907 \nL 120.417713 201.540861 \nL 120.588158 201.431639 \nL 120.722079 201.40622 \nL 120.929049 201.29703 \nL 121.081232 201.119031 \nL 124.210122 199.320663 \nL 124.289257 199.2097 \nL 124.411004 199.058405 \nL 124.551012 198.933027 \nL 124.727545 198.845493 \nL 124.888859 198.747395 \nL 125.01365 198.653223 \nL 125.159746 198.598229 \nL 125.476287 198.488285 \nL 125.619339 198.341286 \nL 125.86892 198.230418 \nL 126.124588 198.150089 \nL 126.328514 198.04348 \nL 126.45026 197.966285 \nL 126.54157 197.855633 \nL 126.672448 197.725568 \nL 126.934203 197.653187 \nL 127.052906 197.537999 \nL 127.579461 197.34211 \nL 127.759037 197.15684 \nL 127.959919 197.050846 \nL 128.078622 197.017748 \nL 128.30081 196.91217 \nL 128.422557 196.847163 \nL 128.614308 196.738893 \nL 128.979548 196.457729 \nL 129.189561 196.350526 \nL 129.3387 196.266407 \nL 129.600456 196.162773 \nL 129.722202 196.084558 \nL 129.904822 195.974485 \nL 130.032656 195.893985 \nL 130.197014 195.796728 \nL 130.327892 195.619847 \nL 130.437464 195.536165 \nL 130.58356 195.116953 \nL 130.790529 195.013242 \nL 130.918363 194.895016 \nL 131.198381 194.790344 \nL 131.34752 194.6978 \nL 131.648843 194.58881 \nL 131.816245 194.413007 \nL 131.871031 194.31411 \nL 132.017127 194.17108 \nL 132.196703 194.057675 \nL 132.485852 193.946895 \nL 132.619773 193.831456 \nL 132.820655 193.724155 \nL 132.972838 193.60735 \nL 133.094585 193.498346 \nL 133.32286 193.31747 \nL 133.59679 193.21132 \nL 133.727668 193.116222 \nL 133.818978 193.009806 \nL 133.940724 192.992612 \nL 135.136885 192.166437 \nL 135.33168 192.061626 \nL 135.508213 191.945772 \nL 135.894758 191.836452 \nL 136.08651 191.601843 \nL 136.189994 191.498957 \nL 136.305654 191.440623 \nL 136.676981 190.961775 \nL 136.704374 190.861934 \nL 136.823077 190.727936 \nL 137.176142 190.621293 \nL 137.30702 190.554189 \nL 137.611387 190.445704 \nL 137.736177 190.417351 \nL 138.010107 190.159408 \nL 138.198814 190.014165 \nL 138.326648 189.897732 \nL 138.466657 189.793525 \nL 138.591447 189.739229 \nL 138.935382 189.629348 \nL 139.46498 189.294765 \nL 139.6476 188.973561 \nL 139.808914 188.875574 \nL 139.942835 188.779123 \nL 140.134586 188.66825 \nL 140.417647 188.501988 \nL 140.533307 188.401215 \nL 140.682446 188.270097 \nL 140.898547 188.173257 \nL 141.029424 188.078479 \nL 141.245525 187.909338 \nL 141.385533 187.794518 \nL 141.668594 187.690798 \nL 141.805559 187.583691 \nL 141.893826 187.476197 \nL 142.024703 187.414961 \nL 142.243847 187.305812 \nL 142.502559 187.181284 \nL 142.953022 187.079588 \nL 143.086943 186.856836 \nL 143.18434 186.774689 \nL 143.315218 186.543413 \nL 143.497838 186.437361 \nL 143.653065 186.355404 \nL 143.744375 186.250677 \nL 143.872209 186.224517 \nL 143.997 186.114881 \nL 144.167445 186.038871 \nL 144.505292 185.92922 \nL 144.648344 185.758223 \nL 144.779222 185.648736 \nL 144.919231 185.565824 \nL 145.03489 185.468287 \nL 145.18403 185.306264 \nL 145.467091 185.197897 \nL 145.591881 185.159252 \nL 145.862767 185.05379 \nL 146.011907 184.992272 \nL 146.200614 184.892338 \nL 146.328448 184.769903 \nL 146.584116 184.666656 \nL 146.730212 184.52099 \nL 146.921963 184.410338 \nL 147.275029 184.189973 \nL 147.411994 184.085643 \nL 147.552002 183.968131 \nL 148.057251 183.694279 \nL 148.185085 183.598098 \nL 148.449884 183.490683 \nL 148.833386 183.123271 \nL 149.149927 183.013526 \nL 149.308198 182.930604 \nL 149.60039 182.823783 \nL 149.740399 182.688053 \nL 149.880407 182.579116 \nL 150.005198 182.488928 \nL 150.126944 182.387506 \nL 150.312608 182.161315 \nL 150.449573 182.053364 \nL 150.793507 181.766005 \nL 150.930472 181.680536 \nL 151.100918 181.14047 \nL 151.213534 181.039012 \nL 151.347455 180.975231 \nL 151.727913 180.865599 \nL 151.846616 180.810869 \nL 152.117503 180.703363 \nL 152.327516 180.62221 \nL 152.494917 180.524463 \nL 152.616664 180.380933 \nL 152.838852 180.271776 \nL 153.00321 180.107129 \nL 153.124956 179.996632 \nL 153.325838 179.90014 \nL 153.538895 179.793381 \nL 153.684991 179.737717 \nL 153.928484 179.62705 \nL 154.245026 179.413634 \nL 154.540261 179.308077 \nL 154.658964 179.24816 \nL 154.884196 179.142952 \nL 155.024204 179.001804 \nL 155.310309 178.89597 \nL 155.453361 178.773266 \nL 155.59337 178.738382 \nL 155.779034 178.627999 \nL 156.192972 178.380744 \nL 156.326894 178.311808 \nL 156.515601 178.174242 \nL 157.066505 177.666137 \nL 157.349566 177.562679 \nL 157.495662 177.404689 \nL 157.687413 177.300503 \nL 157.839596 177.214832 \nL 158.037434 177.108642 \nL 158.204836 177.006418 \nL 158.308321 176.898456 \nL 158.442242 176.852239 \nL 158.612687 176.741895 \nL 158.740521 176.612837 \nL 159.017495 176.505693 \nL 159.242727 176.32932 \nL 159.66884 176.045314 \nL 159.757106 175.943435 \nL 159.906246 175.721352 \nL 160.049298 175.612524 \nL 160.174089 175.552605 \nL 160.61542 175.456497 \nL 160.755429 175.308185 \nL 160.928918 175.198129 \nL 161.059796 175.040523 \nL 161.540695 174.930278 \nL 161.744621 174.782916 \nL 161.778101 174.673739 \nL 161.927241 174.605009 \nL 162.146385 174.496766 \nL 162.274219 174.472227 \nL 162.511625 174.365913 \nL 162.855559 173.923669 \nL 163.159926 173.813615 \nL 163.363851 173.610155 \nL 163.482554 173.499074 \nL 163.610388 173.425632 \nL 163.8691 173.150353 \nL 164.079113 173.047893 \nL 164.206947 172.860029 \nL 164.523488 172.749285 \nL 164.712196 172.650448 \nL 164.943514 172.531284 \nL 165.120047 172.340262 \nL 165.470069 172.233653 \nL 165.594859 172.175669 \nL 165.667907 172.065983 \nL 165.826178 171.969851 \nL 166.139675 171.865626 \nL 166.273597 171.793708 \nL 166.453173 171.687065 \nL 166.669274 171.52981 \nL 167.061907 171.419891 \nL 167.658465 170.924258 \nL 167.737601 170.807702 \nL 167.862391 170.781521 \nL 167.908046 170.675743 \nL 168.038924 170.606152 \nL 168.349378 170.502805 \nL 168.501561 170.377927 \nL 168.614177 170.277418 \nL 168.769404 170.033845 \nL 168.997679 169.928462 \nL 169.128556 169.883331 \nL 169.341613 169.775972 \nL 169.493796 169.674246 \nL 169.548582 169.56881 \nL 169.673373 169.518598 \nL 169.789032 169.410669 \nL 169.944259 169.232459 \nL 170.087311 169.17739 \nL 170.336892 169.066456 \nL 170.479944 169.014904 \nL 170.696045 168.914527 \nL 170.826922 168.764388 \nL 170.99128 168.669003 \nL 171.119114 168.558029 \nL 171.496529 168.428274 \nL 171.639581 168.361293 \nL 171.797852 168.250305 \nL 172.272664 168.004016 \nL 172.400498 167.892887 \nL 172.662253 167.782751 \nL 172.81748 167.558587 \nL 173.015319 167.460662 \nL 173.140109 167.336981 \nL 173.395777 167.232181 \nL 173.551004 167.085267 \nL 173.742755 166.975794 \nL 174.284528 166.392804 \nL 174.403231 166.318875 \nL 174.579764 166.214363 \nL 174.707598 166.150718 \nL 174.981528 166.040273 \nL 175.173279 165.934671 \nL 175.325462 165.824931 \nL 175.58113 165.746209 \nL 175.830711 165.636226 \nL 176.299435 165.409898 \nL 176.524667 165.299467 \nL 176.929474 165.112469 \nL 177.124269 165.010656 \nL 177.252103 164.904308 \nL 177.583863 164.794379 \nL 177.763439 164.522231 \nL 177.973452 164.41444 \nL 178.149985 164.304468 \nL 178.496963 164.20425 \nL 178.649146 164.064985 \nL 178.767849 163.956728 \nL 179.352233 163.560578 \nL 179.626163 163.477424 \nL 179.827045 163.377375 \nL 179.945748 163.329576 \nL 180.034014 163.221628 \nL 180.155761 163.079083 \nL 180.356643 162.969112 \nL 180.587962 162.786538 \nL 180.828411 162.686285 \nL 180.983638 162.518952 \nL 181.214957 162.410175 \nL 181.358009 162.343753 \nL 181.72325 162.117136 \nL 182.003267 162.006334 \nL 182.365463 161.777518 \nL 182.48721 161.754288 \nL 182.864625 161.557194 \nL 182.983328 161.530292 \nL 183.220734 161.238226 \nL 183.34248 161.096342 \nL 183.473358 160.988282 \nL 183.61641 160.827584 \nL 183.853816 160.723767 \nL 183.990781 160.655296 \nL 184.158183 160.58905 \nL 184.216013 160.485128 \nL 184.359065 160.361782 \nL 184.782135 160.207809 \nL 184.839964 160.113794 \nL 184.976929 159.963458 \nL 185.040846 159.856871 \nL 185.171724 159.796022 \nL 185.320864 159.698213 \nL 185.451741 159.562425 \nL 185.616099 159.470511 \nL 185.847418 159.322793 \nL 186.042213 159.103958 \nL 186.395278 159.003233 \nL 186.526156 158.928048 \nL 186.678339 158.820485 \nL 186.81226 158.773641 \nL 186.848784 158.679679 \nL 186.970531 158.4897 \nL 187.189675 158.388747 \nL 187.308378 158.34718 \nL 187.363164 158.237691 \nL 187.670574 158.111919 \nL 187.837976 158.005188 \nL 188.02364 157.855332 \nL 188.203216 157.746721 \nL 188.352356 157.647747 \nL 188.574543 157.546318 \nL 188.705421 157.486759 \nL 188.951958 157.375896 \nL 189.098054 157.281499 \nL 189.183277 157.172715 \nL 189.314155 157.084007 \nL 189.508949 156.94436 \nL 189.767661 156.83332 \nL 189.959412 156.628703 \nL 190.199862 156.519292 \nL 190.342914 156.498006 \nL 190.592495 156.389542 \nL 190.720329 156.35906 \nL 190.954691 156.258548 \nL 191.076438 156.218929 \nL 191.164704 156.121008 \nL 191.295582 156.01535 \nL 191.630385 155.920955 \nL 191.758219 155.833337 \nL 191.886053 155.790418 \nL 192.251293 155.682233 \nL 192.385214 155.56251 \nL 192.850895 155.349321 \nL 192.923943 155.244185 \nL 193.082214 155.148072 \nL 193.325707 155.03707 \nL 194.92972 153.921385 \nL 195.060597 153.856277 \nL 195.331484 153.746311 \nL 196.043702 153.319902 \nL 196.171536 153.20512 \nL 196.287195 153.10562 \nL 196.408942 153.030095 \nL 196.582431 152.927195 \nL 196.719396 152.861139 \nL 197.045068 152.712666 \nL 197.169859 152.671709 \nL 197.182033 152.602174 \nL 197.300736 152.452838 \nL 197.352479 152.356588 \nL 197.4864 152.174808 \nL 197.63554 152.125744 \nL 197.675107 152.035032 \nL 197.802941 151.870935 \nL 198.095133 151.761673 \nL 198.417762 151.360237 \nL 198.551683 151.150255 \nL 198.776915 151.053963 \nL 198.901705 150.984435 \nL 199.0965 150.909315 \nL 199.25477 150.806929 \nL 199.382604 150.740234 \nL 199.732626 150.629789 \nL 199.863504 150.404092 \nL 200.164827 150.269635 \nL 200.295704 150.003907 \nL 200.542241 149.895419 \nL 200.737036 149.806857 \nL 201.007922 149.695823 \nL 201.147931 149.619982 \nL 201.452298 149.510963 \nL 201.589263 149.409109 \nL 201.729271 149.298114 \nL 201.872324 149.200149 \nL 201.90276 149.095608 \nL 202.024507 148.89611 \nL 202.310612 148.788972 \nL 202.548018 148.360306 \nL 202.715419 148.258432 \nL 202.837166 148.188012 \nL 203.08979 148.085489 \nL 203.254148 147.941903 \nL 203.491554 147.836436 \nL 203.643738 147.74162 \nL 203.881144 147.630879 \nL 204.100288 147.535527 \nL 204.386393 147.426974 \nL 204.538576 147.294333 \nL 204.687716 147.183533 \nL 204.836855 147.124754 \nL 205.250794 146.903958 \nL 205.476025 146.773302 \nL 205.640383 146.667992 \nL 205.765174 146.621071 \nL 206.224767 146.259609 \nL 206.43478 146.158529 \nL 206.577833 145.99636 \nL 208.166627 145.230946 \nL 208.419251 145.123952 \nL 208.617089 145.013787 \nL 208.747967 144.917117 \nL 208.875801 144.779777 \nL 209.094945 144.669091 \nL 209.259303 144.61723 \nL 209.365831 144.514066 \nL 209.499753 144.460385 \nL 209.575844 144.34703 \nL 209.700635 144.134771 \nL 209.831512 144.025622 \nL 210.029351 143.757015 \nL 210.151097 143.631757 \nL 210.306324 143.545347 \nL 210.589385 143.437942 \nL 210.72635 143.312488 \nL 211.030717 143.203845 \nL 211.484223 142.845858 \nL 211.578577 142.735362 \nL 211.715542 142.545939 \nL 211.849463 142.494049 \nL 211.965123 142.385662 \nL 212.132525 142.286729 \nL 212.400367 142.181508 \nL 212.546463 142.102438 \nL 212.744302 141.994547 \nL 212.966489 141.89829 \nL 213.106498 141.788243 \nL 213.538699 141.44129 \nL 213.666533 141.370378 \nL 213.800454 141.260521 \nL 213.961768 141.109276 \nL 213.976987 141.010276 \nL 214.147432 140.765706 \nL 214.34527 140.656095 \nL 214.58572 140.546505 \nL 214.841388 140.440517 \nL 215.00879 140.359756 \nL 215.28272 140.268598 \nL 215.401423 140.20593 \nL 215.769706 140.098119 \nL 215.991894 139.95669 \nL 216.28713 139.845699 \nL 216.418007 139.819954 \nL 216.746723 139.715881 \nL 216.889776 139.647126 \nL 217.124138 139.545676 \nL 217.300671 139.351626 \nL 217.641561 139.242279 \nL 217.799832 139.178789 \nL 217.988539 139.06891 \nL 218.241164 138.953908 \nL 218.563792 138.847313 \nL 218.706845 138.75447 \nL 218.789024 138.598722 \nL 218.913814 138.557924 \nL 219.230355 138.456297 \nL 219.522548 138.349114 \nL 219.717342 138.140564 \nL 219.896919 138.04382 \nL 220.033884 137.89101 \nL 220.286508 137.787583 \nL 220.411298 137.727677 \nL 220.743058 137.629711 \nL 220.864805 137.584475 \nL 221.680507 137.107094 \nL 221.79921 137.056543 \nL 222.213149 136.799325 \nL 222.34707 136.653854 \nL 222.590564 136.544727 \nL 222.913192 136.347987 \nL 223.095812 136.244289 \nL 223.241908 136.13569 \nL 223.384961 136.026342 \nL 223.646716 135.740942 \nL 223.762375 135.626992 \nL 223.887166 135.526615 \nL 224.584165 135.154963 \nL 224.715043 135.020122 \nL 225.171593 134.916313 \nL 225.311602 134.841598 \nL 225.47596 134.736119 \nL 225.63423 134.512546 \nL 225.902073 134.404175 \nL 226.236876 134.076887 \nL 226.538199 133.92026 \nL 226.66299 133.893319 \nL 226.882134 133.788154 \nL 227.019099 133.589372 \nL 227.098234 133.498241 \nL 227.226068 133.348909 \nL 227.442169 133.23946 \nL 227.70088 132.984611 \nL 227.916981 132.874185 \nL 228.038727 132.765702 \nL 228.391793 132.662175 \nL 228.525714 132.574709 \nL 228.644417 132.477585 \nL 228.775295 132.350082 \nL 228.985308 132.243937 \nL 229.113142 132.163392 \nL 229.320111 132.055707 \nL 229.533168 131.972306 \nL 229.947106 131.863015 \nL 230.300172 131.506371 \nL 230.412787 131.395736 \nL 230.549752 131.242356 \nL 230.960647 131.044497 \nL 231.109787 130.934001 \nL 231.258927 130.781564 \nL 232.662057 129.882963 \nL 232.914681 129.779199 \nL 233.060777 129.568662 \nL 233.158175 129.474167 \nL 233.276878 129.417615 \nL 233.56907 129.316803 \nL 233.712122 129.149158 \nL 233.75169 129.051637 \nL 233.873436 128.969316 \nL 234.0591 128.862154 \nL 234.226502 128.73328 \nL 234.42434 128.623082 \nL 235.045248 128.14117 \nL 235.170039 127.975062 \nL 235.36179 127.864352 \nL 235.687462 127.604932 \nL 235.854864 127.477121 \nL 236.080095 127.372278 \nL 236.210973 127.31191 \nL 236.311414 127.210109 \nL 236.454466 126.860262 \nL 236.588387 126.75846 \nL 236.722309 126.683346 \nL 237.16364 126.576828 \nL 237.547142 126.079707 \nL 237.699326 125.969129 \nL 237.830203 125.815804 \nL 237.915426 125.710216 \nL 238.034129 125.665169 \nL 238.271535 125.558472 \nL 238.493723 125.36989 \nL 238.737216 125.261623 \nL 238.907661 125.170536 \nL 239.096369 125.099145 \nL 239.187679 124.994464 \nL 239.309425 124.934688 \nL 239.677709 124.51288 \nL 239.924246 124.40648 \nL 240.058167 124.313146 \nL 240.271224 124.209237 \nL 240.408189 124.148084 \nL 240.819084 123.831514 \nL 240.940831 123.704086 \nL 241.178237 123.595072 \nL 241.312158 123.4903 \nL 242.009158 122.970315 \nL 242.155254 122.877332 \nL 242.313525 122.771113 \nL 242.578324 122.449099 \nL 242.715289 122.345677 \nL 242.843123 122.265526 \nL 243.223581 121.972657 \nL 243.336197 121.862144 \nL 243.476205 121.804469 \nL 243.607083 121.69427 \nL 244.005803 121.168981 \nL 244.136681 120.958199 \nL 244.520183 120.850439 \nL 244.809331 120.673331 \nL 244.955427 120.572852 \nL 245.086305 120.503706 \nL 245.378497 120.397476 \nL 245.761999 119.981882 \nL 246.096802 119.877497 \nL 246.221593 119.832715 \nL 246.315946 119.723399 \nL 246.446824 119.617905 \nL 246.632488 119.470674 \nL 247.034252 119.362077 \nL 247.177304 119.256539 \nL 247.314269 119.146065 \nL 247.44819 119.068472 \nL 247.816474 118.964292 \nL 247.959526 118.88163 \nL 248.108666 118.787697 \nL 248.233456 118.716492 \nL 248.489124 118.607117 \nL 248.620002 118.524628 \nL 248.820884 118.399445 \nL 248.890888 118.299198 \nL 249.040028 118.152396 \nL 249.295696 118.048785 \nL 249.438748 117.887204 \nL 249.718766 117.781883 \nL 249.886168 117.689414 \nL 250.050526 117.579895 \nL 250.239233 117.384303 \nL 250.504032 117.276793 \nL 250.647084 117.19059 \nL 250.787093 117.081312 \nL 250.933189 117.039878 \nL 251.051892 116.936694 \nL 251.18277 116.887329 \nL 251.721499 116.600306 \nL 251.864551 116.482939 \nL 252.092826 116.374005 \nL 252.272402 116.254928 \nL 252.409367 116.15364 \nL 252.531114 116.124368 \nL 252.844612 116.018184 \nL 252.978533 115.955854 \nL 253.206808 115.846775 \nL 253.328555 115.820935 \nL 253.547699 115.617791 \nL 253.672489 115.49743 \nL 253.882502 115.388975 \nL 254.17165 115.135398 \nL 254.880825 114.761946 \nL 255.036052 114.448366 \nL 255.306938 114.339902 \nL 256.901819 113.030046 \nL 257.029653 112.919514 \nL 257.312714 112.707803 \nL 257.470985 112.608981 \nL 257.614038 112.46123 \nL 257.75709 112.358286 \nL 257.961016 112.108591 \nL 258.164941 111.998558 \nL 258.423653 111.660626 \nL 258.554531 111.550685 \nL 258.834548 111.304697 \nL 259.074998 111.198413 \nL 259.208919 111.099896 \nL 259.58329 110.990221 \nL 260.128106 110.545219 \nL 260.246809 110.445887 \nL 260.389862 110.269006 \nL 260.624224 110.186072 \nL 260.843368 110.085353 \nL 261.099036 109.600557 \nL 261.26035 109.489908 \nL 261.385141 109.434405 \nL 261.659071 109.328517 \nL 261.829516 109.200996 \nL 261.875171 109.09719 \nL 261.999961 109.053324 \nL 262.170407 108.955905 \nL 262.301284 108.860175 \nL 262.368245 108.756203 \nL 262.50521 108.594179 \nL 262.882625 108.490272 \nL 263.025677 108.35655 \nL 263.564406 108.064304 \nL 264.05748 107.596597 \nL 264.282711 107.489547 \nL 264.705781 107.042318 \nL 264.985798 106.932633 \nL 265.156244 106.823129 \nL 265.338864 106.721178 \nL 265.494091 106.585809 \nL 265.822807 106.479062 \nL 265.947597 106.421051 \nL 266.24892 106.3157 \nL 266.388929 106.265069 \nL 266.626335 106.154899 \nL 266.760256 106.067255 \nL 266.897221 105.958499 \nL 267.034186 105.89782 \nL 267.21985 105.800944 \nL 267.350728 105.662846 \nL 267.481605 105.569318 \nL 267.624658 105.254693 \nL 267.880326 105.146613 \nL 268.04164 104.959831 \nL 268.543845 104.81893 \nL 268.677766 104.641597 \nL 268.817775 104.531278 \nL 268.957784 104.427335 \nL 269.201277 104.21383 \nL 269.511731 103.601699 \nL 269.59391 103.514262 \nL 269.730875 103.295521 \nL 269.962194 103.199329 \nL 270.10829 102.991709 \nL 270.272648 102.87026 \nL 270.342652 102.774451 \nL 270.467442 102.692848 \nL 270.717023 102.584671 \nL 270.832682 102.558573 \nL 271.051826 102.449053 \nL 271.264883 102.307747 \nL 271.441416 102.206199 \nL 271.566206 102.105656 \nL 271.742739 101.995254 \nL 271.931446 101.923608 \nL 272.111022 101.815544 \nL 272.576703 101.227954 \nL 272.832372 101.127298 \nL 272.97238 101.019227 \nL 273.158044 100.915439 \nL 273.298053 100.792641 \nL 273.492847 100.682425 \nL 273.620681 100.618267 \nL 273.906786 100.508118 \nL 275.739073 99.360973 \nL 276.000829 99.252739 \nL 276.143881 99.141434 \nL 276.22606 99.035403 \nL 276.420855 98.92171 \nL 276.64913 98.820995 \nL 276.767833 98.795466 \nL 276.868274 98.685451 \nL 277.023501 98.462296 \nL 277.169597 98.354032 \nL 277.309605 98.204462 \nL 277.410046 98.100754 \nL 277.598754 97.915079 \nL 277.632234 97.820207 \nL 277.799636 97.406961 \nL 278.009649 97.305409 \nL 278.146614 97.218032 \nL 278.514897 97.107214 \nL 278.673168 97.000141 \nL 279.105369 96.82655 \nL 279.303207 96.547362 \nL 279.491914 96.414596 \nL 279.835849 96.307573 \nL 280.042818 96.106854 \nL 280.18587 95.997225 \nL 280.331967 95.878626 \nL 280.475019 95.770813 \nL 280.602853 95.744263 \nL 280.812866 95.643349 \nL 280.934613 95.583962 \nL 281.135495 95.479578 \nL 281.266372 95.425748 \nL 281.375944 95.326477 \nL 281.52204 95.189088 \nL 281.811189 95.085486 \nL 281.939023 95.025884 \nL 282.12773 94.920216 \nL 282.246433 94.847057 \nL 282.386442 94.743915 \nL 282.532538 94.606282 \nL 283.18997 94.181627 \nL 283.37259 94.092505 \nL 283.731742 93.930805 \nL 283.844358 93.726521 \nL 283.966105 93.690274 \nL 284.154812 93.58 \nL 284.778764 93.2555 \nL 284.894423 93.153066 \nL 285.01617 93.135008 \nL 285.296187 93.024254 \nL 285.433152 92.957087 \nL 285.570117 92.863824 \nL 285.694907 92.767984 \nL 287.107169 92.11287 \nL 287.244134 92.035341 \nL 288.099404 91.396511 \nL 288.218107 91.290761 \nL 288.339854 91.249221 \nL 288.689876 91.146253 \nL 288.829884 91.046731 \nL 289.12512 90.937634 \nL 289.259041 90.902426 \nL 289.43253 90.794156 \nL 289.593845 90.694307 \nL 289.685155 90.593792 \nL 289.819076 90.412709 \nL 289.959085 90.346853 \nL 290.16301 90.24786 \nL 290.284757 90.151692 \nL 290.686521 90.04494 \nL 290.817399 89.975593 \nL 290.975669 89.868029 \nL 291.097416 89.822136 \nL 291.401783 89.716331 \nL 291.563097 89.60062 \nL 291.858333 89.491123 \nL 292.004429 89.372489 \nL 292.156612 89.269562 \nL 292.327057 89.041111 \nL 292.585769 88.939413 \nL 292.716647 88.849024 \nL 293.395384 88.569243 \nL 293.520175 88.494795 \nL 293.757581 88.358785 \nL 293.864109 88.258657 \nL 294.025423 87.984836 \nL 294.278048 87.873817 \nL 294.433275 87.792748 \nL 294.634157 87.682721 \nL 294.789384 87.62637 \nL 295.00244 87.517206 \nL 295.489427 87.263906 \nL 295.595956 87.156786 \nL 295.778576 87.027445 \nL 295.866842 86.929956 \nL 295.991632 86.84349 \nL 296.095117 86.734595 \nL 296.30513 86.599698 \nL 296.45427 86.492449 \nL 296.706894 86.319716 \nL 296.731243 86.214118 \nL 296.862121 86.060363 \nL 297.114745 85.961223 \nL 297.248667 85.816772 \nL 299.50098 84.429699 \nL 299.6836 84.322126 \nL 299.987967 84.120782 \nL 300.240591 84.011318 \nL 300.3806 83.932433 \nL 300.575394 83.826565 \nL 300.697141 83.792607 \nL 300.800626 83.682732 \nL 301.302831 83.347905 \nL 301.430665 83.261938 \nL 301.63459 83.161294 \nL 301.768512 83.021042 \nL 301.975481 82.925873 \nL 302.094184 82.865025 \nL 302.505079 82.689777 \nL 302.709005 82.593008 \nL 302.830751 82.533914 \nL 302.979891 82.426794 \nL 303.1199 82.386303 \nL 303.250778 82.279905 \nL 303.421223 82.133114 \nL 303.682978 82.030467 \nL 303.8169 81.948347 \nL 304.020825 81.842099 \nL 304.148659 81.802696 \nL 304.416502 81.691661 \nL 304.608253 81.60841 \nL 305.031323 81.504173 \nL 305.159157 81.425587 \nL 305.332646 81.32393 \nL 305.509178 81.214198 \nL 306.057038 80.897445 \nL 306.175741 80.798561 \nL 306.303575 80.637486 \nL 306.458802 80.542234 \nL 306.58968 80.416936 \nL 306.781431 80.308134 \nL 306.982313 80.19829 \nL 307.326247 80.093316 \nL 307.484518 79.997555 \nL 307.721924 79.88996 \nL 307.849758 79.803205 \nL 308.56502 79.163695 \nL 308.863299 79.053678 \nL 309.861622 78.308669 \nL 310.007718 78.148674 \nL 310.205556 78.039801 \nL 310.439918 77.942276 \nL 310.826464 77.837663 \nL 310.945167 77.803419 \nL 311.060827 77.701343 \nL 311.24649 77.333455 \nL 311.441285 77.228025 \nL 311.599556 77.097492 \nL 311.724346 76.956848 \nL 311.888704 76.901054 \nL 311.937403 76.795655 \nL 312.074368 76.628483 \nL 312.196114 76.594461 \nL 313.13052 76.055773 \nL 313.224874 75.958864 \nL 313.364882 75.73134 \nL 313.514022 75.63031 \nL 313.638812 75.538532 \nL 313.961441 75.43475 \nL 314.092319 75.31445 \nL 314.366249 75.129222 \nL 314.661484 75.022991 \nL 314.841061 74.934407 \nL 314.981069 74.825785 \nL 315.13934 74.654909 \nL 316.079833 73.930794 \nL 316.210711 73.822208 \nL 316.332457 73.71857 \nL 316.387243 73.618565 \nL 316.505946 73.507449 \nL 316.804226 73.289245 \nL 316.935103 73.168704 \nL 317.108592 73.05977 \nL 317.458614 72.938606 \nL 317.601666 72.846863 \nL 317.7295 72.663436 \nL 318.024736 72.548046 \nL 318.380845 72.440644 \nL 318.545203 72.336684 \nL 318.834352 72.235016 \nL 318.980448 72.12473 \nL 319.193504 72.017376 \nL 319.330469 71.924424 \nL 319.628749 71.817882 \nL 319.771801 71.741221 \nL 319.972683 71.634246 \nL 320.140085 71.448631 \nL 320.298355 71.331464 \nL 320.663595 71.22066 \nL 320.894914 71.158183 \nL 321.114058 71.053439 \nL 321.251023 71.011076 \nL 321.467123 70.901913 \nL 322.0789 70.357239 \nL 322.209778 70.288726 \nL 322.355874 70.186844 \nL 322.489795 70.071348 \nL 322.766769 69.966857 \nL 322.92504 69.884022 \nL 323.220275 69.775994 \nL 323.366371 69.578384 \nL 323.579428 69.472943 \nL 323.725524 69.354871 \nL 323.920319 69.248298 \nL 324.048153 69.150462 \nL 324.322083 68.937638 \nL 324.565576 68.829674 \nL 324.736021 68.688986 \nL 324.851681 68.578382 \nL 324.976471 68.509093 \nL 325.341711 68.403397 \nL 325.472589 68.370494 \nL 325.743475 68.265482 \nL 325.974794 67.872934 \nL 326.291335 67.767839 \nL 326.4283 67.659565 \nL 326.714405 67.553392 \nL 326.845283 67.496259 \nL 326.994422 67.374866 \nL 327.180086 67.17569 \nL 327.335313 67.065055 \nL 328.71105 66.241569 \nL 328.848015 66.02432 \nL 329.027592 65.929468 \nL 329.213255 65.495766 \nL 329.879818 65.221219 \nL 330.010696 65.14505 \nL 330.232884 65.04179 \nL 330.37898 64.882752 \nL 330.506814 64.774393 \nL 330.649866 64.700511 \nL 330.829442 64.598942 \nL 330.957276 64.519246 \nL 331.063805 64.411045 \nL 331.246425 64.302704 \nL 331.693844 64.005763 \nL 331.83994 63.810065 \nL 331.967774 63.702295 \nL 332.116913 63.658633 \nL 332.235616 63.55768 \nL 332.393887 63.40896 \nL 332.664773 63.244017 \nL 332.868699 63.135632 \nL 333.081756 62.717969 \nL 333.88224 62.234514 \nL 334.080079 62.12448 \nL 334.469668 61.942771 \nL 334.740554 61.848223 \nL 334.871432 61.689796 \nL 335.105794 61.58851 \nL 335.227541 61.562814 \nL 335.431467 61.456213 \nL 335.553213 61.412854 \nL 335.805838 61.30386 \nL 335.951934 61.292551 \nL 336.228907 61.181487 \nL 336.445008 61.024409 \nL 339.713906 58.799887 \nL 339.838696 58.721351 \nL 340.292202 58.442181 \nL 340.426124 58.393882 \nL 340.581351 58.295982 \nL 340.709185 58.194405 \nL 341.607067 57.517556 \nL 341.826211 57.416972 \nL 341.954045 57.360898 \nL 342.109272 57.296387 \nL 342.441031 57.189923 \nL 342.605389 57.053465 \nL 342.806271 56.9427 \nL 342.952367 56.901427 \nL 343.180642 56.790453 \nL 343.345 56.712986 \nL 343.481965 56.605306 \nL 343.609799 56.563298 \nL 343.831987 56.458267 \nL 343.993301 56.365536 \nL 344.28245 56.255109 \nL 344.446808 56.17545 \nL 344.687257 56.064415 \nL 345.028148 55.744111 \nL 345.329471 55.634285 \nL 345.454261 55.573775 \nL 345.606445 55.447061 \nL 345.786021 55.391947 \nL 345.968641 55.281508 \nL 346.413016 55.165213 \nL 346.562156 55.064166 \nL 346.680859 55.022803 \nL 346.829999 54.965461 \nL 347.067405 54.857456 \nL 347.222632 54.816547 \nL 347.371771 54.706493 \nL 347.563522 54.44214 \nL 347.691356 54.271158 \nL 348.02616 54.170264 \nL 348.160081 54.093904 \nL 348.415749 53.967908 \nL 348.567933 53.838086 \nL 348.823601 53.729175 \nL 348.960566 53.695033 \nL 349.164491 53.590986 \nL 349.313631 53.470249 \nL 349.45364 53.362626 \nL 349.633216 53.216193 \nL 349.846273 53.111147 \nL 349.974107 53.032742 \nL 350.174989 52.91295 \nL 350.293692 52.879572 \nL 350.534141 52.770701 \nL 350.689368 52.695775 \nL 350.70763 52.615147 \nL 350.829377 52.494009 \nL 350.908512 52.386453 \nL 351.09722 52.132505 \nL 351.225054 52.027018 \nL 351.37115 51.883043 \nL 351.605512 51.775366 \nL 351.812481 51.694331 \nL 352.220333 51.586214 \nL 352.387734 51.406308 \nL 352.567311 51.309673 \nL 352.689057 51.239066 \nL 352.826022 51.152553 \nL 352.953856 51.001197 \nL 353.200393 50.834981 \nL 353.474323 50.724145 \nL 353.635638 50.552189 \nL 353.997834 50.220186 \nL 354.125668 50.132722 \nL 354.685703 49.739118 \nL 354.825711 49.628554 \nL 355.05703 49.518044 \nL 355.391833 49.153648 \nL 355.510536 49.054023 \nL 355.629239 48.980228 \nL 355.994479 48.762432 \nL 356.326239 48.531287 \nL 356.444942 48.411553 \nL 356.597126 48.304645 \nL 356.794964 48.155672 \nL 357.008021 48.047248 \nL 357.199772 47.939458 \nL 357.300213 47.830606 \nL 357.437178 47.790178 \nL 357.616754 47.685038 \nL 357.778068 47.603703 \nL 358.042867 47.501095 \nL 358.204182 47.319714 \nL 358.563334 47.209535 \nL 359.601225 46.443963 \nL 359.741233 46.3336 \nL 360.024294 46.141094 \nL 360.127779 46.037489 \nL 360.270831 45.96886 \nL 360.486932 45.857768 \nL 360.623897 45.783583 \nL 360.736512 45.693067 \nL 360.882608 45.409063 \nL 361.244805 45.303031 \nL 361.421337 45.115167 \nL 361.786577 44.903845 \nL 362.456184 44.327832 \nL 362.599236 44.223792 \nL 362.739245 44.01133 \nL 362.757507 43.923649 \nL 362.894472 43.651761 \nL 363.095354 43.548952 \nL 363.238406 43.421659 \nL 363.375371 43.318778 \nL 363.503205 43.17744 \nL 363.73148 43.069699 \nL 363.886708 42.951918 \nL 364.130201 42.84296 \nL 364.340214 42.78773 \nL 364.541096 42.692047 \nL 364.665886 42.618611 \nL 364.897205 42.507875 \nL 365.028083 42.453416 \nL 365.162004 42.351254 \nL 365.3081 42.226042 \nL 365.378104 42.118617 \nL 365.499851 42.051516 \nL 365.767694 41.948382 \nL 365.94727 41.769739 \nL 366.839064 40.946077 \nL 366.963855 40.863912 \nL 367.033859 40.757822 \nL 367.155606 40.651943 \nL 367.484322 40.545211 \nL 367.618243 40.500837 \nL 367.779557 40.393246 \nL 367.937828 40.295465 \nL 368.111317 40.193563 \nL 368.296981 39.820027 \nL 368.491775 39.713411 \nL 368.640915 39.548722 \nL 368.826579 39.443116 \nL 368.945282 39.362418 \nL 369.237474 39.236459 \nL 369.395744 39.112915 \nL 369.642281 39.009953 \nL 369.818814 38.73669 \nL 370.02274 38.634883 \nL 370.20536 38.312595 \nL 370.38798 38.206701 \nL 370.518857 38.124515 \nL 370.741045 38.016436 \nL 370.984538 37.854776 \nL 371.188464 37.746415 \nL 371.42587 37.55445 \nL 371.6998 37.451919 \nL 371.827634 37.383578 \nL 372.022429 37.272526 \nL 372.147219 37.133481 \nL 372.302446 37.03106 \nL 372.463761 36.841089 \nL 372.573333 36.731074 \nL 373.188153 36.354616 \nL 373.349468 36.11698 \nL 373.760363 35.836132 \nL 373.888197 35.786772 \nL 373.979507 35.67698 \nL 374.107341 35.604973 \nL 374.223 35.50217 \nL 374.341703 35.451625 \nL 374.719118 35.341957 \nL 374.971742 35.076664 \nL 375.145231 35.020283 \nL 375.300458 34.914256 \nL 375.434379 34.8296 \nL 375.583519 34.732039 \nL 375.757008 34.370577 \nL 375.988327 34.265336 \nL 376.332261 33.811783 \nL 376.444877 33.70652 \nL 376.594016 33.587089 \nL 376.764462 33.484848 \nL 376.901427 33.369525 \nL 376.992737 33.2642 \nL 377.114483 33.179498 \nL 377.461461 33.070659 \nL 377.878444 32.859267 \nL 378.076282 32.751338 \nL 378.228465 32.681188 \nL 378.404998 32.592861 \nL 378.526745 32.508271 \nL 378.794587 32.40896 \nL 378.916334 32.34855 \nL 379.12026 32.242454 \nL 379.272443 32.201761 \nL 379.272443 32.201761 \n\" style=\"fill:none;stroke:#ff0000;stroke-linecap:square;stroke-width:1.5;\"/>\n   </g>\n   <g id=\"patch_3\">\n    <path d=\"M 59.690625 239.758125 \nL 59.690625 22.318125 \n\" style=\"fill:none;stroke:#000000;stroke-linecap:square;stroke-linejoin:miter;stroke-width:0.8;\"/>\n   </g>\n   <g id=\"patch_4\">\n    <path d=\"M 394.490625 239.758125 \nL 394.490625 22.318125 \n\" style=\"fill:none;stroke:#000000;stroke-linecap:square;stroke-linejoin:miter;stroke-width:0.8;\"/>\n   </g>\n   <g id=\"patch_5\">\n    <path d=\"M 59.690625 239.758125 \nL 394.490625 239.758125 \n\" style=\"fill:none;stroke:#000000;stroke-linecap:square;stroke-linejoin:miter;stroke-width:0.8;\"/>\n   </g>\n   <g id=\"patch_6\">\n    <path d=\"M 59.690625 22.318125 \nL 394.490625 22.318125 \n\" style=\"fill:none;stroke:#000000;stroke-linecap:square;stroke-linejoin:miter;stroke-width:0.8;\"/>\n   </g>\n   <g id=\"text_15\">\n    <!-- Espera Acumulada Por Sistema -->\n    <defs>\n     <path d=\"M 41.109375 46.296875 \nQ 39.59375 47.171875 37.8125 47.578125 \nQ 36.03125 48 33.890625 48 \nQ 26.265625 48 22.1875 43.046875 \nQ 18.109375 38.09375 18.109375 28.8125 \nL 18.109375 0 \nL 9.078125 0 \nL 9.078125 54.6875 \nL 18.109375 54.6875 \nL 18.109375 46.1875 \nQ 20.953125 51.171875 25.484375 53.578125 \nQ 30.03125 56 36.53125 56 \nQ 37.453125 56 38.578125 55.875 \nQ 39.703125 55.765625 41.0625 55.515625 \nz\n\" id=\"DejaVuSans-114\"/>\n     <path d=\"M 34.1875 63.1875 \nL 20.796875 26.90625 \nL 47.609375 26.90625 \nz\nM 28.609375 72.90625 \nL 39.796875 72.90625 \nL 67.578125 0 \nL 57.328125 0 \nL 50.6875 18.703125 \nL 17.828125 18.703125 \nL 11.1875 0 \nL 0.78125 0 \nz\n\" id=\"DejaVuSans-65\"/>\n     <path d=\"M 19.671875 64.796875 \nL 19.671875 37.40625 \nL 32.078125 37.40625 \nQ 38.96875 37.40625 42.71875 40.96875 \nQ 46.484375 44.53125 46.484375 51.125 \nQ 46.484375 57.671875 42.71875 61.234375 \nQ 38.96875 64.796875 32.078125 64.796875 \nz\nM 9.8125 72.90625 \nL 32.078125 72.90625 \nQ 44.34375 72.90625 50.609375 67.359375 \nQ 56.890625 61.8125 56.890625 51.125 \nQ 56.890625 40.328125 50.609375 34.8125 \nQ 44.34375 29.296875 32.078125 29.296875 \nL 19.671875 29.296875 \nL 19.671875 0 \nL 9.8125 0 \nz\n\" id=\"DejaVuSans-80\"/>\n    </defs>\n    <g transform=\"translate(133.52625 16.318125)scale(0.12 -0.12)\">\n     <use xlink:href=\"#DejaVuSans-69\"/>\n     <use x=\"63.183594\" xlink:href=\"#DejaVuSans-115\"/>\n     <use x=\"115.283203\" xlink:href=\"#DejaVuSans-112\"/>\n     <use x=\"178.759766\" xlink:href=\"#DejaVuSans-101\"/>\n     <use x=\"240.283203\" xlink:href=\"#DejaVuSans-114\"/>\n     <use x=\"281.396484\" xlink:href=\"#DejaVuSans-97\"/>\n     <use x=\"342.675781\" xlink:href=\"#DejaVuSans-32\"/>\n     <use x=\"374.462891\" xlink:href=\"#DejaVuSans-65\"/>\n     <use x=\"441.121094\" xlink:href=\"#DejaVuSans-99\"/>\n     <use x=\"496.101562\" xlink:href=\"#DejaVuSans-117\"/>\n     <use x=\"559.480469\" xlink:href=\"#DejaVuSans-109\"/>\n     <use x=\"656.892578\" xlink:href=\"#DejaVuSans-117\"/>\n     <use x=\"720.271484\" xlink:href=\"#DejaVuSans-108\"/>\n     <use x=\"748.054688\" xlink:href=\"#DejaVuSans-97\"/>\n     <use x=\"809.333984\" xlink:href=\"#DejaVuSans-100\"/>\n     <use x=\"872.810547\" xlink:href=\"#DejaVuSans-97\"/>\n     <use x=\"934.089844\" xlink:href=\"#DejaVuSans-32\"/>\n     <use x=\"965.876953\" xlink:href=\"#DejaVuSans-80\"/>\n     <use x=\"1022.554688\" xlink:href=\"#DejaVuSans-111\"/>\n     <use x=\"1083.736328\" xlink:href=\"#DejaVuSans-114\"/>\n     <use x=\"1124.849609\" xlink:href=\"#DejaVuSans-32\"/>\n     <use x=\"1156.636719\" xlink:href=\"#DejaVuSans-83\"/>\n     <use x=\"1220.113281\" xlink:href=\"#DejaVuSans-105\"/>\n     <use x=\"1247.896484\" xlink:href=\"#DejaVuSans-115\"/>\n     <use x=\"1299.996094\" xlink:href=\"#DejaVuSans-116\"/>\n     <use x=\"1339.205078\" xlink:href=\"#DejaVuSans-101\"/>\n     <use x=\"1400.728516\" xlink:href=\"#DejaVuSans-109\"/>\n     <use x=\"1498.140625\" xlink:href=\"#DejaVuSans-97\"/>\n    </g>\n   </g>\n   <g id=\"legend_1\">\n    <g id=\"patch_7\">\n     <path d=\"M 66.690625 59.674375 \nL 148.509375 59.674375 \nQ 150.509375 59.674375 150.509375 57.674375 \nL 150.509375 29.318125 \nQ 150.509375 27.318125 148.509375 27.318125 \nL 66.690625 27.318125 \nQ 64.690625 27.318125 64.690625 29.318125 \nL 64.690625 57.674375 \nQ 64.690625 59.674375 66.690625 59.674375 \nz\n\" style=\"fill:#ffffff;opacity:0.8;stroke:#cccccc;stroke-linejoin:miter;\"/>\n    </g>\n    <g id=\"line2d_15\">\n     <path d=\"M 68.690625 35.416562 \nL 88.690625 35.416562 \n\" style=\"fill:none;stroke:#008000;stroke-linecap:square;stroke-width:1.5;\"/>\n    </g>\n    <g id=\"line2d_16\"/>\n    <g id=\"text_16\">\n     <!-- Sistema 1 -->\n     <g transform=\"translate(96.690625 38.916562)scale(0.1 -0.1)\">\n      <use xlink:href=\"#DejaVuSans-83\"/>\n      <use x=\"63.476562\" xlink:href=\"#DejaVuSans-105\"/>\n      <use x=\"91.259766\" xlink:href=\"#DejaVuSans-115\"/>\n      <use x=\"143.359375\" xlink:href=\"#DejaVuSans-116\"/>\n      <use x=\"182.568359\" xlink:href=\"#DejaVuSans-101\"/>\n      <use x=\"244.091797\" xlink:href=\"#DejaVuSans-109\"/>\n      <use x=\"341.503906\" xlink:href=\"#DejaVuSans-97\"/>\n      <use x=\"402.783203\" xlink:href=\"#DejaVuSans-32\"/>\n      <use x=\"434.570312\" xlink:href=\"#DejaVuSans-49\"/>\n     </g>\n    </g>\n    <g id=\"line2d_17\">\n     <path d=\"M 68.690625 50.094687 \nL 88.690625 50.094687 \n\" style=\"fill:none;stroke:#ff0000;stroke-linecap:square;stroke-width:1.5;\"/>\n    </g>\n    <g id=\"line2d_18\"/>\n    <g id=\"text_17\">\n     <!-- Sistema 2 -->\n     <g transform=\"translate(96.690625 53.594687)scale(0.1 -0.1)\">\n      <use xlink:href=\"#DejaVuSans-83\"/>\n      <use x=\"63.476562\" xlink:href=\"#DejaVuSans-105\"/>\n      <use x=\"91.259766\" xlink:href=\"#DejaVuSans-115\"/>\n      <use x=\"143.359375\" xlink:href=\"#DejaVuSans-116\"/>\n      <use x=\"182.568359\" xlink:href=\"#DejaVuSans-101\"/>\n      <use x=\"244.091797\" xlink:href=\"#DejaVuSans-109\"/>\n      <use x=\"341.503906\" xlink:href=\"#DejaVuSans-97\"/>\n      <use x=\"402.783203\" xlink:href=\"#DejaVuSans-32\"/>\n      <use x=\"434.570312\" xlink:href=\"#DejaVuSans-50\"/>\n     </g>\n    </g>\n   </g>\n  </g>\n </g>\n <defs>\n  <clipPath id=\"pc34ef3550a\">\n   <rect height=\"217.44\" width=\"334.8\" x=\"59.690625\" y=\"22.318125\"/>\n  </clipPath>\n </defs>\n</svg>\n"
          },
          "metadata": {
            "needs_background": "light"
          }
        }
      ]
    },
    {
      "cell_type": "markdown",
      "source": [
        "## Probamos con otros valores"
      ],
      "metadata": {
        "id": "u-7qCVFFw4W4"
      }
    },
    {
      "cell_type": "markdown",
      "source": [
        "### Modificando Tasa de arribos\n",
        "\n",
        "Probamos aumentar y disminuir la media de arribos para ver como se comportan ambos sitemas.\n",
        "\n",
        "Al disminuir la media de tiempo entre arribos esperamos que en ambos sistemas el tiempo medio de espera aumente y la media de la fraccion de eventos sin espera se aleje de 1.\n",
        "\n",
        "Al aumentar la media de tiempo entre arribos esperamos que en ambos sistemas el tiempo medio de espera disminuya y la media de la fraccion de eventos sin espera se acerque mas a 1.\n",
        "\n"
      ],
      "metadata": {
        "id": "8vusKwdnn8fh"
      }
    },
    {
      "cell_type": "code",
      "source": [
        "NUEVA_TASA = 1\n",
        "mean_1, frac_1, _x = simular_1(SOLICITUDES, NUEVA_TASA, False)\n",
        "mean_2, frac_2, _x = simular_2(SOLICITUDES, NUEVA_TASA, False)\n",
        "print(f\"Se realizaron 1 test de {SOLICITUDES} solicitudes\")\n",
        "print(\"Sistema 1\")\n",
        "print(f\"Media Tiempo Medio De Esperas - {np.mean(mean_1)}\")\n",
        "print(f\"Media Fraccion De Eventos Sin Espera - {np.mean(frac_1)}\")\n",
        "print(\"Sistema 2\")\n",
        "print(f\"Media Tiempo Medio De Esperas - {np.mean(mean_2)}\")\n",
        "print(f\"Media Fraccion De Eventos Sin Espera - {np.mean(frac_2)}\")"
      ],
      "metadata": {
        "colab": {
          "base_uri": "https://localhost:8080/"
        },
        "id": "ara-9Q0Fp9d_",
        "outputId": "27faa303-22ac-4720-a48c-b228b6459f24"
      },
      "execution_count": null,
      "outputs": [
        {
          "output_type": "stream",
          "name": "stdout",
          "text": [
            "Se realizaron 1 test de 100000 solicitudes\n",
            "Sistema 1\n",
            "Media Tiempo Medio De Esperas - 30.84726940338986\n",
            "Media Fraccion De Eventos Sin Espera - 0.20801\n",
            "Sistema 2\n",
            "Media Tiempo Medio De Esperas - 12038.282810803063\n",
            "Media Fraccion De Eventos Sin Espera - 3e-05\n"
          ]
        }
      ]
    },
    {
      "cell_type": "code",
      "source": [
        "NUEVA_TASA = 8\n",
        "mean_1, frac_1, _x = simular_1(SOLICITUDES, NUEVA_TASA, False)\n",
        "mean_2, frac_2, _x = simular_2(SOLICITUDES, NUEVA_TASA, False)\n",
        "print(f\"Se realizaron 1 test de {SOLICITUDES} solicitudes\")\n",
        "print(\"Sistema 1\")\n",
        "print(f\"Media Tiempo Medio De Esperas - {np.mean(mean_1)}\")\n",
        "print(f\"Media Fraccion De Eventos Sin Espera - {np.mean(frac_1)}\")\n",
        "print(\"Sistema 2\")\n",
        "print(f\"Media Tiempo Medio De Esperas - {np.mean(mean_2)}\")\n",
        "print(f\"Media Fraccion De Eventos Sin Espera - {np.mean(frac_2)}\")"
      ],
      "metadata": {
        "colab": {
          "base_uri": "https://localhost:8080/"
        },
        "id": "WOplOCJ7opK0",
        "outputId": "1c1f1d37-cf25-4b77-f465-face6b1d8201"
      },
      "execution_count": null,
      "outputs": [
        {
          "output_type": "stream",
          "name": "stdout",
          "text": [
            "Se realizaron 1 test de 100000 solicitudes\n",
            "Sistema 1\n",
            "Media Tiempo Medio De Esperas - 0.08619043978404403\n",
            "Media Fraccion De Eventos Sin Espera - 0.9021\n",
            "Sistema 2\n",
            "Media Tiempo Medio De Esperas - 0.22946910556466174\n",
            "Media Fraccion De Eventos Sin Espera - 0.84587\n"
          ]
        }
      ]
    },
    {
      "cell_type": "markdown",
      "source": [
        "### Modificando tasas de procesamiento\n",
        "\n",
        "Al disminuir la media de procesamiento esperamos que los tiempos de espera disminuyan y la fraccion de eventos sin espera tienda a uno.\n",
        "\n",
        "El aumentarla esperamos lo contrario."
      ],
      "metadata": {
        "id": "AAwJTTxYq0GW"
      }
    },
    {
      "cell_type": "code",
      "source": [
        "NUEVA_TASA = 0.1\n",
        "mean_1, frac_1, _x = simular_1(SOLICITUDES, TASA_ARRIBOS, False, NUEVA_TASA, NUEVA_TASA)\n",
        "mean_2, frac_2, _x = simular_2(SOLICITUDES, TASA_ARRIBOS, False, NUEVA_TASA)\n",
        "print(f\"Se realizaron 1 test de {SOLICITUDES} solicitudes\")\n",
        "print(\"Sistema 1\")\n",
        "print(f\"Media Tiempo Medio De Esperas - {np.mean(mean_1)}\")\n",
        "print(f\"Media Fraccion De Eventos Sin Espera - {np.mean(frac_1)}\")\n",
        "print(\"Sistema 2\")\n",
        "print(f\"Media Tiempo Medio De Esperas - {np.mean(mean_2)}\")\n",
        "print(f\"Media Fraccion De Eventos Sin Espera - {np.mean(frac_2)}\")"
      ],
      "metadata": {
        "colab": {
          "base_uri": "https://localhost:8080/"
        },
        "id": "YJ6Vk4kgrWPC",
        "outputId": "c2619d25-2338-4f24-dbd8-d3891a7f7d38"
      },
      "execution_count": null,
      "outputs": [
        {
          "output_type": "stream",
          "name": "stdout",
          "text": [
            "Se realizaron 1 test de 100000 solicitudes\n",
            "Sistema 1\n",
            "Media Tiempo Medio De Esperas - 0.0025386454799458907\n",
            "Media Fraccion De Eventos Sin Espera - 0.97519\n",
            "Sistema 2\n",
            "Media Tiempo Medio De Esperas - 0.002583010929657546\n",
            "Media Fraccion De Eventos Sin Espera - 0.97476\n"
          ]
        }
      ]
    },
    {
      "cell_type": "code",
      "source": [
        "NUEVA_TASA = 100\n",
        "mean_1, frac_1, _x = simular_1(SOLICITUDES, TASA_ARRIBOS, False, NUEVA_TASA, NUEVA_TASA)\n",
        "mean_2, frac_2, _x = simular_2(SOLICITUDES, TASA_ARRIBOS, False, NUEVA_TASA)\n",
        "print(f\"Se realizaron 1 test de {SOLICITUDES} solicitudes\")\n",
        "print(\"Sistema 1\")\n",
        "print(f\"Media Tiempo Medio De Esperas - {np.mean(mean_1)}\")\n",
        "print(f\"Media Fraccion De Eventos Sin Espera - {np.mean(frac_1)}\")\n",
        "print(\"Sistema 2\")\n",
        "print(f\"Media Tiempo Medio De Esperas - {np.mean(mean_2)}\")\n",
        "print(f\"Media Fraccion De Eventos Sin Espera - {np.mean(frac_2)}\")"
      ],
      "metadata": {
        "colab": {
          "base_uri": "https://localhost:8080/"
        },
        "id": "BoKxjzjlrzlv",
        "outputId": "ae780ca7-cb28-4d8c-8c94-702caa02d69d"
      },
      "execution_count": null,
      "outputs": [
        {
          "output_type": "stream",
          "name": "stdout",
          "text": [
            "Se realizaron 1 test de 100000 solicitudes\n",
            "Sistema 1\n",
            "Media Tiempo Medio De Esperas - 2778428.025780333\n",
            "Media Fraccion De Eventos Sin Espera - 3e-05\n",
            "Sistema 2\n",
            "Media Tiempo Medio De Esperas - 4789769.188265715\n",
            "Media Fraccion De Eventos Sin Espera - 1e-05\n"
          ]
        }
      ]
    },
    {
      "cell_type": "markdown",
      "source": [
        "# Ejercicio 4\n",
        "\n",
        "Una entidad financiera está analizando cambiar uno de sus cajeros automáticos por uno con la funcionalidad de\n",
        "reciclador de billetes (si un cliente realiza un depósito de efectivo, ese efectivo estará disponible para que lo\n",
        "pueda retirar otro cliente).\n",
        "El cajero automático actual, que se quiere reemplazar, es de tipo estándar. No recicla los billetes, sino que\n",
        "posee dos compartimentos, uno con dinero para entregar y otro donde guarda el dinero que se deposita.\n",
        "Esto presenta los siguientes problemas:\n",
        "\n",
        "● Si no tiene más efectivo para entregar en el compartimento de retiro de dinero, no entrega efectivo aunque tenga en el compartimento de depósitos.\n",
        "\n",
        "● Si el compartimento que recibe los depósitos se completa, no puede recibir más.\n",
        "La entidad conoce que con el cajero actual el 20% de los clientes se retiraba sin poder extraer dinero, y sóloacepta cambiarlo si este porcentaje disminuye.\n",
        "\n",
        "Por simplicidad suponer que el cajero sólo expende billetes de $100, tiene una capacidad máxima de 2000 billetes, y comienza el día con su carga completa.\n",
        "\n",
        "Si un cliente quiere extraer dinero y el cajero no cuenta con la suma suficiente, se va del mismo sin retirar nada.\n",
        "\n",
        "Algo similar ocurre cuando un cliente desea depositar efectivo y la capacidad máxima de billetes en el cajero fue alcanzada, retirándose sin poder depositar.\n",
        "\n",
        "En el relevamiento que realizó la entidad diferenció a sus clientes en dos grupos:\n",
        "\n",
        "Grupo 1:\n",
        "Sólo retiran efectivo, y corresponden al 75% de los clientes que arriban.\n",
        "El tiempo que utilizan el cajero se puede modelar con una distribución exponencial de media 90 segundos.\n",
        "Cada cliente de este grupo, extrae una cantidad de billetes que sigue una distribución uniforme [3,50].\n",
        "\n",
        "Grupo 2:\n",
        "Sólo realizan depósitos, son el 25% de los clientes totales.\n",
        "Utilizando el cajero un tiempo que siguen una distribución exponencial de media 5 minutos.\n",
        "Cada cliente de este grupo, deposita una cantidad de billetes que se puede modelar utilizando una distribución uniforme [10,110].\n",
        "\n",
        "La frecuencia de arribos de clientes es de 1 cliente cada 10 minutos con distribución exponencial.\n",
        "\n",
        "Se pide:\n",
        "\n",
        "a. Simular 1000 días completos de 24 hrs.\n",
        "\n",
        "b. Para un día en particular graficar la cantidad de billetes en el cajero luego de cada transacción.\n",
        "\n",
        "c. Calcular el tiempo medio que los clientes demoraron en el sistema (espera + utilización del cajero)\n",
        "\n",
        "d. ¿Recomienda a la entidad que implemente el cambio de cajero?\n",
        "El ejercicio se puede resolver utilizando Simpy o programación tradicional (a elección del grupo)"
      ],
      "metadata": {
        "id": "X8BCFBSuEnQU"
      }
    },
    {
      "cell_type": "code",
      "source": [
        "from random import randint"
      ],
      "metadata": {
        "id": "Jt521tElNOOD"
      },
      "execution_count": null,
      "outputs": []
    },
    {
      "cell_type": "code",
      "source": [
        "CAPACIDAD = 2000\n",
        "\n",
        "PROB_RETIRO = 0.75\n",
        "PROB_DEP = 1 - PROB_RETIRO\n",
        "\n",
        "DEMORA_RETIRO = 90\n",
        "MIN_RETIRO = 3\n",
        "MAX_RETIRO = 50\n",
        "\n",
        "DEMORA_DEPOSITO = 300\n",
        "MIN_DEPOSITO = 10\n",
        "MAX_DEPOSITO = 110\n",
        "\n",
        "TASA_ARRIBOS = 600\n",
        "\n",
        "SEGUNDOS_DIA = 24*60*60"
      ],
      "metadata": {
        "id": "buFIAIy8JpDR"
      },
      "execution_count": null,
      "outputs": []
    },
    {
      "cell_type": "code",
      "source": [
        "def simular_banco(tasa_arribo, cantidad_billetes = CAPACIDAD, print_data = True):\n",
        "  llegadas = []\n",
        "  suma = sum(llegadas) # = 0\n",
        "  while suma < SEGUNDOS_DIA:\n",
        "    aux = np.random.exponential(tasa_arribo, 1)\n",
        "    llegadas.append(aux[0])\n",
        "    suma += aux[0]\n",
        "  llegadas = np.cumsum(llegadas)\n",
        "\n",
        "  prob_retiro = np.random.uniform(0,1, len(llegadas))\n",
        "\n",
        "  billetes = cantidad_billetes\n",
        "  interactuaron = 0\n",
        "  no_interactuaron = 0\n",
        "\n",
        "  billetes_t = [billetes]\n",
        "  demoras = []\n",
        "\n",
        "  for i, prob in enumerate(prob_retiro):\n",
        "     if prob < PROB_RETIRO:\n",
        "       demora = np.random.exponential(DEMORA_RETIRO,1)\n",
        "       demoras.append(demora[0])\n",
        "\n",
        "       retiro = randint(MIN_RETIRO, MAX_RETIRO)\n",
        "       if retiro <= billetes:\n",
        "         billetes -= retiro\n",
        "         interactuaron += 1\n",
        "       else:\n",
        "         no_interactuaron += 1\n",
        "     else:\n",
        "       demora = np.random.exponential(DEMORA_DEPOSITO,1)\n",
        "       demoras.append(demora[0])\n",
        "\n",
        "       deposito = randint(MIN_DEPOSITO, MAX_DEPOSITO)\n",
        "       if deposito + billetes <= CAPACIDAD:\n",
        "         billetes += deposito\n",
        "     billetes_t.append(billetes)\n",
        "\n",
        "  salidas = tiempo_salida(llegadas, demoras)\n",
        "  esperas = tiempo_espera(llegadas, salidas)\n",
        "  ocupacion = salidas - llegadas\n",
        "\n",
        "  esperas = np.array(esperas)\n",
        "  n_zeros = esperas[np.where(esperas==0)].size\n",
        "\n",
        "  if print_data:\n",
        "    print(f\"No esperaron {n_zeros} Transacciones\")\n",
        "    print(f\"Esperaron {len(esperas)-n_zeros} Transacciones\")\n",
        "  \n",
        "\n",
        "  return interactuaron, no_interactuaron, billetes_t, ocupacion"
      ],
      "metadata": {
        "id": "p8SScGjqKJXe"
      },
      "execution_count": null,
      "outputs": []
    },
    {
      "cell_type": "markdown",
      "source": [
        "Una sola ejecucion"
      ],
      "metadata": {
        "id": "jBJ4RfRmOaBZ"
      }
    },
    {
      "cell_type": "code",
      "source": [
        "inte, n_inte, billetes, ocupacion = simular_banco(TASA_ARRIBOS,CAPACIDAD, True)\n",
        "\n",
        "plt.plot(range(len(billetes)), billetes, color = \"g\")\n",
        "plt.title(\"Billete Por Transaccion\")\n",
        "plt.ylabel(\"Cantidad De Billetes\")\n",
        "plt.xlabel(\"Numero De Transacción\")\n",
        "plt.ylim(0, CAPACIDAD*1.05)"
      ],
      "metadata": {
        "colab": {
          "base_uri": "https://localhost:8080/",
          "height": 482
        },
        "id": "yHPOztRELTA9",
        "outputId": "b6a10e87-f92e-402e-eb0e-0bd21e4da29c"
      },
      "execution_count": null,
      "outputs": [
        {
          "output_type": "stream",
          "name": "stdout",
          "text": [
            "No esperaron 107 Transacciones\n",
            "Esperaron 25 Transacciones\n"
          ]
        },
        {
          "output_type": "execute_result",
          "data": {
            "text/plain": [
              "(0.0, 2100.0)"
            ]
          },
          "metadata": {},
          "execution_count": 44
        },
        {
          "output_type": "display_data",
          "data": {
            "text/plain": [
              "<Figure size 432x288 with 1 Axes>"
            ],
            "image/svg+xml": "<?xml version=\"1.0\" encoding=\"utf-8\" standalone=\"no\"?>\n<!DOCTYPE svg PUBLIC \"-//W3C//DTD SVG 1.1//EN\"\n  \"http://www.w3.org/Graphics/SVG/1.1/DTD/svg11.dtd\">\n<!-- Created with matplotlib (https://matplotlib.org/) -->\n<svg height=\"277.314375pt\" version=\"1.1\" viewBox=\"0 0 395.328125 277.314375\" width=\"395.328125pt\" xmlns=\"http://www.w3.org/2000/svg\" xmlns:xlink=\"http://www.w3.org/1999/xlink\">\n <defs>\n  <style type=\"text/css\">\n*{stroke-linecap:butt;stroke-linejoin:round;}\n  </style>\n </defs>\n <g id=\"figure_1\">\n  <g id=\"patch_1\">\n   <path d=\"M 0 277.314375 \nL 395.328125 277.314375 \nL 395.328125 0 \nL 0 0 \nz\n\" style=\"fill:none;\"/>\n  </g>\n  <g id=\"axes_1\">\n   <g id=\"patch_2\">\n    <path d=\"M 53.328125 239.758125 \nL 388.128125 239.758125 \nL 388.128125 22.318125 \nL 53.328125 22.318125 \nz\n\" style=\"fill:#ffffff;\"/>\n   </g>\n   <g id=\"matplotlib.axis_1\">\n    <g id=\"xtick_1\">\n     <g id=\"line2d_1\">\n      <defs>\n       <path d=\"M 0 0 \nL 0 3.5 \n\" id=\"ma42827df83\" style=\"stroke:#000000;stroke-width:0.8;\"/>\n      </defs>\n      <g>\n       <use style=\"stroke:#000000;stroke-width:0.8;\" x=\"68.546307\" xlink:href=\"#ma42827df83\" y=\"239.758125\"/>\n      </g>\n     </g>\n     <g id=\"text_1\">\n      <!-- 0 -->\n      <defs>\n       <path d=\"M 31.78125 66.40625 \nQ 24.171875 66.40625 20.328125 58.90625 \nQ 16.5 51.421875 16.5 36.375 \nQ 16.5 21.390625 20.328125 13.890625 \nQ 24.171875 6.390625 31.78125 6.390625 \nQ 39.453125 6.390625 43.28125 13.890625 \nQ 47.125 21.390625 47.125 36.375 \nQ 47.125 51.421875 43.28125 58.90625 \nQ 39.453125 66.40625 31.78125 66.40625 \nz\nM 31.78125 74.21875 \nQ 44.046875 74.21875 50.515625 64.515625 \nQ 56.984375 54.828125 56.984375 36.375 \nQ 56.984375 17.96875 50.515625 8.265625 \nQ 44.046875 -1.421875 31.78125 -1.421875 \nQ 19.53125 -1.421875 13.0625 8.265625 \nQ 6.59375 17.96875 6.59375 36.375 \nQ 6.59375 54.828125 13.0625 64.515625 \nQ 19.53125 74.21875 31.78125 74.21875 \nz\n\" id=\"DejaVuSans-48\"/>\n      </defs>\n      <g transform=\"translate(65.365057 254.356562)scale(0.1 -0.1)\">\n       <use xlink:href=\"#DejaVuSans-48\"/>\n      </g>\n     </g>\n    </g>\n    <g id=\"xtick_2\">\n     <g id=\"line2d_2\">\n      <g>\n       <use style=\"stroke:#000000;stroke-width:0.8;\" x=\"114.662009\" xlink:href=\"#ma42827df83\" y=\"239.758125\"/>\n      </g>\n     </g>\n     <g id=\"text_2\">\n      <!-- 20 -->\n      <defs>\n       <path d=\"M 19.1875 8.296875 \nL 53.609375 8.296875 \nL 53.609375 0 \nL 7.328125 0 \nL 7.328125 8.296875 \nQ 12.9375 14.109375 22.625 23.890625 \nQ 32.328125 33.6875 34.8125 36.53125 \nQ 39.546875 41.84375 41.421875 45.53125 \nQ 43.3125 49.21875 43.3125 52.78125 \nQ 43.3125 58.59375 39.234375 62.25 \nQ 35.15625 65.921875 28.609375 65.921875 \nQ 23.96875 65.921875 18.8125 64.3125 \nQ 13.671875 62.703125 7.8125 59.421875 \nL 7.8125 69.390625 \nQ 13.765625 71.78125 18.9375 73 \nQ 24.125 74.21875 28.421875 74.21875 \nQ 39.75 74.21875 46.484375 68.546875 \nQ 53.21875 62.890625 53.21875 53.421875 \nQ 53.21875 48.921875 51.53125 44.890625 \nQ 49.859375 40.875 45.40625 35.40625 \nQ 44.1875 33.984375 37.640625 27.21875 \nQ 31.109375 20.453125 19.1875 8.296875 \nz\n\" id=\"DejaVuSans-50\"/>\n      </defs>\n      <g transform=\"translate(108.299509 254.356562)scale(0.1 -0.1)\">\n       <use xlink:href=\"#DejaVuSans-50\"/>\n       <use x=\"63.623047\" xlink:href=\"#DejaVuSans-48\"/>\n      </g>\n     </g>\n    </g>\n    <g id=\"xtick_3\">\n     <g id=\"line2d_3\">\n      <g>\n       <use style=\"stroke:#000000;stroke-width:0.8;\" x=\"160.777712\" xlink:href=\"#ma42827df83\" y=\"239.758125\"/>\n      </g>\n     </g>\n     <g id=\"text_3\">\n      <!-- 40 -->\n      <defs>\n       <path d=\"M 37.796875 64.3125 \nL 12.890625 25.390625 \nL 37.796875 25.390625 \nz\nM 35.203125 72.90625 \nL 47.609375 72.90625 \nL 47.609375 25.390625 \nL 58.015625 25.390625 \nL 58.015625 17.1875 \nL 47.609375 17.1875 \nL 47.609375 0 \nL 37.796875 0 \nL 37.796875 17.1875 \nL 4.890625 17.1875 \nL 4.890625 26.703125 \nz\n\" id=\"DejaVuSans-52\"/>\n      </defs>\n      <g transform=\"translate(154.415212 254.356562)scale(0.1 -0.1)\">\n       <use xlink:href=\"#DejaVuSans-52\"/>\n       <use x=\"63.623047\" xlink:href=\"#DejaVuSans-48\"/>\n      </g>\n     </g>\n    </g>\n    <g id=\"xtick_4\">\n     <g id=\"line2d_4\">\n      <g>\n       <use style=\"stroke:#000000;stroke-width:0.8;\" x=\"206.893414\" xlink:href=\"#ma42827df83\" y=\"239.758125\"/>\n      </g>\n     </g>\n     <g id=\"text_4\">\n      <!-- 60 -->\n      <defs>\n       <path d=\"M 33.015625 40.375 \nQ 26.375 40.375 22.484375 35.828125 \nQ 18.609375 31.296875 18.609375 23.390625 \nQ 18.609375 15.53125 22.484375 10.953125 \nQ 26.375 6.390625 33.015625 6.390625 \nQ 39.65625 6.390625 43.53125 10.953125 \nQ 47.40625 15.53125 47.40625 23.390625 \nQ 47.40625 31.296875 43.53125 35.828125 \nQ 39.65625 40.375 33.015625 40.375 \nz\nM 52.59375 71.296875 \nL 52.59375 62.3125 \nQ 48.875 64.0625 45.09375 64.984375 \nQ 41.3125 65.921875 37.59375 65.921875 \nQ 27.828125 65.921875 22.671875 59.328125 \nQ 17.53125 52.734375 16.796875 39.40625 \nQ 19.671875 43.65625 24.015625 45.921875 \nQ 28.375 48.1875 33.59375 48.1875 \nQ 44.578125 48.1875 50.953125 41.515625 \nQ 57.328125 34.859375 57.328125 23.390625 \nQ 57.328125 12.15625 50.6875 5.359375 \nQ 44.046875 -1.421875 33.015625 -1.421875 \nQ 20.359375 -1.421875 13.671875 8.265625 \nQ 6.984375 17.96875 6.984375 36.375 \nQ 6.984375 53.65625 15.1875 63.9375 \nQ 23.390625 74.21875 37.203125 74.21875 \nQ 40.921875 74.21875 44.703125 73.484375 \nQ 48.484375 72.75 52.59375 71.296875 \nz\n\" id=\"DejaVuSans-54\"/>\n      </defs>\n      <g transform=\"translate(200.530914 254.356562)scale(0.1 -0.1)\">\n       <use xlink:href=\"#DejaVuSans-54\"/>\n       <use x=\"63.623047\" xlink:href=\"#DejaVuSans-48\"/>\n      </g>\n     </g>\n    </g>\n    <g id=\"xtick_5\">\n     <g id=\"line2d_5\">\n      <g>\n       <use style=\"stroke:#000000;stroke-width:0.8;\" x=\"253.009117\" xlink:href=\"#ma42827df83\" y=\"239.758125\"/>\n      </g>\n     </g>\n     <g id=\"text_5\">\n      <!-- 80 -->\n      <defs>\n       <path d=\"M 31.78125 34.625 \nQ 24.75 34.625 20.71875 30.859375 \nQ 16.703125 27.09375 16.703125 20.515625 \nQ 16.703125 13.921875 20.71875 10.15625 \nQ 24.75 6.390625 31.78125 6.390625 \nQ 38.8125 6.390625 42.859375 10.171875 \nQ 46.921875 13.96875 46.921875 20.515625 \nQ 46.921875 27.09375 42.890625 30.859375 \nQ 38.875 34.625 31.78125 34.625 \nz\nM 21.921875 38.8125 \nQ 15.578125 40.375 12.03125 44.71875 \nQ 8.5 49.078125 8.5 55.328125 \nQ 8.5 64.0625 14.71875 69.140625 \nQ 20.953125 74.21875 31.78125 74.21875 \nQ 42.671875 74.21875 48.875 69.140625 \nQ 55.078125 64.0625 55.078125 55.328125 \nQ 55.078125 49.078125 51.53125 44.71875 \nQ 48 40.375 41.703125 38.8125 \nQ 48.828125 37.15625 52.796875 32.3125 \nQ 56.78125 27.484375 56.78125 20.515625 \nQ 56.78125 9.90625 50.3125 4.234375 \nQ 43.84375 -1.421875 31.78125 -1.421875 \nQ 19.734375 -1.421875 13.25 4.234375 \nQ 6.78125 9.90625 6.78125 20.515625 \nQ 6.78125 27.484375 10.78125 32.3125 \nQ 14.796875 37.15625 21.921875 38.8125 \nz\nM 18.3125 54.390625 \nQ 18.3125 48.734375 21.84375 45.5625 \nQ 25.390625 42.390625 31.78125 42.390625 \nQ 38.140625 42.390625 41.71875 45.5625 \nQ 45.3125 48.734375 45.3125 54.390625 \nQ 45.3125 60.0625 41.71875 63.234375 \nQ 38.140625 66.40625 31.78125 66.40625 \nQ 25.390625 66.40625 21.84375 63.234375 \nQ 18.3125 60.0625 18.3125 54.390625 \nz\n\" id=\"DejaVuSans-56\"/>\n      </defs>\n      <g transform=\"translate(246.646617 254.356562)scale(0.1 -0.1)\">\n       <use xlink:href=\"#DejaVuSans-56\"/>\n       <use x=\"63.623047\" xlink:href=\"#DejaVuSans-48\"/>\n      </g>\n     </g>\n    </g>\n    <g id=\"xtick_6\">\n     <g id=\"line2d_6\">\n      <g>\n       <use style=\"stroke:#000000;stroke-width:0.8;\" x=\"299.124819\" xlink:href=\"#ma42827df83\" y=\"239.758125\"/>\n      </g>\n     </g>\n     <g id=\"text_6\">\n      <!-- 100 -->\n      <defs>\n       <path d=\"M 12.40625 8.296875 \nL 28.515625 8.296875 \nL 28.515625 63.921875 \nL 10.984375 60.40625 \nL 10.984375 69.390625 \nL 28.421875 72.90625 \nL 38.28125 72.90625 \nL 38.28125 8.296875 \nL 54.390625 8.296875 \nL 54.390625 0 \nL 12.40625 0 \nz\n\" id=\"DejaVuSans-49\"/>\n      </defs>\n      <g transform=\"translate(289.581069 254.356562)scale(0.1 -0.1)\">\n       <use xlink:href=\"#DejaVuSans-49\"/>\n       <use x=\"63.623047\" xlink:href=\"#DejaVuSans-48\"/>\n       <use x=\"127.246094\" xlink:href=\"#DejaVuSans-48\"/>\n      </g>\n     </g>\n    </g>\n    <g id=\"xtick_7\">\n     <g id=\"line2d_7\">\n      <g>\n       <use style=\"stroke:#000000;stroke-width:0.8;\" x=\"345.240522\" xlink:href=\"#ma42827df83\" y=\"239.758125\"/>\n      </g>\n     </g>\n     <g id=\"text_7\">\n      <!-- 120 -->\n      <g transform=\"translate(335.696772 254.356562)scale(0.1 -0.1)\">\n       <use xlink:href=\"#DejaVuSans-49\"/>\n       <use x=\"63.623047\" xlink:href=\"#DejaVuSans-50\"/>\n       <use x=\"127.246094\" xlink:href=\"#DejaVuSans-48\"/>\n      </g>\n     </g>\n    </g>\n    <g id=\"text_8\">\n     <!-- Numero De Transacción -->\n     <defs>\n      <path d=\"M 9.8125 72.90625 \nL 23.09375 72.90625 \nL 55.421875 11.921875 \nL 55.421875 72.90625 \nL 64.984375 72.90625 \nL 64.984375 0 \nL 51.703125 0 \nL 19.390625 60.984375 \nL 19.390625 0 \nL 9.8125 0 \nz\n\" id=\"DejaVuSans-78\"/>\n      <path d=\"M 8.5 21.578125 \nL 8.5 54.6875 \nL 17.484375 54.6875 \nL 17.484375 21.921875 \nQ 17.484375 14.15625 20.5 10.265625 \nQ 23.53125 6.390625 29.59375 6.390625 \nQ 36.859375 6.390625 41.078125 11.03125 \nQ 45.3125 15.671875 45.3125 23.6875 \nL 45.3125 54.6875 \nL 54.296875 54.6875 \nL 54.296875 0 \nL 45.3125 0 \nL 45.3125 8.40625 \nQ 42.046875 3.421875 37.71875 1 \nQ 33.40625 -1.421875 27.6875 -1.421875 \nQ 18.265625 -1.421875 13.375 4.4375 \nQ 8.5 10.296875 8.5 21.578125 \nz\nM 31.109375 56 \nz\n\" id=\"DejaVuSans-117\"/>\n      <path d=\"M 52 44.1875 \nQ 55.375 50.25 60.0625 53.125 \nQ 64.75 56 71.09375 56 \nQ 79.640625 56 84.28125 50.015625 \nQ 88.921875 44.046875 88.921875 33.015625 \nL 88.921875 0 \nL 79.890625 0 \nL 79.890625 32.71875 \nQ 79.890625 40.578125 77.09375 44.375 \nQ 74.3125 48.1875 68.609375 48.1875 \nQ 61.625 48.1875 57.5625 43.546875 \nQ 53.515625 38.921875 53.515625 30.90625 \nL 53.515625 0 \nL 44.484375 0 \nL 44.484375 32.71875 \nQ 44.484375 40.625 41.703125 44.40625 \nQ 38.921875 48.1875 33.109375 48.1875 \nQ 26.21875 48.1875 22.15625 43.53125 \nQ 18.109375 38.875 18.109375 30.90625 \nL 18.109375 0 \nL 9.078125 0 \nL 9.078125 54.6875 \nL 18.109375 54.6875 \nL 18.109375 46.1875 \nQ 21.1875 51.21875 25.484375 53.609375 \nQ 29.78125 56 35.6875 56 \nQ 41.65625 56 45.828125 52.96875 \nQ 50 49.953125 52 44.1875 \nz\n\" id=\"DejaVuSans-109\"/>\n      <path d=\"M 56.203125 29.59375 \nL 56.203125 25.203125 \nL 14.890625 25.203125 \nQ 15.484375 15.921875 20.484375 11.0625 \nQ 25.484375 6.203125 34.421875 6.203125 \nQ 39.59375 6.203125 44.453125 7.46875 \nQ 49.3125 8.734375 54.109375 11.28125 \nL 54.109375 2.78125 \nQ 49.265625 0.734375 44.1875 -0.34375 \nQ 39.109375 -1.421875 33.890625 -1.421875 \nQ 20.796875 -1.421875 13.15625 6.1875 \nQ 5.515625 13.8125 5.515625 26.8125 \nQ 5.515625 40.234375 12.765625 48.109375 \nQ 20.015625 56 32.328125 56 \nQ 43.359375 56 49.78125 48.890625 \nQ 56.203125 41.796875 56.203125 29.59375 \nz\nM 47.21875 32.234375 \nQ 47.125 39.59375 43.09375 43.984375 \nQ 39.0625 48.390625 32.421875 48.390625 \nQ 24.90625 48.390625 20.390625 44.140625 \nQ 15.875 39.890625 15.1875 32.171875 \nz\n\" id=\"DejaVuSans-101\"/>\n      <path d=\"M 41.109375 46.296875 \nQ 39.59375 47.171875 37.8125 47.578125 \nQ 36.03125 48 33.890625 48 \nQ 26.265625 48 22.1875 43.046875 \nQ 18.109375 38.09375 18.109375 28.8125 \nL 18.109375 0 \nL 9.078125 0 \nL 9.078125 54.6875 \nL 18.109375 54.6875 \nL 18.109375 46.1875 \nQ 20.953125 51.171875 25.484375 53.578125 \nQ 30.03125 56 36.53125 56 \nQ 37.453125 56 38.578125 55.875 \nQ 39.703125 55.765625 41.0625 55.515625 \nz\n\" id=\"DejaVuSans-114\"/>\n      <path d=\"M 30.609375 48.390625 \nQ 23.390625 48.390625 19.1875 42.75 \nQ 14.984375 37.109375 14.984375 27.296875 \nQ 14.984375 17.484375 19.15625 11.84375 \nQ 23.34375 6.203125 30.609375 6.203125 \nQ 37.796875 6.203125 41.984375 11.859375 \nQ 46.1875 17.53125 46.1875 27.296875 \nQ 46.1875 37.015625 41.984375 42.703125 \nQ 37.796875 48.390625 30.609375 48.390625 \nz\nM 30.609375 56 \nQ 42.328125 56 49.015625 48.375 \nQ 55.71875 40.765625 55.71875 27.296875 \nQ 55.71875 13.875 49.015625 6.21875 \nQ 42.328125 -1.421875 30.609375 -1.421875 \nQ 18.84375 -1.421875 12.171875 6.21875 \nQ 5.515625 13.875 5.515625 27.296875 \nQ 5.515625 40.765625 12.171875 48.375 \nQ 18.84375 56 30.609375 56 \nz\n\" id=\"DejaVuSans-111\"/>\n      <path id=\"DejaVuSans-32\"/>\n      <path d=\"M 19.671875 64.796875 \nL 19.671875 8.109375 \nL 31.59375 8.109375 \nQ 46.6875 8.109375 53.6875 14.9375 \nQ 60.6875 21.78125 60.6875 36.53125 \nQ 60.6875 51.171875 53.6875 57.984375 \nQ 46.6875 64.796875 31.59375 64.796875 \nz\nM 9.8125 72.90625 \nL 30.078125 72.90625 \nQ 51.265625 72.90625 61.171875 64.09375 \nQ 71.09375 55.28125 71.09375 36.53125 \nQ 71.09375 17.671875 61.125 8.828125 \nQ 51.171875 0 30.078125 0 \nL 9.8125 0 \nz\n\" id=\"DejaVuSans-68\"/>\n      <path d=\"M -0.296875 72.90625 \nL 61.375 72.90625 \nL 61.375 64.59375 \nL 35.5 64.59375 \nL 35.5 0 \nL 25.59375 0 \nL 25.59375 64.59375 \nL -0.296875 64.59375 \nz\n\" id=\"DejaVuSans-84\"/>\n      <path d=\"M 34.28125 27.484375 \nQ 23.390625 27.484375 19.1875 25 \nQ 14.984375 22.515625 14.984375 16.5 \nQ 14.984375 11.71875 18.140625 8.90625 \nQ 21.296875 6.109375 26.703125 6.109375 \nQ 34.1875 6.109375 38.703125 11.40625 \nQ 43.21875 16.703125 43.21875 25.484375 \nL 43.21875 27.484375 \nz\nM 52.203125 31.203125 \nL 52.203125 0 \nL 43.21875 0 \nL 43.21875 8.296875 \nQ 40.140625 3.328125 35.546875 0.953125 \nQ 30.953125 -1.421875 24.3125 -1.421875 \nQ 15.921875 -1.421875 10.953125 3.296875 \nQ 6 8.015625 6 15.921875 \nQ 6 25.140625 12.171875 29.828125 \nQ 18.359375 34.515625 30.609375 34.515625 \nL 43.21875 34.515625 \nL 43.21875 35.40625 \nQ 43.21875 41.609375 39.140625 45 \nQ 35.0625 48.390625 27.6875 48.390625 \nQ 23 48.390625 18.546875 47.265625 \nQ 14.109375 46.140625 10.015625 43.890625 \nL 10.015625 52.203125 \nQ 14.9375 54.109375 19.578125 55.046875 \nQ 24.21875 56 28.609375 56 \nQ 40.484375 56 46.34375 49.84375 \nQ 52.203125 43.703125 52.203125 31.203125 \nz\n\" id=\"DejaVuSans-97\"/>\n      <path d=\"M 54.890625 33.015625 \nL 54.890625 0 \nL 45.90625 0 \nL 45.90625 32.71875 \nQ 45.90625 40.484375 42.875 44.328125 \nQ 39.84375 48.1875 33.796875 48.1875 \nQ 26.515625 48.1875 22.3125 43.546875 \nQ 18.109375 38.921875 18.109375 30.90625 \nL 18.109375 0 \nL 9.078125 0 \nL 9.078125 54.6875 \nL 18.109375 54.6875 \nL 18.109375 46.1875 \nQ 21.34375 51.125 25.703125 53.5625 \nQ 30.078125 56 35.796875 56 \nQ 45.21875 56 50.046875 50.171875 \nQ 54.890625 44.34375 54.890625 33.015625 \nz\n\" id=\"DejaVuSans-110\"/>\n      <path d=\"M 44.28125 53.078125 \nL 44.28125 44.578125 \nQ 40.484375 46.53125 36.375 47.5 \nQ 32.28125 48.484375 27.875 48.484375 \nQ 21.1875 48.484375 17.84375 46.4375 \nQ 14.5 44.390625 14.5 40.28125 \nQ 14.5 37.15625 16.890625 35.375 \nQ 19.28125 33.59375 26.515625 31.984375 \nL 29.59375 31.296875 \nQ 39.15625 29.25 43.1875 25.515625 \nQ 47.21875 21.78125 47.21875 15.09375 \nQ 47.21875 7.46875 41.1875 3.015625 \nQ 35.15625 -1.421875 24.609375 -1.421875 \nQ 20.21875 -1.421875 15.453125 -0.5625 \nQ 10.6875 0.296875 5.421875 2 \nL 5.421875 11.28125 \nQ 10.40625 8.6875 15.234375 7.390625 \nQ 20.0625 6.109375 24.8125 6.109375 \nQ 31.15625 6.109375 34.5625 8.28125 \nQ 37.984375 10.453125 37.984375 14.40625 \nQ 37.984375 18.0625 35.515625 20.015625 \nQ 33.0625 21.96875 24.703125 23.78125 \nL 21.578125 24.515625 \nQ 13.234375 26.265625 9.515625 29.90625 \nQ 5.8125 33.546875 5.8125 39.890625 \nQ 5.8125 47.609375 11.28125 51.796875 \nQ 16.75 56 26.8125 56 \nQ 31.78125 56 36.171875 55.265625 \nQ 40.578125 54.546875 44.28125 53.078125 \nz\n\" id=\"DejaVuSans-115\"/>\n      <path d=\"M 48.78125 52.59375 \nL 48.78125 44.1875 \nQ 44.96875 46.296875 41.140625 47.34375 \nQ 37.3125 48.390625 33.40625 48.390625 \nQ 24.65625 48.390625 19.8125 42.84375 \nQ 14.984375 37.3125 14.984375 27.296875 \nQ 14.984375 17.28125 19.8125 11.734375 \nQ 24.65625 6.203125 33.40625 6.203125 \nQ 37.3125 6.203125 41.140625 7.25 \nQ 44.96875 8.296875 48.78125 10.40625 \nL 48.78125 2.09375 \nQ 45.015625 0.34375 40.984375 -0.53125 \nQ 36.96875 -1.421875 32.421875 -1.421875 \nQ 20.0625 -1.421875 12.78125 6.34375 \nQ 5.515625 14.109375 5.515625 27.296875 \nQ 5.515625 40.671875 12.859375 48.328125 \nQ 20.21875 56 33.015625 56 \nQ 37.15625 56 41.109375 55.140625 \nQ 45.0625 54.296875 48.78125 52.59375 \nz\n\" id=\"DejaVuSans-99\"/>\n      <path d=\"M 9.421875 54.6875 \nL 18.40625 54.6875 \nL 18.40625 0 \nL 9.421875 0 \nz\nM 9.421875 75.984375 \nL 18.40625 75.984375 \nL 18.40625 64.59375 \nL 9.421875 64.59375 \nz\n\" id=\"DejaVuSans-105\"/>\n      <path d=\"M 30.609375 48.390625 \nQ 23.390625 48.390625 19.1875 42.75 \nQ 14.984375 37.109375 14.984375 27.296875 \nQ 14.984375 17.484375 19.15625 11.84375 \nQ 23.34375 6.203125 30.609375 6.203125 \nQ 37.796875 6.203125 41.984375 11.859375 \nQ 46.1875 17.53125 46.1875 27.296875 \nQ 46.1875 37.015625 41.984375 42.703125 \nQ 37.796875 48.390625 30.609375 48.390625 \nz\nM 30.609375 56 \nQ 42.328125 56 49.015625 48.375 \nQ 55.71875 40.765625 55.71875 27.296875 \nQ 55.71875 13.875 49.015625 6.21875 \nQ 42.328125 -1.421875 30.609375 -1.421875 \nQ 18.84375 -1.421875 12.171875 6.21875 \nQ 5.515625 13.875 5.515625 27.296875 \nQ 5.515625 40.765625 12.171875 48.375 \nQ 18.84375 56 30.609375 56 \nz\nM 37.40625 79.984375 \nL 47.125 79.984375 \nL 31.21875 61.625 \nL 23.734375 61.625 \nz\n\" id=\"DejaVuSans-243\"/>\n     </defs>\n     <g transform=\"translate(161.375781 268.034687)scale(0.1 -0.1)\">\n      <use xlink:href=\"#DejaVuSans-78\"/>\n      <use x=\"74.804688\" xlink:href=\"#DejaVuSans-117\"/>\n      <use x=\"138.183594\" xlink:href=\"#DejaVuSans-109\"/>\n      <use x=\"235.595703\" xlink:href=\"#DejaVuSans-101\"/>\n      <use x=\"297.119141\" xlink:href=\"#DejaVuSans-114\"/>\n      <use x=\"335.982422\" xlink:href=\"#DejaVuSans-111\"/>\n      <use x=\"397.164062\" xlink:href=\"#DejaVuSans-32\"/>\n      <use x=\"428.951172\" xlink:href=\"#DejaVuSans-68\"/>\n      <use x=\"505.953125\" xlink:href=\"#DejaVuSans-101\"/>\n      <use x=\"567.476562\" xlink:href=\"#DejaVuSans-32\"/>\n      <use x=\"599.263672\" xlink:href=\"#DejaVuSans-84\"/>\n      <use x=\"645.597656\" xlink:href=\"#DejaVuSans-114\"/>\n      <use x=\"686.710938\" xlink:href=\"#DejaVuSans-97\"/>\n      <use x=\"747.990234\" xlink:href=\"#DejaVuSans-110\"/>\n      <use x=\"811.369141\" xlink:href=\"#DejaVuSans-115\"/>\n      <use x=\"863.46875\" xlink:href=\"#DejaVuSans-97\"/>\n      <use x=\"924.748047\" xlink:href=\"#DejaVuSans-99\"/>\n      <use x=\"979.728516\" xlink:href=\"#DejaVuSans-99\"/>\n      <use x=\"1034.708984\" xlink:href=\"#DejaVuSans-105\"/>\n      <use x=\"1062.492188\" xlink:href=\"#DejaVuSans-243\"/>\n      <use x=\"1123.673828\" xlink:href=\"#DejaVuSans-110\"/>\n     </g>\n    </g>\n   </g>\n   <g id=\"matplotlib.axis_2\">\n    <g id=\"ytick_1\">\n     <g id=\"line2d_8\">\n      <defs>\n       <path d=\"M 0 0 \nL -3.5 0 \n\" id=\"md712ef77b5\" style=\"stroke:#000000;stroke-width:0.8;\"/>\n      </defs>\n      <g>\n       <use style=\"stroke:#000000;stroke-width:0.8;\" x=\"53.328125\" xlink:href=\"#md712ef77b5\" y=\"239.758125\"/>\n      </g>\n     </g>\n     <g id=\"text_9\">\n      <!-- 0 -->\n      <g transform=\"translate(39.965625 243.557344)scale(0.1 -0.1)\">\n       <use xlink:href=\"#DejaVuSans-48\"/>\n      </g>\n     </g>\n    </g>\n    <g id=\"ytick_2\">\n     <g id=\"line2d_9\">\n      <g>\n       <use style=\"stroke:#000000;stroke-width:0.8;\" x=\"53.328125\" xlink:href=\"#md712ef77b5\" y=\"213.872411\"/>\n      </g>\n     </g>\n     <g id=\"text_10\">\n      <!-- 250 -->\n      <defs>\n       <path d=\"M 10.796875 72.90625 \nL 49.515625 72.90625 \nL 49.515625 64.59375 \nL 19.828125 64.59375 \nL 19.828125 46.734375 \nQ 21.96875 47.46875 24.109375 47.828125 \nQ 26.265625 48.1875 28.421875 48.1875 \nQ 40.625 48.1875 47.75 41.5 \nQ 54.890625 34.8125 54.890625 23.390625 \nQ 54.890625 11.625 47.5625 5.09375 \nQ 40.234375 -1.421875 26.90625 -1.421875 \nQ 22.3125 -1.421875 17.546875 -0.640625 \nQ 12.796875 0.140625 7.71875 1.703125 \nL 7.71875 11.625 \nQ 12.109375 9.234375 16.796875 8.0625 \nQ 21.484375 6.890625 26.703125 6.890625 \nQ 35.15625 6.890625 40.078125 11.328125 \nQ 45.015625 15.765625 45.015625 23.390625 \nQ 45.015625 31 40.078125 35.4375 \nQ 35.15625 39.890625 26.703125 39.890625 \nQ 22.75 39.890625 18.8125 39.015625 \nQ 14.890625 38.140625 10.796875 36.28125 \nz\n\" id=\"DejaVuSans-53\"/>\n      </defs>\n      <g transform=\"translate(27.240625 217.671629)scale(0.1 -0.1)\">\n       <use xlink:href=\"#DejaVuSans-50\"/>\n       <use x=\"63.623047\" xlink:href=\"#DejaVuSans-53\"/>\n       <use x=\"127.246094\" xlink:href=\"#DejaVuSans-48\"/>\n      </g>\n     </g>\n    </g>\n    <g id=\"ytick_3\">\n     <g id=\"line2d_10\">\n      <g>\n       <use style=\"stroke:#000000;stroke-width:0.8;\" x=\"53.328125\" xlink:href=\"#md712ef77b5\" y=\"187.986696\"/>\n      </g>\n     </g>\n     <g id=\"text_11\">\n      <!-- 500 -->\n      <g transform=\"translate(27.240625 191.785915)scale(0.1 -0.1)\">\n       <use xlink:href=\"#DejaVuSans-53\"/>\n       <use x=\"63.623047\" xlink:href=\"#DejaVuSans-48\"/>\n       <use x=\"127.246094\" xlink:href=\"#DejaVuSans-48\"/>\n      </g>\n     </g>\n    </g>\n    <g id=\"ytick_4\">\n     <g id=\"line2d_11\">\n      <g>\n       <use style=\"stroke:#000000;stroke-width:0.8;\" x=\"53.328125\" xlink:href=\"#md712ef77b5\" y=\"162.100982\"/>\n      </g>\n     </g>\n     <g id=\"text_12\">\n      <!-- 750 -->\n      <defs>\n       <path d=\"M 8.203125 72.90625 \nL 55.078125 72.90625 \nL 55.078125 68.703125 \nL 28.609375 0 \nL 18.3125 0 \nL 43.21875 64.59375 \nL 8.203125 64.59375 \nz\n\" id=\"DejaVuSans-55\"/>\n      </defs>\n      <g transform=\"translate(27.240625 165.900201)scale(0.1 -0.1)\">\n       <use xlink:href=\"#DejaVuSans-55\"/>\n       <use x=\"63.623047\" xlink:href=\"#DejaVuSans-53\"/>\n       <use x=\"127.246094\" xlink:href=\"#DejaVuSans-48\"/>\n      </g>\n     </g>\n    </g>\n    <g id=\"ytick_5\">\n     <g id=\"line2d_12\">\n      <g>\n       <use style=\"stroke:#000000;stroke-width:0.8;\" x=\"53.328125\" xlink:href=\"#md712ef77b5\" y=\"136.215268\"/>\n      </g>\n     </g>\n     <g id=\"text_13\">\n      <!-- 1000 -->\n      <g transform=\"translate(20.878125 140.014487)scale(0.1 -0.1)\">\n       <use xlink:href=\"#DejaVuSans-49\"/>\n       <use x=\"63.623047\" xlink:href=\"#DejaVuSans-48\"/>\n       <use x=\"127.246094\" xlink:href=\"#DejaVuSans-48\"/>\n       <use x=\"190.869141\" xlink:href=\"#DejaVuSans-48\"/>\n      </g>\n     </g>\n    </g>\n    <g id=\"ytick_6\">\n     <g id=\"line2d_13\">\n      <g>\n       <use style=\"stroke:#000000;stroke-width:0.8;\" x=\"53.328125\" xlink:href=\"#md712ef77b5\" y=\"110.329554\"/>\n      </g>\n     </g>\n     <g id=\"text_14\">\n      <!-- 1250 -->\n      <g transform=\"translate(20.878125 114.128772)scale(0.1 -0.1)\">\n       <use xlink:href=\"#DejaVuSans-49\"/>\n       <use x=\"63.623047\" xlink:href=\"#DejaVuSans-50\"/>\n       <use x=\"127.246094\" xlink:href=\"#DejaVuSans-53\"/>\n       <use x=\"190.869141\" xlink:href=\"#DejaVuSans-48\"/>\n      </g>\n     </g>\n    </g>\n    <g id=\"ytick_7\">\n     <g id=\"line2d_14\">\n      <g>\n       <use style=\"stroke:#000000;stroke-width:0.8;\" x=\"53.328125\" xlink:href=\"#md712ef77b5\" y=\"84.443839\"/>\n      </g>\n     </g>\n     <g id=\"text_15\">\n      <!-- 1500 -->\n      <g transform=\"translate(20.878125 88.243058)scale(0.1 -0.1)\">\n       <use xlink:href=\"#DejaVuSans-49\"/>\n       <use x=\"63.623047\" xlink:href=\"#DejaVuSans-53\"/>\n       <use x=\"127.246094\" xlink:href=\"#DejaVuSans-48\"/>\n       <use x=\"190.869141\" xlink:href=\"#DejaVuSans-48\"/>\n      </g>\n     </g>\n    </g>\n    <g id=\"ytick_8\">\n     <g id=\"line2d_15\">\n      <g>\n       <use style=\"stroke:#000000;stroke-width:0.8;\" x=\"53.328125\" xlink:href=\"#md712ef77b5\" y=\"58.558125\"/>\n      </g>\n     </g>\n     <g id=\"text_16\">\n      <!-- 1750 -->\n      <g transform=\"translate(20.878125 62.357344)scale(0.1 -0.1)\">\n       <use xlink:href=\"#DejaVuSans-49\"/>\n       <use x=\"63.623047\" xlink:href=\"#DejaVuSans-55\"/>\n       <use x=\"127.246094\" xlink:href=\"#DejaVuSans-53\"/>\n       <use x=\"190.869141\" xlink:href=\"#DejaVuSans-48\"/>\n      </g>\n     </g>\n    </g>\n    <g id=\"ytick_9\">\n     <g id=\"line2d_16\">\n      <g>\n       <use style=\"stroke:#000000;stroke-width:0.8;\" x=\"53.328125\" xlink:href=\"#md712ef77b5\" y=\"32.672411\"/>\n      </g>\n     </g>\n     <g id=\"text_17\">\n      <!-- 2000 -->\n      <g transform=\"translate(20.878125 36.471629)scale(0.1 -0.1)\">\n       <use xlink:href=\"#DejaVuSans-50\"/>\n       <use x=\"63.623047\" xlink:href=\"#DejaVuSans-48\"/>\n       <use x=\"127.246094\" xlink:href=\"#DejaVuSans-48\"/>\n       <use x=\"190.869141\" xlink:href=\"#DejaVuSans-48\"/>\n      </g>\n     </g>\n    </g>\n    <g id=\"text_18\">\n     <!-- Cantidad De Billetes -->\n     <defs>\n      <path d=\"M 64.40625 67.28125 \nL 64.40625 56.890625 \nQ 59.421875 61.53125 53.78125 63.8125 \nQ 48.140625 66.109375 41.796875 66.109375 \nQ 29.296875 66.109375 22.65625 58.46875 \nQ 16.015625 50.828125 16.015625 36.375 \nQ 16.015625 21.96875 22.65625 14.328125 \nQ 29.296875 6.6875 41.796875 6.6875 \nQ 48.140625 6.6875 53.78125 8.984375 \nQ 59.421875 11.28125 64.40625 15.921875 \nL 64.40625 5.609375 \nQ 59.234375 2.09375 53.4375 0.328125 \nQ 47.65625 -1.421875 41.21875 -1.421875 \nQ 24.65625 -1.421875 15.125 8.703125 \nQ 5.609375 18.84375 5.609375 36.375 \nQ 5.609375 53.953125 15.125 64.078125 \nQ 24.65625 74.21875 41.21875 74.21875 \nQ 47.75 74.21875 53.53125 72.484375 \nQ 59.328125 70.75 64.40625 67.28125 \nz\n\" id=\"DejaVuSans-67\"/>\n      <path d=\"M 18.3125 70.21875 \nL 18.3125 54.6875 \nL 36.8125 54.6875 \nL 36.8125 47.703125 \nL 18.3125 47.703125 \nL 18.3125 18.015625 \nQ 18.3125 11.328125 20.140625 9.421875 \nQ 21.96875 7.515625 27.59375 7.515625 \nL 36.8125 7.515625 \nL 36.8125 0 \nL 27.59375 0 \nQ 17.1875 0 13.234375 3.875 \nQ 9.28125 7.765625 9.28125 18.015625 \nL 9.28125 47.703125 \nL 2.6875 47.703125 \nL 2.6875 54.6875 \nL 9.28125 54.6875 \nL 9.28125 70.21875 \nz\n\" id=\"DejaVuSans-116\"/>\n      <path d=\"M 45.40625 46.390625 \nL 45.40625 75.984375 \nL 54.390625 75.984375 \nL 54.390625 0 \nL 45.40625 0 \nL 45.40625 8.203125 \nQ 42.578125 3.328125 38.25 0.953125 \nQ 33.9375 -1.421875 27.875 -1.421875 \nQ 17.96875 -1.421875 11.734375 6.484375 \nQ 5.515625 14.40625 5.515625 27.296875 \nQ 5.515625 40.1875 11.734375 48.09375 \nQ 17.96875 56 27.875 56 \nQ 33.9375 56 38.25 53.625 \nQ 42.578125 51.265625 45.40625 46.390625 \nz\nM 14.796875 27.296875 \nQ 14.796875 17.390625 18.875 11.75 \nQ 22.953125 6.109375 30.078125 6.109375 \nQ 37.203125 6.109375 41.296875 11.75 \nQ 45.40625 17.390625 45.40625 27.296875 \nQ 45.40625 37.203125 41.296875 42.84375 \nQ 37.203125 48.484375 30.078125 48.484375 \nQ 22.953125 48.484375 18.875 42.84375 \nQ 14.796875 37.203125 14.796875 27.296875 \nz\n\" id=\"DejaVuSans-100\"/>\n      <path d=\"M 19.671875 34.8125 \nL 19.671875 8.109375 \nL 35.5 8.109375 \nQ 43.453125 8.109375 47.28125 11.40625 \nQ 51.125 14.703125 51.125 21.484375 \nQ 51.125 28.328125 47.28125 31.5625 \nQ 43.453125 34.8125 35.5 34.8125 \nz\nM 19.671875 64.796875 \nL 19.671875 42.828125 \nL 34.28125 42.828125 \nQ 41.5 42.828125 45.03125 45.53125 \nQ 48.578125 48.25 48.578125 53.8125 \nQ 48.578125 59.328125 45.03125 62.0625 \nQ 41.5 64.796875 34.28125 64.796875 \nz\nM 9.8125 72.90625 \nL 35.015625 72.90625 \nQ 46.296875 72.90625 52.390625 68.21875 \nQ 58.5 63.53125 58.5 54.890625 \nQ 58.5 48.1875 55.375 44.234375 \nQ 52.25 40.28125 46.1875 39.3125 \nQ 53.46875 37.75 57.5 32.78125 \nQ 61.53125 27.828125 61.53125 20.40625 \nQ 61.53125 10.640625 54.890625 5.3125 \nQ 48.25 0 35.984375 0 \nL 9.8125 0 \nz\n\" id=\"DejaVuSans-66\"/>\n      <path d=\"M 9.421875 75.984375 \nL 18.40625 75.984375 \nL 18.40625 0 \nL 9.421875 0 \nz\n\" id=\"DejaVuSans-108\"/>\n     </defs>\n     <g transform=\"translate(14.798438 181.944375)rotate(-90)scale(0.1 -0.1)\">\n      <use xlink:href=\"#DejaVuSans-67\"/>\n      <use x=\"69.824219\" xlink:href=\"#DejaVuSans-97\"/>\n      <use x=\"131.103516\" xlink:href=\"#DejaVuSans-110\"/>\n      <use x=\"194.482422\" xlink:href=\"#DejaVuSans-116\"/>\n      <use x=\"233.691406\" xlink:href=\"#DejaVuSans-105\"/>\n      <use x=\"261.474609\" xlink:href=\"#DejaVuSans-100\"/>\n      <use x=\"324.951172\" xlink:href=\"#DejaVuSans-97\"/>\n      <use x=\"386.230469\" xlink:href=\"#DejaVuSans-100\"/>\n      <use x=\"449.707031\" xlink:href=\"#DejaVuSans-32\"/>\n      <use x=\"481.494141\" xlink:href=\"#DejaVuSans-68\"/>\n      <use x=\"558.496094\" xlink:href=\"#DejaVuSans-101\"/>\n      <use x=\"620.019531\" xlink:href=\"#DejaVuSans-32\"/>\n      <use x=\"651.806641\" xlink:href=\"#DejaVuSans-66\"/>\n      <use x=\"720.410156\" xlink:href=\"#DejaVuSans-105\"/>\n      <use x=\"748.193359\" xlink:href=\"#DejaVuSans-108\"/>\n      <use x=\"775.976562\" xlink:href=\"#DejaVuSans-108\"/>\n      <use x=\"803.759766\" xlink:href=\"#DejaVuSans-101\"/>\n      <use x=\"865.283203\" xlink:href=\"#DejaVuSans-116\"/>\n      <use x=\"904.492188\" xlink:href=\"#DejaVuSans-101\"/>\n      <use x=\"966.015625\" xlink:href=\"#DejaVuSans-115\"/>\n     </g>\n    </g>\n   </g>\n   <g id=\"line2d_17\">\n    <path clip-path=\"url(#pb9b60e40a3)\" d=\"M 68.546307 32.672411 \nL 70.852092 35.985782 \nL 73.157877 38.677896 \nL 75.463662 34.743268 \nL 77.769447 34.743268 \nL 80.075232 39.920411 \nL 82.381018 42.508982 \nL 84.686803 47.168411 \nL 86.992588 47.893211 \nL 89.298373 50.895954 \nL 91.604158 55.658925 \nL 93.909943 56.694354 \nL 96.215728 58.868754 \nL 98.521513 54.002239 \nL 100.827299 57.522696 \nL 103.133084 52.242011 \nL 105.438869 45.201096 \nL 107.744654 47.582582 \nL 110.050439 52.345554 \nL 112.356224 52.966811 \nL 114.662009 57.626239 \nL 116.967794 61.767954 \nL 119.27358 63.321096 \nL 121.579365 59.179382 \nL 123.88515 60.525439 \nL 126.190935 64.977782 \nL 128.49672 67.462811 \nL 130.802505 69.430125 \nL 133.10829 73.364754 \nL 135.414075 74.607268 \nL 137.719861 76.471039 \nL 140.025646 77.402925 \nL 142.331431 79.680868 \nL 146.943001 82.269439 \nL 149.248786 85.582811 \nL 151.554571 86.825325 \nL 153.860356 80.095039 \nL 158.471927 89.724525 \nL 160.777712 90.967039 \nL 163.083497 86.307611 \nL 165.389282 90.345782 \nL 167.695067 92.520182 \nL 170.000852 95.005211 \nL 172.306637 99.975268 \nL 174.612423 103.702811 \nL 176.918208 106.809096 \nL 179.223993 95.730011 \nL 181.529778 96.454811 \nL 183.835563 99.146925 \nL 186.141348 100.596525 \nL 188.447133 104.116982 \nL 190.752918 95.522925 \nL 193.058704 99.561096 \nL 195.364489 99.975268 \nL 197.670274 88.585554 \nL 199.976059 90.449325 \nL 202.281844 91.898925 \nL 204.587629 81.751725 \nL 206.893414 72.639954 \nL 209.199199 76.885211 \nL 211.504985 73.468296 \nL 216.116555 75.642696 \nL 218.42234 76.678125 \nL 220.728125 77.092296 \nL 223.03391 67.773439 \nL 225.339695 69.637211 \nL 227.64548 72.743496 \nL 229.951265 73.054125 \nL 232.257051 74.917896 \nL 234.562836 76.056868 \nL 236.868621 79.887954 \nL 239.174406 80.302125 \nL 241.480191 83.926125 \nL 243.785976 85.996982 \nL 246.091761 90.449325 \nL 248.397546 86.204068 \nL 250.703332 91.070582 \nL 253.009117 91.484754 \nL 255.314902 88.999725 \nL 257.620687 91.277668 \nL 259.926472 96.247725 \nL 262.232257 99.664639 \nL 266.843827 107.740982 \nL 269.149613 101.321325 \nL 271.455398 101.942582 \nL 273.761183 104.013439 \nL 276.066968 108.465782 \nL 278.372753 99.768182 \nL 280.678538 102.978011 \nL 282.984323 100.078811 \nL 285.290108 104.324068 \nL 287.595894 108.258696 \nL 289.901679 109.501211 \nL 292.207464 112.089782 \nL 294.513249 113.539382 \nL 296.819034 115.196068 \nL 299.124819 118.716525 \nL 301.430604 119.130696 \nL 303.736389 122.236982 \nL 306.042175 124.514925 \nL 308.34796 118.820068 \nL 310.653745 120.062582 \nL 312.95953 120.373211 \nL 315.265315 121.408639 \nL 317.5711 125.860982 \nL 319.876885 128.242468 \nL 322.18267 130.002696 \nL 326.794241 139.735725 \nL 329.100026 132.694811 \nL 331.405811 135.076296 \nL 333.711596 138.182582 \nL 336.017381 139.839268 \nL 338.323166 133.005439 \nL 340.628951 134.765668 \nL 342.934737 126.585782 \nL 345.240522 129.277896 \nL 347.546307 121.719268 \nL 349.852092 123.997211 \nL 352.157877 128.863725 \nL 354.463662 123.997211 \nL 356.769447 128.449554 \nL 359.075232 131.348754 \nL 361.381018 132.073554 \nL 363.686803 137.147154 \nL 365.992588 132.901896 \nL 368.298373 130.623954 \nL 370.604158 131.970011 \nL 372.909943 124.411382 \nL 372.909943 124.411382 \n\" style=\"fill:none;stroke:#008000;stroke-linecap:square;stroke-width:1.5;\"/>\n   </g>\n   <g id=\"patch_3\">\n    <path d=\"M 53.328125 239.758125 \nL 53.328125 22.318125 \n\" style=\"fill:none;stroke:#000000;stroke-linecap:square;stroke-linejoin:miter;stroke-width:0.8;\"/>\n   </g>\n   <g id=\"patch_4\">\n    <path d=\"M 388.128125 239.758125 \nL 388.128125 22.318125 \n\" style=\"fill:none;stroke:#000000;stroke-linecap:square;stroke-linejoin:miter;stroke-width:0.8;\"/>\n   </g>\n   <g id=\"patch_5\">\n    <path d=\"M 53.328125 239.758125 \nL 388.128125 239.758125 \n\" style=\"fill:none;stroke:#000000;stroke-linecap:square;stroke-linejoin:miter;stroke-width:0.8;\"/>\n   </g>\n   <g id=\"patch_6\">\n    <path d=\"M 53.328125 22.318125 \nL 388.128125 22.318125 \n\" style=\"fill:none;stroke:#000000;stroke-linecap:square;stroke-linejoin:miter;stroke-width:0.8;\"/>\n   </g>\n   <g id=\"text_19\">\n    <!-- Billete Por Transaccion -->\n    <defs>\n     <path d=\"M 19.671875 64.796875 \nL 19.671875 37.40625 \nL 32.078125 37.40625 \nQ 38.96875 37.40625 42.71875 40.96875 \nQ 46.484375 44.53125 46.484375 51.125 \nQ 46.484375 57.671875 42.71875 61.234375 \nQ 38.96875 64.796875 32.078125 64.796875 \nz\nM 9.8125 72.90625 \nL 32.078125 72.90625 \nQ 44.34375 72.90625 50.609375 67.359375 \nQ 56.890625 61.8125 56.890625 51.125 \nQ 56.890625 40.328125 50.609375 34.8125 \nQ 44.34375 29.296875 32.078125 29.296875 \nL 19.671875 29.296875 \nL 19.671875 0 \nL 9.8125 0 \nz\n\" id=\"DejaVuSans-80\"/>\n    </defs>\n    <g transform=\"translate(153.25625 16.318125)scale(0.12 -0.12)\">\n     <use xlink:href=\"#DejaVuSans-66\"/>\n     <use x=\"68.603516\" xlink:href=\"#DejaVuSans-105\"/>\n     <use x=\"96.386719\" xlink:href=\"#DejaVuSans-108\"/>\n     <use x=\"124.169922\" xlink:href=\"#DejaVuSans-108\"/>\n     <use x=\"151.953125\" xlink:href=\"#DejaVuSans-101\"/>\n     <use x=\"213.476562\" xlink:href=\"#DejaVuSans-116\"/>\n     <use x=\"252.685547\" xlink:href=\"#DejaVuSans-101\"/>\n     <use x=\"314.208984\" xlink:href=\"#DejaVuSans-32\"/>\n     <use x=\"345.996094\" xlink:href=\"#DejaVuSans-80\"/>\n     <use x=\"402.673828\" xlink:href=\"#DejaVuSans-111\"/>\n     <use x=\"463.855469\" xlink:href=\"#DejaVuSans-114\"/>\n     <use x=\"504.96875\" xlink:href=\"#DejaVuSans-32\"/>\n     <use x=\"536.755859\" xlink:href=\"#DejaVuSans-84\"/>\n     <use x=\"583.089844\" xlink:href=\"#DejaVuSans-114\"/>\n     <use x=\"624.203125\" xlink:href=\"#DejaVuSans-97\"/>\n     <use x=\"685.482422\" xlink:href=\"#DejaVuSans-110\"/>\n     <use x=\"748.861328\" xlink:href=\"#DejaVuSans-115\"/>\n     <use x=\"800.960938\" xlink:href=\"#DejaVuSans-97\"/>\n     <use x=\"862.240234\" xlink:href=\"#DejaVuSans-99\"/>\n     <use x=\"917.220703\" xlink:href=\"#DejaVuSans-99\"/>\n     <use x=\"972.201172\" xlink:href=\"#DejaVuSans-105\"/>\n     <use x=\"999.984375\" xlink:href=\"#DejaVuSans-111\"/>\n     <use x=\"1061.166016\" xlink:href=\"#DejaVuSans-110\"/>\n    </g>\n   </g>\n  </g>\n </g>\n <defs>\n  <clipPath id=\"pb9b60e40a3\">\n   <rect height=\"217.44\" width=\"334.8\" x=\"53.328125\" y=\"22.318125\"/>\n  </clipPath>\n </defs>\n</svg>\n"
          },
          "metadata": {
            "needs_background": "light"
          }
        }
      ]
    },
    {
      "cell_type": "markdown",
      "source": [
        "1000 ejecuciones y en cada dia se comienza con la capacidad maxima de billetes"
      ],
      "metadata": {
        "id": "ReKUhyoPOcpZ"
      }
    },
    {
      "cell_type": "code",
      "source": [
        "def reseteando(amount_tests, print_grafico = False):\n",
        "  ocupacion = []\n",
        "  fraccion_retiro = []\n",
        "  billetes_tot = []\n",
        "\n",
        "  for i in range(amount_tests):\n",
        "    retiro, n_retiro, billetes, ocupacion_dia = simular_banco(TASA_ARRIBOS, CAPACIDAD, False)\n",
        "    ocupacion.append(np.mean(ocupacion_dia))\n",
        "    fraccion_retiro.append(retiro/(retiro+n_retiro))\n",
        "\n",
        "    for billete in billetes:\n",
        "      billetes_tot.append(billete)\n",
        "\n",
        "  ocupacion = np.array(ocupacion)\n",
        "  fraccion_retiro = np.array(fraccion_retiro)\n",
        "\n",
        "  print(f\"Se realizaron {amount_tests} simulaciones\")\n",
        "  print(f\"Media Tiempo De Ocupación - {np.mean(ocupacion)}\")\n",
        "  print(f\"Media Fraccion De Retiros Correctos - {np.mean(fraccion_retiro)}\")\n",
        "\n",
        "  if print_grafico:\n",
        "    plt.plot(range(len(billetes_tot)), billetes_tot, color = \"g\")\n",
        "    plt.title(\"Billete Por Transaccion\")\n",
        "    plt.ylabel(\"Cantidad De Billetes\")\n",
        "    plt.xlabel(\"Numero De Transacción\")\n",
        "    plt.ylim(0, CAPACIDAD*1.05)"
      ],
      "metadata": {
        "id": "3v2ttn72RE0l"
      },
      "execution_count": null,
      "outputs": []
    },
    {
      "cell_type": "code",
      "source": [
        "reseteando(1000, False)"
      ],
      "metadata": {
        "colab": {
          "base_uri": "https://localhost:8080/"
        },
        "id": "n0V4xI4CRjhm",
        "outputId": "3bbd4a71-e105-47b1-d2f9-6e2dbf406210"
      },
      "execution_count": null,
      "outputs": [
        {
          "output_type": "stream",
          "name": "stdout",
          "text": [
            "Se realizaron 1000 simulaciones\n",
            "Media Tiempo De Ocupación - 205.56570767947449\n",
            "Media Fraccion De Retiros Correctos - 0.9995256541787305\n"
          ]
        }
      ]
    },
    {
      "cell_type": "code",
      "source": [
        "reseteando(10, True)"
      ],
      "metadata": {
        "colab": {
          "base_uri": "https://localhost:8080/",
          "height": 464
        },
        "id": "5ZWoDppKRop1",
        "outputId": "a2a06417-8fb4-4406-dd36-21ebf4002ed7"
      },
      "execution_count": null,
      "outputs": [
        {
          "output_type": "stream",
          "name": "stdout",
          "text": [
            "Se realizaron 10 simulaciones\n",
            "Media Tiempo De Ocupación - 186.76898578525967\n",
            "Media Fraccion De Retiros Correctos - 1.0\n"
          ]
        },
        {
          "output_type": "display_data",
          "data": {
            "text/plain": [
              "<Figure size 432x288 with 1 Axes>"
            ],
            "image/svg+xml": "<?xml version=\"1.0\" encoding=\"utf-8\" standalone=\"no\"?>\n<!DOCTYPE svg PUBLIC \"-//W3C//DTD SVG 1.1//EN\"\n  \"http://www.w3.org/Graphics/SVG/1.1/DTD/svg11.dtd\">\n<!-- Created with matplotlib (https://matplotlib.org/) -->\n<svg height=\"277.314375pt\" version=\"1.1\" viewBox=\"0 0 395.328125 277.314375\" width=\"395.328125pt\" xmlns=\"http://www.w3.org/2000/svg\" xmlns:xlink=\"http://www.w3.org/1999/xlink\">\n <defs>\n  <style type=\"text/css\">\n*{stroke-linecap:butt;stroke-linejoin:round;}\n  </style>\n </defs>\n <g id=\"figure_1\">\n  <g id=\"patch_1\">\n   <path d=\"M 0 277.314375 \nL 395.328125 277.314375 \nL 395.328125 0 \nL 0 0 \nz\n\" style=\"fill:none;\"/>\n  </g>\n  <g id=\"axes_1\">\n   <g id=\"patch_2\">\n    <path d=\"M 53.328125 239.758125 \nL 388.128125 239.758125 \nL 388.128125 22.318125 \nL 53.328125 22.318125 \nz\n\" style=\"fill:#ffffff;\"/>\n   </g>\n   <g id=\"matplotlib.axis_1\">\n    <g id=\"xtick_1\">\n     <g id=\"line2d_1\">\n      <defs>\n       <path d=\"M 0 0 \nL 0 3.5 \n\" id=\"mb4480874f4\" style=\"stroke:#000000;stroke-width:0.8;\"/>\n      </defs>\n      <g>\n       <use style=\"stroke:#000000;stroke-width:0.8;\" x=\"68.546307\" xlink:href=\"#mb4480874f4\" y=\"239.758125\"/>\n      </g>\n     </g>\n     <g id=\"text_1\">\n      <!-- 0 -->\n      <defs>\n       <path d=\"M 31.78125 66.40625 \nQ 24.171875 66.40625 20.328125 58.90625 \nQ 16.5 51.421875 16.5 36.375 \nQ 16.5 21.390625 20.328125 13.890625 \nQ 24.171875 6.390625 31.78125 6.390625 \nQ 39.453125 6.390625 43.28125 13.890625 \nQ 47.125 21.390625 47.125 36.375 \nQ 47.125 51.421875 43.28125 58.90625 \nQ 39.453125 66.40625 31.78125 66.40625 \nz\nM 31.78125 74.21875 \nQ 44.046875 74.21875 50.515625 64.515625 \nQ 56.984375 54.828125 56.984375 36.375 \nQ 56.984375 17.96875 50.515625 8.265625 \nQ 44.046875 -1.421875 31.78125 -1.421875 \nQ 19.53125 -1.421875 13.0625 8.265625 \nQ 6.59375 17.96875 6.59375 36.375 \nQ 6.59375 54.828125 13.0625 64.515625 \nQ 19.53125 74.21875 31.78125 74.21875 \nz\n\" id=\"DejaVuSans-48\"/>\n      </defs>\n      <g transform=\"translate(65.365057 254.356562)scale(0.1 -0.1)\">\n       <use xlink:href=\"#DejaVuSans-48\"/>\n      </g>\n     </g>\n    </g>\n    <g id=\"xtick_2\">\n     <g id=\"line2d_2\">\n      <g>\n       <use style=\"stroke:#000000;stroke-width:0.8;\" x=\"110.239956\" xlink:href=\"#mb4480874f4\" y=\"239.758125\"/>\n      </g>\n     </g>\n     <g id=\"text_2\">\n      <!-- 200 -->\n      <defs>\n       <path d=\"M 19.1875 8.296875 \nL 53.609375 8.296875 \nL 53.609375 0 \nL 7.328125 0 \nL 7.328125 8.296875 \nQ 12.9375 14.109375 22.625 23.890625 \nQ 32.328125 33.6875 34.8125 36.53125 \nQ 39.546875 41.84375 41.421875 45.53125 \nQ 43.3125 49.21875 43.3125 52.78125 \nQ 43.3125 58.59375 39.234375 62.25 \nQ 35.15625 65.921875 28.609375 65.921875 \nQ 23.96875 65.921875 18.8125 64.3125 \nQ 13.671875 62.703125 7.8125 59.421875 \nL 7.8125 69.390625 \nQ 13.765625 71.78125 18.9375 73 \nQ 24.125 74.21875 28.421875 74.21875 \nQ 39.75 74.21875 46.484375 68.546875 \nQ 53.21875 62.890625 53.21875 53.421875 \nQ 53.21875 48.921875 51.53125 44.890625 \nQ 49.859375 40.875 45.40625 35.40625 \nQ 44.1875 33.984375 37.640625 27.21875 \nQ 31.109375 20.453125 19.1875 8.296875 \nz\n\" id=\"DejaVuSans-50\"/>\n      </defs>\n      <g transform=\"translate(100.696206 254.356562)scale(0.1 -0.1)\">\n       <use xlink:href=\"#DejaVuSans-50\"/>\n       <use x=\"63.623047\" xlink:href=\"#DejaVuSans-48\"/>\n       <use x=\"127.246094\" xlink:href=\"#DejaVuSans-48\"/>\n      </g>\n     </g>\n    </g>\n    <g id=\"xtick_3\">\n     <g id=\"line2d_3\">\n      <g>\n       <use style=\"stroke:#000000;stroke-width:0.8;\" x=\"151.933604\" xlink:href=\"#mb4480874f4\" y=\"239.758125\"/>\n      </g>\n     </g>\n     <g id=\"text_3\">\n      <!-- 400 -->\n      <defs>\n       <path d=\"M 37.796875 64.3125 \nL 12.890625 25.390625 \nL 37.796875 25.390625 \nz\nM 35.203125 72.90625 \nL 47.609375 72.90625 \nL 47.609375 25.390625 \nL 58.015625 25.390625 \nL 58.015625 17.1875 \nL 47.609375 17.1875 \nL 47.609375 0 \nL 37.796875 0 \nL 37.796875 17.1875 \nL 4.890625 17.1875 \nL 4.890625 26.703125 \nz\n\" id=\"DejaVuSans-52\"/>\n      </defs>\n      <g transform=\"translate(142.389854 254.356562)scale(0.1 -0.1)\">\n       <use xlink:href=\"#DejaVuSans-52\"/>\n       <use x=\"63.623047\" xlink:href=\"#DejaVuSans-48\"/>\n       <use x=\"127.246094\" xlink:href=\"#DejaVuSans-48\"/>\n      </g>\n     </g>\n    </g>\n    <g id=\"xtick_4\">\n     <g id=\"line2d_4\">\n      <g>\n       <use style=\"stroke:#000000;stroke-width:0.8;\" x=\"193.627253\" xlink:href=\"#mb4480874f4\" y=\"239.758125\"/>\n      </g>\n     </g>\n     <g id=\"text_4\">\n      <!-- 600 -->\n      <defs>\n       <path d=\"M 33.015625 40.375 \nQ 26.375 40.375 22.484375 35.828125 \nQ 18.609375 31.296875 18.609375 23.390625 \nQ 18.609375 15.53125 22.484375 10.953125 \nQ 26.375 6.390625 33.015625 6.390625 \nQ 39.65625 6.390625 43.53125 10.953125 \nQ 47.40625 15.53125 47.40625 23.390625 \nQ 47.40625 31.296875 43.53125 35.828125 \nQ 39.65625 40.375 33.015625 40.375 \nz\nM 52.59375 71.296875 \nL 52.59375 62.3125 \nQ 48.875 64.0625 45.09375 64.984375 \nQ 41.3125 65.921875 37.59375 65.921875 \nQ 27.828125 65.921875 22.671875 59.328125 \nQ 17.53125 52.734375 16.796875 39.40625 \nQ 19.671875 43.65625 24.015625 45.921875 \nQ 28.375 48.1875 33.59375 48.1875 \nQ 44.578125 48.1875 50.953125 41.515625 \nQ 57.328125 34.859375 57.328125 23.390625 \nQ 57.328125 12.15625 50.6875 5.359375 \nQ 44.046875 -1.421875 33.015625 -1.421875 \nQ 20.359375 -1.421875 13.671875 8.265625 \nQ 6.984375 17.96875 6.984375 36.375 \nQ 6.984375 53.65625 15.1875 63.9375 \nQ 23.390625 74.21875 37.203125 74.21875 \nQ 40.921875 74.21875 44.703125 73.484375 \nQ 48.484375 72.75 52.59375 71.296875 \nz\n\" id=\"DejaVuSans-54\"/>\n      </defs>\n      <g transform=\"translate(184.083503 254.356562)scale(0.1 -0.1)\">\n       <use xlink:href=\"#DejaVuSans-54\"/>\n       <use x=\"63.623047\" xlink:href=\"#DejaVuSans-48\"/>\n       <use x=\"127.246094\" xlink:href=\"#DejaVuSans-48\"/>\n      </g>\n     </g>\n    </g>\n    <g id=\"xtick_5\">\n     <g id=\"line2d_5\">\n      <g>\n       <use style=\"stroke:#000000;stroke-width:0.8;\" x=\"235.320902\" xlink:href=\"#mb4480874f4\" y=\"239.758125\"/>\n      </g>\n     </g>\n     <g id=\"text_5\">\n      <!-- 800 -->\n      <defs>\n       <path d=\"M 31.78125 34.625 \nQ 24.75 34.625 20.71875 30.859375 \nQ 16.703125 27.09375 16.703125 20.515625 \nQ 16.703125 13.921875 20.71875 10.15625 \nQ 24.75 6.390625 31.78125 6.390625 \nQ 38.8125 6.390625 42.859375 10.171875 \nQ 46.921875 13.96875 46.921875 20.515625 \nQ 46.921875 27.09375 42.890625 30.859375 \nQ 38.875 34.625 31.78125 34.625 \nz\nM 21.921875 38.8125 \nQ 15.578125 40.375 12.03125 44.71875 \nQ 8.5 49.078125 8.5 55.328125 \nQ 8.5 64.0625 14.71875 69.140625 \nQ 20.953125 74.21875 31.78125 74.21875 \nQ 42.671875 74.21875 48.875 69.140625 \nQ 55.078125 64.0625 55.078125 55.328125 \nQ 55.078125 49.078125 51.53125 44.71875 \nQ 48 40.375 41.703125 38.8125 \nQ 48.828125 37.15625 52.796875 32.3125 \nQ 56.78125 27.484375 56.78125 20.515625 \nQ 56.78125 9.90625 50.3125 4.234375 \nQ 43.84375 -1.421875 31.78125 -1.421875 \nQ 19.734375 -1.421875 13.25 4.234375 \nQ 6.78125 9.90625 6.78125 20.515625 \nQ 6.78125 27.484375 10.78125 32.3125 \nQ 14.796875 37.15625 21.921875 38.8125 \nz\nM 18.3125 54.390625 \nQ 18.3125 48.734375 21.84375 45.5625 \nQ 25.390625 42.390625 31.78125 42.390625 \nQ 38.140625 42.390625 41.71875 45.5625 \nQ 45.3125 48.734375 45.3125 54.390625 \nQ 45.3125 60.0625 41.71875 63.234375 \nQ 38.140625 66.40625 31.78125 66.40625 \nQ 25.390625 66.40625 21.84375 63.234375 \nQ 18.3125 60.0625 18.3125 54.390625 \nz\n\" id=\"DejaVuSans-56\"/>\n      </defs>\n      <g transform=\"translate(225.777152 254.356562)scale(0.1 -0.1)\">\n       <use xlink:href=\"#DejaVuSans-56\"/>\n       <use x=\"63.623047\" xlink:href=\"#DejaVuSans-48\"/>\n       <use x=\"127.246094\" xlink:href=\"#DejaVuSans-48\"/>\n      </g>\n     </g>\n    </g>\n    <g id=\"xtick_6\">\n     <g id=\"line2d_6\">\n      <g>\n       <use style=\"stroke:#000000;stroke-width:0.8;\" x=\"277.014551\" xlink:href=\"#mb4480874f4\" y=\"239.758125\"/>\n      </g>\n     </g>\n     <g id=\"text_6\">\n      <!-- 1000 -->\n      <defs>\n       <path d=\"M 12.40625 8.296875 \nL 28.515625 8.296875 \nL 28.515625 63.921875 \nL 10.984375 60.40625 \nL 10.984375 69.390625 \nL 28.421875 72.90625 \nL 38.28125 72.90625 \nL 38.28125 8.296875 \nL 54.390625 8.296875 \nL 54.390625 0 \nL 12.40625 0 \nz\n\" id=\"DejaVuSans-49\"/>\n      </defs>\n      <g transform=\"translate(264.289551 254.356562)scale(0.1 -0.1)\">\n       <use xlink:href=\"#DejaVuSans-49\"/>\n       <use x=\"63.623047\" xlink:href=\"#DejaVuSans-48\"/>\n       <use x=\"127.246094\" xlink:href=\"#DejaVuSans-48\"/>\n       <use x=\"190.869141\" xlink:href=\"#DejaVuSans-48\"/>\n      </g>\n     </g>\n    </g>\n    <g id=\"xtick_7\">\n     <g id=\"line2d_7\">\n      <g>\n       <use style=\"stroke:#000000;stroke-width:0.8;\" x=\"318.7082\" xlink:href=\"#mb4480874f4\" y=\"239.758125\"/>\n      </g>\n     </g>\n     <g id=\"text_7\">\n      <!-- 1200 -->\n      <g transform=\"translate(305.9832 254.356562)scale(0.1 -0.1)\">\n       <use xlink:href=\"#DejaVuSans-49\"/>\n       <use x=\"63.623047\" xlink:href=\"#DejaVuSans-50\"/>\n       <use x=\"127.246094\" xlink:href=\"#DejaVuSans-48\"/>\n       <use x=\"190.869141\" xlink:href=\"#DejaVuSans-48\"/>\n      </g>\n     </g>\n    </g>\n    <g id=\"xtick_8\">\n     <g id=\"line2d_8\">\n      <g>\n       <use style=\"stroke:#000000;stroke-width:0.8;\" x=\"360.401849\" xlink:href=\"#mb4480874f4\" y=\"239.758125\"/>\n      </g>\n     </g>\n     <g id=\"text_8\">\n      <!-- 1400 -->\n      <g transform=\"translate(347.676849 254.356562)scale(0.1 -0.1)\">\n       <use xlink:href=\"#DejaVuSans-49\"/>\n       <use x=\"63.623047\" xlink:href=\"#DejaVuSans-52\"/>\n       <use x=\"127.246094\" xlink:href=\"#DejaVuSans-48\"/>\n       <use x=\"190.869141\" xlink:href=\"#DejaVuSans-48\"/>\n      </g>\n     </g>\n    </g>\n    <g id=\"text_9\">\n     <!-- Numero De Transacción -->\n     <defs>\n      <path d=\"M 9.8125 72.90625 \nL 23.09375 72.90625 \nL 55.421875 11.921875 \nL 55.421875 72.90625 \nL 64.984375 72.90625 \nL 64.984375 0 \nL 51.703125 0 \nL 19.390625 60.984375 \nL 19.390625 0 \nL 9.8125 0 \nz\n\" id=\"DejaVuSans-78\"/>\n      <path d=\"M 8.5 21.578125 \nL 8.5 54.6875 \nL 17.484375 54.6875 \nL 17.484375 21.921875 \nQ 17.484375 14.15625 20.5 10.265625 \nQ 23.53125 6.390625 29.59375 6.390625 \nQ 36.859375 6.390625 41.078125 11.03125 \nQ 45.3125 15.671875 45.3125 23.6875 \nL 45.3125 54.6875 \nL 54.296875 54.6875 \nL 54.296875 0 \nL 45.3125 0 \nL 45.3125 8.40625 \nQ 42.046875 3.421875 37.71875 1 \nQ 33.40625 -1.421875 27.6875 -1.421875 \nQ 18.265625 -1.421875 13.375 4.4375 \nQ 8.5 10.296875 8.5 21.578125 \nz\nM 31.109375 56 \nz\n\" id=\"DejaVuSans-117\"/>\n      <path d=\"M 52 44.1875 \nQ 55.375 50.25 60.0625 53.125 \nQ 64.75 56 71.09375 56 \nQ 79.640625 56 84.28125 50.015625 \nQ 88.921875 44.046875 88.921875 33.015625 \nL 88.921875 0 \nL 79.890625 0 \nL 79.890625 32.71875 \nQ 79.890625 40.578125 77.09375 44.375 \nQ 74.3125 48.1875 68.609375 48.1875 \nQ 61.625 48.1875 57.5625 43.546875 \nQ 53.515625 38.921875 53.515625 30.90625 \nL 53.515625 0 \nL 44.484375 0 \nL 44.484375 32.71875 \nQ 44.484375 40.625 41.703125 44.40625 \nQ 38.921875 48.1875 33.109375 48.1875 \nQ 26.21875 48.1875 22.15625 43.53125 \nQ 18.109375 38.875 18.109375 30.90625 \nL 18.109375 0 \nL 9.078125 0 \nL 9.078125 54.6875 \nL 18.109375 54.6875 \nL 18.109375 46.1875 \nQ 21.1875 51.21875 25.484375 53.609375 \nQ 29.78125 56 35.6875 56 \nQ 41.65625 56 45.828125 52.96875 \nQ 50 49.953125 52 44.1875 \nz\n\" id=\"DejaVuSans-109\"/>\n      <path d=\"M 56.203125 29.59375 \nL 56.203125 25.203125 \nL 14.890625 25.203125 \nQ 15.484375 15.921875 20.484375 11.0625 \nQ 25.484375 6.203125 34.421875 6.203125 \nQ 39.59375 6.203125 44.453125 7.46875 \nQ 49.3125 8.734375 54.109375 11.28125 \nL 54.109375 2.78125 \nQ 49.265625 0.734375 44.1875 -0.34375 \nQ 39.109375 -1.421875 33.890625 -1.421875 \nQ 20.796875 -1.421875 13.15625 6.1875 \nQ 5.515625 13.8125 5.515625 26.8125 \nQ 5.515625 40.234375 12.765625 48.109375 \nQ 20.015625 56 32.328125 56 \nQ 43.359375 56 49.78125 48.890625 \nQ 56.203125 41.796875 56.203125 29.59375 \nz\nM 47.21875 32.234375 \nQ 47.125 39.59375 43.09375 43.984375 \nQ 39.0625 48.390625 32.421875 48.390625 \nQ 24.90625 48.390625 20.390625 44.140625 \nQ 15.875 39.890625 15.1875 32.171875 \nz\n\" id=\"DejaVuSans-101\"/>\n      <path d=\"M 41.109375 46.296875 \nQ 39.59375 47.171875 37.8125 47.578125 \nQ 36.03125 48 33.890625 48 \nQ 26.265625 48 22.1875 43.046875 \nQ 18.109375 38.09375 18.109375 28.8125 \nL 18.109375 0 \nL 9.078125 0 \nL 9.078125 54.6875 \nL 18.109375 54.6875 \nL 18.109375 46.1875 \nQ 20.953125 51.171875 25.484375 53.578125 \nQ 30.03125 56 36.53125 56 \nQ 37.453125 56 38.578125 55.875 \nQ 39.703125 55.765625 41.0625 55.515625 \nz\n\" id=\"DejaVuSans-114\"/>\n      <path d=\"M 30.609375 48.390625 \nQ 23.390625 48.390625 19.1875 42.75 \nQ 14.984375 37.109375 14.984375 27.296875 \nQ 14.984375 17.484375 19.15625 11.84375 \nQ 23.34375 6.203125 30.609375 6.203125 \nQ 37.796875 6.203125 41.984375 11.859375 \nQ 46.1875 17.53125 46.1875 27.296875 \nQ 46.1875 37.015625 41.984375 42.703125 \nQ 37.796875 48.390625 30.609375 48.390625 \nz\nM 30.609375 56 \nQ 42.328125 56 49.015625 48.375 \nQ 55.71875 40.765625 55.71875 27.296875 \nQ 55.71875 13.875 49.015625 6.21875 \nQ 42.328125 -1.421875 30.609375 -1.421875 \nQ 18.84375 -1.421875 12.171875 6.21875 \nQ 5.515625 13.875 5.515625 27.296875 \nQ 5.515625 40.765625 12.171875 48.375 \nQ 18.84375 56 30.609375 56 \nz\n\" id=\"DejaVuSans-111\"/>\n      <path id=\"DejaVuSans-32\"/>\n      <path d=\"M 19.671875 64.796875 \nL 19.671875 8.109375 \nL 31.59375 8.109375 \nQ 46.6875 8.109375 53.6875 14.9375 \nQ 60.6875 21.78125 60.6875 36.53125 \nQ 60.6875 51.171875 53.6875 57.984375 \nQ 46.6875 64.796875 31.59375 64.796875 \nz\nM 9.8125 72.90625 \nL 30.078125 72.90625 \nQ 51.265625 72.90625 61.171875 64.09375 \nQ 71.09375 55.28125 71.09375 36.53125 \nQ 71.09375 17.671875 61.125 8.828125 \nQ 51.171875 0 30.078125 0 \nL 9.8125 0 \nz\n\" id=\"DejaVuSans-68\"/>\n      <path d=\"M -0.296875 72.90625 \nL 61.375 72.90625 \nL 61.375 64.59375 \nL 35.5 64.59375 \nL 35.5 0 \nL 25.59375 0 \nL 25.59375 64.59375 \nL -0.296875 64.59375 \nz\n\" id=\"DejaVuSans-84\"/>\n      <path d=\"M 34.28125 27.484375 \nQ 23.390625 27.484375 19.1875 25 \nQ 14.984375 22.515625 14.984375 16.5 \nQ 14.984375 11.71875 18.140625 8.90625 \nQ 21.296875 6.109375 26.703125 6.109375 \nQ 34.1875 6.109375 38.703125 11.40625 \nQ 43.21875 16.703125 43.21875 25.484375 \nL 43.21875 27.484375 \nz\nM 52.203125 31.203125 \nL 52.203125 0 \nL 43.21875 0 \nL 43.21875 8.296875 \nQ 40.140625 3.328125 35.546875 0.953125 \nQ 30.953125 -1.421875 24.3125 -1.421875 \nQ 15.921875 -1.421875 10.953125 3.296875 \nQ 6 8.015625 6 15.921875 \nQ 6 25.140625 12.171875 29.828125 \nQ 18.359375 34.515625 30.609375 34.515625 \nL 43.21875 34.515625 \nL 43.21875 35.40625 \nQ 43.21875 41.609375 39.140625 45 \nQ 35.0625 48.390625 27.6875 48.390625 \nQ 23 48.390625 18.546875 47.265625 \nQ 14.109375 46.140625 10.015625 43.890625 \nL 10.015625 52.203125 \nQ 14.9375 54.109375 19.578125 55.046875 \nQ 24.21875 56 28.609375 56 \nQ 40.484375 56 46.34375 49.84375 \nQ 52.203125 43.703125 52.203125 31.203125 \nz\n\" id=\"DejaVuSans-97\"/>\n      <path d=\"M 54.890625 33.015625 \nL 54.890625 0 \nL 45.90625 0 \nL 45.90625 32.71875 \nQ 45.90625 40.484375 42.875 44.328125 \nQ 39.84375 48.1875 33.796875 48.1875 \nQ 26.515625 48.1875 22.3125 43.546875 \nQ 18.109375 38.921875 18.109375 30.90625 \nL 18.109375 0 \nL 9.078125 0 \nL 9.078125 54.6875 \nL 18.109375 54.6875 \nL 18.109375 46.1875 \nQ 21.34375 51.125 25.703125 53.5625 \nQ 30.078125 56 35.796875 56 \nQ 45.21875 56 50.046875 50.171875 \nQ 54.890625 44.34375 54.890625 33.015625 \nz\n\" id=\"DejaVuSans-110\"/>\n      <path d=\"M 44.28125 53.078125 \nL 44.28125 44.578125 \nQ 40.484375 46.53125 36.375 47.5 \nQ 32.28125 48.484375 27.875 48.484375 \nQ 21.1875 48.484375 17.84375 46.4375 \nQ 14.5 44.390625 14.5 40.28125 \nQ 14.5 37.15625 16.890625 35.375 \nQ 19.28125 33.59375 26.515625 31.984375 \nL 29.59375 31.296875 \nQ 39.15625 29.25 43.1875 25.515625 \nQ 47.21875 21.78125 47.21875 15.09375 \nQ 47.21875 7.46875 41.1875 3.015625 \nQ 35.15625 -1.421875 24.609375 -1.421875 \nQ 20.21875 -1.421875 15.453125 -0.5625 \nQ 10.6875 0.296875 5.421875 2 \nL 5.421875 11.28125 \nQ 10.40625 8.6875 15.234375 7.390625 \nQ 20.0625 6.109375 24.8125 6.109375 \nQ 31.15625 6.109375 34.5625 8.28125 \nQ 37.984375 10.453125 37.984375 14.40625 \nQ 37.984375 18.0625 35.515625 20.015625 \nQ 33.0625 21.96875 24.703125 23.78125 \nL 21.578125 24.515625 \nQ 13.234375 26.265625 9.515625 29.90625 \nQ 5.8125 33.546875 5.8125 39.890625 \nQ 5.8125 47.609375 11.28125 51.796875 \nQ 16.75 56 26.8125 56 \nQ 31.78125 56 36.171875 55.265625 \nQ 40.578125 54.546875 44.28125 53.078125 \nz\n\" id=\"DejaVuSans-115\"/>\n      <path d=\"M 48.78125 52.59375 \nL 48.78125 44.1875 \nQ 44.96875 46.296875 41.140625 47.34375 \nQ 37.3125 48.390625 33.40625 48.390625 \nQ 24.65625 48.390625 19.8125 42.84375 \nQ 14.984375 37.3125 14.984375 27.296875 \nQ 14.984375 17.28125 19.8125 11.734375 \nQ 24.65625 6.203125 33.40625 6.203125 \nQ 37.3125 6.203125 41.140625 7.25 \nQ 44.96875 8.296875 48.78125 10.40625 \nL 48.78125 2.09375 \nQ 45.015625 0.34375 40.984375 -0.53125 \nQ 36.96875 -1.421875 32.421875 -1.421875 \nQ 20.0625 -1.421875 12.78125 6.34375 \nQ 5.515625 14.109375 5.515625 27.296875 \nQ 5.515625 40.671875 12.859375 48.328125 \nQ 20.21875 56 33.015625 56 \nQ 37.15625 56 41.109375 55.140625 \nQ 45.0625 54.296875 48.78125 52.59375 \nz\n\" id=\"DejaVuSans-99\"/>\n      <path d=\"M 9.421875 54.6875 \nL 18.40625 54.6875 \nL 18.40625 0 \nL 9.421875 0 \nz\nM 9.421875 75.984375 \nL 18.40625 75.984375 \nL 18.40625 64.59375 \nL 9.421875 64.59375 \nz\n\" id=\"DejaVuSans-105\"/>\n      <path d=\"M 30.609375 48.390625 \nQ 23.390625 48.390625 19.1875 42.75 \nQ 14.984375 37.109375 14.984375 27.296875 \nQ 14.984375 17.484375 19.15625 11.84375 \nQ 23.34375 6.203125 30.609375 6.203125 \nQ 37.796875 6.203125 41.984375 11.859375 \nQ 46.1875 17.53125 46.1875 27.296875 \nQ 46.1875 37.015625 41.984375 42.703125 \nQ 37.796875 48.390625 30.609375 48.390625 \nz\nM 30.609375 56 \nQ 42.328125 56 49.015625 48.375 \nQ 55.71875 40.765625 55.71875 27.296875 \nQ 55.71875 13.875 49.015625 6.21875 \nQ 42.328125 -1.421875 30.609375 -1.421875 \nQ 18.84375 -1.421875 12.171875 6.21875 \nQ 5.515625 13.875 5.515625 27.296875 \nQ 5.515625 40.765625 12.171875 48.375 \nQ 18.84375 56 30.609375 56 \nz\nM 37.40625 79.984375 \nL 47.125 79.984375 \nL 31.21875 61.625 \nL 23.734375 61.625 \nz\n\" id=\"DejaVuSans-243\"/>\n     </defs>\n     <g transform=\"translate(161.375781 268.034687)scale(0.1 -0.1)\">\n      <use xlink:href=\"#DejaVuSans-78\"/>\n      <use x=\"74.804688\" xlink:href=\"#DejaVuSans-117\"/>\n      <use x=\"138.183594\" xlink:href=\"#DejaVuSans-109\"/>\n      <use x=\"235.595703\" xlink:href=\"#DejaVuSans-101\"/>\n      <use x=\"297.119141\" xlink:href=\"#DejaVuSans-114\"/>\n      <use x=\"335.982422\" xlink:href=\"#DejaVuSans-111\"/>\n      <use x=\"397.164062\" xlink:href=\"#DejaVuSans-32\"/>\n      <use x=\"428.951172\" xlink:href=\"#DejaVuSans-68\"/>\n      <use x=\"505.953125\" xlink:href=\"#DejaVuSans-101\"/>\n      <use x=\"567.476562\" xlink:href=\"#DejaVuSans-32\"/>\n      <use x=\"599.263672\" xlink:href=\"#DejaVuSans-84\"/>\n      <use x=\"645.597656\" xlink:href=\"#DejaVuSans-114\"/>\n      <use x=\"686.710938\" xlink:href=\"#DejaVuSans-97\"/>\n      <use x=\"747.990234\" xlink:href=\"#DejaVuSans-110\"/>\n      <use x=\"811.369141\" xlink:href=\"#DejaVuSans-115\"/>\n      <use x=\"863.46875\" xlink:href=\"#DejaVuSans-97\"/>\n      <use x=\"924.748047\" xlink:href=\"#DejaVuSans-99\"/>\n      <use x=\"979.728516\" xlink:href=\"#DejaVuSans-99\"/>\n      <use x=\"1034.708984\" xlink:href=\"#DejaVuSans-105\"/>\n      <use x=\"1062.492188\" xlink:href=\"#DejaVuSans-243\"/>\n      <use x=\"1123.673828\" xlink:href=\"#DejaVuSans-110\"/>\n     </g>\n    </g>\n   </g>\n   <g id=\"matplotlib.axis_2\">\n    <g id=\"ytick_1\">\n     <g id=\"line2d_9\">\n      <defs>\n       <path d=\"M 0 0 \nL -3.5 0 \n\" id=\"m7295e087b6\" style=\"stroke:#000000;stroke-width:0.8;\"/>\n      </defs>\n      <g>\n       <use style=\"stroke:#000000;stroke-width:0.8;\" x=\"53.328125\" xlink:href=\"#m7295e087b6\" y=\"239.758125\"/>\n      </g>\n     </g>\n     <g id=\"text_10\">\n      <!-- 0 -->\n      <g transform=\"translate(39.965625 243.557344)scale(0.1 -0.1)\">\n       <use xlink:href=\"#DejaVuSans-48\"/>\n      </g>\n     </g>\n    </g>\n    <g id=\"ytick_2\">\n     <g id=\"line2d_10\">\n      <g>\n       <use style=\"stroke:#000000;stroke-width:0.8;\" x=\"53.328125\" xlink:href=\"#m7295e087b6\" y=\"213.872411\"/>\n      </g>\n     </g>\n     <g id=\"text_11\">\n      <!-- 250 -->\n      <defs>\n       <path d=\"M 10.796875 72.90625 \nL 49.515625 72.90625 \nL 49.515625 64.59375 \nL 19.828125 64.59375 \nL 19.828125 46.734375 \nQ 21.96875 47.46875 24.109375 47.828125 \nQ 26.265625 48.1875 28.421875 48.1875 \nQ 40.625 48.1875 47.75 41.5 \nQ 54.890625 34.8125 54.890625 23.390625 \nQ 54.890625 11.625 47.5625 5.09375 \nQ 40.234375 -1.421875 26.90625 -1.421875 \nQ 22.3125 -1.421875 17.546875 -0.640625 \nQ 12.796875 0.140625 7.71875 1.703125 \nL 7.71875 11.625 \nQ 12.109375 9.234375 16.796875 8.0625 \nQ 21.484375 6.890625 26.703125 6.890625 \nQ 35.15625 6.890625 40.078125 11.328125 \nQ 45.015625 15.765625 45.015625 23.390625 \nQ 45.015625 31 40.078125 35.4375 \nQ 35.15625 39.890625 26.703125 39.890625 \nQ 22.75 39.890625 18.8125 39.015625 \nQ 14.890625 38.140625 10.796875 36.28125 \nz\n\" id=\"DejaVuSans-53\"/>\n      </defs>\n      <g transform=\"translate(27.240625 217.671629)scale(0.1 -0.1)\">\n       <use xlink:href=\"#DejaVuSans-50\"/>\n       <use x=\"63.623047\" xlink:href=\"#DejaVuSans-53\"/>\n       <use x=\"127.246094\" xlink:href=\"#DejaVuSans-48\"/>\n      </g>\n     </g>\n    </g>\n    <g id=\"ytick_3\">\n     <g id=\"line2d_11\">\n      <g>\n       <use style=\"stroke:#000000;stroke-width:0.8;\" x=\"53.328125\" xlink:href=\"#m7295e087b6\" y=\"187.986696\"/>\n      </g>\n     </g>\n     <g id=\"text_12\">\n      <!-- 500 -->\n      <g transform=\"translate(27.240625 191.785915)scale(0.1 -0.1)\">\n       <use xlink:href=\"#DejaVuSans-53\"/>\n       <use x=\"63.623047\" xlink:href=\"#DejaVuSans-48\"/>\n       <use x=\"127.246094\" xlink:href=\"#DejaVuSans-48\"/>\n      </g>\n     </g>\n    </g>\n    <g id=\"ytick_4\">\n     <g id=\"line2d_12\">\n      <g>\n       <use style=\"stroke:#000000;stroke-width:0.8;\" x=\"53.328125\" xlink:href=\"#m7295e087b6\" y=\"162.100982\"/>\n      </g>\n     </g>\n     <g id=\"text_13\">\n      <!-- 750 -->\n      <defs>\n       <path d=\"M 8.203125 72.90625 \nL 55.078125 72.90625 \nL 55.078125 68.703125 \nL 28.609375 0 \nL 18.3125 0 \nL 43.21875 64.59375 \nL 8.203125 64.59375 \nz\n\" id=\"DejaVuSans-55\"/>\n      </defs>\n      <g transform=\"translate(27.240625 165.900201)scale(0.1 -0.1)\">\n       <use xlink:href=\"#DejaVuSans-55\"/>\n       <use x=\"63.623047\" xlink:href=\"#DejaVuSans-53\"/>\n       <use x=\"127.246094\" xlink:href=\"#DejaVuSans-48\"/>\n      </g>\n     </g>\n    </g>\n    <g id=\"ytick_5\">\n     <g id=\"line2d_13\">\n      <g>\n       <use style=\"stroke:#000000;stroke-width:0.8;\" x=\"53.328125\" xlink:href=\"#m7295e087b6\" y=\"136.215268\"/>\n      </g>\n     </g>\n     <g id=\"text_14\">\n      <!-- 1000 -->\n      <g transform=\"translate(20.878125 140.014487)scale(0.1 -0.1)\">\n       <use xlink:href=\"#DejaVuSans-49\"/>\n       <use x=\"63.623047\" xlink:href=\"#DejaVuSans-48\"/>\n       <use x=\"127.246094\" xlink:href=\"#DejaVuSans-48\"/>\n       <use x=\"190.869141\" xlink:href=\"#DejaVuSans-48\"/>\n      </g>\n     </g>\n    </g>\n    <g id=\"ytick_6\">\n     <g id=\"line2d_14\">\n      <g>\n       <use style=\"stroke:#000000;stroke-width:0.8;\" x=\"53.328125\" xlink:href=\"#m7295e087b6\" y=\"110.329554\"/>\n      </g>\n     </g>\n     <g id=\"text_15\">\n      <!-- 1250 -->\n      <g transform=\"translate(20.878125 114.128772)scale(0.1 -0.1)\">\n       <use xlink:href=\"#DejaVuSans-49\"/>\n       <use x=\"63.623047\" xlink:href=\"#DejaVuSans-50\"/>\n       <use x=\"127.246094\" xlink:href=\"#DejaVuSans-53\"/>\n       <use x=\"190.869141\" xlink:href=\"#DejaVuSans-48\"/>\n      </g>\n     </g>\n    </g>\n    <g id=\"ytick_7\">\n     <g id=\"line2d_15\">\n      <g>\n       <use style=\"stroke:#000000;stroke-width:0.8;\" x=\"53.328125\" xlink:href=\"#m7295e087b6\" y=\"84.443839\"/>\n      </g>\n     </g>\n     <g id=\"text_16\">\n      <!-- 1500 -->\n      <g transform=\"translate(20.878125 88.243058)scale(0.1 -0.1)\">\n       <use xlink:href=\"#DejaVuSans-49\"/>\n       <use x=\"63.623047\" xlink:href=\"#DejaVuSans-53\"/>\n       <use x=\"127.246094\" xlink:href=\"#DejaVuSans-48\"/>\n       <use x=\"190.869141\" xlink:href=\"#DejaVuSans-48\"/>\n      </g>\n     </g>\n    </g>\n    <g id=\"ytick_8\">\n     <g id=\"line2d_16\">\n      <g>\n       <use style=\"stroke:#000000;stroke-width:0.8;\" x=\"53.328125\" xlink:href=\"#m7295e087b6\" y=\"58.558125\"/>\n      </g>\n     </g>\n     <g id=\"text_17\">\n      <!-- 1750 -->\n      <g transform=\"translate(20.878125 62.357344)scale(0.1 -0.1)\">\n       <use xlink:href=\"#DejaVuSans-49\"/>\n       <use x=\"63.623047\" xlink:href=\"#DejaVuSans-55\"/>\n       <use x=\"127.246094\" xlink:href=\"#DejaVuSans-53\"/>\n       <use x=\"190.869141\" xlink:href=\"#DejaVuSans-48\"/>\n      </g>\n     </g>\n    </g>\n    <g id=\"ytick_9\">\n     <g id=\"line2d_17\">\n      <g>\n       <use style=\"stroke:#000000;stroke-width:0.8;\" x=\"53.328125\" xlink:href=\"#m7295e087b6\" y=\"32.672411\"/>\n      </g>\n     </g>\n     <g id=\"text_18\">\n      <!-- 2000 -->\n      <g transform=\"translate(20.878125 36.471629)scale(0.1 -0.1)\">\n       <use xlink:href=\"#DejaVuSans-50\"/>\n       <use x=\"63.623047\" xlink:href=\"#DejaVuSans-48\"/>\n       <use x=\"127.246094\" xlink:href=\"#DejaVuSans-48\"/>\n       <use x=\"190.869141\" xlink:href=\"#DejaVuSans-48\"/>\n      </g>\n     </g>\n    </g>\n    <g id=\"text_19\">\n     <!-- Cantidad De Billetes -->\n     <defs>\n      <path d=\"M 64.40625 67.28125 \nL 64.40625 56.890625 \nQ 59.421875 61.53125 53.78125 63.8125 \nQ 48.140625 66.109375 41.796875 66.109375 \nQ 29.296875 66.109375 22.65625 58.46875 \nQ 16.015625 50.828125 16.015625 36.375 \nQ 16.015625 21.96875 22.65625 14.328125 \nQ 29.296875 6.6875 41.796875 6.6875 \nQ 48.140625 6.6875 53.78125 8.984375 \nQ 59.421875 11.28125 64.40625 15.921875 \nL 64.40625 5.609375 \nQ 59.234375 2.09375 53.4375 0.328125 \nQ 47.65625 -1.421875 41.21875 -1.421875 \nQ 24.65625 -1.421875 15.125 8.703125 \nQ 5.609375 18.84375 5.609375 36.375 \nQ 5.609375 53.953125 15.125 64.078125 \nQ 24.65625 74.21875 41.21875 74.21875 \nQ 47.75 74.21875 53.53125 72.484375 \nQ 59.328125 70.75 64.40625 67.28125 \nz\n\" id=\"DejaVuSans-67\"/>\n      <path d=\"M 18.3125 70.21875 \nL 18.3125 54.6875 \nL 36.8125 54.6875 \nL 36.8125 47.703125 \nL 18.3125 47.703125 \nL 18.3125 18.015625 \nQ 18.3125 11.328125 20.140625 9.421875 \nQ 21.96875 7.515625 27.59375 7.515625 \nL 36.8125 7.515625 \nL 36.8125 0 \nL 27.59375 0 \nQ 17.1875 0 13.234375 3.875 \nQ 9.28125 7.765625 9.28125 18.015625 \nL 9.28125 47.703125 \nL 2.6875 47.703125 \nL 2.6875 54.6875 \nL 9.28125 54.6875 \nL 9.28125 70.21875 \nz\n\" id=\"DejaVuSans-116\"/>\n      <path d=\"M 45.40625 46.390625 \nL 45.40625 75.984375 \nL 54.390625 75.984375 \nL 54.390625 0 \nL 45.40625 0 \nL 45.40625 8.203125 \nQ 42.578125 3.328125 38.25 0.953125 \nQ 33.9375 -1.421875 27.875 -1.421875 \nQ 17.96875 -1.421875 11.734375 6.484375 \nQ 5.515625 14.40625 5.515625 27.296875 \nQ 5.515625 40.1875 11.734375 48.09375 \nQ 17.96875 56 27.875 56 \nQ 33.9375 56 38.25 53.625 \nQ 42.578125 51.265625 45.40625 46.390625 \nz\nM 14.796875 27.296875 \nQ 14.796875 17.390625 18.875 11.75 \nQ 22.953125 6.109375 30.078125 6.109375 \nQ 37.203125 6.109375 41.296875 11.75 \nQ 45.40625 17.390625 45.40625 27.296875 \nQ 45.40625 37.203125 41.296875 42.84375 \nQ 37.203125 48.484375 30.078125 48.484375 \nQ 22.953125 48.484375 18.875 42.84375 \nQ 14.796875 37.203125 14.796875 27.296875 \nz\n\" id=\"DejaVuSans-100\"/>\n      <path d=\"M 19.671875 34.8125 \nL 19.671875 8.109375 \nL 35.5 8.109375 \nQ 43.453125 8.109375 47.28125 11.40625 \nQ 51.125 14.703125 51.125 21.484375 \nQ 51.125 28.328125 47.28125 31.5625 \nQ 43.453125 34.8125 35.5 34.8125 \nz\nM 19.671875 64.796875 \nL 19.671875 42.828125 \nL 34.28125 42.828125 \nQ 41.5 42.828125 45.03125 45.53125 \nQ 48.578125 48.25 48.578125 53.8125 \nQ 48.578125 59.328125 45.03125 62.0625 \nQ 41.5 64.796875 34.28125 64.796875 \nz\nM 9.8125 72.90625 \nL 35.015625 72.90625 \nQ 46.296875 72.90625 52.390625 68.21875 \nQ 58.5 63.53125 58.5 54.890625 \nQ 58.5 48.1875 55.375 44.234375 \nQ 52.25 40.28125 46.1875 39.3125 \nQ 53.46875 37.75 57.5 32.78125 \nQ 61.53125 27.828125 61.53125 20.40625 \nQ 61.53125 10.640625 54.890625 5.3125 \nQ 48.25 0 35.984375 0 \nL 9.8125 0 \nz\n\" id=\"DejaVuSans-66\"/>\n      <path d=\"M 9.421875 75.984375 \nL 18.40625 75.984375 \nL 18.40625 0 \nL 9.421875 0 \nz\n\" id=\"DejaVuSans-108\"/>\n     </defs>\n     <g transform=\"translate(14.798438 181.944375)rotate(-90)scale(0.1 -0.1)\">\n      <use xlink:href=\"#DejaVuSans-67\"/>\n      <use x=\"69.824219\" xlink:href=\"#DejaVuSans-97\"/>\n      <use x=\"131.103516\" xlink:href=\"#DejaVuSans-110\"/>\n      <use x=\"194.482422\" xlink:href=\"#DejaVuSans-116\"/>\n      <use x=\"233.691406\" xlink:href=\"#DejaVuSans-105\"/>\n      <use x=\"261.474609\" xlink:href=\"#DejaVuSans-100\"/>\n      <use x=\"324.951172\" xlink:href=\"#DejaVuSans-97\"/>\n      <use x=\"386.230469\" xlink:href=\"#DejaVuSans-100\"/>\n      <use x=\"449.707031\" xlink:href=\"#DejaVuSans-32\"/>\n      <use x=\"481.494141\" xlink:href=\"#DejaVuSans-68\"/>\n      <use x=\"558.496094\" xlink:href=\"#DejaVuSans-101\"/>\n      <use x=\"620.019531\" xlink:href=\"#DejaVuSans-32\"/>\n      <use x=\"651.806641\" xlink:href=\"#DejaVuSans-66\"/>\n      <use x=\"720.410156\" xlink:href=\"#DejaVuSans-105\"/>\n      <use x=\"748.193359\" xlink:href=\"#DejaVuSans-108\"/>\n      <use x=\"775.976562\" xlink:href=\"#DejaVuSans-108\"/>\n      <use x=\"803.759766\" xlink:href=\"#DejaVuSans-101\"/>\n      <use x=\"865.283203\" xlink:href=\"#DejaVuSans-116\"/>\n      <use x=\"904.492188\" xlink:href=\"#DejaVuSans-101\"/>\n      <use x=\"966.015625\" xlink:href=\"#DejaVuSans-115\"/>\n     </g>\n    </g>\n   </g>\n   <g id=\"line2d_18\">\n    <path clip-path=\"url(#pb2cc4cce10)\" d=\"M 68.546307 32.672411 \nL 69.171712 32.672411 \nL 70.005585 47.686125 \nL 70.214053 49.549896 \nL 70.422521 50.067611 \nL 70.630989 51.931382 \nL 71.047926 33.811382 \nL 71.464862 33.811382 \nL 71.67333 34.432639 \nL 71.881799 38.263725 \nL 72.090267 38.781439 \nL 72.298735 41.059382 \nL 72.507203 45.201096 \nL 72.715672 37.642468 \nL 73.132608 46.650696 \nL 73.341076 49.032182 \nL 73.549545 41.991268 \nL 73.966481 49.653439 \nL 74.174949 39.816868 \nL 74.383418 35.260982 \nL 74.591886 38.263725 \nL 74.800354 38.574354 \nL 75.634227 50.585325 \nL 75.842695 43.026696 \nL 76.051164 44.683382 \nL 76.4681 52.449096 \nL 76.676568 52.863268 \nL 77.093505 58.661668 \nL 77.301973 62.078582 \nL 77.510441 60.111268 \nL 77.927378 66.220296 \nL 78.135846 58.558125 \nL 78.344314 57.108525 \nL 78.552783 60.732525 \nL 78.761251 61.560868 \nL 78.969719 64.149439 \nL 79.178187 64.874239 \nL 79.386656 66.427382 \nL 79.803592 67.048639 \nL 80.01206 69.326582 \nL 80.220528 61.250239 \nL 80.428997 63.942354 \nL 80.637465 62.699839 \nL 80.845933 64.356525 \nL 81.054401 64.874239 \nL 81.888274 76.988754 \nL 82.305211 85.168639 \nL 82.513679 89.828068 \nL 82.722147 80.095039 \nL 82.930616 77.610011 \nL 83.139084 80.405668 \nL 83.347552 72.950582 \nL 83.55602 75.124982 \nL 84.181425 87.550125 \nL 84.389893 88.171382 \nL 84.598362 89.724525 \nL 85.015298 97.179611 \nL 85.640703 102.667382 \nL 85.849171 103.392182 \nL 86.266108 110.847268 \nL 86.474576 114.264182 \nL 86.683044 108.155154 \nL 86.891512 98.422125 \nL 87.308449 105.152411 \nL 87.725385 110.847268 \nL 87.933854 106.809096 \nL 88.142322 99.043382 \nL 88.559258 105.048868 \nL 88.767726 101.528411 \nL 89.184663 102.356754 \nL 89.601599 109.915382 \nL 90.018536 90.552868 \nL 90.227004 82.683611 \nL 90.435472 87.653668 \nL 90.643941 88.171382 \nL 90.852409 89.828068 \nL 91.269345 95.315839 \nL 91.477814 88.689096 \nL 91.89475 94.901668 \nL 92.520155 101.424868 \nL 92.728623 95.315839 \nL 93.354028 104.531154 \nL 93.770964 105.877211 \nL 93.979433 110.226011 \nL 94.187901 111.261439 \nL 94.396369 111.572068 \nL 94.604837 112.711039 \nL 95.021774 119.751954 \nL 95.43871 120.994468 \nL 95.647179 109.708296 \nL 95.855647 111.364982 \nL 96.064115 108.155154 \nL 96.272583 111.779154 \nL 96.481052 108.465782 \nL 96.68952 111.468525 \nL 97.314925 125.343268 \nL 98.148797 136.008182 \nL 98.565734 127.310582 \nL 98.774202 117.474011 \nL 98.98267 117.888182 \nL 99.191139 121.719268 \nL 99.399607 32.672411 \nL 99.608075 32.672411 \nL 99.816543 33.086582 \nL 100.23348 37.331839 \nL 100.441948 41.991268 \nL 100.650416 35.675154 \nL 100.858885 39.506239 \nL 101.067353 36.089325 \nL 101.275821 36.089325 \nL 101.484289 37.746011 \nL 101.692758 37.746011 \nL 101.901226 38.160182 \nL 102.109694 39.609782 \nL 103.360504 58.972296 \nL 103.985908 72.122239 \nL 104.402845 76.678125 \nL 104.611313 78.541896 \nL 105.02825 84.340296 \nL 105.236718 85.168639 \nL 105.862123 97.697325 \nL 106.070591 89.206811 \nL 106.279059 89.828068 \nL 106.695995 97.386696 \nL 106.904464 91.691839 \nL 107.112932 92.209554 \nL 107.3214 94.591039 \nL 107.529868 92.830811 \nL 107.946805 100.907154 \nL 108.780678 84.650925 \nL 109.197614 87.757211 \nL 109.406083 88.067839 \nL 109.614551 90.242239 \nL 109.823019 95.108754 \nL 110.239956 85.168639 \nL 110.656892 93.037896 \nL 111.073829 72.122239 \nL 111.282297 67.669896 \nL 111.907702 80.509211 \nL 112.324638 88.067839 \nL 112.533106 91.898925 \nL 112.741575 93.348525 \nL 113.575448 102.149668 \nL 113.992384 110.433096 \nL 114.200852 107.637439 \nL 114.409321 108.051611 \nL 114.617789 99.975268 \nL 114.826257 101.114239 \nL 115.243193 84.133211 \nL 115.868598 92.209554 \nL 116.077066 87.550125 \nL 116.285535 86.204068 \nL 116.494003 87.032411 \nL 116.702471 77.092296 \nL 116.910939 77.920639 \nL 117.536344 88.792639 \nL 117.744812 89.206811 \nL 117.953281 91.174125 \nL 118.161749 96.247725 \nL 118.787154 102.667382 \nL 118.995622 103.702811 \nL 119.412558 109.190582 \nL 119.621027 109.501211 \nL 119.829495 111.261439 \nL 120.4549 119.959039 \nL 120.871836 125.343268 \nL 121.080304 119.855496 \nL 121.288773 108.879954 \nL 121.497241 109.708296 \nL 121.705709 113.850011 \nL 122.122646 117.888182 \nL 122.331114 110.329554 \nL 122.539582 114.264182 \nL 122.74805 115.610239 \nL 122.956519 104.427611 \nL 123.581923 112.711039 \nL 123.790392 114.885439 \nL 123.99886 112.607496 \nL 124.207328 116.645668 \nL 124.624264 119.234239 \nL 125.041201 126.689325 \nL 125.666606 134.869211 \nL 125.875074 126.999954 \nL 126.083542 127.931839 \nL 126.29201 116.956296 \nL 127.125883 128.553096 \nL 127.334352 121.926354 \nL 127.54282 110.536639 \nL 128.168225 121.926354 \nL 128.376693 120.166125 \nL 128.793629 123.168868 \nL 129.210566 128.863725 \nL 129.627502 113.435839 \nL 129.835971 114.160639 \nL 130.044439 116.542125 \nL 130.252907 120.580296 \nL 130.461375 113.953554 \nL 130.669844 103.288639 \nL 131.08678 113.228754 \nL 131.295248 32.672411 \nL 131.712185 33.707839 \nL 131.920653 36.607039 \nL 132.129121 36.607039 \nL 132.33759 37.953096 \nL 132.546058 42.716068 \nL 132.754526 32.672411 \nL 133.796867 44.890468 \nL 134.005335 43.130239 \nL 134.213804 43.751496 \nL 134.422272 36.503496 \nL 134.63074 39.506239 \nL 134.839208 35.675154 \nL 135.256145 42.198354 \nL 135.464613 32.879496 \nL 135.673081 36.710582 \nL 135.88155 37.435382 \nL 136.090018 37.435382 \nL 136.506954 44.786925 \nL 136.715423 49.342811 \nL 136.923891 43.544411 \nL 137.966232 60.836068 \nL 138.1747 61.353782 \nL 138.591637 47.893211 \nL 139.008573 53.588068 \nL 139.217042 54.002239 \nL 139.42551 54.727039 \nL 139.633978 59.179382 \nL 139.842446 48.825096 \nL 140.884788 55.762468 \nL 141.301724 64.045896 \nL 141.71866 67.152182 \nL 142.344065 79.991496 \nL 142.552533 81.855268 \nL 142.761002 84.961554 \nL 142.96947 86.100525 \nL 143.594875 98.318582 \nL 144.011811 84.340296 \nL 144.220279 75.953325 \nL 144.428748 81.130468 \nL 144.845684 83.615496 \nL 145.054152 88.689096 \nL 145.471089 74.710811 \nL 145.679557 77.817096 \nL 145.888025 82.787154 \nL 146.096494 78.127725 \nL 146.304962 82.787154 \nL 146.930367 52.345554 \nL 147.76424 63.942354 \nL 147.972708 56.073096 \nL 148.181176 60.732525 \nL 148.389644 61.457325 \nL 148.806581 65.495496 \nL 149.015049 68.808868 \nL 149.431986 49.239268 \nL 149.640454 53.070354 \nL 150.05739 55.658925 \nL 150.265858 49.653439 \nL 150.682795 54.416411 \nL 150.891263 48.825096 \nL 151.099731 50.067611 \nL 151.3082 43.751496 \nL 151.516668 47.686125 \nL 151.725136 42.612525 \nL 151.933604 40.334582 \nL 152.142073 35.882239 \nL 152.350541 35.882239 \nL 153.184414 44.372754 \nL 153.392882 39.506239 \nL 153.809819 47.479039 \nL 154.018287 48.514468 \nL 154.226755 52.863268 \nL 154.435223 53.380982 \nL 154.643692 54.934125 \nL 154.85216 44.372754 \nL 155.060628 40.541668 \nL 155.894501 54.727039 \nL 156.102969 50.067611 \nL 156.311438 52.759725 \nL 156.519906 44.372754 \nL 156.728374 44.994011 \nL 156.936842 47.375496 \nL 157.145311 47.789668 \nL 157.353779 50.688868 \nL 157.770715 52.552639 \nL 157.979184 56.176639 \nL 158.187652 54.105782 \nL 158.39612 55.866011 \nL 158.604588 54.312868 \nL 158.813057 56.383725 \nL 159.021525 47.271954 \nL 159.646929 59.800639 \nL 160.063866 65.495496 \nL 160.272334 54.209325 \nL 160.480802 32.672411 \nL 160.689271 37.538925 \nL 160.897739 39.506239 \nL 161.106207 43.958582 \nL 161.314675 36.607039 \nL 161.523144 41.784182 \nL 161.731612 34.122011 \nL 162.148548 42.612525 \nL 162.357017 40.127496 \nL 162.565485 34.950354 \nL 162.982421 40.231039 \nL 163.19089 33.914925 \nL 163.607826 38.574354 \nL 164.024763 48.307382 \nL 164.650167 50.067611 \nL 165.067104 57.108525 \nL 165.692509 44.165668 \nL 165.900977 44.890468 \nL 166.317913 53.484525 \nL 166.526382 54.105782 \nL 167.568723 74.193096 \nL 167.777191 69.947839 \nL 167.985659 71.293896 \nL 168.194127 73.778925 \nL 168.402596 67.359268 \nL 169.028 77.713554 \nL 169.236469 69.533668 \nL 169.444937 74.503725 \nL 169.653405 76.471039 \nL 169.861873 81.026925 \nL 170.070342 82.269439 \nL 170.27881 85.893439 \nL 170.487278 86.307611 \nL 170.695746 83.408411 \nL 170.904215 88.378468 \nL 171.112683 89.103268 \nL 171.529619 96.247725 \nL 171.738088 96.765439 \nL 172.155024 101.528411 \nL 172.363492 100.182354 \nL 172.780429 108.776411 \nL 172.988897 109.397668 \nL 173.197365 112.607496 \nL 173.614302 96.040639 \nL 174.031238 102.356754 \nL 174.239707 91.691839 \nL 174.448175 87.757211 \nL 174.656643 91.795382 \nL 175.07358 80.819839 \nL 175.282048 84.443839 \nL 175.490516 81.648182 \nL 175.698984 83.926125 \nL 175.907453 73.778925 \nL 176.115921 75.124982 \nL 176.532857 80.405668 \nL 176.741325 76.471039 \nL 177.158262 78.541896 \nL 177.36673 81.855268 \nL 177.575198 83.097782 \nL 177.992135 89.724525 \nL 178.200603 88.378468 \nL 178.409071 91.277668 \nL 178.61754 96.454811 \nL 179.034476 81.130468 \nL 179.242944 73.675382 \nL 179.451413 77.817096 \nL 179.659881 71.293896 \nL 179.868349 72.950582 \nL 180.076817 78.024182 \nL 180.285286 71.915154 \nL 180.493754 72.639954 \nL 180.702222 74.607268 \nL 180.91069 78.645439 \nL 181.119159 80.198582 \nL 181.327627 84.754468 \nL 181.536095 85.789896 \nL 181.744563 77.506468 \nL 182.1615 83.926125 \nL 182.369968 82.683611 \nL 182.995373 90.552868 \nL 183.203841 95.522925 \nL 183.412309 96.454811 \nL 183.829246 82.372982 \nL 184.246182 89.206811 \nL 184.454651 80.198582 \nL 184.663119 81.544639 \nL 185.080055 87.343039 \nL 185.288524 85.272182 \nL 185.496992 80.198582 \nL 185.70546 84.650925 \nL 186.122396 72.225782 \nL 186.330865 75.228525 \nL 186.539333 66.738011 \nL 186.956269 73.157668 \nL 187.581674 82.580068 \nL 187.790142 76.471039 \nL 188.207079 80.302125 \nL 188.415547 78.852525 \nL 188.624015 82.269439 \nL 188.832484 73.054125 \nL 189.040952 77.920639 \nL 189.24942 79.266696 \nL 189.457888 81.855268 \nL 189.666357 86.307611 \nL 189.874825 82.580068 \nL 190.083293 83.304868 \nL 190.291761 88.171382 \nL 190.917166 91.691839 \nL 191.542571 103.806354 \nL 191.751039 105.566582 \nL 191.959507 109.397668 \nL 192.167976 110.950811 \nL 192.376444 32.672411 \nL 192.584912 34.536182 \nL 192.79338 37.538925 \nL 193.001849 42.508982 \nL 193.210317 37.642468 \nL 193.835722 43.647954 \nL 194.04419 43.647954 \nL 194.252658 45.718811 \nL 194.461126 42.819611 \nL 194.878063 47.168411 \nL 195.503467 55.348296 \nL 195.920404 57.108525 \nL 196.128872 60.111268 \nL 196.33734 55.866011 \nL 196.545809 56.487268 \nL 197.379682 66.841554 \nL 197.58815 62.078582 \nL 197.796618 63.321096 \nL 198.213555 48.203839 \nL 198.630491 49.032182 \nL 198.838959 51.206582 \nL 199.047428 49.964068 \nL 199.255896 54.209325 \nL 199.464364 56.176639 \nL 199.881301 62.906925 \nL 200.089769 57.936868 \nL 200.298237 61.975039 \nL 200.506705 55.969554 \nL 200.715174 56.797896 \nL 201.13211 64.874239 \nL 201.340578 65.184868 \nL 201.965983 73.468296 \nL 202.174451 70.362011 \nL 203.216792 88.067839 \nL 203.425261 89.413896 \nL 203.842197 90.138696 \nL 204.050665 93.762696 \nL 204.259134 83.097782 \nL 204.467602 84.443839 \nL 204.67607 78.956068 \nL 204.884538 76.678125 \nL 205.301475 77.713554 \nL 205.718411 84.443839 \nL 205.92688 85.375725 \nL 206.552284 93.555611 \nL 206.760753 97.904411 \nL 206.969221 98.939839 \nL 207.177689 99.250468 \nL 207.386157 91.898925 \nL 207.594626 93.969782 \nL 208.636967 111.364982 \nL 208.845435 111.986239 \nL 209.053903 102.563839 \nL 209.262372 105.048868 \nL 209.47084 109.087039 \nL 209.679308 110.122468 \nL 209.887776 101.528411 \nL 210.096245 103.495725 \nL 210.304713 93.348525 \nL 210.513181 90.449325 \nL 210.930118 98.318582 \nL 211.138586 94.487496 \nL 211.555522 103.288639 \nL 211.763991 96.144182 \nL 211.972459 94.280411 \nL 212.389395 96.247725 \nL 212.597863 97.076068 \nL 212.806332 102.253211 \nL 213.0148 100.596525 \nL 213.848673 117.266925 \nL 214.057141 118.612982 \nL 214.891014 99.250468 \nL 215.099482 101.424868 \nL 215.307951 101.942582 \nL 215.516419 99.354011 \nL 215.724887 90.242239 \nL 215.933355 93.244982 \nL 216.55876 106.602011 \nL 216.975697 111.364982 \nL 217.184165 109.087039 \nL 217.392633 99.354011 \nL 217.80957 101.528411 \nL 218.226506 103.599268 \nL 218.851911 116.852754 \nL 219.060379 110.018925 \nL 219.268847 110.640182 \nL 219.477316 115.196068 \nL 219.685784 110.847268 \nL 219.894252 115.506696 \nL 220.10272 104.634696 \nL 220.519657 113.746468 \nL 220.728125 114.678354 \nL 220.936593 108.155154 \nL 221.145061 32.672411 \nL 221.35353 35.364525 \nL 221.770466 35.364525 \nL 221.978934 38.988525 \nL 222.187403 40.023954 \nL 222.395871 42.508982 \nL 222.604339 47.582582 \nL 222.812807 44.165668 \nL 223.021276 49.342811 \nL 223.438212 50.171154 \nL 223.64668 47.479039 \nL 223.855149 48.203839 \nL 224.063617 40.231039 \nL 224.272085 40.748754 \nL 224.689022 43.855039 \nL 224.89749 46.961325 \nL 225.105958 36.710582 \nL 225.314426 32.775954 \nL 225.731363 42.301896 \nL 226.148299 46.236525 \nL 226.565236 53.588068 \nL 226.982172 59.904182 \nL 227.190641 61.353782 \nL 227.399109 65.702582 \nL 227.816045 68.394696 \nL 228.024514 71.190354 \nL 228.232982 71.708068 \nL 228.44145 73.261211 \nL 228.649918 77.610011 \nL 229.066855 80.716296 \nL 229.275323 82.269439 \nL 229.900728 89.103268 \nL 230.109196 85.272182 \nL 230.317664 88.792639 \nL 230.526132 90.345782 \nL 231.151537 98.318582 \nL 231.360005 98.732754 \nL 231.776942 104.220525 \nL 232.193878 84.547382 \nL 232.402347 86.307611 \nL 232.610815 82.683611 \nL 232.819283 86.514696 \nL 233.027751 87.550125 \nL 233.444688 96.247725 \nL 233.861624 99.768182 \nL 234.070093 88.482011 \nL 234.278561 89.517439 \nL 234.487029 93.452068 \nL 234.695497 93.969782 \nL 234.903966 96.661896 \nL 235.112434 101.010696 \nL 235.320902 93.141439 \nL 235.737839 96.454811 \nL 235.946307 99.457554 \nL 236.78018 117.991725 \nL 237.614053 127.517668 \nL 237.822521 128.035382 \nL 238.030989 132.591268 \nL 238.239458 132.901896 \nL 238.447926 134.869211 \nL 239.07333 148.433325 \nL 239.281799 141.392411 \nL 239.490267 142.427839 \nL 239.698735 146.258925 \nL 239.907203 148.019154 \nL 240.115672 152.264411 \nL 240.32414 149.261668 \nL 240.532608 143.670354 \nL 240.949545 150.504182 \nL 241.158013 146.258925 \nL 241.783418 157.130925 \nL 241.991886 152.989211 \nL 242.408822 159.615954 \nL 243.034227 173.387154 \nL 243.451164 178.357211 \nL 243.659632 171.834011 \nL 243.8681 172.558811 \nL 244.076568 174.940296 \nL 244.285037 170.798582 \nL 244.493505 174.526125 \nL 244.701973 165.828525 \nL 244.910441 166.242696 \nL 245.327378 173.904868 \nL 245.535846 172.041096 \nL 246.161251 182.913096 \nL 246.369719 184.362696 \nL 246.578187 174.008411 \nL 246.786656 178.357211 \nL 246.995124 173.697782 \nL 247.203592 176.182811 \nL 247.41206 176.907611 \nL 247.620528 178.460754 \nL 247.828997 181.049325 \nL 248.245933 188.815039 \nL 248.454401 189.229211 \nL 249.913679 214.286582 \nL 250.122147 211.490925 \nL 250.539084 200.722468 \nL 251.164489 209.937782 \nL 251.372957 212.733439 \nL 251.581425 207.452754 \nL 251.998362 213.665325 \nL 252.20683 207.763382 \nL 252.415298 212.008639 \nL 252.623766 212.836982 \nL 253.040703 219.256639 \nL 253.249171 223.294811 \nL 253.457639 216.564525 \nL 253.666108 219.774354 \nL 254.291512 223.191268 \nL 254.916917 195.545325 \nL 255.125385 200.308296 \nL 255.333854 32.672411 \nL 255.75079 37.538925 \nL 255.959258 33.293668 \nL 256.376195 41.991268 \nL 256.584663 40.541668 \nL 256.793131 40.852296 \nL 257.001599 37.124754 \nL 257.835472 52.138468 \nL 258.043941 41.370011 \nL 258.252409 38.988525 \nL 258.460877 40.231039 \nL 258.669345 37.435382 \nL 258.877814 38.988525 \nL 259.086282 41.784182 \nL 259.29475 35.571611 \nL 259.711687 42.819611 \nL 259.920155 33.604296 \nL 260.337091 38.574354 \nL 260.54556 38.574354 \nL 260.962496 43.026696 \nL 261.170964 47.064868 \nL 261.379433 44.579839 \nL 262.213306 59.800639 \nL 262.421774 61.043154 \nL 262.630242 65.391954 \nL 262.83871 56.694354 \nL 263.047179 57.729782 \nL 263.255647 62.803382 \nL 263.464115 64.460068 \nL 263.881052 50.274696 \nL 264.08952 51.103039 \nL 264.714925 62.182125 \nL 264.923393 62.906925 \nL 265.131861 53.484525 \nL 265.340329 53.795154 \nL 265.548797 55.037668 \nL 265.757266 49.549896 \nL 265.965734 51.620754 \nL 266.174202 56.590811 \nL 266.38267 46.650696 \nL 266.799607 53.588068 \nL 267.008075 44.372754 \nL 267.63348 51.620754 \nL 267.841948 47.893211 \nL 268.050416 40.023954 \nL 268.258885 44.476296 \nL 268.467353 44.994011 \nL 268.675821 49.756982 \nL 268.884289 43.544411 \nL 269.926631 57.729782 \nL 270.135099 58.454582 \nL 270.343567 60.421896 \nL 271.385908 76.885211 \nL 271.594377 75.539154 \nL 272.011313 80.716296 \nL 272.42825 88.378468 \nL 272.636718 84.340296 \nL 273.053654 65.495496 \nL 273.262123 64.149439 \nL 273.470591 66.634468 \nL 273.679059 61.664411 \nL 273.887527 62.078582 \nL 274.095995 63.735268 \nL 274.512932 69.119496 \nL 274.7214 69.430125 \nL 274.929868 71.811611 \nL 275.138337 63.217554 \nL 275.346805 64.977782 \nL 275.555273 65.391954 \nL 275.763741 58.765211 \nL 275.97221 59.179382 \nL 276.180678 60.525439 \nL 276.597614 69.223039 \nL 277.014551 62.285668 \nL 277.639956 74.917896 \nL 277.848424 76.678125 \nL 278.056892 65.806125 \nL 278.26536 67.462811 \nL 278.682297 75.021439 \nL 278.890765 72.432868 \nL 279.099233 73.364754 \nL 279.307702 70.879725 \nL 279.724638 76.056868 \nL 279.933106 69.015954 \nL 280.350043 76.988754 \nL 280.558511 78.231268 \nL 280.766979 78.541896 \nL 280.975448 82.062354 \nL 281.392384 84.340296 \nL 281.600852 78.541896 \nL 281.809321 82.890696 \nL 282.017789 80.923382 \nL 282.226257 81.234011 \nL 282.434725 83.926125 \nL 282.643193 88.896182 \nL 283.477066 98.007954 \nL 284.102471 92.727268 \nL 284.310939 97.076068 \nL 284.519408 91.070582 \nL 284.727876 79.991496 \nL 284.936344 32.672411 \nL 285.144812 34.018468 \nL 285.561749 41.473554 \nL 285.770217 43.855039 \nL 285.978685 38.884982 \nL 286.187154 42.923154 \nL 286.395622 40.852296 \nL 286.60409 40.852296 \nL 286.812558 46.029439 \nL 287.229495 50.688868 \nL 287.437963 55.555382 \nL 287.646431 56.280182 \nL 287.8549 59.179382 \nL 288.063368 52.552639 \nL 288.480304 58.143954 \nL 289.105709 63.010468 \nL 289.314177 63.321096 \nL 289.522646 67.876982 \nL 289.731114 69.637211 \nL 290.14805 76.367496 \nL 290.356519 73.261211 \nL 290.564987 74.917896 \nL 290.773455 71.915154 \nL 290.981923 75.021439 \nL 291.190392 75.642696 \nL 291.607328 80.819839 \nL 292.024264 86.721782 \nL 292.232733 79.266696 \nL 292.441201 75.953325 \nL 292.649669 67.876982 \nL 292.858137 68.808868 \nL 293.69201 82.269439 \nL 293.900479 75.021439 \nL 294.108947 78.852525 \nL 294.317415 79.266696 \nL 294.734352 59.490011 \nL 294.94282 64.460068 \nL 295.151288 66.634468 \nL 295.359756 67.152182 \nL 295.568225 68.084068 \nL 295.776693 72.743496 \nL 295.985161 64.356525 \nL 296.193629 67.980525 \nL 296.402098 56.694354 \nL 296.610566 59.386468 \nL 296.819034 49.239268 \nL 297.235971 57.315611 \nL 297.444439 58.351039 \nL 298.069844 68.084068 \nL 298.278312 62.699839 \nL 298.48678 63.528182 \nL 299.529121 85.479268 \nL 299.73759 74.296639 \nL 299.946058 75.849782 \nL 300.154526 64.460068 \nL 300.362994 66.220296 \nL 300.571462 70.465554 \nL 300.779931 61.353782 \nL 301.613804 74.917896 \nL 301.822272 70.879725 \nL 302.03074 74.503725 \nL 302.239208 75.642696 \nL 302.447677 70.051382 \nL 303.073081 79.887954 \nL 303.698486 84.754468 \nL 303.906954 73.675382 \nL 304.323891 76.781668 \nL 304.532359 77.506468 \nL 304.740827 72.536411 \nL 304.949296 76.885211 \nL 305.157764 68.084068 \nL 305.366232 70.776182 \nL 305.991637 85.582811 \nL 306.200105 86.618239 \nL 306.408573 86.928868 \nL 306.617042 89.931611 \nL 306.82551 83.615496 \nL 307.242446 89.517439 \nL 307.450915 90.138696 \nL 307.659383 91.277668 \nL 307.867851 93.452068 \nL 308.493256 95.005211 \nL 308.701724 96.351268 \nL 308.910192 96.661896 \nL 309.327129 101.631954 \nL 309.952533 112.400411 \nL 310.161002 105.670125 \nL 310.36947 110.536639 \nL 310.786406 113.850011 \nL 310.994875 108.465782 \nL 311.203343 113.228754 \nL 311.828748 98.215039 \nL 312.245684 100.492982 \nL 312.454152 101.217782 \nL 313.079557 113.332296 \nL 313.288025 113.850011 \nL 313.704962 120.166125 \nL 313.91343 117.991725 \nL 314.121898 32.672411 \nL 314.330367 33.397211 \nL 314.538835 33.397211 \nL 314.747303 35.260982 \nL 315.16424 43.544411 \nL 315.581176 44.994011 \nL 315.789644 36.296411 \nL 315.998113 40.955839 \nL 316.206581 37.331839 \nL 316.623517 45.511725 \nL 316.831986 42.923154 \nL 317.665858 57.212068 \nL 317.874327 51.103039 \nL 318.082795 48.514468 \nL 318.291263 37.124754 \nL 318.916668 43.337325 \nL 319.125136 46.547154 \nL 319.333604 36.917668 \nL 319.542073 39.299154 \nL 319.959009 46.547154 \nL 320.167477 48.514468 \nL 320.375946 44.994011 \nL 320.584414 47.479039 \nL 320.792882 41.059382 \nL 321.00135 41.991268 \nL 321.209819 40.748754 \nL 321.418287 43.647954 \nL 321.626755 37.642468 \nL 321.835223 38.263725 \nL 322.043692 42.819611 \nL 322.25216 44.683382 \nL 322.460628 45.511725 \nL 322.669096 48.307382 \nL 322.877565 49.239268 \nL 323.086033 52.552639 \nL 323.294501 41.266468 \nL 323.502969 42.094811 \nL 323.919906 36.607039 \nL 324.128374 37.538925 \nL 324.336842 41.577096 \nL 324.545311 42.405439 \nL 324.753779 43.855039 \nL 324.962247 33.707839 \nL 325.170715 33.707839 \nL 325.587652 39.506239 \nL 326.004588 39.506239 \nL 326.213057 37.021211 \nL 326.421525 39.299154 \nL 326.838461 47.064868 \nL 327.046929 44.165668 \nL 327.463866 50.688868 \nL 327.672334 51.931382 \nL 327.880802 56.176639 \nL 328.089271 56.590811 \nL 328.506207 60.628982 \nL 328.714675 58.765211 \nL 329.131612 42.198354 \nL 329.34008 43.751496 \nL 329.757017 52.863268 \nL 330.382421 58.040411 \nL 330.799358 62.285668 \nL 331.007826 66.530925 \nL 331.216294 67.773439 \nL 331.424763 72.225782 \nL 331.633231 73.468296 \nL 331.841699 75.746239 \nL 332.258636 83.615496 \nL 332.467104 81.958811 \nL 332.675572 78.231268 \nL 332.88404 79.991496 \nL 333.092509 80.302125 \nL 333.509445 86.307611 \nL 333.926382 89.310354 \nL 334.13485 90.345782 \nL 334.343318 79.577325 \nL 334.551786 80.509211 \nL 335.385659 96.868982 \nL 335.802596 99.561096 \nL 336.011064 104.427611 \nL 336.219532 99.871725 \nL 336.428 101.010696 \nL 336.636469 106.187839 \nL 336.844937 99.354011 \nL 337.053405 98.007954 \nL 337.261873 89.206811 \nL 337.470342 91.588296 \nL 337.67881 95.833554 \nL 337.887278 87.860754 \nL 338.095746 93.037896 \nL 338.304215 85.996982 \nL 338.512683 88.482011 \nL 338.721151 89.206811 \nL 338.929619 91.070582 \nL 339.138088 91.381211 \nL 339.971961 101.942582 \nL 340.180429 97.179611 \nL 340.388897 99.561096 \nL 340.597365 103.288639 \nL 340.805834 104.427611 \nL 341.014302 109.501211 \nL 341.22277 111.779154 \nL 341.848175 123.479496 \nL 342.056643 120.373211 \nL 342.265111 121.305096 \nL 342.682048 129.070811 \nL 342.890516 129.381439 \nL 343.098984 130.209782 \nL 343.307453 128.863725 \nL 343.515921 130.727496 \nL 343.724389 131.452296 \nL 343.932857 133.419611 \nL 344.141325 137.147154 \nL 344.349794 128.656639 \nL 344.558262 128.967268 \nL 344.76673 133.937325 \nL 344.975198 135.697554 \nL 345.183667 136.422354 \nL 345.600603 142.738468 \nL 345.809071 136.525896 \nL 346.01754 141.703039 \nL 346.226008 142.634925 \nL 346.434476 141.495954 \nL 346.851413 149.261668 \nL 347.059881 32.672411 \nL 347.268349 35.468068 \nL 347.685286 36.917668 \nL 348.102222 42.198354 \nL 348.31069 43.440868 \nL 348.519159 46.132982 \nL 348.727627 50.378239 \nL 348.936095 42.923154 \nL 349.144563 44.579839 \nL 350.186905 64.460068 \nL 350.395373 60.732525 \nL 350.812309 48.721554 \nL 351.646182 56.073096 \nL 351.854651 60.836068 \nL 352.063119 57.833325 \nL 352.480055 61.146696 \nL 352.688524 61.457325 \nL 353.10546 39.713325 \nL 353.313928 40.023954 \nL 353.522396 40.023954 \nL 353.939333 45.511725 \nL 354.147801 47.064868 \nL 354.564738 54.727039 \nL 354.773206 59.800639 \nL 354.981674 57.729782 \nL 355.398611 63.217554 \nL 355.607079 64.874239 \nL 355.815547 69.015954 \nL 356.024015 59.593554 \nL 356.440952 64.149439 \nL 356.64942 68.394696 \nL 356.857888 57.108525 \nL 357.483293 67.876982 \nL 357.691761 61.871496 \nL 357.90023 62.285668 \nL 358.108698 63.424639 \nL 358.525634 70.258468 \nL 358.734103 73.675382 \nL 358.942571 74.400182 \nL 359.151039 78.024182 \nL 359.359507 78.438354 \nL 359.776444 87.343039 \nL 359.984912 85.272182 \nL 360.401849 89.103268 \nL 360.610317 90.242239 \nL 361.027253 98.629211 \nL 361.235722 94.487496 \nL 361.44419 96.351268 \nL 361.861126 105.773668 \nL 362.069594 106.187839 \nL 362.486531 109.501211 \nL 362.903467 118.716525 \nL 363.111936 109.294125 \nL 363.945809 115.403154 \nL 364.154277 112.089782 \nL 364.779682 122.029896 \nL 364.98815 122.651154 \nL 365.196618 125.653896 \nL 365.405086 116.956296 \nL 366.238959 130.623954 \nL 366.447428 121.512182 \nL 366.655896 122.547611 \nL 366.864364 113.850011 \nL 367.281301 122.029896 \nL 367.698237 125.757439 \nL 367.906705 130.313325 \nL 368.115174 131.762925 \nL 368.323642 123.168868 \nL 368.53211 122.133439 \nL 368.949047 128.967268 \nL 369.157515 123.272411 \nL 369.365983 128.449554 \nL 369.574451 125.446811 \nL 369.78292 114.885439 \nL 369.991388 110.122468 \nL 370.199856 111.157896 \nL 370.408324 103.599268 \nL 370.616792 105.463039 \nL 370.825261 108.776411 \nL 371.033729 99.664639 \nL 371.242197 101.528411 \nL 371.450665 106.187839 \nL 371.659134 106.498468 \nL 371.867602 103.288639 \nL 372.07607 105.255954 \nL 372.284538 109.501211 \nL 372.701475 86.721782 \nL 372.909943 89.103268 \nL 372.909943 89.103268 \n\" style=\"fill:none;stroke:#008000;stroke-linecap:square;stroke-width:1.5;\"/>\n   </g>\n   <g id=\"patch_3\">\n    <path d=\"M 53.328125 239.758125 \nL 53.328125 22.318125 \n\" style=\"fill:none;stroke:#000000;stroke-linecap:square;stroke-linejoin:miter;stroke-width:0.8;\"/>\n   </g>\n   <g id=\"patch_4\">\n    <path d=\"M 388.128125 239.758125 \nL 388.128125 22.318125 \n\" style=\"fill:none;stroke:#000000;stroke-linecap:square;stroke-linejoin:miter;stroke-width:0.8;\"/>\n   </g>\n   <g id=\"patch_5\">\n    <path d=\"M 53.328125 239.758125 \nL 388.128125 239.758125 \n\" style=\"fill:none;stroke:#000000;stroke-linecap:square;stroke-linejoin:miter;stroke-width:0.8;\"/>\n   </g>\n   <g id=\"patch_6\">\n    <path d=\"M 53.328125 22.318125 \nL 388.128125 22.318125 \n\" style=\"fill:none;stroke:#000000;stroke-linecap:square;stroke-linejoin:miter;stroke-width:0.8;\"/>\n   </g>\n   <g id=\"text_20\">\n    <!-- Billete Por Transaccion -->\n    <defs>\n     <path d=\"M 19.671875 64.796875 \nL 19.671875 37.40625 \nL 32.078125 37.40625 \nQ 38.96875 37.40625 42.71875 40.96875 \nQ 46.484375 44.53125 46.484375 51.125 \nQ 46.484375 57.671875 42.71875 61.234375 \nQ 38.96875 64.796875 32.078125 64.796875 \nz\nM 9.8125 72.90625 \nL 32.078125 72.90625 \nQ 44.34375 72.90625 50.609375 67.359375 \nQ 56.890625 61.8125 56.890625 51.125 \nQ 56.890625 40.328125 50.609375 34.8125 \nQ 44.34375 29.296875 32.078125 29.296875 \nL 19.671875 29.296875 \nL 19.671875 0 \nL 9.8125 0 \nz\n\" id=\"DejaVuSans-80\"/>\n    </defs>\n    <g transform=\"translate(153.25625 16.318125)scale(0.12 -0.12)\">\n     <use xlink:href=\"#DejaVuSans-66\"/>\n     <use x=\"68.603516\" xlink:href=\"#DejaVuSans-105\"/>\n     <use x=\"96.386719\" xlink:href=\"#DejaVuSans-108\"/>\n     <use x=\"124.169922\" xlink:href=\"#DejaVuSans-108\"/>\n     <use x=\"151.953125\" xlink:href=\"#DejaVuSans-101\"/>\n     <use x=\"213.476562\" xlink:href=\"#DejaVuSans-116\"/>\n     <use x=\"252.685547\" xlink:href=\"#DejaVuSans-101\"/>\n     <use x=\"314.208984\" xlink:href=\"#DejaVuSans-32\"/>\n     <use x=\"345.996094\" xlink:href=\"#DejaVuSans-80\"/>\n     <use x=\"402.673828\" xlink:href=\"#DejaVuSans-111\"/>\n     <use x=\"463.855469\" xlink:href=\"#DejaVuSans-114\"/>\n     <use x=\"504.96875\" xlink:href=\"#DejaVuSans-32\"/>\n     <use x=\"536.755859\" xlink:href=\"#DejaVuSans-84\"/>\n     <use x=\"583.089844\" xlink:href=\"#DejaVuSans-114\"/>\n     <use x=\"624.203125\" xlink:href=\"#DejaVuSans-97\"/>\n     <use x=\"685.482422\" xlink:href=\"#DejaVuSans-110\"/>\n     <use x=\"748.861328\" xlink:href=\"#DejaVuSans-115\"/>\n     <use x=\"800.960938\" xlink:href=\"#DejaVuSans-97\"/>\n     <use x=\"862.240234\" xlink:href=\"#DejaVuSans-99\"/>\n     <use x=\"917.220703\" xlink:href=\"#DejaVuSans-99\"/>\n     <use x=\"972.201172\" xlink:href=\"#DejaVuSans-105\"/>\n     <use x=\"999.984375\" xlink:href=\"#DejaVuSans-111\"/>\n     <use x=\"1061.166016\" xlink:href=\"#DejaVuSans-110\"/>\n    </g>\n   </g>\n  </g>\n </g>\n <defs>\n  <clipPath id=\"pb2cc4cce10\">\n   <rect height=\"217.44\" width=\"334.8\" x=\"53.328125\" y=\"22.318125\"/>\n  </clipPath>\n </defs>\n</svg>\n"
          },
          "metadata": {
            "needs_background": "light"
          }
        }
      ]
    },
    {
      "cell_type": "markdown",
      "source": [
        "1000 ejecuciones y en cada dia se comienza con la capacidad que queda del dia anterior"
      ],
      "metadata": {
        "id": "lFW6ESKfOsoZ"
      }
    },
    {
      "cell_type": "code",
      "source": [
        "def sin_resetear(amount_tests, print_grafico = False):\n",
        "\n",
        "  ocupacion = []\n",
        "  fraccion_retiro = []\n",
        "  billetes_tot = []\n",
        "\n",
        "  for i in range(amount_tests):\n",
        "    if i == 0:\n",
        "      retiro, n_retiro, billetes, ocupacion_dia = simular_banco(TASA_ARRIBOS, CAPACIDAD, False)\n",
        "    else: \n",
        "      retiro, n_retiro, billetes, ocupacion_dia = simular_banco(TASA_ARRIBOS, billetes[-1], False)\n",
        "\n",
        "    ocupacion.append(np.mean(ocupacion_dia))\n",
        "    fraccion_retiro.append(retiro/(retiro+n_retiro))\n",
        "\n",
        "    for billete in billetes:\n",
        "      billetes_tot.append(billete)\n",
        "\n",
        "\n",
        "  ocupacion = np.array(ocupacion)\n",
        "  fraccion_retiro = np.array(fraccion_retiro)\n",
        "\n",
        "  print(f\"Se realizaron {amount_tests} simulaciones\")\n",
        "  print(f\"Media Tiempo De Ocupación - {np.mean(ocupacion)}\")\n",
        "  print(f\"Media Fraccion De Retiros Correctos - {np.mean(fraccion_retiro)}\")\n",
        "\n",
        "  if print_grafico:\n",
        "    plt.plot(range(len(billetes_tot)), billetes_tot, color = \"g\")\n",
        "    plt.title(\"Billete Por Transaccion\")\n",
        "    plt.ylabel(\"Cantidad De Billetes\")\n",
        "    plt.xlabel(\"Numero De Transacción\")\n",
        "    plt.ylim(0, CAPACIDAD*1.05)\n"
      ],
      "metadata": {
        "id": "jaJLnNJhP-Wc"
      },
      "execution_count": null,
      "outputs": []
    },
    {
      "cell_type": "code",
      "source": [
        "sin_resetear(1000, False)"
      ],
      "metadata": {
        "colab": {
          "base_uri": "https://localhost:8080/"
        },
        "id": "y1SBoz0LN6IA",
        "outputId": "7f7d84b4-3f9f-4520-b129-2a6f81ac956d"
      },
      "execution_count": null,
      "outputs": [
        {
          "output_type": "stream",
          "name": "stdout",
          "text": [
            "Se realizaron 1000 simulaciones\n",
            "Media Tiempo De Ocupación - 203.99153109173596\n",
            "Media Fraccion De Retiros Correctos - 0.7895162922828504\n"
          ]
        }
      ]
    },
    {
      "cell_type": "code",
      "source": [
        "sin_resetear(10, True)"
      ],
      "metadata": {
        "colab": {
          "base_uri": "https://localhost:8080/",
          "height": 464
        },
        "id": "9YzXA2aVPXbB",
        "outputId": "85f9c90c-2c06-4b8f-80a1-ffe7e14d3033"
      },
      "execution_count": null,
      "outputs": [
        {
          "output_type": "stream",
          "name": "stdout",
          "text": [
            "Se realizaron 10 simulaciones\n",
            "Media Tiempo De Ocupación - 222.1318286592162\n",
            "Media Fraccion De Retiros Correctos - 0.8192119023645201\n"
          ]
        },
        {
          "output_type": "display_data",
          "data": {
            "text/plain": [
              "<Figure size 432x288 with 1 Axes>"
            ],
            "image/svg+xml": "<?xml version=\"1.0\" encoding=\"utf-8\" standalone=\"no\"?>\n<!DOCTYPE svg PUBLIC \"-//W3C//DTD SVG 1.1//EN\"\n  \"http://www.w3.org/Graphics/SVG/1.1/DTD/svg11.dtd\">\n<!-- Created with matplotlib (https://matplotlib.org/) -->\n<svg height=\"277.314375pt\" version=\"1.1\" viewBox=\"0 0 395.328125 277.314375\" width=\"395.328125pt\" xmlns=\"http://www.w3.org/2000/svg\" xmlns:xlink=\"http://www.w3.org/1999/xlink\">\n <defs>\n  <style type=\"text/css\">\n*{stroke-linecap:butt;stroke-linejoin:round;}\n  </style>\n </defs>\n <g id=\"figure_1\">\n  <g id=\"patch_1\">\n   <path d=\"M 0 277.314375 \nL 395.328125 277.314375 \nL 395.328125 0 \nL 0 0 \nz\n\" style=\"fill:none;\"/>\n  </g>\n  <g id=\"axes_1\">\n   <g id=\"patch_2\">\n    <path d=\"M 53.328125 239.758125 \nL 388.128125 239.758125 \nL 388.128125 22.318125 \nL 53.328125 22.318125 \nz\n\" style=\"fill:#ffffff;\"/>\n   </g>\n   <g id=\"matplotlib.axis_1\">\n    <g id=\"xtick_1\">\n     <g id=\"line2d_1\">\n      <defs>\n       <path d=\"M 0 0 \nL 0 3.5 \n\" id=\"m6814506bd2\" style=\"stroke:#000000;stroke-width:0.8;\"/>\n      </defs>\n      <g>\n       <use style=\"stroke:#000000;stroke-width:0.8;\" x=\"68.546307\" xlink:href=\"#m6814506bd2\" y=\"239.758125\"/>\n      </g>\n     </g>\n     <g id=\"text_1\">\n      <!-- 0 -->\n      <defs>\n       <path d=\"M 31.78125 66.40625 \nQ 24.171875 66.40625 20.328125 58.90625 \nQ 16.5 51.421875 16.5 36.375 \nQ 16.5 21.390625 20.328125 13.890625 \nQ 24.171875 6.390625 31.78125 6.390625 \nQ 39.453125 6.390625 43.28125 13.890625 \nQ 47.125 21.390625 47.125 36.375 \nQ 47.125 51.421875 43.28125 58.90625 \nQ 39.453125 66.40625 31.78125 66.40625 \nz\nM 31.78125 74.21875 \nQ 44.046875 74.21875 50.515625 64.515625 \nQ 56.984375 54.828125 56.984375 36.375 \nQ 56.984375 17.96875 50.515625 8.265625 \nQ 44.046875 -1.421875 31.78125 -1.421875 \nQ 19.53125 -1.421875 13.0625 8.265625 \nQ 6.59375 17.96875 6.59375 36.375 \nQ 6.59375 54.828125 13.0625 64.515625 \nQ 19.53125 74.21875 31.78125 74.21875 \nz\n\" id=\"DejaVuSans-48\"/>\n      </defs>\n      <g transform=\"translate(65.365057 254.356562)scale(0.1 -0.1)\">\n       <use xlink:href=\"#DejaVuSans-48\"/>\n      </g>\n     </g>\n    </g>\n    <g id=\"xtick_2\">\n     <g id=\"line2d_2\">\n      <g>\n       <use style=\"stroke:#000000;stroke-width:0.8;\" x=\"109.26385\" xlink:href=\"#m6814506bd2\" y=\"239.758125\"/>\n      </g>\n     </g>\n     <g id=\"text_2\">\n      <!-- 200 -->\n      <defs>\n       <path d=\"M 19.1875 8.296875 \nL 53.609375 8.296875 \nL 53.609375 0 \nL 7.328125 0 \nL 7.328125 8.296875 \nQ 12.9375 14.109375 22.625 23.890625 \nQ 32.328125 33.6875 34.8125 36.53125 \nQ 39.546875 41.84375 41.421875 45.53125 \nQ 43.3125 49.21875 43.3125 52.78125 \nQ 43.3125 58.59375 39.234375 62.25 \nQ 35.15625 65.921875 28.609375 65.921875 \nQ 23.96875 65.921875 18.8125 64.3125 \nQ 13.671875 62.703125 7.8125 59.421875 \nL 7.8125 69.390625 \nQ 13.765625 71.78125 18.9375 73 \nQ 24.125 74.21875 28.421875 74.21875 \nQ 39.75 74.21875 46.484375 68.546875 \nQ 53.21875 62.890625 53.21875 53.421875 \nQ 53.21875 48.921875 51.53125 44.890625 \nQ 49.859375 40.875 45.40625 35.40625 \nQ 44.1875 33.984375 37.640625 27.21875 \nQ 31.109375 20.453125 19.1875 8.296875 \nz\n\" id=\"DejaVuSans-50\"/>\n      </defs>\n      <g transform=\"translate(99.7201 254.356562)scale(0.1 -0.1)\">\n       <use xlink:href=\"#DejaVuSans-50\"/>\n       <use x=\"63.623047\" xlink:href=\"#DejaVuSans-48\"/>\n       <use x=\"127.246094\" xlink:href=\"#DejaVuSans-48\"/>\n      </g>\n     </g>\n    </g>\n    <g id=\"xtick_3\">\n     <g id=\"line2d_3\">\n      <g>\n       <use style=\"stroke:#000000;stroke-width:0.8;\" x=\"149.981393\" xlink:href=\"#m6814506bd2\" y=\"239.758125\"/>\n      </g>\n     </g>\n     <g id=\"text_3\">\n      <!-- 400 -->\n      <defs>\n       <path d=\"M 37.796875 64.3125 \nL 12.890625 25.390625 \nL 37.796875 25.390625 \nz\nM 35.203125 72.90625 \nL 47.609375 72.90625 \nL 47.609375 25.390625 \nL 58.015625 25.390625 \nL 58.015625 17.1875 \nL 47.609375 17.1875 \nL 47.609375 0 \nL 37.796875 0 \nL 37.796875 17.1875 \nL 4.890625 17.1875 \nL 4.890625 26.703125 \nz\n\" id=\"DejaVuSans-52\"/>\n      </defs>\n      <g transform=\"translate(140.437643 254.356562)scale(0.1 -0.1)\">\n       <use xlink:href=\"#DejaVuSans-52\"/>\n       <use x=\"63.623047\" xlink:href=\"#DejaVuSans-48\"/>\n       <use x=\"127.246094\" xlink:href=\"#DejaVuSans-48\"/>\n      </g>\n     </g>\n    </g>\n    <g id=\"xtick_4\">\n     <g id=\"line2d_4\">\n      <g>\n       <use style=\"stroke:#000000;stroke-width:0.8;\" x=\"190.698937\" xlink:href=\"#m6814506bd2\" y=\"239.758125\"/>\n      </g>\n     </g>\n     <g id=\"text_4\">\n      <!-- 600 -->\n      <defs>\n       <path d=\"M 33.015625 40.375 \nQ 26.375 40.375 22.484375 35.828125 \nQ 18.609375 31.296875 18.609375 23.390625 \nQ 18.609375 15.53125 22.484375 10.953125 \nQ 26.375 6.390625 33.015625 6.390625 \nQ 39.65625 6.390625 43.53125 10.953125 \nQ 47.40625 15.53125 47.40625 23.390625 \nQ 47.40625 31.296875 43.53125 35.828125 \nQ 39.65625 40.375 33.015625 40.375 \nz\nM 52.59375 71.296875 \nL 52.59375 62.3125 \nQ 48.875 64.0625 45.09375 64.984375 \nQ 41.3125 65.921875 37.59375 65.921875 \nQ 27.828125 65.921875 22.671875 59.328125 \nQ 17.53125 52.734375 16.796875 39.40625 \nQ 19.671875 43.65625 24.015625 45.921875 \nQ 28.375 48.1875 33.59375 48.1875 \nQ 44.578125 48.1875 50.953125 41.515625 \nQ 57.328125 34.859375 57.328125 23.390625 \nQ 57.328125 12.15625 50.6875 5.359375 \nQ 44.046875 -1.421875 33.015625 -1.421875 \nQ 20.359375 -1.421875 13.671875 8.265625 \nQ 6.984375 17.96875 6.984375 36.375 \nQ 6.984375 53.65625 15.1875 63.9375 \nQ 23.390625 74.21875 37.203125 74.21875 \nQ 40.921875 74.21875 44.703125 73.484375 \nQ 48.484375 72.75 52.59375 71.296875 \nz\n\" id=\"DejaVuSans-54\"/>\n      </defs>\n      <g transform=\"translate(181.155187 254.356562)scale(0.1 -0.1)\">\n       <use xlink:href=\"#DejaVuSans-54\"/>\n       <use x=\"63.623047\" xlink:href=\"#DejaVuSans-48\"/>\n       <use x=\"127.246094\" xlink:href=\"#DejaVuSans-48\"/>\n      </g>\n     </g>\n    </g>\n    <g id=\"xtick_5\">\n     <g id=\"line2d_5\">\n      <g>\n       <use style=\"stroke:#000000;stroke-width:0.8;\" x=\"231.41648\" xlink:href=\"#m6814506bd2\" y=\"239.758125\"/>\n      </g>\n     </g>\n     <g id=\"text_5\">\n      <!-- 800 -->\n      <defs>\n       <path d=\"M 31.78125 34.625 \nQ 24.75 34.625 20.71875 30.859375 \nQ 16.703125 27.09375 16.703125 20.515625 \nQ 16.703125 13.921875 20.71875 10.15625 \nQ 24.75 6.390625 31.78125 6.390625 \nQ 38.8125 6.390625 42.859375 10.171875 \nQ 46.921875 13.96875 46.921875 20.515625 \nQ 46.921875 27.09375 42.890625 30.859375 \nQ 38.875 34.625 31.78125 34.625 \nz\nM 21.921875 38.8125 \nQ 15.578125 40.375 12.03125 44.71875 \nQ 8.5 49.078125 8.5 55.328125 \nQ 8.5 64.0625 14.71875 69.140625 \nQ 20.953125 74.21875 31.78125 74.21875 \nQ 42.671875 74.21875 48.875 69.140625 \nQ 55.078125 64.0625 55.078125 55.328125 \nQ 55.078125 49.078125 51.53125 44.71875 \nQ 48 40.375 41.703125 38.8125 \nQ 48.828125 37.15625 52.796875 32.3125 \nQ 56.78125 27.484375 56.78125 20.515625 \nQ 56.78125 9.90625 50.3125 4.234375 \nQ 43.84375 -1.421875 31.78125 -1.421875 \nQ 19.734375 -1.421875 13.25 4.234375 \nQ 6.78125 9.90625 6.78125 20.515625 \nQ 6.78125 27.484375 10.78125 32.3125 \nQ 14.796875 37.15625 21.921875 38.8125 \nz\nM 18.3125 54.390625 \nQ 18.3125 48.734375 21.84375 45.5625 \nQ 25.390625 42.390625 31.78125 42.390625 \nQ 38.140625 42.390625 41.71875 45.5625 \nQ 45.3125 48.734375 45.3125 54.390625 \nQ 45.3125 60.0625 41.71875 63.234375 \nQ 38.140625 66.40625 31.78125 66.40625 \nQ 25.390625 66.40625 21.84375 63.234375 \nQ 18.3125 60.0625 18.3125 54.390625 \nz\n\" id=\"DejaVuSans-56\"/>\n      </defs>\n      <g transform=\"translate(221.87273 254.356562)scale(0.1 -0.1)\">\n       <use xlink:href=\"#DejaVuSans-56\"/>\n       <use x=\"63.623047\" xlink:href=\"#DejaVuSans-48\"/>\n       <use x=\"127.246094\" xlink:href=\"#DejaVuSans-48\"/>\n      </g>\n     </g>\n    </g>\n    <g id=\"xtick_6\">\n     <g id=\"line2d_6\">\n      <g>\n       <use style=\"stroke:#000000;stroke-width:0.8;\" x=\"272.134023\" xlink:href=\"#m6814506bd2\" y=\"239.758125\"/>\n      </g>\n     </g>\n     <g id=\"text_6\">\n      <!-- 1000 -->\n      <defs>\n       <path d=\"M 12.40625 8.296875 \nL 28.515625 8.296875 \nL 28.515625 63.921875 \nL 10.984375 60.40625 \nL 10.984375 69.390625 \nL 28.421875 72.90625 \nL 38.28125 72.90625 \nL 38.28125 8.296875 \nL 54.390625 8.296875 \nL 54.390625 0 \nL 12.40625 0 \nz\n\" id=\"DejaVuSans-49\"/>\n      </defs>\n      <g transform=\"translate(259.409023 254.356562)scale(0.1 -0.1)\">\n       <use xlink:href=\"#DejaVuSans-49\"/>\n       <use x=\"63.623047\" xlink:href=\"#DejaVuSans-48\"/>\n       <use x=\"127.246094\" xlink:href=\"#DejaVuSans-48\"/>\n       <use x=\"190.869141\" xlink:href=\"#DejaVuSans-48\"/>\n      </g>\n     </g>\n    </g>\n    <g id=\"xtick_7\">\n     <g id=\"line2d_7\">\n      <g>\n       <use style=\"stroke:#000000;stroke-width:0.8;\" x=\"312.851567\" xlink:href=\"#m6814506bd2\" y=\"239.758125\"/>\n      </g>\n     </g>\n     <g id=\"text_7\">\n      <!-- 1200 -->\n      <g transform=\"translate(300.126567 254.356562)scale(0.1 -0.1)\">\n       <use xlink:href=\"#DejaVuSans-49\"/>\n       <use x=\"63.623047\" xlink:href=\"#DejaVuSans-50\"/>\n       <use x=\"127.246094\" xlink:href=\"#DejaVuSans-48\"/>\n       <use x=\"190.869141\" xlink:href=\"#DejaVuSans-48\"/>\n      </g>\n     </g>\n    </g>\n    <g id=\"xtick_8\">\n     <g id=\"line2d_8\">\n      <g>\n       <use style=\"stroke:#000000;stroke-width:0.8;\" x=\"353.56911\" xlink:href=\"#m6814506bd2\" y=\"239.758125\"/>\n      </g>\n     </g>\n     <g id=\"text_8\">\n      <!-- 1400 -->\n      <g transform=\"translate(340.84411 254.356562)scale(0.1 -0.1)\">\n       <use xlink:href=\"#DejaVuSans-49\"/>\n       <use x=\"63.623047\" xlink:href=\"#DejaVuSans-52\"/>\n       <use x=\"127.246094\" xlink:href=\"#DejaVuSans-48\"/>\n       <use x=\"190.869141\" xlink:href=\"#DejaVuSans-48\"/>\n      </g>\n     </g>\n    </g>\n    <g id=\"text_9\">\n     <!-- Numero De Transacción -->\n     <defs>\n      <path d=\"M 9.8125 72.90625 \nL 23.09375 72.90625 \nL 55.421875 11.921875 \nL 55.421875 72.90625 \nL 64.984375 72.90625 \nL 64.984375 0 \nL 51.703125 0 \nL 19.390625 60.984375 \nL 19.390625 0 \nL 9.8125 0 \nz\n\" id=\"DejaVuSans-78\"/>\n      <path d=\"M 8.5 21.578125 \nL 8.5 54.6875 \nL 17.484375 54.6875 \nL 17.484375 21.921875 \nQ 17.484375 14.15625 20.5 10.265625 \nQ 23.53125 6.390625 29.59375 6.390625 \nQ 36.859375 6.390625 41.078125 11.03125 \nQ 45.3125 15.671875 45.3125 23.6875 \nL 45.3125 54.6875 \nL 54.296875 54.6875 \nL 54.296875 0 \nL 45.3125 0 \nL 45.3125 8.40625 \nQ 42.046875 3.421875 37.71875 1 \nQ 33.40625 -1.421875 27.6875 -1.421875 \nQ 18.265625 -1.421875 13.375 4.4375 \nQ 8.5 10.296875 8.5 21.578125 \nz\nM 31.109375 56 \nz\n\" id=\"DejaVuSans-117\"/>\n      <path d=\"M 52 44.1875 \nQ 55.375 50.25 60.0625 53.125 \nQ 64.75 56 71.09375 56 \nQ 79.640625 56 84.28125 50.015625 \nQ 88.921875 44.046875 88.921875 33.015625 \nL 88.921875 0 \nL 79.890625 0 \nL 79.890625 32.71875 \nQ 79.890625 40.578125 77.09375 44.375 \nQ 74.3125 48.1875 68.609375 48.1875 \nQ 61.625 48.1875 57.5625 43.546875 \nQ 53.515625 38.921875 53.515625 30.90625 \nL 53.515625 0 \nL 44.484375 0 \nL 44.484375 32.71875 \nQ 44.484375 40.625 41.703125 44.40625 \nQ 38.921875 48.1875 33.109375 48.1875 \nQ 26.21875 48.1875 22.15625 43.53125 \nQ 18.109375 38.875 18.109375 30.90625 \nL 18.109375 0 \nL 9.078125 0 \nL 9.078125 54.6875 \nL 18.109375 54.6875 \nL 18.109375 46.1875 \nQ 21.1875 51.21875 25.484375 53.609375 \nQ 29.78125 56 35.6875 56 \nQ 41.65625 56 45.828125 52.96875 \nQ 50 49.953125 52 44.1875 \nz\n\" id=\"DejaVuSans-109\"/>\n      <path d=\"M 56.203125 29.59375 \nL 56.203125 25.203125 \nL 14.890625 25.203125 \nQ 15.484375 15.921875 20.484375 11.0625 \nQ 25.484375 6.203125 34.421875 6.203125 \nQ 39.59375 6.203125 44.453125 7.46875 \nQ 49.3125 8.734375 54.109375 11.28125 \nL 54.109375 2.78125 \nQ 49.265625 0.734375 44.1875 -0.34375 \nQ 39.109375 -1.421875 33.890625 -1.421875 \nQ 20.796875 -1.421875 13.15625 6.1875 \nQ 5.515625 13.8125 5.515625 26.8125 \nQ 5.515625 40.234375 12.765625 48.109375 \nQ 20.015625 56 32.328125 56 \nQ 43.359375 56 49.78125 48.890625 \nQ 56.203125 41.796875 56.203125 29.59375 \nz\nM 47.21875 32.234375 \nQ 47.125 39.59375 43.09375 43.984375 \nQ 39.0625 48.390625 32.421875 48.390625 \nQ 24.90625 48.390625 20.390625 44.140625 \nQ 15.875 39.890625 15.1875 32.171875 \nz\n\" id=\"DejaVuSans-101\"/>\n      <path d=\"M 41.109375 46.296875 \nQ 39.59375 47.171875 37.8125 47.578125 \nQ 36.03125 48 33.890625 48 \nQ 26.265625 48 22.1875 43.046875 \nQ 18.109375 38.09375 18.109375 28.8125 \nL 18.109375 0 \nL 9.078125 0 \nL 9.078125 54.6875 \nL 18.109375 54.6875 \nL 18.109375 46.1875 \nQ 20.953125 51.171875 25.484375 53.578125 \nQ 30.03125 56 36.53125 56 \nQ 37.453125 56 38.578125 55.875 \nQ 39.703125 55.765625 41.0625 55.515625 \nz\n\" id=\"DejaVuSans-114\"/>\n      <path d=\"M 30.609375 48.390625 \nQ 23.390625 48.390625 19.1875 42.75 \nQ 14.984375 37.109375 14.984375 27.296875 \nQ 14.984375 17.484375 19.15625 11.84375 \nQ 23.34375 6.203125 30.609375 6.203125 \nQ 37.796875 6.203125 41.984375 11.859375 \nQ 46.1875 17.53125 46.1875 27.296875 \nQ 46.1875 37.015625 41.984375 42.703125 \nQ 37.796875 48.390625 30.609375 48.390625 \nz\nM 30.609375 56 \nQ 42.328125 56 49.015625 48.375 \nQ 55.71875 40.765625 55.71875 27.296875 \nQ 55.71875 13.875 49.015625 6.21875 \nQ 42.328125 -1.421875 30.609375 -1.421875 \nQ 18.84375 -1.421875 12.171875 6.21875 \nQ 5.515625 13.875 5.515625 27.296875 \nQ 5.515625 40.765625 12.171875 48.375 \nQ 18.84375 56 30.609375 56 \nz\n\" id=\"DejaVuSans-111\"/>\n      <path id=\"DejaVuSans-32\"/>\n      <path d=\"M 19.671875 64.796875 \nL 19.671875 8.109375 \nL 31.59375 8.109375 \nQ 46.6875 8.109375 53.6875 14.9375 \nQ 60.6875 21.78125 60.6875 36.53125 \nQ 60.6875 51.171875 53.6875 57.984375 \nQ 46.6875 64.796875 31.59375 64.796875 \nz\nM 9.8125 72.90625 \nL 30.078125 72.90625 \nQ 51.265625 72.90625 61.171875 64.09375 \nQ 71.09375 55.28125 71.09375 36.53125 \nQ 71.09375 17.671875 61.125 8.828125 \nQ 51.171875 0 30.078125 0 \nL 9.8125 0 \nz\n\" id=\"DejaVuSans-68\"/>\n      <path d=\"M -0.296875 72.90625 \nL 61.375 72.90625 \nL 61.375 64.59375 \nL 35.5 64.59375 \nL 35.5 0 \nL 25.59375 0 \nL 25.59375 64.59375 \nL -0.296875 64.59375 \nz\n\" id=\"DejaVuSans-84\"/>\n      <path d=\"M 34.28125 27.484375 \nQ 23.390625 27.484375 19.1875 25 \nQ 14.984375 22.515625 14.984375 16.5 \nQ 14.984375 11.71875 18.140625 8.90625 \nQ 21.296875 6.109375 26.703125 6.109375 \nQ 34.1875 6.109375 38.703125 11.40625 \nQ 43.21875 16.703125 43.21875 25.484375 \nL 43.21875 27.484375 \nz\nM 52.203125 31.203125 \nL 52.203125 0 \nL 43.21875 0 \nL 43.21875 8.296875 \nQ 40.140625 3.328125 35.546875 0.953125 \nQ 30.953125 -1.421875 24.3125 -1.421875 \nQ 15.921875 -1.421875 10.953125 3.296875 \nQ 6 8.015625 6 15.921875 \nQ 6 25.140625 12.171875 29.828125 \nQ 18.359375 34.515625 30.609375 34.515625 \nL 43.21875 34.515625 \nL 43.21875 35.40625 \nQ 43.21875 41.609375 39.140625 45 \nQ 35.0625 48.390625 27.6875 48.390625 \nQ 23 48.390625 18.546875 47.265625 \nQ 14.109375 46.140625 10.015625 43.890625 \nL 10.015625 52.203125 \nQ 14.9375 54.109375 19.578125 55.046875 \nQ 24.21875 56 28.609375 56 \nQ 40.484375 56 46.34375 49.84375 \nQ 52.203125 43.703125 52.203125 31.203125 \nz\n\" id=\"DejaVuSans-97\"/>\n      <path d=\"M 54.890625 33.015625 \nL 54.890625 0 \nL 45.90625 0 \nL 45.90625 32.71875 \nQ 45.90625 40.484375 42.875 44.328125 \nQ 39.84375 48.1875 33.796875 48.1875 \nQ 26.515625 48.1875 22.3125 43.546875 \nQ 18.109375 38.921875 18.109375 30.90625 \nL 18.109375 0 \nL 9.078125 0 \nL 9.078125 54.6875 \nL 18.109375 54.6875 \nL 18.109375 46.1875 \nQ 21.34375 51.125 25.703125 53.5625 \nQ 30.078125 56 35.796875 56 \nQ 45.21875 56 50.046875 50.171875 \nQ 54.890625 44.34375 54.890625 33.015625 \nz\n\" id=\"DejaVuSans-110\"/>\n      <path d=\"M 44.28125 53.078125 \nL 44.28125 44.578125 \nQ 40.484375 46.53125 36.375 47.5 \nQ 32.28125 48.484375 27.875 48.484375 \nQ 21.1875 48.484375 17.84375 46.4375 \nQ 14.5 44.390625 14.5 40.28125 \nQ 14.5 37.15625 16.890625 35.375 \nQ 19.28125 33.59375 26.515625 31.984375 \nL 29.59375 31.296875 \nQ 39.15625 29.25 43.1875 25.515625 \nQ 47.21875 21.78125 47.21875 15.09375 \nQ 47.21875 7.46875 41.1875 3.015625 \nQ 35.15625 -1.421875 24.609375 -1.421875 \nQ 20.21875 -1.421875 15.453125 -0.5625 \nQ 10.6875 0.296875 5.421875 2 \nL 5.421875 11.28125 \nQ 10.40625 8.6875 15.234375 7.390625 \nQ 20.0625 6.109375 24.8125 6.109375 \nQ 31.15625 6.109375 34.5625 8.28125 \nQ 37.984375 10.453125 37.984375 14.40625 \nQ 37.984375 18.0625 35.515625 20.015625 \nQ 33.0625 21.96875 24.703125 23.78125 \nL 21.578125 24.515625 \nQ 13.234375 26.265625 9.515625 29.90625 \nQ 5.8125 33.546875 5.8125 39.890625 \nQ 5.8125 47.609375 11.28125 51.796875 \nQ 16.75 56 26.8125 56 \nQ 31.78125 56 36.171875 55.265625 \nQ 40.578125 54.546875 44.28125 53.078125 \nz\n\" id=\"DejaVuSans-115\"/>\n      <path d=\"M 48.78125 52.59375 \nL 48.78125 44.1875 \nQ 44.96875 46.296875 41.140625 47.34375 \nQ 37.3125 48.390625 33.40625 48.390625 \nQ 24.65625 48.390625 19.8125 42.84375 \nQ 14.984375 37.3125 14.984375 27.296875 \nQ 14.984375 17.28125 19.8125 11.734375 \nQ 24.65625 6.203125 33.40625 6.203125 \nQ 37.3125 6.203125 41.140625 7.25 \nQ 44.96875 8.296875 48.78125 10.40625 \nL 48.78125 2.09375 \nQ 45.015625 0.34375 40.984375 -0.53125 \nQ 36.96875 -1.421875 32.421875 -1.421875 \nQ 20.0625 -1.421875 12.78125 6.34375 \nQ 5.515625 14.109375 5.515625 27.296875 \nQ 5.515625 40.671875 12.859375 48.328125 \nQ 20.21875 56 33.015625 56 \nQ 37.15625 56 41.109375 55.140625 \nQ 45.0625 54.296875 48.78125 52.59375 \nz\n\" id=\"DejaVuSans-99\"/>\n      <path d=\"M 9.421875 54.6875 \nL 18.40625 54.6875 \nL 18.40625 0 \nL 9.421875 0 \nz\nM 9.421875 75.984375 \nL 18.40625 75.984375 \nL 18.40625 64.59375 \nL 9.421875 64.59375 \nz\n\" id=\"DejaVuSans-105\"/>\n      <path d=\"M 30.609375 48.390625 \nQ 23.390625 48.390625 19.1875 42.75 \nQ 14.984375 37.109375 14.984375 27.296875 \nQ 14.984375 17.484375 19.15625 11.84375 \nQ 23.34375 6.203125 30.609375 6.203125 \nQ 37.796875 6.203125 41.984375 11.859375 \nQ 46.1875 17.53125 46.1875 27.296875 \nQ 46.1875 37.015625 41.984375 42.703125 \nQ 37.796875 48.390625 30.609375 48.390625 \nz\nM 30.609375 56 \nQ 42.328125 56 49.015625 48.375 \nQ 55.71875 40.765625 55.71875 27.296875 \nQ 55.71875 13.875 49.015625 6.21875 \nQ 42.328125 -1.421875 30.609375 -1.421875 \nQ 18.84375 -1.421875 12.171875 6.21875 \nQ 5.515625 13.875 5.515625 27.296875 \nQ 5.515625 40.765625 12.171875 48.375 \nQ 18.84375 56 30.609375 56 \nz\nM 37.40625 79.984375 \nL 47.125 79.984375 \nL 31.21875 61.625 \nL 23.734375 61.625 \nz\n\" id=\"DejaVuSans-243\"/>\n     </defs>\n     <g transform=\"translate(161.375781 268.034687)scale(0.1 -0.1)\">\n      <use xlink:href=\"#DejaVuSans-78\"/>\n      <use x=\"74.804688\" xlink:href=\"#DejaVuSans-117\"/>\n      <use x=\"138.183594\" xlink:href=\"#DejaVuSans-109\"/>\n      <use x=\"235.595703\" xlink:href=\"#DejaVuSans-101\"/>\n      <use x=\"297.119141\" xlink:href=\"#DejaVuSans-114\"/>\n      <use x=\"335.982422\" xlink:href=\"#DejaVuSans-111\"/>\n      <use x=\"397.164062\" xlink:href=\"#DejaVuSans-32\"/>\n      <use x=\"428.951172\" xlink:href=\"#DejaVuSans-68\"/>\n      <use x=\"505.953125\" xlink:href=\"#DejaVuSans-101\"/>\n      <use x=\"567.476562\" xlink:href=\"#DejaVuSans-32\"/>\n      <use x=\"599.263672\" xlink:href=\"#DejaVuSans-84\"/>\n      <use x=\"645.597656\" xlink:href=\"#DejaVuSans-114\"/>\n      <use x=\"686.710938\" xlink:href=\"#DejaVuSans-97\"/>\n      <use x=\"747.990234\" xlink:href=\"#DejaVuSans-110\"/>\n      <use x=\"811.369141\" xlink:href=\"#DejaVuSans-115\"/>\n      <use x=\"863.46875\" xlink:href=\"#DejaVuSans-97\"/>\n      <use x=\"924.748047\" xlink:href=\"#DejaVuSans-99\"/>\n      <use x=\"979.728516\" xlink:href=\"#DejaVuSans-99\"/>\n      <use x=\"1034.708984\" xlink:href=\"#DejaVuSans-105\"/>\n      <use x=\"1062.492188\" xlink:href=\"#DejaVuSans-243\"/>\n      <use x=\"1123.673828\" xlink:href=\"#DejaVuSans-110\"/>\n     </g>\n    </g>\n   </g>\n   <g id=\"matplotlib.axis_2\">\n    <g id=\"ytick_1\">\n     <g id=\"line2d_9\">\n      <defs>\n       <path d=\"M 0 0 \nL -3.5 0 \n\" id=\"m55fe8a30c2\" style=\"stroke:#000000;stroke-width:0.8;\"/>\n      </defs>\n      <g>\n       <use style=\"stroke:#000000;stroke-width:0.8;\" x=\"53.328125\" xlink:href=\"#m55fe8a30c2\" y=\"239.758125\"/>\n      </g>\n     </g>\n     <g id=\"text_10\">\n      <!-- 0 -->\n      <g transform=\"translate(39.965625 243.557344)scale(0.1 -0.1)\">\n       <use xlink:href=\"#DejaVuSans-48\"/>\n      </g>\n     </g>\n    </g>\n    <g id=\"ytick_2\">\n     <g id=\"line2d_10\">\n      <g>\n       <use style=\"stroke:#000000;stroke-width:0.8;\" x=\"53.328125\" xlink:href=\"#m55fe8a30c2\" y=\"213.872411\"/>\n      </g>\n     </g>\n     <g id=\"text_11\">\n      <!-- 250 -->\n      <defs>\n       <path d=\"M 10.796875 72.90625 \nL 49.515625 72.90625 \nL 49.515625 64.59375 \nL 19.828125 64.59375 \nL 19.828125 46.734375 \nQ 21.96875 47.46875 24.109375 47.828125 \nQ 26.265625 48.1875 28.421875 48.1875 \nQ 40.625 48.1875 47.75 41.5 \nQ 54.890625 34.8125 54.890625 23.390625 \nQ 54.890625 11.625 47.5625 5.09375 \nQ 40.234375 -1.421875 26.90625 -1.421875 \nQ 22.3125 -1.421875 17.546875 -0.640625 \nQ 12.796875 0.140625 7.71875 1.703125 \nL 7.71875 11.625 \nQ 12.109375 9.234375 16.796875 8.0625 \nQ 21.484375 6.890625 26.703125 6.890625 \nQ 35.15625 6.890625 40.078125 11.328125 \nQ 45.015625 15.765625 45.015625 23.390625 \nQ 45.015625 31 40.078125 35.4375 \nQ 35.15625 39.890625 26.703125 39.890625 \nQ 22.75 39.890625 18.8125 39.015625 \nQ 14.890625 38.140625 10.796875 36.28125 \nz\n\" id=\"DejaVuSans-53\"/>\n      </defs>\n      <g transform=\"translate(27.240625 217.671629)scale(0.1 -0.1)\">\n       <use xlink:href=\"#DejaVuSans-50\"/>\n       <use x=\"63.623047\" xlink:href=\"#DejaVuSans-53\"/>\n       <use x=\"127.246094\" xlink:href=\"#DejaVuSans-48\"/>\n      </g>\n     </g>\n    </g>\n    <g id=\"ytick_3\">\n     <g id=\"line2d_11\">\n      <g>\n       <use style=\"stroke:#000000;stroke-width:0.8;\" x=\"53.328125\" xlink:href=\"#m55fe8a30c2\" y=\"187.986696\"/>\n      </g>\n     </g>\n     <g id=\"text_12\">\n      <!-- 500 -->\n      <g transform=\"translate(27.240625 191.785915)scale(0.1 -0.1)\">\n       <use xlink:href=\"#DejaVuSans-53\"/>\n       <use x=\"63.623047\" xlink:href=\"#DejaVuSans-48\"/>\n       <use x=\"127.246094\" xlink:href=\"#DejaVuSans-48\"/>\n      </g>\n     </g>\n    </g>\n    <g id=\"ytick_4\">\n     <g id=\"line2d_12\">\n      <g>\n       <use style=\"stroke:#000000;stroke-width:0.8;\" x=\"53.328125\" xlink:href=\"#m55fe8a30c2\" y=\"162.100982\"/>\n      </g>\n     </g>\n     <g id=\"text_13\">\n      <!-- 750 -->\n      <defs>\n       <path d=\"M 8.203125 72.90625 \nL 55.078125 72.90625 \nL 55.078125 68.703125 \nL 28.609375 0 \nL 18.3125 0 \nL 43.21875 64.59375 \nL 8.203125 64.59375 \nz\n\" id=\"DejaVuSans-55\"/>\n      </defs>\n      <g transform=\"translate(27.240625 165.900201)scale(0.1 -0.1)\">\n       <use xlink:href=\"#DejaVuSans-55\"/>\n       <use x=\"63.623047\" xlink:href=\"#DejaVuSans-53\"/>\n       <use x=\"127.246094\" xlink:href=\"#DejaVuSans-48\"/>\n      </g>\n     </g>\n    </g>\n    <g id=\"ytick_5\">\n     <g id=\"line2d_13\">\n      <g>\n       <use style=\"stroke:#000000;stroke-width:0.8;\" x=\"53.328125\" xlink:href=\"#m55fe8a30c2\" y=\"136.215268\"/>\n      </g>\n     </g>\n     <g id=\"text_14\">\n      <!-- 1000 -->\n      <g transform=\"translate(20.878125 140.014487)scale(0.1 -0.1)\">\n       <use xlink:href=\"#DejaVuSans-49\"/>\n       <use x=\"63.623047\" xlink:href=\"#DejaVuSans-48\"/>\n       <use x=\"127.246094\" xlink:href=\"#DejaVuSans-48\"/>\n       <use x=\"190.869141\" xlink:href=\"#DejaVuSans-48\"/>\n      </g>\n     </g>\n    </g>\n    <g id=\"ytick_6\">\n     <g id=\"line2d_14\">\n      <g>\n       <use style=\"stroke:#000000;stroke-width:0.8;\" x=\"53.328125\" xlink:href=\"#m55fe8a30c2\" y=\"110.329554\"/>\n      </g>\n     </g>\n     <g id=\"text_15\">\n      <!-- 1250 -->\n      <g transform=\"translate(20.878125 114.128772)scale(0.1 -0.1)\">\n       <use xlink:href=\"#DejaVuSans-49\"/>\n       <use x=\"63.623047\" xlink:href=\"#DejaVuSans-50\"/>\n       <use x=\"127.246094\" xlink:href=\"#DejaVuSans-53\"/>\n       <use x=\"190.869141\" xlink:href=\"#DejaVuSans-48\"/>\n      </g>\n     </g>\n    </g>\n    <g id=\"ytick_7\">\n     <g id=\"line2d_15\">\n      <g>\n       <use style=\"stroke:#000000;stroke-width:0.8;\" x=\"53.328125\" xlink:href=\"#m55fe8a30c2\" y=\"84.443839\"/>\n      </g>\n     </g>\n     <g id=\"text_16\">\n      <!-- 1500 -->\n      <g transform=\"translate(20.878125 88.243058)scale(0.1 -0.1)\">\n       <use xlink:href=\"#DejaVuSans-49\"/>\n       <use x=\"63.623047\" xlink:href=\"#DejaVuSans-53\"/>\n       <use x=\"127.246094\" xlink:href=\"#DejaVuSans-48\"/>\n       <use x=\"190.869141\" xlink:href=\"#DejaVuSans-48\"/>\n      </g>\n     </g>\n    </g>\n    <g id=\"ytick_8\">\n     <g id=\"line2d_16\">\n      <g>\n       <use style=\"stroke:#000000;stroke-width:0.8;\" x=\"53.328125\" xlink:href=\"#m55fe8a30c2\" y=\"58.558125\"/>\n      </g>\n     </g>\n     <g id=\"text_17\">\n      <!-- 1750 -->\n      <g transform=\"translate(20.878125 62.357344)scale(0.1 -0.1)\">\n       <use xlink:href=\"#DejaVuSans-49\"/>\n       <use x=\"63.623047\" xlink:href=\"#DejaVuSans-55\"/>\n       <use x=\"127.246094\" xlink:href=\"#DejaVuSans-53\"/>\n       <use x=\"190.869141\" xlink:href=\"#DejaVuSans-48\"/>\n      </g>\n     </g>\n    </g>\n    <g id=\"ytick_9\">\n     <g id=\"line2d_17\">\n      <g>\n       <use style=\"stroke:#000000;stroke-width:0.8;\" x=\"53.328125\" xlink:href=\"#m55fe8a30c2\" y=\"32.672411\"/>\n      </g>\n     </g>\n     <g id=\"text_18\">\n      <!-- 2000 -->\n      <g transform=\"translate(20.878125 36.471629)scale(0.1 -0.1)\">\n       <use xlink:href=\"#DejaVuSans-50\"/>\n       <use x=\"63.623047\" xlink:href=\"#DejaVuSans-48\"/>\n       <use x=\"127.246094\" xlink:href=\"#DejaVuSans-48\"/>\n       <use x=\"190.869141\" xlink:href=\"#DejaVuSans-48\"/>\n      </g>\n     </g>\n    </g>\n    <g id=\"text_19\">\n     <!-- Cantidad De Billetes -->\n     <defs>\n      <path d=\"M 64.40625 67.28125 \nL 64.40625 56.890625 \nQ 59.421875 61.53125 53.78125 63.8125 \nQ 48.140625 66.109375 41.796875 66.109375 \nQ 29.296875 66.109375 22.65625 58.46875 \nQ 16.015625 50.828125 16.015625 36.375 \nQ 16.015625 21.96875 22.65625 14.328125 \nQ 29.296875 6.6875 41.796875 6.6875 \nQ 48.140625 6.6875 53.78125 8.984375 \nQ 59.421875 11.28125 64.40625 15.921875 \nL 64.40625 5.609375 \nQ 59.234375 2.09375 53.4375 0.328125 \nQ 47.65625 -1.421875 41.21875 -1.421875 \nQ 24.65625 -1.421875 15.125 8.703125 \nQ 5.609375 18.84375 5.609375 36.375 \nQ 5.609375 53.953125 15.125 64.078125 \nQ 24.65625 74.21875 41.21875 74.21875 \nQ 47.75 74.21875 53.53125 72.484375 \nQ 59.328125 70.75 64.40625 67.28125 \nz\n\" id=\"DejaVuSans-67\"/>\n      <path d=\"M 18.3125 70.21875 \nL 18.3125 54.6875 \nL 36.8125 54.6875 \nL 36.8125 47.703125 \nL 18.3125 47.703125 \nL 18.3125 18.015625 \nQ 18.3125 11.328125 20.140625 9.421875 \nQ 21.96875 7.515625 27.59375 7.515625 \nL 36.8125 7.515625 \nL 36.8125 0 \nL 27.59375 0 \nQ 17.1875 0 13.234375 3.875 \nQ 9.28125 7.765625 9.28125 18.015625 \nL 9.28125 47.703125 \nL 2.6875 47.703125 \nL 2.6875 54.6875 \nL 9.28125 54.6875 \nL 9.28125 70.21875 \nz\n\" id=\"DejaVuSans-116\"/>\n      <path d=\"M 45.40625 46.390625 \nL 45.40625 75.984375 \nL 54.390625 75.984375 \nL 54.390625 0 \nL 45.40625 0 \nL 45.40625 8.203125 \nQ 42.578125 3.328125 38.25 0.953125 \nQ 33.9375 -1.421875 27.875 -1.421875 \nQ 17.96875 -1.421875 11.734375 6.484375 \nQ 5.515625 14.40625 5.515625 27.296875 \nQ 5.515625 40.1875 11.734375 48.09375 \nQ 17.96875 56 27.875 56 \nQ 33.9375 56 38.25 53.625 \nQ 42.578125 51.265625 45.40625 46.390625 \nz\nM 14.796875 27.296875 \nQ 14.796875 17.390625 18.875 11.75 \nQ 22.953125 6.109375 30.078125 6.109375 \nQ 37.203125 6.109375 41.296875 11.75 \nQ 45.40625 17.390625 45.40625 27.296875 \nQ 45.40625 37.203125 41.296875 42.84375 \nQ 37.203125 48.484375 30.078125 48.484375 \nQ 22.953125 48.484375 18.875 42.84375 \nQ 14.796875 37.203125 14.796875 27.296875 \nz\n\" id=\"DejaVuSans-100\"/>\n      <path d=\"M 19.671875 34.8125 \nL 19.671875 8.109375 \nL 35.5 8.109375 \nQ 43.453125 8.109375 47.28125 11.40625 \nQ 51.125 14.703125 51.125 21.484375 \nQ 51.125 28.328125 47.28125 31.5625 \nQ 43.453125 34.8125 35.5 34.8125 \nz\nM 19.671875 64.796875 \nL 19.671875 42.828125 \nL 34.28125 42.828125 \nQ 41.5 42.828125 45.03125 45.53125 \nQ 48.578125 48.25 48.578125 53.8125 \nQ 48.578125 59.328125 45.03125 62.0625 \nQ 41.5 64.796875 34.28125 64.796875 \nz\nM 9.8125 72.90625 \nL 35.015625 72.90625 \nQ 46.296875 72.90625 52.390625 68.21875 \nQ 58.5 63.53125 58.5 54.890625 \nQ 58.5 48.1875 55.375 44.234375 \nQ 52.25 40.28125 46.1875 39.3125 \nQ 53.46875 37.75 57.5 32.78125 \nQ 61.53125 27.828125 61.53125 20.40625 \nQ 61.53125 10.640625 54.890625 5.3125 \nQ 48.25 0 35.984375 0 \nL 9.8125 0 \nz\n\" id=\"DejaVuSans-66\"/>\n      <path d=\"M 9.421875 75.984375 \nL 18.40625 75.984375 \nL 18.40625 0 \nL 9.421875 0 \nz\n\" id=\"DejaVuSans-108\"/>\n     </defs>\n     <g transform=\"translate(14.798438 181.944375)rotate(-90)scale(0.1 -0.1)\">\n      <use xlink:href=\"#DejaVuSans-67\"/>\n      <use x=\"69.824219\" xlink:href=\"#DejaVuSans-97\"/>\n      <use x=\"131.103516\" xlink:href=\"#DejaVuSans-110\"/>\n      <use x=\"194.482422\" xlink:href=\"#DejaVuSans-116\"/>\n      <use x=\"233.691406\" xlink:href=\"#DejaVuSans-105\"/>\n      <use x=\"261.474609\" xlink:href=\"#DejaVuSans-100\"/>\n      <use x=\"324.951172\" xlink:href=\"#DejaVuSans-97\"/>\n      <use x=\"386.230469\" xlink:href=\"#DejaVuSans-100\"/>\n      <use x=\"449.707031\" xlink:href=\"#DejaVuSans-32\"/>\n      <use x=\"481.494141\" xlink:href=\"#DejaVuSans-68\"/>\n      <use x=\"558.496094\" xlink:href=\"#DejaVuSans-101\"/>\n      <use x=\"620.019531\" xlink:href=\"#DejaVuSans-32\"/>\n      <use x=\"651.806641\" xlink:href=\"#DejaVuSans-66\"/>\n      <use x=\"720.410156\" xlink:href=\"#DejaVuSans-105\"/>\n      <use x=\"748.193359\" xlink:href=\"#DejaVuSans-108\"/>\n      <use x=\"775.976562\" xlink:href=\"#DejaVuSans-108\"/>\n      <use x=\"803.759766\" xlink:href=\"#DejaVuSans-101\"/>\n      <use x=\"865.283203\" xlink:href=\"#DejaVuSans-116\"/>\n      <use x=\"904.492188\" xlink:href=\"#DejaVuSans-101\"/>\n      <use x=\"966.015625\" xlink:href=\"#DejaVuSans-115\"/>\n     </g>\n    </g>\n   </g>\n   <g id=\"line2d_18\">\n    <path clip-path=\"url(#pf159120d10)\" d=\"M 68.546307 32.672411 \nL 68.749895 34.329096 \nL 69.15707 34.329096 \nL 69.564245 41.991268 \nL 69.767833 44.165668 \nL 69.971421 44.890468 \nL 70.175009 45.201096 \nL 70.378596 46.340068 \nL 71.192947 56.073096 \nL 71.396535 56.797896 \nL 71.80371 44.372754 \nL 72.007298 40.541668 \nL 72.210886 40.541668 \nL 72.414473 36.503496 \nL 72.618061 37.228296 \nL 72.821649 41.577096 \nL 73.025237 41.887725 \nL 73.228824 46.961325 \nL 73.432412 44.165668 \nL 73.636 48.100296 \nL 73.839587 49.756982 \nL 74.043175 53.484525 \nL 74.246763 54.416411 \nL 74.450351 44.372754 \nL 74.653938 49.032182 \nL 74.857526 47.789668 \nL 75.061114 36.607039 \nL 75.468289 43.958582 \nL 75.671877 45.925896 \nL 75.875465 49.653439 \nL 76.079052 42.612525 \nL 76.28264 43.130239 \nL 76.486228 44.994011 \nL 76.689815 45.511725 \nL 76.893403 49.653439 \nL 77.096991 50.378239 \nL 77.300579 46.340068 \nL 77.707754 48.721554 \nL 77.911342 39.299154 \nL 78.522105 47.168411 \nL 78.725693 36.089325 \nL 78.92928 40.127496 \nL 79.132868 37.124754 \nL 79.540044 42.819611 \nL 79.743631 43.544411 \nL 79.947219 44.890468 \nL 80.965158 57.936868 \nL 81.168745 54.209325 \nL 81.372333 58.972296 \nL 81.575921 60.318354 \nL 81.779508 63.217554 \nL 81.983096 54.623496 \nL 82.186684 56.383725 \nL 82.390272 54.105782 \nL 82.593859 58.972296 \nL 82.797447 59.490011 \nL 83.40821 67.566354 \nL 83.611798 66.530925 \nL 83.815386 70.258468 \nL 84.018973 63.321096 \nL 84.222561 67.359268 \nL 84.426149 68.394696 \nL 84.629736 70.362011 \nL 84.833324 60.318354 \nL 85.2405 67.048639 \nL 85.444087 59.490011 \nL 85.647675 60.214811 \nL 86.05485 68.705325 \nL 86.258438 57.626239 \nL 86.869201 68.187611 \nL 87.276377 71.915154 \nL 87.479964 65.081325 \nL 87.683552 67.359268 \nL 87.88714 67.876982 \nL 88.090728 69.740754 \nL 88.294315 62.492754 \nL 88.497903 61.146696 \nL 88.701491 63.321096 \nL 88.905078 67.773439 \nL 89.108666 68.808868 \nL 89.312254 70.879725 \nL 89.515842 71.293896 \nL 89.719429 65.702582 \nL 89.923017 68.394696 \nL 90.126605 73.571839 \nL 90.330192 62.596296 \nL 90.737368 68.601782 \nL 90.940956 71.293896 \nL 91.144543 63.114011 \nL 91.348131 64.252982 \nL 91.551719 67.255725 \nL 91.755307 68.601782 \nL 91.958894 71.500982 \nL 92.162482 67.462811 \nL 92.569657 75.642696 \nL 92.773245 76.056868 \nL 92.976833 79.680868 \nL 93.180421 68.705325 \nL 94.198359 91.381211 \nL 94.401947 89.724525 \nL 94.605535 94.901668 \nL 94.809122 92.106011 \nL 95.01271 95.315839 \nL 95.216298 93.037896 \nL 95.419885 95.315839 \nL 95.623473 87.239496 \nL 95.827061 88.067839 \nL 96.437824 98.215039 \nL 96.641412 99.146925 \nL 96.844999 102.253211 \nL 97.048587 102.770925 \nL 97.252175 106.394925 \nL 97.455763 102.874468 \nL 97.65935 106.912639 \nL 97.862938 107.948068 \nL 98.066526 113.125211 \nL 98.270113 113.125211 \nL 98.473701 105.877211 \nL 98.677289 107.740982 \nL 98.880877 111.986239 \nL 99.288052 114.264182 \nL 100.102403 130.727496 \nL 100.305991 122.858239 \nL 100.509578 127.621211 \nL 100.713166 121.926354 \nL 100.916754 125.550354 \nL 101.120341 126.275154 \nL 101.323929 128.863725 \nL 101.527517 133.730239 \nL 101.731105 135.076296 \nL 102.341868 147.087268 \nL 102.545455 149.054582 \nL 102.749043 139.735725 \nL 103.563394 149.365211 \nL 103.97057 155.681325 \nL 104.174157 144.395154 \nL 104.377745 147.397896 \nL 104.581333 148.122696 \nL 104.988508 153.403382 \nL 105.192096 154.024639 \nL 105.599271 162.411611 \nL 105.802859 153.196296 \nL 106.210034 162.722239 \nL 106.61721 163.964754 \nL 106.820798 161.376182 \nL 107.431561 174.733211 \nL 107.635148 172.041096 \nL 107.838736 162.825782 \nL 108.042324 167.692296 \nL 108.245912 168.417096 \nL 108.856675 182.188296 \nL 109.467438 194.199268 \nL 109.874613 198.133896 \nL 110.078201 188.711496 \nL 110.281789 193.163839 \nL 110.485376 195.027611 \nL 110.892552 181.256411 \nL 111.09614 185.087496 \nL 111.299727 174.111954 \nL 111.503315 175.561554 \nL 111.706903 180.635154 \nL 111.91049 181.981211 \nL 112.317666 189.022125 \nL 112.521254 192.956754 \nL 112.724841 194.095725 \nL 113.132017 177.425325 \nL 113.539192 181.152868 \nL 113.74278 182.498925 \nL 113.946368 185.087496 \nL 114.353543 195.131154 \nL 114.557131 187.468982 \nL 114.760718 191.714239 \nL 114.964306 193.474468 \nL 115.167894 190.368182 \nL 115.371482 195.131154 \nL 115.575069 186.019382 \nL 115.778657 184.052068 \nL 116.185833 187.676068 \nL 116.38942 181.981211 \nL 116.796596 185.812296 \nL 117.000183 181.152868 \nL 117.203771 171.730468 \nL 117.407359 173.904868 \nL 117.610947 174.836754 \nL 117.814534 179.599725 \nL 118.018122 180.635154 \nL 118.425297 187.468982 \nL 118.628885 184.880411 \nL 118.832473 187.986696 \nL 119.036061 177.011154 \nL 119.646824 186.122925 \nL 120.053999 182.395382 \nL 120.257587 173.076525 \nL 120.86835 181.256411 \nL 121.479113 189.643382 \nL 121.682701 183.637896 \nL 122.497052 199.376411 \nL 122.700639 189.125668 \nL 122.904227 193.888639 \nL 123.107815 183.016639 \nL 123.311403 185.812296 \nL 123.718578 195.441782 \nL 123.922166 196.891382 \nL 124.532929 205.796068 \nL 124.736517 200.204754 \nL 124.940104 202.172068 \nL 125.143692 207.349211 \nL 125.34728 209.420068 \nL 126.161631 224.951496 \nL 126.365218 226.194011 \nL 126.772394 235.202239 \nL 126.975981 237.376639 \nL 127.383157 237.376639 \nL 127.586745 239.654582 \nL 131.658499 239.654582 \nL 131.862087 229.196754 \nL 132.065674 227.022354 \nL 132.269262 227.954239 \nL 132.47285 226.918811 \nL 132.676438 230.025096 \nL 132.880025 218.842468 \nL 133.287201 226.711725 \nL 133.490788 224.019611 \nL 134.101552 228.368411 \nL 134.508727 224.744411 \nL 134.915902 232.095954 \nL 135.11949 232.820754 \nL 135.323078 237.687268 \nL 135.526666 238.515611 \nL 135.933841 238.515611 \nL 136.137429 239.240411 \nL 136.95178 239.240411 \nL 137.358955 223.605439 \nL 137.76613 231.888868 \nL 137.969718 235.409325 \nL 138.173306 236.755382 \nL 138.580481 225.883382 \nL 138.784069 231.060525 \nL 138.987657 227.540068 \nL 139.191244 231.578239 \nL 139.394832 224.640868 \nL 139.59842 226.918811 \nL 139.802008 230.646354 \nL 140.005595 227.643611 \nL 140.209183 229.403839 \nL 140.819946 238.929782 \nL 141.023534 236.134125 \nL 141.227122 236.134125 \nL 141.430709 237.169554 \nL 141.634297 237.169554 \nL 141.837885 239.033325 \nL 142.041473 239.033325 \nL 142.24506 233.131382 \nL 142.652236 237.583725 \nL 142.855823 235.823496 \nL 143.059411 238.619154 \nL 143.262999 229.300296 \nL 143.466587 233.649096 \nL 143.670174 234.788068 \nL 143.873762 238.308525 \nL 144.07735 238.308525 \nL 144.280937 236.341211 \nL 144.484525 239.654582 \nL 144.688113 239.654582 \nL 144.891701 232.613668 \nL 145.095288 233.027839 \nL 145.298876 237.583725 \nL 145.502464 237.583725 \nL 145.706051 234.891611 \nL 145.909639 227.540068 \nL 146.113227 226.401096 \nL 146.316815 223.605439 \nL 146.520402 224.951496 \nL 146.72399 215.839725 \nL 147.131165 217.082239 \nL 147.538341 222.570011 \nL 147.741929 218.635382 \nL 148.149104 227.022354 \nL 148.759867 204.760639 \nL 149.777806 223.916068 \nL 150.184981 232.510125 \nL 150.388569 233.234925 \nL 150.592157 223.087725 \nL 151.406507 233.752639 \nL 151.610095 225.262125 \nL 151.813683 227.540068 \nL 152.017271 218.946011 \nL 152.831622 233.752639 \nL 153.035209 236.134125 \nL 153.238797 232.303039 \nL 153.442385 237.066011 \nL 153.645972 238.101439 \nL 153.84956 229.610925 \nL 154.053148 230.335725 \nL 154.867499 235.512868 \nL 155.071086 236.858925 \nL 155.274674 236.858925 \nL 155.478262 239.551039 \nL 155.68185 228.782582 \nL 155.885437 233.752639 \nL 156.089025 231.992411 \nL 156.292613 236.444754 \nL 156.4962 237.894354 \nL 157.310551 237.894354 \nL 157.514139 228.886125 \nL 157.717727 234.063268 \nL 158.124902 220.188525 \nL 158.532078 226.815268 \nL 158.735665 218.635382 \nL 158.939253 219.670811 \nL 159.142841 223.501896 \nL 159.346428 224.537325 \nL 159.957192 233.856182 \nL 160.160779 225.676296 \nL 160.364367 228.989668 \nL 160.567955 226.194011 \nL 160.771542 227.436525 \nL 160.97513 227.436525 \nL 161.178718 227.747154 \nL 161.993069 237.273096 \nL 162.196656 238.412068 \nL 162.400244 238.412068 \nL 162.603832 231.267611 \nL 162.80742 220.084982 \nL 163.011007 220.809782 \nL 163.214595 221.120411 \nL 163.418183 223.812525 \nL 163.62177 215.322011 \nL 163.825358 217.289325 \nL 164.639709 232.717211 \nL 164.843297 225.469211 \nL 165.046885 225.883382 \nL 165.250472 226.918811 \nL 165.861235 239.654582 \nL 166.064823 239.654582 \nL 166.268411 232.820754 \nL 166.471999 237.997896 \nL 166.675586 239.033325 \nL 166.879174 239.447496 \nL 167.286349 239.447496 \nL 167.489937 235.823496 \nL 167.693525 235.823496 \nL 167.897113 238.722696 \nL 168.1007 239.136868 \nL 169.322227 239.136868 \nL 169.525814 237.376639 \nL 169.93299 237.376639 \nL 170.340165 227.436525 \nL 170.543753 229.300296 \nL 170.747341 234.166811 \nL 170.950928 235.409325 \nL 171.154516 229.921554 \nL 171.561691 235.512868 \nL 171.765279 238.204982 \nL 172.172455 232.303039 \nL 172.376042 235.305782 \nL 172.986805 239.551039 \nL 173.190393 232.510125 \nL 173.393981 234.580982 \nL 174.004744 216.357439 \nL 174.208332 213.354696 \nL 174.411919 218.428296 \nL 174.615507 216.150354 \nL 174.819095 216.978696 \nL 175.022683 205.796068 \nL 175.429858 208.281096 \nL 176.244209 224.330239 \nL 176.447797 225.365668 \nL 176.651384 227.954239 \nL 177.05856 236.858925 \nL 177.262147 230.439268 \nL 177.669323 238.204982 \nL 177.872911 239.551039 \nL 179.7052 239.551039 \nL 179.908788 234.063268 \nL 180.112376 224.640868 \nL 180.315963 229.093211 \nL 180.519551 229.818011 \nL 180.723139 234.166811 \nL 180.926726 228.471954 \nL 181.333902 232.303039 \nL 181.53749 236.755382 \nL 181.741077 237.273096 \nL 181.944665 238.308525 \nL 182.148253 229.403839 \nL 182.35184 229.921554 \nL 182.555428 232.406582 \nL 182.759016 227.954239 \nL 182.962604 230.128639 \nL 183.166191 234.063268 \nL 183.369779 228.264868 \nL 183.980542 236.444754 \nL 184.387718 226.401096 \nL 184.591305 227.954239 \nL 184.794893 228.575496 \nL 185.202068 234.684525 \nL 185.405656 235.616411 \nL 185.609244 237.997896 \nL 186.016419 237.997896 \nL 186.220007 239.240411 \nL 187.237946 239.240411 \nL 187.645121 229.507382 \nL 188.052296 239.136868 \nL 188.255884 239.136868 \nL 188.459472 230.025096 \nL 188.66306 233.649096 \nL 188.866647 234.995154 \nL 189.070235 233.959725 \nL 189.273823 235.202239 \nL 189.47741 237.997896 \nL 190.291761 237.997896 \nL 190.495349 235.409325 \nL 190.698937 235.409325 \nL 190.902525 238.619154 \nL 191.106112 238.619154 \nL 191.513288 217.392868 \nL 191.716875 220.706239 \nL 191.920463 221.948754 \nL 192.124051 220.395611 \nL 192.734814 227.643611 \nL 192.938402 222.880639 \nL 193.141989 221.845211 \nL 193.345577 219.153096 \nL 193.549165 214.804296 \nL 193.752753 203.828754 \nL 194.159928 208.695268 \nL 194.974279 222.984182 \nL 195.177867 223.501896 \nL 195.381454 212.319268 \nL 195.78863 221.223954 \nL 195.992217 221.741668 \nL 196.602981 232.924296 \nL 197.010156 234.995154 \nL 197.213744 238.826239 \nL 198.231682 238.826239 \nL 198.43527 239.447496 \nL 198.638858 230.335725 \nL 199.046033 238.101439 \nL 199.249621 238.515611 \nL 200.471147 238.515611 \nL 200.674735 239.240411 \nL 201.285498 239.240411 \nL 201.489086 235.409325 \nL 201.692673 236.237668 \nL 201.896261 225.469211 \nL 202.303437 234.063268 \nL 202.507024 234.891611 \nL 202.710612 237.687268 \nL 202.9142 237.997896 \nL 203.117788 230.025096 \nL 203.321375 231.681782 \nL 203.524963 236.134125 \nL 203.728551 236.755382 \nL 204.135726 236.755382 \nL 204.339314 238.722696 \nL 204.542902 234.788068 \nL 204.746489 238.204982 \nL 204.950077 238.204982 \nL 205.153665 238.929782 \nL 205.357252 230.335725 \nL 205.56084 233.442011 \nL 205.764428 234.063268 \nL 205.968016 236.651839 \nL 206.171603 226.711725 \nL 206.375191 231.888868 \nL 206.578779 226.504639 \nL 206.782366 228.575496 \nL 207.39313 239.343954 \nL 208.003893 239.343954 \nL 208.20748 234.270354 \nL 208.411068 236.444754 \nL 208.614656 236.444754 \nL 208.818244 225.469211 \nL 209.225419 230.128639 \nL 209.429007 227.954239 \nL 209.632594 230.128639 \nL 209.836182 233.856182 \nL 210.03977 227.747154 \nL 210.243358 225.676296 \nL 210.446945 220.602696 \nL 210.650533 221.431039 \nL 210.854121 215.322011 \nL 211.057708 204.657096 \nL 211.261296 206.313782 \nL 211.464884 211.180296 \nL 211.668472 212.008639 \nL 211.872059 216.771611 \nL 212.075647 217.289325 \nL 212.279235 218.531839 \nL 212.68641 202.068525 \nL 212.889998 204.864182 \nL 213.093586 200.826011 \nL 213.297173 203.311039 \nL 213.500761 208.074011 \nL 213.704349 209.627154 \nL 214.111524 218.738925 \nL 214.315112 213.251154 \nL 214.722287 216.046811 \nL 214.925875 219.981439 \nL 215.129463 218.842468 \nL 215.333051 213.768868 \nL 215.536638 216.357439 \nL 215.740226 216.875154 \nL 215.943814 211.490925 \nL 216.554577 222.984182 \nL 216.758165 224.019611 \nL 216.961752 227.540068 \nL 217.16534 218.428296 \nL 217.368928 223.191268 \nL 217.572515 223.605439 \nL 218.386866 237.790811 \nL 218.590454 239.343954 \nL 218.794042 236.651839 \nL 218.997629 239.240411 \nL 221.847857 239.240411 \nL 222.255033 230.956982 \nL 222.662208 237.273096 \nL 222.865796 237.273096 \nL 223.069384 237.687268 \nL 223.272971 239.033325 \nL 223.476559 231.681782 \nL 223.680147 233.027839 \nL 223.883735 237.169554 \nL 224.087322 237.169554 \nL 224.29091 228.782582 \nL 224.494498 228.782582 \nL 224.698085 229.196754 \nL 224.901673 224.123154 \nL 225.716024 234.684525 \nL 225.919612 233.338468 \nL 226.123199 235.409325 \nL 226.326787 228.368411 \nL 226.530375 233.338468 \nL 226.733963 227.540068 \nL 226.93755 228.264868 \nL 227.141138 221.120411 \nL 227.548314 224.640868 \nL 227.751901 213.665325 \nL 227.955489 216.564525 \nL 228.159077 206.520868 \nL 228.566252 212.008639 \nL 228.973428 219.153096 \nL 229.177015 213.354696 \nL 229.380603 210.869668 \nL 229.991366 222.570011 \nL 230.194954 225.055039 \nL 230.398542 225.883382 \nL 230.602129 227.643611 \nL 230.805717 224.226696 \nL 231.009305 226.608182 \nL 231.212892 219.256639 \nL 231.620068 222.259382 \nL 231.823656 222.777096 \nL 232.027243 225.676296 \nL 232.230831 216.668068 \nL 232.434419 217.703496 \nL 232.638006 222.880639 \nL 233.045182 228.161325 \nL 233.24877 230.749896 \nL 233.452357 231.474696 \nL 233.655945 236.237668 \nL 233.859533 228.575496 \nL 234.266708 238.101439 \nL 234.470296 239.447496 \nL 234.877471 239.447496 \nL 235.081059 233.649096 \nL 235.284647 224.019611 \nL 235.488234 227.850696 \nL 235.691822 228.782582 \nL 235.89541 222.570011 \nL 236.098998 222.880639 \nL 236.302585 223.501896 \nL 236.506173 224.537325 \nL 236.709761 229.093211 \nL 236.913348 230.956982 \nL 237.116936 234.166811 \nL 237.320524 232.406582 \nL 237.524112 236.134125 \nL 237.931287 239.136868 \nL 238.134875 239.136868 \nL 238.338462 239.551039 \nL 239.152813 239.551039 \nL 239.356401 235.202239 \nL 239.559989 238.308525 \nL 239.763577 228.471954 \nL 239.967164 224.744411 \nL 240.170752 217.289325 \nL 240.37434 218.738925 \nL 240.577927 215.943268 \nL 240.781515 219.877896 \nL 240.985103 213.768868 \nL 241.188691 214.286582 \nL 241.392278 208.695268 \nL 241.595866 199.479954 \nL 242.206629 209.627154 \nL 242.410217 210.559039 \nL 242.613805 209.316525 \nL 242.817392 201.447268 \nL 243.02098 204.553554 \nL 243.224568 196.270125 \nL 243.428155 197.098468 \nL 243.631743 201.550811 \nL 244.038919 202.896868 \nL 244.242506 207.763382 \nL 244.446094 208.798811 \nL 244.649682 201.861439 \nL 244.853269 205.174811 \nL 245.056857 196.063039 \nL 245.260445 194.924068 \nL 245.464033 185.915839 \nL 245.66762 186.226468 \nL 246.074796 192.749668 \nL 246.278383 193.785096 \nL 246.481971 197.823268 \nL 246.685559 186.537096 \nL 246.889147 191.610696 \nL 247.092734 186.330011 \nL 247.49991 192.646125 \nL 247.703497 190.989439 \nL 247.907085 194.509896 \nL 248.110673 195.338239 \nL 248.517848 203.414582 \nL 248.925024 205.071268 \nL 249.128611 209.523611 \nL 249.332199 210.041325 \nL 249.739375 219.877896 \nL 249.942962 210.973211 \nL 250.14655 212.008639 \nL 250.350138 214.493668 \nL 250.553725 214.493668 \nL 250.960901 222.259382 \nL 251.368076 227.125896 \nL 251.571664 216.978696 \nL 252.589603 229.818011 \nL 252.79319 233.545554 \nL 252.996778 224.537325 \nL 253.403954 231.681782 \nL 253.607541 233.649096 \nL 253.811129 224.433782 \nL 254.218304 229.507382 \nL 254.62548 236.134125 \nL 254.829068 236.134125 \nL 255.032655 239.343954 \nL 255.236243 239.343954 \nL 255.439831 237.687268 \nL 255.643418 238.929782 \nL 255.847006 232.717211 \nL 256.050594 231.060525 \nL 256.254182 221.741668 \nL 256.457769 224.744411 \nL 256.864945 226.194011 \nL 257.27212 233.649096 \nL 257.475708 234.373896 \nL 257.679296 239.343954 \nL 258.086471 239.343954 \nL 258.290059 235.409325 \nL 258.493646 235.409325 \nL 258.697234 231.371154 \nL 259.10441 236.755382 \nL 259.307997 234.995154 \nL 259.511585 237.376639 \nL 259.715173 237.376639 \nL 259.91876 232.613668 \nL 260.122348 233.856182 \nL 260.529524 218.117668 \nL 260.733111 221.327496 \nL 260.936699 215.529096 \nL 261.75105 224.640868 \nL 261.954638 225.676296 \nL 262.158225 228.471954 \nL 262.361813 217.082239 \nL 262.565401 219.463725 \nL 262.768988 211.905096 \nL 263.176164 216.875154 \nL 263.786927 202.586239 \nL 263.990515 203.103954 \nL 264.194103 207.038582 \nL 264.39769 208.281096 \nL 265.212041 219.981439 \nL 265.415629 215.322011 \nL 265.822804 221.845211 \nL 266.026392 225.055039 \nL 266.433567 218.324754 \nL 266.637155 218.946011 \nL 266.840743 223.501896 \nL 267.044331 215.114925 \nL 267.247918 217.599954 \nL 267.451506 218.428296 \nL 267.655094 207.659839 \nL 268.265857 217.496411 \nL 268.469445 214.079496 \nL 268.673032 205.071268 \nL 268.87662 203.725211 \nL 269.080208 193.888639 \nL 269.283795 192.542582 \nL 269.690971 198.030354 \nL 270.098146 206.313782 \nL 270.912497 222.673554 \nL 271.319673 224.951496 \nL 271.52326 228.264868 \nL 271.726848 220.499154 \nL 272.337611 224.433782 \nL 272.541199 228.471954 \nL 272.744787 221.638125 \nL 272.948374 226.090468 \nL 273.151962 227.540068 \nL 273.35555 216.978696 \nL 273.762725 224.019611 \nL 273.966313 226.090468 \nL 274.169901 222.673554 \nL 274.373488 224.330239 \nL 274.577076 226.918811 \nL 274.984251 235.512868 \nL 275.187839 235.512868 \nL 275.391427 236.237668 \nL 275.595015 237.376639 \nL 275.798602 229.507382 \nL 276.205778 236.651839 \nL 276.612953 216.150354 \nL 276.816541 217.392868 \nL 277.020129 220.084982 \nL 277.223716 211.283839 \nL 277.630892 218.428296 \nL 278.64883 231.267611 \nL 278.852418 224.640868 \nL 279.056006 225.572754 \nL 279.259594 214.493668 \nL 279.463181 215.011382 \nL 279.666769 209.109439 \nL 280.073944 218.946011 \nL 280.277532 217.910582 \nL 280.48112 222.570011 \nL 280.684708 223.605439 \nL 281.295471 230.853439 \nL 281.499058 231.371154 \nL 281.702646 229.921554 \nL 282.109822 237.273096 \nL 282.313409 238.826239 \nL 284.349286 238.826239 \nL 284.552874 239.551039 \nL 284.756462 239.551039 \nL 284.96005 229.507382 \nL 285.163637 230.025096 \nL 285.570813 236.962468 \nL 285.7744 238.101439 \nL 285.977988 238.101439 \nL 286.181576 229.403839 \nL 286.385164 231.785325 \nL 286.588751 222.466468 \nL 286.792339 224.847954 \nL 286.995927 220.809782 \nL 287.199514 222.673554 \nL 287.810278 236.548296 \nL 288.013865 237.273096 \nL 288.217453 239.240411 \nL 288.421041 236.134125 \nL 288.624628 239.136868 \nL 289.031804 220.188525 \nL 289.235392 221.638125 \nL 289.438979 222.155839 \nL 290.25333 238.412068 \nL 290.456918 238.412068 \nL 290.660506 235.098696 \nL 290.864093 235.098696 \nL 291.474857 239.033325 \nL 291.678444 239.033325 \nL 291.882032 232.510125 \nL 292.08562 237.687268 \nL 292.492795 237.687268 \nL 292.696383 226.918811 \nL 292.899971 229.507382 \nL 293.103558 234.580982 \nL 293.307146 235.202239 \nL 293.510734 232.095954 \nL 293.917909 235.616411 \nL 294.121497 239.136868 \nL 296.564549 239.136868 \nL 296.768137 234.166811 \nL 296.971725 235.823496 \nL 297.175313 224.433782 \nL 297.3789 227.954239 \nL 297.582488 222.466468 \nL 297.786076 223.916068 \nL 298.396839 234.166811 \nL 298.804014 239.654582 \nL 299.21119 222.777096 \nL 299.414777 224.951496 \nL 299.618365 213.665325 \nL 300.025541 221.948754 \nL 300.229128 219.774354 \nL 300.432716 221.431039 \nL 300.636304 217.289325 \nL 300.839891 206.003154 \nL 301.247067 214.183039 \nL 301.450655 209.316525 \nL 301.654242 213.975954 \nL 301.85783 215.943268 \nL 302.061418 208.695268 \nL 302.265006 209.109439 \nL 302.672181 211.387382 \nL 302.875769 208.488182 \nL 304.097295 228.264868 \nL 304.300883 220.499154 \nL 304.708058 221.845211 \nL 305.115234 227.540068 \nL 305.318821 230.439268 \nL 305.522409 221.120411 \nL 305.725997 226.194011 \nL 305.929584 219.256639 \nL 306.133172 216.564525 \nL 306.540348 220.292068 \nL 306.743935 221.016868 \nL 306.947523 213.044068 \nL 307.354698 222.880639 \nL 307.558286 214.907839 \nL 307.761874 218.842468 \nL 307.965462 211.594468 \nL 308.372637 216.564525 \nL 308.576225 217.185782 \nL 308.779812 221.431039 \nL 308.9834 210.559039 \nL 309.186988 211.076754 \nL 309.390576 211.905096 \nL 309.594163 213.768868 \nL 309.797751 214.286582 \nL 310.001339 219.360182 \nL 310.204926 220.499154 \nL 310.408514 224.744411 \nL 310.612102 219.360182 \nL 310.81569 220.602696 \nL 311.833628 235.098696 \nL 312.037216 235.098696 \nL 312.240804 239.758125 \nL 312.444391 239.758125 \nL 312.647979 231.992411 \nL 312.851567 235.719954 \nL 313.055154 236.237668 \nL 313.258742 237.376639 \nL 313.869505 237.376639 \nL 314.073093 232.095954 \nL 314.276681 222.362925 \nL 314.480269 224.951496 \nL 315.091032 236.962468 \nL 315.294619 238.826239 \nL 315.498207 238.826239 \nL 315.701795 239.343954 \nL 315.905383 239.343954 \nL 316.516146 229.300296 \nL 316.719733 219.774354 \nL 316.923321 221.638125 \nL 317.126909 224.640868 \nL 317.330497 218.738925 \nL 318.144847 231.371154 \nL 318.348435 235.823496 \nL 318.552023 234.373896 \nL 318.755611 239.447496 \nL 318.959198 239.447496 \nL 319.366374 227.540068 \nL 319.569961 230.853439 \nL 319.773549 223.605439 \nL 319.977137 227.850696 \nL 320.180725 217.910582 \nL 320.384312 220.292068 \nL 320.5879 224.433782 \nL 320.791488 221.534582 \nL 320.995075 225.572754 \nL 321.198663 226.090468 \nL 321.809426 238.101439 \nL 322.216602 238.101439 \nL 322.420189 232.924296 \nL 322.827365 234.684525 \nL 323.030953 233.649096 \nL 323.23454 234.788068 \nL 323.438128 232.406582 \nL 323.641716 225.158582 \nL 324.252479 238.722696 \nL 325.270417 238.722696 \nL 325.474005 235.305782 \nL 325.677593 238.929782 \nL 325.881181 238.929782 \nL 326.084768 231.785325 \nL 326.491944 214.286582 \nL 326.695532 218.014125 \nL 326.899119 211.801554 \nL 327.102707 216.771611 \nL 327.306295 213.147611 \nL 327.509882 215.839725 \nL 327.71347 220.913325 \nL 327.917058 222.777096 \nL 328.324233 217.289325 \nL 328.527821 209.834239 \nL 328.731409 212.733439 \nL 329.138584 198.548068 \nL 329.342172 200.411839 \nL 329.54576 196.373668 \nL 329.749347 197.202011 \nL 330.156523 204.760639 \nL 330.36011 201.861439 \nL 330.767286 184.052068 \nL 330.970874 182.291839 \nL 331.378049 189.954011 \nL 331.581637 192.231954 \nL 331.785224 197.098468 \nL 331.988812 195.855954 \nL 332.1924 187.054811 \nL 332.395988 189.022125 \nL 332.599575 186.330011 \nL 332.803163 187.054811 \nL 333.006751 191.921325 \nL 333.413926 183.120182 \nL 333.617514 187.261896 \nL 333.821102 178.253668 \nL 334.024689 183.016639 \nL 334.228277 172.558811 \nL 334.431865 170.798582 \nL 334.635452 171.316296 \nL 335.042628 175.250925 \nL 335.246216 179.185554 \nL 335.449803 172.248182 \nL 335.653391 174.629668 \nL 335.856979 171.834011 \nL 336.060566 174.422582 \nL 336.264154 175.354468 \nL 336.467742 180.531611 \nL 336.67133 182.291839 \nL 336.874917 186.019382 \nL 337.078505 186.744182 \nL 337.282093 178.046582 \nL 337.689268 182.498925 \nL 337.892856 186.847725 \nL 338.096444 183.948525 \nL 338.503619 189.436296 \nL 338.910795 180.117439 \nL 339.114382 185.087496 \nL 339.521558 162.411611 \nL 339.725145 165.724982 \nL 339.928733 166.656868 \nL 340.335909 175.043839 \nL 340.539496 171.626925 \nL 340.743084 163.343496 \nL 340.946672 164.171839 \nL 341.353847 172.558811 \nL 341.557435 174.111954 \nL 341.96461 180.220982 \nL 342.168198 180.842239 \nL 342.371786 177.943039 \nL 342.778961 187.572525 \nL 342.982549 188.815039 \nL 343.389724 196.684296 \nL 343.7969 183.120182 \nL 344.611251 197.098468 \nL 344.814838 202.172068 \nL 345.018426 202.172068 \nL 345.629189 210.973211 \nL 345.832777 215.736182 \nL 346.036365 217.599954 \nL 346.647128 228.471954 \nL 346.850715 230.749896 \nL 347.054303 235.512868 \nL 347.257891 237.169554 \nL 347.868654 237.169554 \nL 348.072242 239.240411 \nL 349.09018 239.240411 \nL 349.293768 239.551039 \nL 351.126058 239.551039 \nL 351.329645 230.646354 \nL 351.533233 233.027839 \nL 351.736821 237.583725 \nL 352.551172 237.583725 \nL 352.754759 238.204982 \nL 353.56911 238.204982 \nL 353.976286 239.240411 \nL 355.197812 239.240411 \nL 355.4014 230.232182 \nL 355.604987 233.234925 \nL 355.808575 233.752639 \nL 356.012163 235.512868 \nL 356.622926 206.624411 \nL 356.826514 210.766125 \nL 357.030101 211.490925 \nL 357.844452 225.572754 \nL 358.251628 234.166811 \nL 358.455215 232.820754 \nL 358.658803 237.687268 \nL 358.862391 238.412068 \nL 359.065978 236.755382 \nL 359.269566 238.515611 \nL 359.473154 236.858925 \nL 359.676742 237.894354 \nL 359.880329 232.820754 \nL 360.083917 233.131382 \nL 360.287505 235.823496 \nL 360.491092 225.986925 \nL 360.69468 224.123154 \nL 360.898268 229.093211 \nL 361.101856 231.267611 \nL 361.305443 234.995154 \nL 361.509031 236.134125 \nL 361.712619 239.551039 \nL 363.544908 239.551039 \nL 363.748496 230.853439 \nL 364.155671 236.651839 \nL 364.359259 236.962468 \nL 364.562847 229.921554 \nL 364.766435 228.161325 \nL 364.970022 218.324754 \nL 365.377198 226.297554 \nL 365.580785 215.218468 \nL 365.784373 217.289325 \nL 365.987961 212.629896 \nL 366.191549 215.529096 \nL 366.395136 216.357439 \nL 366.598724 220.084982 \nL 366.802312 220.913325 \nL 367.209487 228.264868 \nL 367.413075 218.014125 \nL 367.82025 224.226696 \nL 368.023838 222.570011 \nL 368.838189 230.025096 \nL 369.041777 222.259382 \nL 369.245364 222.777096 \nL 369.448952 224.433782 \nL 369.856127 209.316525 \nL 370.059715 211.490925 \nL 370.263303 215.943268 \nL 370.670478 205.278354 \nL 370.874066 207.245668 \nL 371.077654 211.801554 \nL 371.281241 200.618925 \nL 371.484829 201.447268 \nL 371.892005 210.248411 \nL 372.095592 212.008639 \nL 372.29918 206.003154 \nL 372.909943 219.153096 \nL 372.909943 219.153096 \n\" style=\"fill:none;stroke:#008000;stroke-linecap:square;stroke-width:1.5;\"/>\n   </g>\n   <g id=\"patch_3\">\n    <path d=\"M 53.328125 239.758125 \nL 53.328125 22.318125 \n\" style=\"fill:none;stroke:#000000;stroke-linecap:square;stroke-linejoin:miter;stroke-width:0.8;\"/>\n   </g>\n   <g id=\"patch_4\">\n    <path d=\"M 388.128125 239.758125 \nL 388.128125 22.318125 \n\" style=\"fill:none;stroke:#000000;stroke-linecap:square;stroke-linejoin:miter;stroke-width:0.8;\"/>\n   </g>\n   <g id=\"patch_5\">\n    <path d=\"M 53.328125 239.758125 \nL 388.128125 239.758125 \n\" style=\"fill:none;stroke:#000000;stroke-linecap:square;stroke-linejoin:miter;stroke-width:0.8;\"/>\n   </g>\n   <g id=\"patch_6\">\n    <path d=\"M 53.328125 22.318125 \nL 388.128125 22.318125 \n\" style=\"fill:none;stroke:#000000;stroke-linecap:square;stroke-linejoin:miter;stroke-width:0.8;\"/>\n   </g>\n   <g id=\"text_20\">\n    <!-- Billete Por Transaccion -->\n    <defs>\n     <path d=\"M 19.671875 64.796875 \nL 19.671875 37.40625 \nL 32.078125 37.40625 \nQ 38.96875 37.40625 42.71875 40.96875 \nQ 46.484375 44.53125 46.484375 51.125 \nQ 46.484375 57.671875 42.71875 61.234375 \nQ 38.96875 64.796875 32.078125 64.796875 \nz\nM 9.8125 72.90625 \nL 32.078125 72.90625 \nQ 44.34375 72.90625 50.609375 67.359375 \nQ 56.890625 61.8125 56.890625 51.125 \nQ 56.890625 40.328125 50.609375 34.8125 \nQ 44.34375 29.296875 32.078125 29.296875 \nL 19.671875 29.296875 \nL 19.671875 0 \nL 9.8125 0 \nz\n\" id=\"DejaVuSans-80\"/>\n    </defs>\n    <g transform=\"translate(153.25625 16.318125)scale(0.12 -0.12)\">\n     <use xlink:href=\"#DejaVuSans-66\"/>\n     <use x=\"68.603516\" xlink:href=\"#DejaVuSans-105\"/>\n     <use x=\"96.386719\" xlink:href=\"#DejaVuSans-108\"/>\n     <use x=\"124.169922\" xlink:href=\"#DejaVuSans-108\"/>\n     <use x=\"151.953125\" xlink:href=\"#DejaVuSans-101\"/>\n     <use x=\"213.476562\" xlink:href=\"#DejaVuSans-116\"/>\n     <use x=\"252.685547\" xlink:href=\"#DejaVuSans-101\"/>\n     <use x=\"314.208984\" xlink:href=\"#DejaVuSans-32\"/>\n     <use x=\"345.996094\" xlink:href=\"#DejaVuSans-80\"/>\n     <use x=\"402.673828\" xlink:href=\"#DejaVuSans-111\"/>\n     <use x=\"463.855469\" xlink:href=\"#DejaVuSans-114\"/>\n     <use x=\"504.96875\" xlink:href=\"#DejaVuSans-32\"/>\n     <use x=\"536.755859\" xlink:href=\"#DejaVuSans-84\"/>\n     <use x=\"583.089844\" xlink:href=\"#DejaVuSans-114\"/>\n     <use x=\"624.203125\" xlink:href=\"#DejaVuSans-97\"/>\n     <use x=\"685.482422\" xlink:href=\"#DejaVuSans-110\"/>\n     <use x=\"748.861328\" xlink:href=\"#DejaVuSans-115\"/>\n     <use x=\"800.960938\" xlink:href=\"#DejaVuSans-97\"/>\n     <use x=\"862.240234\" xlink:href=\"#DejaVuSans-99\"/>\n     <use x=\"917.220703\" xlink:href=\"#DejaVuSans-99\"/>\n     <use x=\"972.201172\" xlink:href=\"#DejaVuSans-105\"/>\n     <use x=\"999.984375\" xlink:href=\"#DejaVuSans-111\"/>\n     <use x=\"1061.166016\" xlink:href=\"#DejaVuSans-110\"/>\n    </g>\n   </g>\n  </g>\n </g>\n <defs>\n  <clipPath id=\"pf159120d10\">\n   <rect height=\"217.44\" width=\"334.8\" x=\"53.328125\" y=\"22.318125\"/>\n  </clipPath>\n </defs>\n</svg>\n"
          },
          "metadata": {
            "needs_background": "light"
          }
        }
      ]
    },
    {
      "cell_type": "markdown",
      "source": [
        "En base a las simulaciones observamos que si al comienzo de cada dia reponemos la cantidad maxima de billetes en el cajero, menos del %1 de los clientes no podrian retirar dinero por lo cual el cambio seria conveniente.\n",
        "De lo contrario, si los billetes no se reponen y solo se espera a que otros clientes depositen, solo el %79 de quienes quieren hacer retiros lo podran hacer de forma exitosa, por lo cual no recomendariamos hacer el cambio."
      ],
      "metadata": {
        "id": "trDqX0LwvrQC"
      }
    },
    {
      "cell_type": "code",
      "source": [],
      "metadata": {
        "id": "PKcDHlhDwoQ_"
      },
      "execution_count": null,
      "outputs": []
    }
  ]
}